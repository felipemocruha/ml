{
 "cells": [
  {
   "cell_type": "code",
   "execution_count": 22,
   "metadata": {
    "collapsed": true
   },
   "outputs": [],
   "source": [
    "import dedupe\n",
    "import json\n",
    "from cytoolz import *\n",
    "from copy import copy"
   ]
  },
  {
   "cell_type": "code",
   "execution_count": 23,
   "metadata": {
    "collapsed": true
   },
   "outputs": [],
   "source": [
    "fields = [{'field': 'title', 'type': 'String', 'has missing': True},\n",
    "         {'field': 'twitter:title', 'type': 'String', 'has missing': True},\n",
    "         {'field': 'og:title', 'type': 'String', 'has missing': True},\n",
    "         {'field': 'description', 'type': 'Text', 'has missing': True},\n",
    "         {'field': 'twitter:description', 'type': 'Text', 'has missing': True},\n",
    "         {'field': 'og:description', 'type': 'Text', 'has missing': True}]"
   ]
  },
  {
   "cell_type": "code",
   "execution_count": 24,
   "metadata": {
    "collapsed": true
   },
   "outputs": [],
   "source": [
    "def is_expected(item):\n",
    "    expected = ['title', 'twitter:title', 'og:title', 'description', 'twitter:description', 'og:description']\n",
    "    return item in expected  \n",
    "\n",
    "\n",
    "def add_field(d, f):\n",
    "    return assoc(d, f, None)\n",
    "\n",
    "\n",
    "def remove_field(d, f):\n",
    "    return dissoc(d, f)        \n",
    "\n",
    "\n",
    "def normalize_dict(d):\n",
    "    expected = ['title', 'twitter:title', 'og:title', 'description', 'twitter:description', 'og:description']\n",
    "    new = keyfilter(is_expected, merge(d))\n",
    "    for field in expected:        \n",
    "        if not new.get(field):\n",
    "            new[field] =  None\n",
    "    return new\n",
    "    \n",
    "\n",
    "def create_labels(index, data):\n",
    "    return {index: data}"
   ]
  },
  {
   "cell_type": "code",
   "execution_count": 25,
   "metadata": {
    "collapsed": true
   },
   "outputs": [],
   "source": [
    "with open('data/extra/parsed_data.json') as f:\n",
    "    extra = json.loads(f.read())['products']\n",
    "\n",
    "with open('data/walmart/parsed_data.json') as f:\n",
    "    walmart = json.loads(f.read())['products']"
   ]
  },
  {
   "cell_type": "code",
   "execution_count": 26,
   "metadata": {
    "collapsed": true
   },
   "outputs": [],
   "source": [
    "extra_meta = [normalize_dict(offer['meta']) for offer in extra]\n",
    "walmart_meta = [normalize_dict(offer['meta']) for offer in walmart]\n",
    "p = {str(i): extra_meta[i] for i in range(len(extra_meta))}\n",
    "w = {str(i): walmart_meta[i] for i in range(len(walmart_meta))}"
   ]
  },
  {
   "cell_type": "code",
   "execution_count": 27,
   "metadata": {},
   "outputs": [
    {
     "name": "stderr",
     "output_type": "stream",
     "text": [
      "title : processador alimentos kitchenaid kja13avana 110v - vermelho - processador alimentos br\n",
      "twitter:title : None\n",
      "og:title : None\n",
      "description : processador alimentos kitchenaid kja13avana 110v - vermelho\n",
      "twitter:description : None\n",
      "og:description : None\n",
      "\n",
      "title : processador alimentos viva collection ri7632 2 velocidades + pulsar 650w preto vermelho 110v philips walita - eletroportateis - processadores alimentos -\n",
      "twitter:title : None\n",
      "og:title : None\n",
      "description : brasil\n",
      "twitter:description : None\n",
      "og:description : None\n",
      "\n",
      "0/10 positive, 0/10 negative\n",
      "Do these records refer to the same thing?\n",
      "(y)es / (n)o / (u)nsure / (f)inished\n"
     ]
    },
    {
     "name": "stdout",
     "output_type": "stream",
     "text": [
      "n\n"
     ]
    },
    {
     "name": "stderr",
     "output_type": "stream",
     "text": [
      "title : grill delicia suggar vermelho - grill br\n",
      "twitter:title : None\n",
      "og:title : None\n",
      "description : grill delicia suggar vermelho\n",
      "twitter:description : None\n",
      "og:description : None\n",
      "\n",
      "title : processador alimentos viva collection ri7632 2 velocidades + pulsar 650w preto vermelho 110v philips walita - eletroportateis - processadores alimentos -\n",
      "twitter:title : None\n",
      "og:title : None\n",
      "description : brasil\n",
      "twitter:description : None\n",
      "og:description : None\n",
      "\n",
      "0/10 positive, 1/10 negative\n",
      "Do these records refer to the same thing?\n",
      "(y)es / (n)o / (u)nsure / (f)inished / (p)revious\n"
     ]
    },
    {
     "name": "stdout",
     "output_type": "stream",
     "text": [
      "n\n"
     ]
    },
    {
     "name": "stderr",
     "output_type": "stream",
     "text": [
      "title : dvd player sony dvp sr370 entrada usb frontal - dvd player br\n",
      "twitter:title : None\n",
      "og:title : None\n",
      "description : entretenimento toda familia dvd player sony dvp sr370 entrada usb frontal\n",
      "twitter:description : None\n",
      "og:description : None\n",
      "\n",
      "title : dvd player - sony dvp-sr370 - entrada usb frontal leitor mp3 preto - eletronicos - dvds blu-ray players -\n",
      "twitter:title : None\n",
      "og:title : None\n",
      "description : brasil\n",
      "twitter:description : None\n",
      "og:description : None\n",
      "\n",
      "0/10 positive, 2/10 negative\n",
      "Do these records refer to the same thing?\n",
      "(y)es / (n)o / (u)nsure / (f)inished / (p)revious\n"
     ]
    },
    {
     "name": "stdout",
     "output_type": "stream",
     "text": [
      "y\n"
     ]
    },
    {
     "name": "stderr",
     "output_type": "stream",
     "text": [
      "title : processador alimentos kitchenaid kja13avana 110v - vermelho - processador alimentos br\n",
      "twitter:title : None\n",
      "og:title : None\n",
      "description : processador alimentos kitchenaid kja13avana 110v - vermelho\n",
      "twitter:description : None\n",
      "og:description : None\n",
      "\n",
      "title : processador alimentos kitchenaid kja13asana 3 1 280w 2 1l silver - eletroportateis - processadores alimentos -\n",
      "twitter:title : None\n",
      "og:title : None\n",
      "description : brasil\n",
      "twitter:description : None\n",
      "og:description : None\n",
      "\n",
      "1/10 positive, 2/10 negative\n",
      "Do these records refer to the same thing?\n",
      "(y)es / (n)o / (u)nsure / (f)inished / (p)revious\n"
     ]
    },
    {
     "name": "stdout",
     "output_type": "stream",
     "text": [
      "y\n"
     ]
    },
    {
     "name": "stderr",
     "output_type": "stream",
     "text": [
      "title : purificador agua electrolux pe10b bivolt - branco - purificador br\n",
      "twitter:title : None\n",
      "og:title : None\n",
      "description : eletroportateis\n",
      "twitter:description : None\n",
      "og:description : None\n",
      "\n",
      "title : purificador agua electrolux branco pe10b - eletroportateis - purificador agua -\n",
      "twitter:title : None\n",
      "og:title : None\n",
      "description : brasil\n",
      "twitter:description : None\n",
      "og:description : None\n",
      "\n",
      "2/10 positive, 2/10 negative\n",
      "Do these records refer to the same thing?\n",
      "(y)es / (n)o / (u)nsure / (f)inished / (p)revious\n"
     ]
    },
    {
     "name": "stdout",
     "output_type": "stream",
     "text": [
      "y\n"
     ]
    },
    {
     "name": "stderr",
     "output_type": "stream",
     "text": [
      "title : tv monitor led 23 6 '' hd lg 24mt48df-ps conversor digital gaming mode time machine entrada hdmi usb - tv monitor br\n",
      "twitter:title : None\n",
      "og:title : None\n",
      "description : design estilo entretenimento\n",
      "twitter:description : None\n",
      "og:description : None\n",
      "\n",
      "title : tv monitor led 23 5 '' lg 24mt48df conversor digital 1 hdmi 1 usb - eletronicos - tv monitor -\n",
      "twitter:title : None\n",
      "og:title : None\n",
      "description : brasil\n",
      "twitter:description : None\n",
      "og:description : None\n",
      "\n",
      "3/10 positive, 2/10 negative\n",
      "Do these records refer to the same thing?\n",
      "(y)es / (n)o / (u)nsure / (f)inished / (p)revious\n"
     ]
    },
    {
     "name": "stdout",
     "output_type": "stream",
     "text": [
      "y\n"
     ]
    },
    {
     "name": "stderr",
     "output_type": "stream",
     "text": [
      "title : moedor graos cafe cuisinart dcg20 - moedor graos br\n",
      "twitter:title : None\n",
      "og:title : None\n",
      "description : moedor graos cafe cuisinart dcg20\n",
      "twitter:description : None\n",
      "og:description : None\n",
      "\n",
      "title : smartphone moto z play sound edition xt1635-02 preto dual chip android marshmallow 4g wi-fi camera 16mp + capa vermelha - telefonia - smartphones -\n",
      "twitter:title : None\n",
      "og:title : None\n",
      "description : brasil\n",
      "twitter:description : None\n",
      "og:description : None\n",
      "\n",
      "4/10 positive, 2/10 negative\n",
      "Do these records refer to the same thing?\n",
      "(y)es / (n)o / (u)nsure / (f)inished / (p)revious\n"
     ]
    },
    {
     "name": "stdout",
     "output_type": "stream",
     "text": [
      "n\n"
     ]
    },
    {
     "name": "stderr",
     "output_type": "stream",
     "text": [
      "title : jogo forza horizon 3 - xbox one - jogos xbox one br\n",
      "twitter:title : None\n",
      "og:title : None\n",
      "description : jogo forza horizon 3 loja microsoft\n",
      "twitter:description : None\n",
      "og:description : None\n",
      "\n",
      "title : notebook lenovo intel core i7 8gb 1tb ideapad 310 80ug0001br 14 '' hd led windows 10 prata - informatica - notebooks -\n",
      "twitter:title : None\n",
      "og:title : None\n",
      "description : brasil\n",
      "twitter:description : None\n",
      "og:description : None\n",
      "\n",
      "4/10 positive, 3/10 negative\n",
      "Do these records refer to the same thing?\n",
      "(y)es / (n)o / (u)nsure / (f)inished / (p)revious\n"
     ]
    },
    {
     "name": "stdout",
     "output_type": "stream",
     "text": [
      "n\n"
     ]
    },
    {
     "name": "stderr",
     "output_type": "stream",
     "text": [
      "title : moedor graos cafe cuisinart dcg20 - moedor graos br\n",
      "twitter:title : None\n",
      "og:title : None\n",
      "description : moedor graos cafe cuisinart dcg20\n",
      "twitter:description : None\n",
      "og:description : None\n",
      "\n",
      "title : processador alimentos viva collection ri7632 2 velocidades + pulsar 650w preto vermelho 110v philips walita - eletroportateis - processadores alimentos -\n",
      "twitter:title : None\n",
      "og:title : None\n",
      "description : brasil\n",
      "twitter:description : None\n",
      "og:description : None\n",
      "\n",
      "4/10 positive, 4/10 negative\n",
      "Do these records refer to the same thing?\n",
      "(y)es / (n)o / (u)nsure / (f)inished / (p)revious\n"
     ]
    },
    {
     "name": "stdout",
     "output_type": "stream",
     "text": [
      "n\n"
     ]
    },
    {
     "name": "stderr",
     "output_type": "stream",
     "text": [
      "title : lava-loucas automatica brastemp blf10as painel touch 10 servicos - inox - lava-loucas br\n",
      "twitter:title : None\n",
      "og:title : None\n",
      "description : encontre lava-loucas automatica brastemp blf10as painel touch 10 servicos - inox especiais\n",
      "twitter:description : None\n",
      "og:description : None\n",
      "\n",
      "title : lava-louca brastemp blf10asana 10 servicos - eletrodomesticos - lava loucas -\n",
      "twitter:title : None\n",
      "og:title : None\n",
      "description : brasil\n",
      "twitter:description : None\n",
      "og:description : None\n",
      "\n",
      "4/10 positive, 5/10 negative\n",
      "Do these records refer to the same thing?\n",
      "(y)es / (n)o / (u)nsure / (f)inished / (p)revious\n"
     ]
    },
    {
     "name": "stdout",
     "output_type": "stream",
     "text": [
      "y\n"
     ]
    },
    {
     "name": "stderr",
     "output_type": "stream",
     "text": [
      "title : grill delicia suggar vermelho - grill br\n",
      "twitter:title : None\n",
      "og:title : None\n",
      "description : grill delicia suggar vermelho\n",
      "twitter:description : None\n",
      "og:description : None\n",
      "\n",
      "title : smartphone moto z play sound edition xt1635-02 preto dual chip android marshmallow 4g wi-fi camera 16mp + capa vermelha - telefonia - smartphones -\n",
      "twitter:title : None\n",
      "og:title : None\n",
      "description : brasil\n",
      "twitter:description : None\n",
      "og:description : None\n",
      "\n",
      "5/10 positive, 5/10 negative\n",
      "Do these records refer to the same thing?\n",
      "(y)es / (n)o / (u)nsure / (f)inished / (p)revious\n"
     ]
    },
    {
     "name": "stdout",
     "output_type": "stream",
     "text": [
      "n\n"
     ]
    },
    {
     "name": "stderr",
     "output_type": "stream",
     "text": [
      "title : fogao electrolux celebrate 5 bocas 76spb acendedor automatico timer mecanico bivolt - branco - piso 5 bocas br\n",
      "twitter:title : None\n",
      "og:title : None\n",
      "description : marcas\n",
      "twitter:description : None\n",
      "og:description : None\n",
      "\n",
      "title : fogao 76spb celebrate 5 bocas - eletrodomesticos - fogoes 5 bocas -\n",
      "twitter:title : None\n",
      "og:title : None\n",
      "description : brasil\n",
      "twitter:description : None\n",
      "og:description : None\n",
      "\n",
      "5/10 positive, 6/10 negative\n",
      "Do these records refer to the same thing?\n",
      "(y)es / (n)o / (u)nsure / (f)inished / (p)revious\n"
     ]
    },
    {
     "name": "stdout",
     "output_type": "stream",
     "text": [
      "y\n"
     ]
    },
    {
     "name": "stderr",
     "output_type": "stream",
     "text": [
      "title : grill delicia suggar vermelho - grill br\n",
      "twitter:title : None\n",
      "og:title : None\n",
      "description : grill delicia suggar vermelho\n",
      "twitter:description : None\n",
      "og:description : None\n",
      "\n",
      "title : pre-venda smartphone samsung galaxy s8+ sm-g955fd prata dual chip android 7 0 4g wi-fi tela infinita 6 2 - telefonia - smartphones -\n",
      "twitter:title : None\n",
      "og:title : None\n",
      "description : brasil\n",
      "twitter:description : None\n",
      "og:description : None\n",
      "\n",
      "6/10 positive, 6/10 negative\n",
      "Do these records refer to the same thing?\n",
      "(y)es / (n)o / (u)nsure / (f)inished / (p)revious\n"
     ]
    },
    {
     "name": "stdout",
     "output_type": "stream",
     "text": [
      "n\n"
     ]
    },
    {
     "name": "stderr",
     "output_type": "stream",
     "text": [
      "title : google chrome cast - streaming media player br\n",
      "twitter:title : None\n",
      "og:title : None\n",
      "description : google chrome cast\n",
      "twitter:description : None\n",
      "og:description : None\n",
      "\n",
      "title : processador alimentos viva collection ri7632 2 velocidades + pulsar 650w preto vermelho 110v philips walita - eletroportateis - processadores alimentos -\n",
      "twitter:title : None\n",
      "og:title : None\n",
      "description : brasil\n",
      "twitter:description : None\n",
      "og:description : None\n",
      "\n",
      "6/10 positive, 7/10 negative\n",
      "Do these records refer to the same thing?\n",
      "(y)es / (n)o / (u)nsure / (f)inished / (p)revious\n"
     ]
    },
    {
     "name": "stdout",
     "output_type": "stream",
     "text": [
      "n\n"
     ]
    },
    {
     "name": "stderr",
     "output_type": "stream",
     "text": [
      "title : mixer philips walita viva collection ri1364 pro blend 4 - 400w - mixer br\n",
      "twitter:title : None\n",
      "og:title : None\n",
      "description : mixer philips walita viva collection ri1364 pro blend 4 400w potencia super\n",
      "twitter:description : None\n",
      "og:description : None\n",
      "\n",
      "title : processador alimentos viva collection ri7632 2 velocidades + pulsar 650w preto vermelho 110v philips walita - eletroportateis - processadores alimentos -\n",
      "twitter:title : None\n",
      "og:title : None\n",
      "description : brasil\n",
      "twitter:description : None\n",
      "og:description : None\n",
      "\n",
      "6/10 positive, 8/10 negative\n",
      "Do these records refer to the same thing?\n",
      "(y)es / (n)o / (u)nsure / (f)inished / (p)revious\n"
     ]
    },
    {
     "name": "stdout",
     "output_type": "stream",
     "text": [
      "n\n"
     ]
    },
    {
     "name": "stderr",
     "output_type": "stream",
     "text": [
      "title : monitor led 25 '' lg full hd ultrawide ips 25um58-p awz entrada hdmi - monitores br\n",
      "twitter:title : None\n",
      "og:title : None\n",
      "description : monitor led lg 25 '' ultrawide ips full hd 25um58-p awz entrada hdmi\n",
      "twitter:description : None\n",
      "og:description : None\n",
      "\n",
      "title : monitor gamer led 25 '' lg 25um58p ips full hd ultrawide bivolt - informatica - monitores gamers -\n",
      "twitter:title : None\n",
      "og:title : None\n",
      "description : brasil\n",
      "twitter:description : None\n",
      "og:description : None\n",
      "\n",
      "6/10 positive, 9/10 negative\n",
      "Do these records refer to the same thing?\n",
      "(y)es / (n)o / (u)nsure / (f)inished / (p)revious\n"
     ]
    },
    {
     "name": "stdout",
     "output_type": "stream",
     "text": [
      "y\n"
     ]
    },
    {
     "name": "stderr",
     "output_type": "stream",
     "text": [
      "title : liquidificador philco ph900 12 velocidades 900w - vermelho - liquidificadores br\n",
      "twitter:title : None\n",
      "og:title : None\n",
      "description : liquidificador philco ph 900 12 velocidades vermelho 900w : qualidade\n",
      "twitter:description : None\n",
      "og:description : None\n",
      "\n",
      "title : liquidificador oster 3 velocidades 600w azul - eletroportateis - liquidificador -\n",
      "twitter:title : None\n",
      "og:title : None\n",
      "description : brasil\n",
      "twitter:description : None\n",
      "og:description : None\n",
      "\n",
      "7/10 positive, 9/10 negative\n",
      "Do these records refer to the same thing?\n",
      "(y)es / (n)o / (u)nsure / (f)inished / (p)revious\n"
     ]
    },
    {
     "name": "stdout",
     "output_type": "stream",
     "text": [
      "n\n"
     ]
    },
    {
     "name": "stderr",
     "output_type": "stream",
     "text": [
      "title : grill delicia suggar vermelho - grill br\n",
      "twitter:title : None\n",
      "og:title : None\n",
      "description : grill delicia suggar vermelho\n",
      "twitter:description : None\n",
      "og:description : None\n",
      "\n",
      "title : refrigerador brastemp inverse 422l 127v duplex platinum frost free bre50nk - eletrodomesticos - geladeiras 2 portas -\n",
      "twitter:title : None\n",
      "og:title : None\n",
      "description : brasil\n",
      "twitter:description : None\n",
      "og:description : None\n",
      "\n",
      "7/10 positive, 10/10 negative\n",
      "Do these records refer to the same thing?\n",
      "(y)es / (n)o / (u)nsure / (f)inished / (p)revious\n"
     ]
    },
    {
     "name": "stdout",
     "output_type": "stream",
     "text": [
      "n\n"
     ]
    },
    {
     "name": "stderr",
     "output_type": "stream",
     "text": [
      "title : grill delicia suggar vermelho - grill br\n",
      "twitter:title : None\n",
      "og:title : None\n",
      "description : grill delicia suggar vermelho\n",
      "twitter:description : None\n",
      "og:description : None\n",
      "\n",
      "title : computador all in one acer intel pentium quad core 4gb 500gb az1-752-bc52 19 5 ' windows 10 branco - informatica - all in one -\n",
      "twitter:title : None\n",
      "og:title : None\n",
      "description : brasil\n",
      "twitter:description : None\n",
      "og:description : None\n",
      "\n",
      "7/10 positive, 11/10 negative\n",
      "Do these records refer to the same thing?\n",
      "(y)es / (n)o / (u)nsure / (f)inished / (p)revious\n"
     ]
    },
    {
     "name": "stdout",
     "output_type": "stream",
     "text": [
      "n\n"
     ]
    },
    {
     "name": "stderr",
     "output_type": "stream",
     "text": [
      "title : grill delicia suggar vermelho - grill br\n",
      "twitter:title : None\n",
      "og:title : None\n",
      "description : grill delicia suggar vermelho\n",
      "twitter:description : None\n",
      "og:description : None\n",
      "\n",
      "title : liquidificador diamond vermelho - kitchenaid - eletroportateis - liquidificador -\n",
      "twitter:title : None\n",
      "og:title : None\n",
      "description : brasil\n",
      "twitter:description : None\n",
      "og:description : None\n",
      "\n",
      "7/10 positive, 12/10 negative\n",
      "Do these records refer to the same thing?\n",
      "(y)es / (n)o / (u)nsure / (f)inished / (p)revious\n"
     ]
    },
    {
     "name": "stdout",
     "output_type": "stream",
     "text": [
      "n\n"
     ]
    },
    {
     "name": "stderr",
     "output_type": "stream",
     "text": [
      "title : webcam multilaser wc040 plug play 1 3mp - webcam br\n",
      "twitter:title : None\n",
      "og:title : None\n",
      "description : encontre webcam multilaser wc040 plug play 1 3mp menores informatica\n",
      "twitter:description : None\n",
      "og:description : None\n",
      "\n",
      "title : tablet multilaser m7 3g quad core tela 7 ' 8gb memoria dual chip wi-fi preto nb223 - tablets - tablets -\n",
      "twitter:title : None\n",
      "og:title : None\n",
      "description : brasil\n",
      "twitter:description : None\n",
      "og:description : None\n",
      "\n",
      "7/10 positive, 13/10 negative\n",
      "Do these records refer to the same thing?\n",
      "(y)es / (n)o / (u)nsure / (f)inished / (p)revious\n"
     ]
    },
    {
     "name": "stdout",
     "output_type": "stream",
     "text": [
      "n\n"
     ]
    },
    {
     "name": "stderr",
     "output_type": "stream",
     "text": [
      "title : google chrome cast - streaming media player br\n",
      "twitter:title : None\n",
      "og:title : None\n",
      "description : google chrome cast\n",
      "twitter:description : None\n",
      "og:description : None\n",
      "\n",
      "title : smartphone moto z play sound edition xt1635-02 preto dual chip android marshmallow 4g wi-fi camera 16mp + capa vermelha - telefonia - smartphones -\n",
      "twitter:title : None\n",
      "og:title : None\n",
      "description : brasil\n",
      "twitter:description : None\n",
      "og:description : None\n",
      "\n",
      "7/10 positive, 14/10 negative\n",
      "Do these records refer to the same thing?\n",
      "(y)es / (n)o / (u)nsure / (f)inished / (p)revious\n"
     ]
    },
    {
     "name": "stdout",
     "output_type": "stream",
     "text": [
      "n\n"
     ]
    },
    {
     "name": "stderr",
     "output_type": "stream",
     "text": [
      "title : forno micro-ondas electrolux favoritos mef41 - 31l - micro-ondas br\n",
      "twitter:title : None\n",
      "og:title : None\n",
      "description : encontre forno micro-ondas electrolux favoritos mef41 - menores eletrodomesticos\n",
      "twitter:description : None\n",
      "og:description : None\n",
      "\n",
      "title : micro-ondas 31 litros electrolux blue touch mec41 inox grill porta espelhada - eletrodomesticos - micro-ondas -\n",
      "twitter:title : None\n",
      "og:title : None\n",
      "description : brasil\n",
      "twitter:description : None\n",
      "og:description : None\n",
      "\n",
      "7/10 positive, 15/10 negative\n",
      "Do these records refer to the same thing?\n",
      "(y)es / (n)o / (u)nsure / (f)inished / (p)revious\n"
     ]
    },
    {
     "name": "stdout",
     "output_type": "stream",
     "text": [
      "y\n"
     ]
    },
    {
     "name": "stderr",
     "output_type": "stream",
     "text": [
      "title : google chrome cast - streaming media player br\n",
      "twitter:title : None\n",
      "og:title : None\n",
      "description : google chrome cast\n",
      "twitter:description : None\n",
      "og:description : None\n",
      "\n",
      "title : notebook acer intel core i5 8gb 1tb aspire f f5-573g-50ks 15 6 placa video nvidia geforce 940mx windows 10 - informatica - notebooks -\n",
      "twitter:title : None\n",
      "og:title : None\n",
      "description : brasil\n",
      "twitter:description : None\n",
      "og:description : None\n",
      "\n",
      "8/10 positive, 15/10 negative\n",
      "Do these records refer to the same thing?\n",
      "(y)es / (n)o / (u)nsure / (f)inished / (p)revious\n"
     ]
    },
    {
     "name": "stdout",
     "output_type": "stream",
     "text": [
      "n\n"
     ]
    },
    {
     "name": "stderr",
     "output_type": "stream",
     "text": [
      "title : gps multilaser tracker iii tv - gp034 - gps br\n",
      "twitter:title : None\n",
      "og:title : None\n",
      "description : gps multilaser tracker iii tv - gp034\n",
      "twitter:description : None\n",
      "og:description : None\n",
      "\n",
      "title : processador alimentos viva collection ri7632 2 velocidades + pulsar 650w preto vermelho 110v philips walita - eletroportateis - processadores alimentos -\n",
      "twitter:title : None\n",
      "og:title : None\n",
      "description : brasil\n",
      "twitter:description : None\n",
      "og:description : None\n",
      "\n",
      "8/10 positive, 16/10 negative\n",
      "Do these records refer to the same thing?\n",
      "(y)es / (n)o / (u)nsure / (f)inished / (p)revious\n"
     ]
    },
    {
     "name": "stdout",
     "output_type": "stream",
     "text": [
      "n\n"
     ]
    },
    {
     "name": "stderr",
     "output_type": "stream",
     "text": [
      "title : grill delicia suggar vermelho - grill br\n",
      "twitter:title : None\n",
      "og:title : None\n",
      "description : grill delicia suggar vermelho\n",
      "twitter:description : None\n",
      "og:description : None\n",
      "\n",
      "title : projetor epson powerlite s27 2700 ansi lumens svga contraste 10 000:1 3lcd hdmi wireless ready branco - informatica - projetores -\n",
      "twitter:title : None\n",
      "og:title : None\n",
      "description : brasil\n",
      "twitter:description : None\n",
      "og:description : None\n",
      "\n",
      "8/10 positive, 17/10 negative\n",
      "Do these records refer to the same thing?\n",
      "(y)es / (n)o / (u)nsure / (f)inished / (p)revious\n"
     ]
    },
    {
     "name": "stdout",
     "output_type": "stream",
     "text": [
      "n\n"
     ]
    },
    {
     "name": "stderr",
     "output_type": "stream",
     "text": [
      "title : gps multilaser tracker iii tv - gp034 - gps br\n",
      "twitter:title : None\n",
      "og:title : None\n",
      "description : gps multilaser tracker iii tv - gp034\n",
      "twitter:description : None\n",
      "og:description : None\n",
      "\n",
      "title : notebook acer intel core i5 8gb 1tb aspire f f5-573g-50ks 15 6 placa video nvidia geforce 940mx windows 10 - informatica - notebooks -\n",
      "twitter:title : None\n",
      "og:title : None\n",
      "description : brasil\n",
      "twitter:description : None\n",
      "og:description : None\n",
      "\n",
      "8/10 positive, 18/10 negative\n",
      "Do these records refer to the same thing?\n",
      "(y)es / (n)o / (u)nsure / (f)inished / (p)revious\n"
     ]
    },
    {
     "name": "stdout",
     "output_type": "stream",
     "text": [
      "n\n"
     ]
    },
    {
     "name": "stderr",
     "output_type": "stream",
     "text": [
      "title : grill delicia suggar vermelho - grill br\n",
      "twitter:title : None\n",
      "og:title : None\n",
      "description : grill delicia suggar vermelho\n",
      "twitter:description : None\n",
      "og:description : None\n",
      "\n",
      "title : batedeira planetaria oster fpstsmpl2 3 litros 12 velocidades vermelha feita aco - eletroportateis - batedeira -\n",
      "twitter:title : None\n",
      "og:title : None\n",
      "description : brasil\n",
      "twitter:description : None\n",
      "og:description : None\n",
      "\n",
      "8/10 positive, 19/10 negative\n",
      "Do these records refer to the same thing?\n",
      "(y)es / (n)o / (u)nsure / (f)inished / (p)revious\n"
     ]
    },
    {
     "name": "stdout",
     "output_type": "stream",
     "text": [
      "n\n"
     ]
    },
    {
     "name": "stderr",
     "output_type": "stream",
     "text": [
      "title : mini system philips ntx600x/78 mp3 bluetooth duplo usb ripping 2 200 w - micro mini system br\n",
      "twitter:title : None\n",
      "og:title : None\n",
      "description : mini system philips ntx600x/78 mp3 bluetooth duplo usb ripping 2 200 w\n",
      "twitter:description : None\n",
      "og:description : None\n",
      "\n",
      "title : mini hi-fi system philips ntx600x bluetooth entrada usb funcao dj crossfader 2200w - eletronicos - mini-systems -\n",
      "twitter:title : None\n",
      "og:title : None\n",
      "description : brasil\n",
      "twitter:description : None\n",
      "og:description : None\n",
      "\n",
      "8/10 positive, 20/10 negative\n",
      "Do these records refer to the same thing?\n",
      "(y)es / (n)o / (u)nsure / (f)inished / (p)revious\n"
     ]
    },
    {
     "name": "stdout",
     "output_type": "stream",
     "text": [
      "y\n"
     ]
    },
    {
     "name": "stderr",
     "output_type": "stream",
     "text": [
      "title : grill delicia suggar vermelho - grill br\n",
      "twitter:title : None\n",
      "og:title : None\n",
      "description : grill delicia suggar vermelho\n",
      "twitter:description : None\n",
      "og:description : None\n",
      "\n",
      "title : smartphone samsung galaxy j5 sm-j500m/ds dourado dual chip android 5 1 lollipop 4g wi-fi 16gb vivo - telefonia - smartphones -\n",
      "twitter:title : None\n",
      "og:title : None\n",
      "description : brasil\n",
      "twitter:description : None\n",
      "og:description : None\n",
      "\n",
      "9/10 positive, 20/10 negative\n",
      "Do these records refer to the same thing?\n",
      "(y)es / (n)o / (u)nsure / (f)inished / (p)revious\n"
     ]
    },
    {
     "name": "stdout",
     "output_type": "stream",
     "text": [
      "n\n"
     ]
    },
    {
     "name": "stderr",
     "output_type": "stream",
     "text": [
      "title : grill delicia suggar vermelho - grill br\n",
      "twitter:title : None\n",
      "og:title : None\n",
      "description : grill delicia suggar vermelho\n",
      "twitter:description : None\n",
      "og:description : None\n",
      "\n",
      "title : ar-condicionado janela mecanico 7 000 btus gree gjc7bk frio branco - eletrodomesticos - ar condicionado -\n",
      "twitter:title : None\n",
      "og:title : None\n",
      "description : brasil\n",
      "twitter:description : None\n",
      "og:description : None\n",
      "\n",
      "9/10 positive, 21/10 negative\n",
      "Do these records refer to the same thing?\n",
      "(y)es / (n)o / (u)nsure / (f)inished / (p)revious\n"
     ]
    },
    {
     "name": "stdout",
     "output_type": "stream",
     "text": [
      "n\n"
     ]
    },
    {
     "name": "stderr",
     "output_type": "stream",
     "text": [
      "title : grill delicia suggar vermelho - grill br\n",
      "twitter:title : None\n",
      "og:title : None\n",
      "description : grill delicia suggar vermelho\n",
      "twitter:description : None\n",
      "og:description : None\n",
      "\n",
      "title : tablet samsung galaxy tab tela 9 6 android 4 4 8gb wi fi branco processador quad-core 1 3ghz - tablets - samsung galaxy -\n",
      "twitter:title : None\n",
      "og:title : None\n",
      "description : brasil\n",
      "twitter:description : None\n",
      "og:description : None\n",
      "\n",
      "9/10 positive, 22/10 negative\n",
      "Do these records refer to the same thing?\n",
      "(y)es / (n)o / (u)nsure / (f)inished / (p)revious\n"
     ]
    },
    {
     "name": "stdout",
     "output_type": "stream",
     "text": [
      "n\n"
     ]
    },
    {
     "name": "stderr",
     "output_type": "stream",
     "text": [
      "title : refrigerador consul frost free facilite crb39ab 342l - 1 porta br\n",
      "twitter:title : None\n",
      "og:title : None\n",
      "description : encontre refrigerador consul frost free facilite crb39ab 342l - menores eletrodomesticos\n",
      "twitter:description : None\n",
      "og:description : None\n",
      "\n",
      "title : refrigerador brastemp clean brm39ek 352 litros 2 portas frost free platinum - eletrodomesticos - geladeiras 2 portas -\n",
      "twitter:title : None\n",
      "og:title : None\n",
      "description : brasil\n",
      "twitter:description : None\n",
      "og:description : None\n",
      "\n",
      "9/10 positive, 23/10 negative\n",
      "Do these records refer to the same thing?\n",
      "(y)es / (n)o / (u)nsure / (f)inished / (p)revious\n"
     ]
    },
    {
     "name": "stdout",
     "output_type": "stream",
     "text": [
      "n\n"
     ]
    },
    {
     "name": "stderr",
     "output_type": "stream",
     "text": [
      "title : grill delicia suggar vermelho - grill br\n",
      "twitter:title : None\n",
      "og:title : None\n",
      "description : grill delicia suggar vermelho\n",
      "twitter:description : None\n",
      "og:description : None\n",
      "\n",
      "title : smartphone motorola moto g 4a geracao plus preto dual chip tela 5 5 ' 32gb cam 16mp android 6 0 - telefonia - smartphones -\n",
      "twitter:title : None\n",
      "og:title : None\n",
      "description : brasil\n",
      "twitter:description : None\n",
      "og:description : None\n",
      "\n",
      "9/10 positive, 24/10 negative\n",
      "Do these records refer to the same thing?\n",
      "(y)es / (n)o / (u)nsure / (f)inished / (p)revious\n"
     ]
    },
    {
     "name": "stdout",
     "output_type": "stream",
     "text": [
      "n\n"
     ]
    },
    {
     "name": "stderr",
     "output_type": "stream",
     "text": [
      "title : moedor graos cafe cuisinart dcg20 - moedor graos br\n",
      "twitter:title : None\n",
      "og:title : None\n",
      "description : moedor graos cafe cuisinart dcg20\n",
      "twitter:description : None\n",
      "og:description : None\n",
      "\n",
      "title : computador all in one acer intel pentium quad core 4gb 500gb az1-752-bc52 19 5 ' windows 10 branco - informatica - all in one -\n",
      "twitter:title : None\n",
      "og:title : None\n",
      "description : brasil\n",
      "twitter:description : None\n",
      "og:description : None\n",
      "\n",
      "9/10 positive, 25/10 negative\n",
      "Do these records refer to the same thing?\n",
      "(y)es / (n)o / (u)nsure / (f)inished / (p)revious\n"
     ]
    },
    {
     "name": "stdout",
     "output_type": "stream",
     "text": [
      "n\n"
     ]
    },
    {
     "name": "stderr",
     "output_type": "stream",
     "text": [
      "title : purificador agua sistema compressor branco - colormaq - purificador br\n",
      "twitter:title : None\n",
      "og:title : None\n",
      "description : purificador agua sistema compressor branco - colormaq\n",
      "twitter:description : None\n",
      "og:description : None\n",
      "\n",
      "title : purificador agua electrolux branco pe10b - eletroportateis - purificador agua -\n",
      "twitter:title : None\n",
      "og:title : None\n",
      "description : brasil\n",
      "twitter:description : None\n",
      "og:description : None\n",
      "\n",
      "9/10 positive, 26/10 negative\n",
      "Do these records refer to the same thing?\n",
      "(y)es / (n)o / (u)nsure / (f)inished / (p)revious\n"
     ]
    },
    {
     "name": "stdout",
     "output_type": "stream",
     "text": [
      "n\n"
     ]
    },
    {
     "name": "stderr",
     "output_type": "stream",
     "text": [
      "title : grill delicia suggar vermelho - grill br\n",
      "twitter:title : None\n",
      "og:title : None\n",
      "description : grill delicia suggar vermelho\n",
      "twitter:description : None\n",
      "og:description : None\n",
      "\n",
      "title : soundbar samsung hw-h370 120w rms 2 1 canais bluetooth subwoofer fio conexao audio optica usb - eletronicos - soundbar -\n",
      "twitter:title : None\n",
      "og:title : None\n",
      "description : brasil\n",
      "twitter:description : None\n",
      "og:description : None\n",
      "\n",
      "9/10 positive, 27/10 negative\n",
      "Do these records refer to the same thing?\n",
      "(y)es / (n)o / (u)nsure / (f)inished / (p)revious\n"
     ]
    },
    {
     "name": "stdout",
     "output_type": "stream",
     "text": [
      "n\n"
     ]
    },
    {
     "name": "stderr",
     "output_type": "stream",
     "text": [
      "title : grill churrasco suggar - grill sanduicheiras br\n",
      "twitter:title : None\n",
      "og:title : None\n",
      "description : grill churrasco suggar\n",
      "twitter:description : None\n",
      "og:description : None\n",
      "\n",
      "title : processador alimentos viva collection ri7632 2 velocidades + pulsar 650w preto vermelho 110v philips walita - eletroportateis - processadores alimentos -\n",
      "twitter:title : None\n",
      "og:title : None\n",
      "description : brasil\n",
      "twitter:description : None\n",
      "og:description : None\n",
      "\n",
      "9/10 positive, 28/10 negative\n",
      "Do these records refer to the same thing?\n",
      "(y)es / (n)o / (u)nsure / (f)inished / (p)revious\n"
     ]
    },
    {
     "name": "stdout",
     "output_type": "stream",
     "text": [
      "n\n"
     ]
    },
    {
     "name": "stderr",
     "output_type": "stream",
     "text": [
      "title : grill delicia suggar vermelho - grill br\n",
      "twitter:title : None\n",
      "og:title : None\n",
      "description : grill delicia suggar vermelho\n",
      "twitter:description : None\n",
      "og:description : None\n",
      "\n",
      "title : micro-ondas brastemp ative smart food grill bmj38ar 38 litros espelhado - eletrodomesticos - micro-ondas -\n",
      "twitter:title : None\n",
      "og:title : None\n",
      "description : brasil\n",
      "twitter:description : None\n",
      "og:description : None\n",
      "\n",
      "9/10 positive, 29/10 negative\n",
      "Do these records refer to the same thing?\n",
      "(y)es / (n)o / (u)nsure / (f)inished / (p)revious\n"
     ]
    },
    {
     "name": "stdout",
     "output_type": "stream",
     "text": [
      "n\n"
     ]
    },
    {
     "name": "stderr",
     "output_type": "stream",
     "text": [
      "title : grill delicia suggar vermelho - grill br\n",
      "twitter:title : None\n",
      "og:title : None\n",
      "description : grill delicia suggar vermelho\n",
      "twitter:description : None\n",
      "og:description : None\n",
      "\n",
      "title : notebook acer intel core i5 8gb 1tb aspire f f5-573g-50ks 15 6 placa video nvidia geforce 940mx windows 10 - informatica - notebooks -\n",
      "twitter:title : None\n",
      "og:title : None\n",
      "description : brasil\n",
      "twitter:description : None\n",
      "og:description : None\n",
      "\n",
      "9/10 positive, 30/10 negative\n",
      "Do these records refer to the same thing?\n",
      "(y)es / (n)o / (u)nsure / (f)inished / (p)revious\n"
     ]
    },
    {
     "name": "stdout",
     "output_type": "stream",
     "text": [
      "n\n"
     ]
    },
    {
     "name": "stderr",
     "output_type": "stream",
     "text": [
      "title : grill delicia suggar vermelho - grill br\n",
      "twitter:title : None\n",
      "og:title : None\n",
      "description : grill delicia suggar vermelho\n",
      "twitter:description : None\n",
      "og:description : None\n",
      "\n",
      "title : smartphone motorola moto g4 plus xt1640 branco dual chip 32gb android marshmallow 4g wi-fi camera 16 mp - telefonia - smartphones -\n",
      "twitter:title : None\n",
      "og:title : None\n",
      "description : brasil\n",
      "twitter:description : None\n",
      "og:description : None\n",
      "\n",
      "9/10 positive, 31/10 negative\n",
      "Do these records refer to the same thing?\n",
      "(y)es / (n)o / (u)nsure / (f)inished / (p)revious\n"
     ]
    },
    {
     "name": "stdout",
     "output_type": "stream",
     "text": [
      "n\n"
     ]
    },
    {
     "name": "stderr",
     "output_type": "stream",
     "text": [
      "title : gps multilaser tracker iii tv - gp034 - gps br\n",
      "twitter:title : None\n",
      "og:title : None\n",
      "description : gps multilaser tracker iii tv - gp034\n",
      "twitter:description : None\n",
      "og:description : None\n",
      "\n",
      "title : tablet multilaser m7 3g quad core tela 7 ' 8gb memoria dual chip wi-fi preto nb223 - tablets - tablets -\n",
      "twitter:title : None\n",
      "og:title : None\n",
      "description : brasil\n",
      "twitter:description : None\n",
      "og:description : None\n",
      "\n",
      "9/10 positive, 32/10 negative\n",
      "Do these records refer to the same thing?\n",
      "(y)es / (n)o / (u)nsure / (f)inished / (p)revious\n"
     ]
    },
    {
     "name": "stdout",
     "output_type": "stream",
     "text": [
      "n\n"
     ]
    },
    {
     "name": "stderr",
     "output_type": "stream",
     "text": [
      "title : gps multilaser tracker iii tv - gp034 - gps br\n",
      "twitter:title : None\n",
      "og:title : None\n",
      "description : gps multilaser tracker iii tv - gp034\n",
      "twitter:description : None\n",
      "og:description : None\n",
      "\n",
      "title : smartphone moto z play sound edition xt1635-02 preto dual chip android marshmallow 4g wi-fi camera 16mp + capa vermelha - telefonia - smartphones -\n",
      "twitter:title : None\n",
      "og:title : None\n",
      "description : brasil\n",
      "twitter:description : None\n",
      "og:description : None\n",
      "\n",
      "9/10 positive, 33/10 negative\n",
      "Do these records refer to the same thing?\n",
      "(y)es / (n)o / (u)nsure / (f)inished / (p)revious\n"
     ]
    },
    {
     "name": "stdout",
     "output_type": "stream",
     "text": [
      "n\n"
     ]
    },
    {
     "name": "stderr",
     "output_type": "stream",
     "text": [
      "title : jogo forza horizon 3 - xbox one - jogos xbox one br\n",
      "twitter:title : None\n",
      "og:title : None\n",
      "description : jogo forza horizon 3 loja microsoft\n",
      "twitter:description : None\n",
      "og:description : None\n",
      "\n",
      "title : projetor epson powerlite s27 2700 ansi lumens svga contraste 10 000:1 3lcd hdmi wireless ready branco - informatica - projetores -\n",
      "twitter:title : None\n",
      "og:title : None\n",
      "description : brasil\n",
      "twitter:description : None\n",
      "og:description : None\n",
      "\n",
      "9/10 positive, 34/10 negative\n",
      "Do these records refer to the same thing?\n",
      "(y)es / (n)o / (u)nsure / (f)inished / (p)revious\n"
     ]
    },
    {
     "name": "stdout",
     "output_type": "stream",
     "text": [
      "n\n"
     ]
    },
    {
     "name": "stderr",
     "output_type": "stream",
     "text": [
      "title : grill churrasco suggar - grill sanduicheiras br\n",
      "twitter:title : None\n",
      "og:title : None\n",
      "description : grill churrasco suggar\n",
      "twitter:description : None\n",
      "og:description : None\n",
      "\n",
      "title : smartphone moto z play sound edition xt1635-02 preto dual chip android marshmallow 4g wi-fi camera 16mp + capa vermelha - telefonia - smartphones -\n",
      "twitter:title : None\n",
      "og:title : None\n",
      "description : brasil\n",
      "twitter:description : None\n",
      "og:description : None\n",
      "\n",
      "9/10 positive, 35/10 negative\n",
      "Do these records refer to the same thing?\n",
      "(y)es / (n)o / (u)nsure / (f)inished / (p)revious\n"
     ]
    },
    {
     "name": "stdout",
     "output_type": "stream",
     "text": [
      "n\n"
     ]
    },
    {
     "name": "stderr",
     "output_type": "stream",
     "text": [
      "title : jogo forza horizon 3 - xbox one - jogos xbox one br\n",
      "twitter:title : None\n",
      "og:title : None\n",
      "description : jogo forza horizon 3 loja microsoft\n",
      "twitter:description : None\n",
      "og:description : None\n",
      "\n",
      "title : processador alimentos viva collection ri7632 2 velocidades + pulsar 650w preto vermelho 110v philips walita - eletroportateis - processadores alimentos -\n",
      "twitter:title : None\n",
      "og:title : None\n",
      "description : brasil\n",
      "twitter:description : None\n",
      "og:description : None\n",
      "\n",
      "9/10 positive, 36/10 negative\n",
      "Do these records refer to the same thing?\n",
      "(y)es / (n)o / (u)nsure / (f)inished / (p)revious\n"
     ]
    },
    {
     "name": "stdout",
     "output_type": "stream",
     "text": [
      "n\n"
     ]
    },
    {
     "name": "stderr",
     "output_type": "stream",
     "text": [
      "title : gps multilaser tracker iii tv - gp034 - gps br\n",
      "twitter:title : None\n",
      "og:title : None\n",
      "description : gps multilaser tracker iii tv - gp034\n",
      "twitter:description : None\n",
      "og:description : None\n",
      "\n",
      "title : computador all in one acer intel pentium quad core 4gb 500gb az1-752-bc52 19 5 ' windows 10 branco - informatica - all in one -\n",
      "twitter:title : None\n",
      "og:title : None\n",
      "description : brasil\n",
      "twitter:description : None\n",
      "og:description : None\n",
      "\n",
      "9/10 positive, 37/10 negative\n",
      "Do these records refer to the same thing?\n",
      "(y)es / (n)o / (u)nsure / (f)inished / (p)revious\n"
     ]
    },
    {
     "name": "stdout",
     "output_type": "stream",
     "text": [
      "n\n"
     ]
    },
    {
     "name": "stderr",
     "output_type": "stream",
     "text": [
      "title : purificador agua electrolux pe10b bivolt - branco - purificador br\n",
      "twitter:title : None\n",
      "og:title : None\n",
      "description : eletroportateis\n",
      "twitter:description : None\n",
      "og:description : None\n",
      "\n",
      "title : processador alimentos viva collection ri7632 2 velocidades + pulsar 650w preto vermelho 110v philips walita - eletroportateis - processadores alimentos -\n",
      "twitter:title : None\n",
      "og:title : None\n",
      "description : brasil\n",
      "twitter:description : None\n",
      "og:description : None\n",
      "\n",
      "9/10 positive, 38/10 negative\n",
      "Do these records refer to the same thing?\n",
      "(y)es / (n)o / (u)nsure / (f)inished / (p)revious\n"
     ]
    },
    {
     "name": "stdout",
     "output_type": "stream",
     "text": [
      "n\n"
     ]
    },
    {
     "name": "stderr",
     "output_type": "stream",
     "text": [
      "title : grill delicia suggar vermelho - grill br\n",
      "twitter:title : None\n",
      "og:title : None\n",
      "description : grill delicia suggar vermelho\n",
      "twitter:description : None\n",
      "og:description : None\n",
      "\n",
      "title : smartphone asus zenfone 3 ze552kl branco dual chip hibrido android 6 0 4g wi-fi camera 16mp - telefonia - smartphones -\n",
      "twitter:title : None\n",
      "og:title : None\n",
      "description : brasil\n",
      "twitter:description : None\n",
      "og:description : None\n",
      "\n",
      "9/10 positive, 39/10 negative\n",
      "Do these records refer to the same thing?\n",
      "(y)es / (n)o / (u)nsure / (f)inished / (p)revious\n"
     ]
    },
    {
     "name": "stdout",
     "output_type": "stream",
     "text": [
      "n\n"
     ]
    },
    {
     "name": "stderr",
     "output_type": "stream",
     "text": [
      "title : google chrome cast - streaming media player br\n",
      "twitter:title : None\n",
      "og:title : None\n",
      "description : google chrome cast\n",
      "twitter:description : None\n",
      "og:description : None\n",
      "\n",
      "title : computador all in one acer intel pentium quad core 4gb 500gb az1-752-bc52 19 5 ' windows 10 branco - informatica - all in one -\n",
      "twitter:title : None\n",
      "og:title : None\n",
      "description : brasil\n",
      "twitter:description : None\n",
      "og:description : None\n",
      "\n",
      "9/10 positive, 40/10 negative\n",
      "Do these records refer to the same thing?\n",
      "(y)es / (n)o / (u)nsure / (f)inished / (p)revious\n"
     ]
    },
    {
     "name": "stdout",
     "output_type": "stream",
     "text": [
      "n\n"
     ]
    },
    {
     "name": "stderr",
     "output_type": "stream",
     "text": [
      "title : grill delicia suggar vermelho - grill br\n",
      "twitter:title : None\n",
      "og:title : None\n",
      "description : grill delicia suggar vermelho\n",
      "twitter:description : None\n",
      "og:description : None\n",
      "\n",
      "title : refrigerador brastemp clean brm39ek 352 litros 2 portas frost free platinum - eletrodomesticos - geladeiras 2 portas -\n",
      "twitter:title : None\n",
      "og:title : None\n",
      "description : brasil\n",
      "twitter:description : None\n",
      "og:description : None\n",
      "\n",
      "9/10 positive, 41/10 negative\n",
      "Do these records refer to the same thing?\n",
      "(y)es / (n)o / (u)nsure / (f)inished / (p)revious\n"
     ]
    },
    {
     "name": "stdout",
     "output_type": "stream",
     "text": [
      "n\n"
     ]
    },
    {
     "name": "stderr",
     "output_type": "stream",
     "text": [
      "title : grill churrasco suggar - grill sanduicheiras br\n",
      "twitter:title : None\n",
      "og:title : None\n",
      "description : grill churrasco suggar\n",
      "twitter:description : None\n",
      "og:description : None\n",
      "\n",
      "title : computador all in one acer intel pentium quad core 4gb 500gb az1-752-bc52 19 5 ' windows 10 branco - informatica - all in one -\n",
      "twitter:title : None\n",
      "og:title : None\n",
      "description : brasil\n",
      "twitter:description : None\n",
      "og:description : None\n",
      "\n",
      "9/10 positive, 42/10 negative\n",
      "Do these records refer to the same thing?\n",
      "(y)es / (n)o / (u)nsure / (f)inished / (p)revious\n"
     ]
    },
    {
     "name": "stdout",
     "output_type": "stream",
     "text": [
      "f\n"
     ]
    },
    {
     "name": "stderr",
     "output_type": "stream",
     "text": [
      "Finished labeling\n"
     ]
    }
   ],
   "source": [
    "linker = dedupe.RecordLink(fields)\n",
    "linker.sample(p, w)\n",
    "dedupe.consoleLabel(linker)"
   ]
  },
  {
   "cell_type": "code",
   "execution_count": 28,
   "metadata": {},
   "outputs": [
    {
     "name": "stderr",
     "output_type": "stream",
     "text": [
      "INFO:rlr.crossvalidation:using cross validation to find optimum alpha...\n",
      "INFO:rlr.crossvalidation:optimum alpha: 0.010000\n",
      "INFO:dedupe.blocking:Canopy: TfidfTextSearchPredicate: (0.2, title)\n",
      "INFO:dedupe.blocking:Canopy: TfidfTextSearchPredicate: (0.6, title)\n",
      "INFO:dedupe.blocking:Canopy: TfidfTextSearchPredicate: (0.8, title)\n",
      "INFO:dedupe.blocking:Canopy: TfidfTextSearchPredicate: (0.4, title)\n",
      "INFO:dedupe.blocking:Canopy: TfidfNGramSearchPredicate: (0.2, title)\n",
      "INFO:dedupe.blocking:Canopy: TfidfNGramSearchPredicate: (0.6, title)\n",
      "INFO:dedupe.blocking:Canopy: TfidfNGramSearchPredicate: (0.4, title)\n",
      "INFO:dedupe.blocking:Canopy: TfidfNGramSearchPredicate: (0.8, title)\n",
      "INFO:dedupe.blocking:Canopy: LevenshteinSearchPredicate: (2, title)\n",
      "INFO:dedupe.blocking:Canopy: LevenshteinSearchPredicate: (3, title)\n",
      "INFO:dedupe.blocking:Canopy: LevenshteinSearchPredicate: (4, title)\n",
      "INFO:dedupe.blocking:Canopy: LevenshteinSearchPredicate: (1, title)\n",
      "INFO:dedupe.blocking:Canopy: TfidfTextSearchPredicate: (0.2, description)\n",
      "INFO:dedupe.blocking:Canopy: TfidfTextSearchPredicate: (0.8, description)\n",
      "INFO:dedupe.blocking:Canopy: TfidfTextSearchPredicate: (0.4, description)\n",
      "INFO:dedupe.blocking:Canopy: TfidfTextSearchPredicate: (0.6, description)\n",
      "INFO:dedupe.blocking:Canopy: LevenshteinSearchPredicate: (1, description)\n",
      "INFO:dedupe.blocking:Canopy: LevenshteinSearchPredicate: (2, description)\n",
      "INFO:dedupe.blocking:Canopy: LevenshteinSearchPredicate: (3, description)\n",
      "INFO:dedupe.blocking:Canopy: LevenshteinSearchPredicate: (4, description)\n",
      "INFO:dedupe.blocking:Canopy: TfidfTextSearchPredicate: (0.2, twitter:description)\n",
      "INFO:dedupe.blocking:Canopy: TfidfTextSearchPredicate: (0.8, twitter:description)\n",
      "INFO:dedupe.blocking:Canopy: TfidfTextSearchPredicate: (0.4, twitter:description)\n",
      "INFO:dedupe.blocking:Canopy: TfidfTextSearchPredicate: (0.6, twitter:description)\n",
      "INFO:dedupe.blocking:Canopy: LevenshteinSearchPredicate: (3, twitter:description)\n",
      "INFO:dedupe.blocking:Canopy: LevenshteinSearchPredicate: (1, twitter:description)\n",
      "INFO:dedupe.blocking:Canopy: LevenshteinSearchPredicate: (4, twitter:description)\n",
      "INFO:dedupe.blocking:Canopy: LevenshteinSearchPredicate: (2, twitter:description)\n",
      "INFO:dedupe.blocking:Canopy: LevenshteinSearchPredicate: (3, og:title)\n",
      "INFO:dedupe.blocking:Canopy: LevenshteinSearchPredicate: (2, og:title)\n",
      "INFO:dedupe.blocking:Canopy: LevenshteinSearchPredicate: (1, og:title)\n",
      "INFO:dedupe.blocking:Canopy: LevenshteinSearchPredicate: (4, og:title)\n",
      "INFO:dedupe.blocking:Canopy: TfidfNGramSearchPredicate: (0.4, og:title)\n",
      "INFO:dedupe.blocking:Canopy: TfidfNGramSearchPredicate: (0.6, og:title)\n",
      "INFO:dedupe.blocking:Canopy: TfidfNGramSearchPredicate: (0.2, og:title)\n",
      "INFO:dedupe.blocking:Canopy: TfidfNGramSearchPredicate: (0.8, og:title)\n",
      "INFO:dedupe.blocking:Canopy: TfidfTextSearchPredicate: (0.2, og:title)\n",
      "INFO:dedupe.blocking:Canopy: TfidfTextSearchPredicate: (0.8, og:title)\n",
      "INFO:dedupe.blocking:Canopy: TfidfTextSearchPredicate: (0.6, og:title)\n",
      "INFO:dedupe.blocking:Canopy: TfidfTextSearchPredicate: (0.4, og:title)\n",
      "INFO:dedupe.blocking:Canopy: LevenshteinSearchPredicate: (4, twitter:title)\n",
      "INFO:dedupe.blocking:Canopy: LevenshteinSearchPredicate: (1, twitter:title)\n",
      "INFO:dedupe.blocking:Canopy: LevenshteinSearchPredicate: (3, twitter:title)\n",
      "INFO:dedupe.blocking:Canopy: LevenshteinSearchPredicate: (2, twitter:title)\n",
      "INFO:dedupe.blocking:Canopy: TfidfTextSearchPredicate: (0.6, twitter:title)\n",
      "INFO:dedupe.blocking:Canopy: TfidfTextSearchPredicate: (0.4, twitter:title)\n",
      "INFO:dedupe.blocking:Canopy: TfidfTextSearchPredicate: (0.8, twitter:title)\n",
      "INFO:dedupe.blocking:Canopy: TfidfTextSearchPredicate: (0.2, twitter:title)\n",
      "INFO:dedupe.blocking:Canopy: TfidfNGramSearchPredicate: (0.6, twitter:title)\n",
      "INFO:dedupe.blocking:Canopy: TfidfNGramSearchPredicate: (0.8, twitter:title)\n",
      "INFO:dedupe.blocking:Canopy: TfidfNGramSearchPredicate: (0.2, twitter:title)\n",
      "INFO:dedupe.blocking:Canopy: TfidfNGramSearchPredicate: (0.4, twitter:title)\n",
      "INFO:dedupe.blocking:Canopy: TfidfTextSearchPredicate: (0.4, og:description)\n",
      "INFO:dedupe.blocking:Canopy: TfidfTextSearchPredicate: (0.2, og:description)\n",
      "INFO:dedupe.blocking:Canopy: TfidfTextSearchPredicate: (0.8, og:description)\n",
      "INFO:dedupe.blocking:Canopy: TfidfTextSearchPredicate: (0.6, og:description)\n",
      "INFO:dedupe.blocking:Canopy: LevenshteinSearchPredicate: (4, og:description)\n",
      "INFO:dedupe.blocking:Canopy: LevenshteinSearchPredicate: (2, og:description)\n",
      "INFO:dedupe.blocking:Canopy: LevenshteinSearchPredicate: (3, og:description)\n",
      "INFO:dedupe.blocking:Canopy: LevenshteinSearchPredicate: (1, og:description)\n",
      "INFO:dedupe.blocking:Canopy: TfidfTextSearchPredicate: (0.2, title)\n",
      "INFO:dedupe.blocking:Canopy: TfidfTextSearchPredicate: (0.6, title)\n",
      "INFO:dedupe.blocking:Canopy: TfidfTextSearchPredicate: (0.8, title)\n",
      "INFO:dedupe.blocking:Canopy: TfidfTextSearchPredicate: (0.4, title)\n",
      "INFO:dedupe.blocking:Canopy: TfidfNGramSearchPredicate: (0.2, title)\n",
      "INFO:dedupe.blocking:Canopy: TfidfNGramSearchPredicate: (0.6, title)\n",
      "INFO:dedupe.blocking:Canopy: TfidfNGramSearchPredicate: (0.4, title)\n",
      "INFO:dedupe.blocking:Canopy: TfidfNGramSearchPredicate: (0.8, title)\n",
      "INFO:dedupe.blocking:Canopy: LevenshteinSearchPredicate: (2, title)\n",
      "INFO:dedupe.blocking:Canopy: LevenshteinSearchPredicate: (3, title)\n",
      "INFO:dedupe.blocking:Canopy: LevenshteinSearchPredicate: (4, title)\n",
      "INFO:dedupe.blocking:Canopy: LevenshteinSearchPredicate: (1, title)\n",
      "INFO:dedupe.blocking:Canopy: TfidfTextSearchPredicate: (0.2, description)\n",
      "INFO:dedupe.blocking:Canopy: TfidfTextSearchPredicate: (0.8, description)\n",
      "INFO:dedupe.blocking:Canopy: TfidfTextSearchPredicate: (0.4, description)\n",
      "INFO:dedupe.blocking:Canopy: TfidfTextSearchPredicate: (0.6, description)\n",
      "INFO:dedupe.blocking:Canopy: LevenshteinSearchPredicate: (1, description)\n",
      "INFO:dedupe.blocking:Canopy: LevenshteinSearchPredicate: (2, description)\n",
      "INFO:dedupe.blocking:Canopy: LevenshteinSearchPredicate: (3, description)\n",
      "INFO:dedupe.blocking:Canopy: LevenshteinSearchPredicate: (4, description)\n",
      "INFO:dedupe.blocking:Canopy: TfidfTextSearchPredicate: (0.2, twitter:description)\n",
      "INFO:dedupe.blocking:Canopy: TfidfTextSearchPredicate: (0.8, twitter:description)\n",
      "INFO:dedupe.blocking:Canopy: TfidfTextSearchPredicate: (0.4, twitter:description)\n",
      "INFO:dedupe.blocking:Canopy: TfidfTextSearchPredicate: (0.6, twitter:description)\n",
      "INFO:dedupe.blocking:Canopy: LevenshteinSearchPredicate: (3, twitter:description)\n",
      "INFO:dedupe.blocking:Canopy: LevenshteinSearchPredicate: (1, twitter:description)\n",
      "INFO:dedupe.blocking:Canopy: LevenshteinSearchPredicate: (4, twitter:description)\n",
      "INFO:dedupe.blocking:Canopy: LevenshteinSearchPredicate: (2, twitter:description)\n",
      "INFO:dedupe.blocking:Canopy: LevenshteinSearchPredicate: (3, og:title)\n",
      "INFO:dedupe.blocking:Canopy: LevenshteinSearchPredicate: (2, og:title)\n",
      "INFO:dedupe.blocking:Canopy: LevenshteinSearchPredicate: (1, og:title)\n",
      "INFO:dedupe.blocking:Canopy: LevenshteinSearchPredicate: (4, og:title)\n",
      "INFO:dedupe.blocking:Canopy: TfidfNGramSearchPredicate: (0.4, og:title)\n",
      "INFO:dedupe.blocking:Canopy: TfidfNGramSearchPredicate: (0.6, og:title)\n",
      "INFO:dedupe.blocking:Canopy: TfidfNGramSearchPredicate: (0.2, og:title)\n",
      "INFO:dedupe.blocking:Canopy: TfidfNGramSearchPredicate: (0.8, og:title)\n",
      "INFO:dedupe.blocking:Canopy: TfidfTextSearchPredicate: (0.2, og:title)\n",
      "INFO:dedupe.blocking:Canopy: TfidfTextSearchPredicate: (0.8, og:title)\n",
      "INFO:dedupe.blocking:Canopy: TfidfTextSearchPredicate: (0.6, og:title)\n",
      "INFO:dedupe.blocking:Canopy: TfidfTextSearchPredicate: (0.4, og:title)\n",
      "INFO:dedupe.blocking:Canopy: LevenshteinSearchPredicate: (4, twitter:title)\n",
      "INFO:dedupe.blocking:Canopy: LevenshteinSearchPredicate: (1, twitter:title)\n",
      "INFO:dedupe.blocking:Canopy: LevenshteinSearchPredicate: (3, twitter:title)\n",
      "INFO:dedupe.blocking:Canopy: LevenshteinSearchPredicate: (2, twitter:title)\n",
      "INFO:dedupe.blocking:Canopy: TfidfTextSearchPredicate: (0.6, twitter:title)\n",
      "INFO:dedupe.blocking:Canopy: TfidfTextSearchPredicate: (0.4, twitter:title)\n",
      "INFO:dedupe.blocking:Canopy: TfidfTextSearchPredicate: (0.8, twitter:title)\n",
      "INFO:dedupe.blocking:Canopy: TfidfTextSearchPredicate: (0.2, twitter:title)\n",
      "INFO:dedupe.blocking:Canopy: TfidfNGramSearchPredicate: (0.6, twitter:title)\n",
      "INFO:dedupe.blocking:Canopy: TfidfNGramSearchPredicate: (0.8, twitter:title)\n"
     ]
    },
    {
     "name": "stderr",
     "output_type": "stream",
     "text": [
      "INFO:dedupe.blocking:Canopy: TfidfNGramSearchPredicate: (0.2, twitter:title)\n",
      "INFO:dedupe.blocking:Canopy: TfidfNGramSearchPredicate: (0.4, twitter:title)\n",
      "INFO:dedupe.blocking:Canopy: TfidfTextSearchPredicate: (0.4, og:description)\n",
      "INFO:dedupe.blocking:Canopy: TfidfTextSearchPredicate: (0.2, og:description)\n",
      "INFO:dedupe.blocking:Canopy: TfidfTextSearchPredicate: (0.8, og:description)\n",
      "INFO:dedupe.blocking:Canopy: TfidfTextSearchPredicate: (0.6, og:description)\n",
      "INFO:dedupe.blocking:Canopy: LevenshteinSearchPredicate: (4, og:description)\n",
      "INFO:dedupe.blocking:Canopy: LevenshteinSearchPredicate: (2, og:description)\n",
      "INFO:dedupe.blocking:Canopy: LevenshteinSearchPredicate: (3, og:description)\n",
      "INFO:dedupe.blocking:Canopy: LevenshteinSearchPredicate: (1, og:description)\n",
      "INFO:dedupe.training:Final predicate set:\n",
      "INFO:dedupe.training:(SimplePredicate: (commonIntegerPredicate, title), TfidfNGramSearchPredicate: (0.6, title))\n"
     ]
    }
   ],
   "source": [
    "linker.train()"
   ]
  },
  {
   "cell_type": "code",
   "execution_count": 29,
   "metadata": {},
   "outputs": [
    {
     "name": "stderr",
     "output_type": "stream",
     "text": [
      "INFO:dedupe.blocking:Canopy: TfidfNGramSearchPredicate: (0.6, title)\n",
      "INFO:dedupe.api:0 records\n"
     ]
    }
   ],
   "source": [
    "m = linker.match(p,w, 0)"
   ]
  },
  {
   "cell_type": "code",
   "execution_count": 32,
   "metadata": {},
   "outputs": [
    {
     "data": {
      "text/plain": [
       "19"
      ]
     },
     "execution_count": 32,
     "metadata": {},
     "output_type": "execute_result"
    }
   ],
   "source": [
    "len(m)"
   ]
  },
  {
   "cell_type": "code",
   "execution_count": 31,
   "metadata": {},
   "outputs": [
    {
     "name": "stdout",
     "output_type": "stream",
     "text": [
      "{'description': 'entretenimento toda familia dvd player sony dvp sr370 entrada usb frontal', 'title': 'dvd player sony dvp sr370 entrada usb frontal - dvd player br', 'twitter:title': None, 'og:title': None, 'twitter:description': None, 'og:description': None} {'description': 'brasil', 'title': 'dvd player - sony dvp-sr370 - entrada usb frontal leitor mp3 preto - eletronicos - dvds blu-ray players -', 'twitter:title': None, 'og:title': None, 'twitter:description': None, 'og:description': None}\n",
      "{'description': 'processador alimentos kitchenaid kja13avana 110v - vermelho', 'title': 'processador alimentos kitchenaid kja13avana 110v - vermelho - processador alimentos br', 'twitter:title': None, 'og:title': None, 'twitter:description': None, 'og:description': None} {'description': 'brasil', 'title': 'processador alimentos kitchenaid kja13asana 3 1 280w 2 1l silver - eletroportateis - processadores alimentos -', 'twitter:title': None, 'og:title': None, 'twitter:description': None, 'og:description': None}\n",
      "{'description': 'eletroportateis', 'title': 'purificador agua electrolux pe10b bivolt - branco - purificador br', 'twitter:title': None, 'og:title': None, 'twitter:description': None, 'og:description': None} {'description': 'brasil', 'title': 'purificador agua electrolux branco pe10b - eletroportateis - purificador agua -', 'twitter:title': None, 'og:title': None, 'twitter:description': None, 'og:description': None}\n",
      "{'description': 'design estilo entretenimento', 'title': \"tv monitor led 23 6 '' hd lg 24mt48df-ps conversor digital gaming mode time machine entrada hdmi usb - tv monitor br\", 'twitter:title': None, 'og:title': None, 'twitter:description': None, 'og:description': None} {'description': 'brasil', 'title': \"tv monitor led 23 5 '' lg 24mt48df conversor digital 1 hdmi 1 usb - eletronicos - tv monitor -\", 'twitter:title': None, 'og:title': None, 'twitter:description': None, 'og:description': None}\n",
      "{'description': 'encontre lava-loucas automatica brastemp blf10as painel touch 10 servicos - inox especiais', 'title': 'lava-loucas automatica brastemp blf10as painel touch 10 servicos - inox - lava-loucas br', 'twitter:title': None, 'og:title': None, 'twitter:description': None, 'og:description': None} {'description': 'brasil', 'title': 'lava-louca brastemp blf10asana 10 servicos - eletrodomesticos - lava loucas -', 'twitter:title': None, 'og:title': None, 'twitter:description': None, 'og:description': None}\n",
      "{'description': 'marcas', 'title': 'fogao electrolux celebrate 5 bocas 76spb acendedor automatico timer mecanico bivolt - branco - piso 5 bocas br', 'twitter:title': None, 'og:title': None, 'twitter:description': None, 'og:description': None} {'description': 'brasil', 'title': 'fogao 76spb celebrate 5 bocas - eletrodomesticos - fogoes 5 bocas -', 'twitter:title': None, 'og:title': None, 'twitter:description': None, 'og:description': None}\n",
      "{'description': \"monitor led lg 25 '' ultrawide ips full hd 25um58-p awz entrada hdmi\", 'title': \"monitor led 25 '' lg full hd ultrawide ips 25um58-p awz entrada hdmi - monitores br\", 'twitter:title': None, 'og:title': None, 'twitter:description': None, 'og:description': None} {'description': 'brasil', 'title': \"monitor gamer led 25 '' lg 25um58p ips full hd ultrawide bivolt - informatica - monitores gamers -\", 'twitter:title': None, 'og:title': None, 'twitter:description': None, 'og:description': None}\n",
      "{'description': 'encontre forno micro-ondas electrolux favoritos mef41 - menores eletrodomesticos', 'title': 'forno micro-ondas electrolux favoritos mef41 - 31l - micro-ondas br', 'twitter:title': None, 'og:title': None, 'twitter:description': None, 'og:description': None} {'description': 'brasil', 'title': 'micro-ondas 31 litros electrolux blue touch mec41 inox grill porta espelhada - eletrodomesticos - micro-ondas -', 'twitter:title': None, 'og:title': None, 'twitter:description': None, 'og:description': None}\n",
      "{'description': 'mini system philips ntx600x/78 mp3 bluetooth duplo usb ripping 2 200 w', 'title': 'mini system philips ntx600x/78 mp3 bluetooth duplo usb ripping 2 200 w - micro mini system br', 'twitter:title': None, 'og:title': None, 'twitter:description': None, 'og:description': None} {'description': 'brasil', 'title': 'mini hi-fi system philips ntx600x bluetooth entrada usb funcao dj crossfader 2200w - eletronicos - mini-systems -', 'twitter:title': None, 'og:title': None, 'twitter:description': None, 'og:description': None}\n",
      "{'description': 'projetor x29 3lcd power lite xga hdmi 3000 lumens bivolt - epson', 'title': 'projetor x29 3lcd power lite xga hdmi 3000 lumens bivolt - epson - projetores br', 'twitter:title': None, 'og:title': None, 'twitter:description': None, 'og:description': None} {'description': 'brasil', 'title': 'projetor epson powerlite s27 2700 ansi lumens svga contraste 10 000:1 3lcd hdmi wireless ready branco - informatica - projetores -', 'twitter:title': None, 'og:title': None, 'twitter:description': None, 'og:description': None}\n",
      "{'description': 'cartao memoria micro sd 32gb adaptador sd sdc4/32gb - kingston', 'title': 'cartao memoria micro sd 32gb adaptador sd sdc4/32gb - kingston - cartoes memoria br', 'twitter:title': None, 'og:title': None, 'twitter:description': None, 'og:description': None} {'description': 'brasil', 'title': 'cartao memoria cl4 kingston sdc4/32gb micro sdhc adap - acessorios - cartoes memoria -', 'twitter:title': None, 'og:title': None, 'twitter:description': None, 'og:description': None}\n",
      "{'description': 'multifuncional epson expression xp-241 impressora copiadora scanner', 'title': 'multifuncional epson expression xp-241 impressora copiadora scanner - jato tinta br', 'twitter:title': None, 'og:title': None, 'twitter:description': None, 'og:description': None} {'description': 'brasil', 'title': 'multifuncional jato tinta colorida epson expression xp-241 - informatica - multifuncionais -', 'twitter:title': None, 'og:title': None, 'twitter:description': None, 'og:description': None}\n",
      "{'description': 'praticidade qualidade lavanderia samsung', 'title': 'lavadora secadora roupas samsung wd10j6410aw wd6000 branca eco bubble programas lavagem - 10 2kg - lava seca br', 'twitter:title': None, 'og:title': None, 'twitter:description': None, 'og:description': None} {'description': 'brasil', 'title': 'lava seca samsung wd-106 seine 10 1kg branca sistema eco bubble - eletrodomesticos - lava seca -', 'twitter:title': None, 'og:title': None, 'twitter:description': None, 'og:description': None}\n",
      "{'description': 'memoria 16gb 2x8gb ddr3 1600mhz hyperx fury black hx316c10fbk2/16 kingston', 'title': 'memoria 16gb 2x8gb ddr3 1600mhz hyperx fury black hx316c10fbk2/16 kingston - memorias br', 'twitter:title': None, 'og:title': None, 'twitter:description': None, 'og:description': None} {'description': 'brasil', 'title': 'memoria kingston hyper x fury black 8gb ddr3 1600mhz hx316c10fb 8 - acessorios - memoria ram -', 'twitter:title': None, 'og:title': None, 'twitter:description': None, 'og:description': None}\n",
      "{'description': 'encontre refrigerador brastemp frost free duplex ative brm50nb menores eletrodomesticos', 'title': 'refrigerador brastemp ative brm50nb frost free controle eletronico 429l - branco - frost free br', 'twitter:title': None, 'og:title': None, 'twitter:description': None, 'og:description': None} {'description': 'brasil', 'title': 'refrigerador brastemp inverse 422l 127v duplex platinum frost free bre50nk - eletrodomesticos - geladeiras 2 portas -', 'twitter:title': None, 'og:title': None, 'twitter:description': None, 'og:description': None}\n",
      "{'description': 'volante multilaser racer js073 3 1 ps2 ps3 pc - preto', 'title': 'volante multilaser racer js073 3 1 ps2 ps3 pc - preto - controles acessorios br', 'twitter:title': None, 'og:title': None, 'twitter:description': None, 'og:description': None} {'description': 'brasil', 'title': 'volante ps2 ps3 pc marcha js073 multilaser - acessorios - controles joysticks -', 'twitter:title': None, 'og:title': None, 'twitter:description': None, 'og:description': None}\n",
      "{'description': 'barato', 'title': 'roteador repetidor d-link dir-615 wireless n 300mbps 2 antenas 5dbi - roteadores br', 'twitter:title': None, 'og:title': None, 'twitter:description': None, 'og:description': None} {'description': 'brasil', 'title': 'roteador wireless dir-615n 300mbps d-link dir-615 - acessorios - redes conexoes -', 'twitter:title': None, 'og:title': None, 'twitter:description': None, 'og:description': None}\n",
      "{'description': 'memoria note kingston 4gb 1333mhz ddr3 sodimm single rank kvr13s9s8/4', 'title': 'memoria note kingston 4gb 1333mhz ddr3 sodimm single rank kvr13s9s8/4 - memorias br', 'twitter:title': None, 'og:title': None, 'twitter:description': None, 'og:description': None} {'description': 'brasil', 'title': 'memoria 4gb ddr3 1333mhz kingston kvr13s9s8/4 notebook - acessorios - memoria ram -', 'twitter:title': None, 'og:title': None, 'twitter:description': None, 'og:description': None}\n",
      "{'description': \"navegador gps multilaser 5 '' tracker iii tv digital fm usb gp036\", 'title': \"navegador gps multilaser 5 '' tracker iii tv digital fm usb gp036 - gps br\", 'twitter:title': None, 'og:title': None, 'twitter:description': None, 'og:description': None} {'description': 'brasil', 'title': \"gps veicular 5 ' c tv fm multilaser gp036 - automotivo - gps -\", 'twitter:title': None, 'og:title': None, 'twitter:description': None, 'og:description': None}\n"
     ]
    }
   ],
   "source": [
    "for i in m:\n",
    "    print(p[i[0][0]], w[i[0][1]])"
   ]
  },
  {
   "cell_type": "code",
   "execution_count": null,
   "metadata": {
    "collapsed": true
   },
   "outputs": [],
   "source": []
  }
 ],
 "metadata": {
  "kernelspec": {
   "display_name": "Python 3",
   "language": "python",
   "name": "python3"
  },
  "language_info": {
   "codemirror_mode": {
    "name": "ipython",
    "version": 3
   },
   "file_extension": ".py",
   "mimetype": "text/x-python",
   "name": "python",
   "nbconvert_exporter": "python",
   "pygments_lexer": "ipython3",
   "version": "3.6.1"
  }
 },
 "nbformat": 4,
 "nbformat_minor": 2
}
