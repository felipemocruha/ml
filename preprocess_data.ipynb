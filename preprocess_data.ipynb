{
 "cells": [
  {
   "cell_type": "code",
   "execution_count": 50,
   "metadata": {
    "collapsed": true
   },
   "outputs": [],
   "source": [
    "import os\n",
    "from urllib.parse import urlparse\n",
    "from cytoolz import *"
   ]
  },
  {
   "cell_type": "code",
   "execution_count": 57,
   "metadata": {
    "collapsed": true
   },
   "outputs": [],
   "source": [
    "with open('data/targets.txt', 'r') as f:\n",
    "    all = set([url for url in f.readlines()])"
   ]
  },
  {
   "cell_type": "code",
   "execution_count": 58,
   "metadata": {
    "collapsed": true
   },
   "outputs": [],
   "source": [
    "domains = set([urlparse(url).netloc for url in all])"
   ]
  },
  {
   "cell_type": "code",
   "execution_count": 66,
   "metadata": {
    "collapsed": true
   },
   "outputs": [],
   "source": [
    "def is_domain(domain, url):\n",
    "    return urlparse(url).netloc == domain\n",
    "\n",
    "def get_domain_urls(domain, seed):\n",
    "    return list(filter(partial(is_domain, domain), seed))\n",
    "\n",
    "def extract_domain_name(domain):\n",
    "    return domain[4:-7]\n",
    "\n",
    "def write_domain_links(file_name, links):\n",
    "    os.makedirs(os.path.dirname(file_name), exist_ok=True)\n",
    "    with open(file_name, 'w') as f:\n",
    "        f.writelines(links)"
   ]
  },
  {
   "cell_type": "code",
   "execution_count": 60,
   "metadata": {
    "collapsed": true
   },
   "outputs": [],
   "source": [
    "domain_filter = ['www.americanas.com.br','www.casasbahia.com.br',\n",
    "                 'www.extra.com.br','www.magazineluiza.com.br',\n",
    "                 'www.pontofrio.com.br','www.shoptime.com.br',\n",
    "                 'www.submarino.com.br','www.walmart.com.br']"
   ]
  },
  {
   "cell_type": "code",
   "execution_count": 61,
   "metadata": {
    "collapsed": true
   },
   "outputs": [],
   "source": [
    "links = [(domain, get_domain_urls(domain, all)) for domain in domain_filter]"
   ]
  },
  {
   "cell_type": "code",
   "execution_count": 62,
   "metadata": {
    "collapsed": true
   },
   "outputs": [],
   "source": [
    "# write links in separate files\n",
    "for link in links:\n",
    "    domain_name = extract_domain_name(link[0])\n",
    "    file_name = 'data/{}/{}_urls'.format(domain_name, domain_name)\n",
    "    write_domain_links(file_name, link[1])"
   ]
  },
  {
   "cell_type": "code",
   "execution_count": 65,
   "metadata": {},
   "outputs": [
    {
     "name": "stdout",
     "output_type": "stream",
     "text": [
      "www.americanas.com.br 63\n",
      "www.casasbahia.com.br 81\n",
      "www.extra.com.br 105\n",
      "www.magazineluiza.com.br 104\n",
      "www.pontofrio.com.br 119\n",
      "www.shoptime.com.br 75\n",
      "www.submarino.com.br 122\n",
      "www.walmart.com.br 105\n"
     ]
    }
   ],
   "source": [
    "# number of offers from each shop\n",
    "for i in links:\n",
    "    print(i[0], len(i[1]))"
   ]
  },
  {
   "cell_type": "code",
   "execution_count": null,
   "metadata": {
    "collapsed": true
   },
   "outputs": [],
   "source": []
  }
 ],
 "metadata": {
  "kernelspec": {
   "display_name": "Python 3",
   "language": "python",
   "name": "python3"
  },
  "language_info": {
   "codemirror_mode": {
    "name": "ipython",
    "version": 3
   },
   "file_extension": ".py",
   "mimetype": "text/x-python",
   "name": "python",
   "nbconvert_exporter": "python",
   "pygments_lexer": "ipython3",
   "version": "3.6.1"
  }
 },
 "nbformat": 4,
 "nbformat_minor": 2
}
