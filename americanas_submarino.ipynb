{
 "cells": [
  {
   "cell_type": "code",
   "execution_count": 4,
   "metadata": {
    "collapsed": true
   },
   "outputs": [],
   "source": [
    "import dedupe\n",
    "import json\n",
    "from cytoolz import *\n",
    "from copy import copy"
   ]
  },
  {
   "cell_type": "code",
   "execution_count": 5,
   "metadata": {
    "collapsed": true
   },
   "outputs": [],
   "source": [
    "fields = [{'field': 'title', 'type': 'String', 'has missing': True},\n",
    "         {'field': 'twitter:title', 'type': 'String', 'has missing': True},\n",
    "         {'field': 'og:title', 'type': 'String', 'has missing': True},\n",
    "         {'field': 'description', 'type': 'Text', 'has missing': True},\n",
    "         {'field': 'twitter:description', 'type': 'Text', 'has missing': True},\n",
    "         {'field': 'og:description', 'type': 'Text', 'has missing': True}]"
   ]
  },
  {
   "cell_type": "code",
   "execution_count": 6,
   "metadata": {
    "collapsed": true
   },
   "outputs": [],
   "source": [
    "def is_expected(item):\n",
    "    expected = ['title', 'twitter:title', 'og:title', 'description', 'twitter:description', 'og:description']\n",
    "    return item in expected  \n",
    "\n",
    "\n",
    "def add_field(d, f):\n",
    "    return assoc(d, f, None)\n",
    "\n",
    "\n",
    "def remove_field(d, f):\n",
    "    return dissoc(d, f)        \n",
    "\n",
    "\n",
    "def normalize_dict(d):\n",
    "    expected = ['title', 'twitter:title', 'og:title', 'description', 'twitter:description', 'og:description']\n",
    "    new = keyfilter(is_expected, merge(d))\n",
    "    for field in expected:        \n",
    "        if not new.get(field):\n",
    "            new[field] =  None\n",
    "    return new\n",
    "    \n",
    "\n",
    "def create_labels(index, data):\n",
    "    return {index: data}"
   ]
  },
  {
   "cell_type": "code",
   "execution_count": 7,
   "metadata": {
    "collapsed": true
   },
   "outputs": [],
   "source": [
    "with open('data/americanas/parsed_data.json') as f:\n",
    "    americanas = json.loads(f.read())['products']\n",
    "\n",
    "with open('data/submarino/parsed_data.json') as f:\n",
    "    submarino = json.loads(f.read())['products']"
   ]
  },
  {
   "cell_type": "code",
   "execution_count": 8,
   "metadata": {
    "collapsed": true
   },
   "outputs": [],
   "source": [
    "americanas_meta = [normalize_dict(offer['meta']) for offer in americanas]\n",
    "submarino_meta = [normalize_dict(offer['meta']) for offer in submarino]\n",
    "p = {str(i): americanas_meta[i] for i in range(len(americanas_meta))}\n",
    "w = {str(i): submarino_meta[i] for i in range(len(submarino_meta))}"
   ]
  },
  {
   "cell_type": "code",
   "execution_count": 9,
   "metadata": {},
   "outputs": [
    {
     "name": "stderr",
     "output_type": "stream",
     "text": [
      "title : geladeira / refrigerador brastemp duplex -\n",
      "twitter:title : None\n",
      "og:title : None\n",
      "description : geladeira / refrigerador brastemp duplex ative frost free\n",
      "twitter:description : None\n",
      "og:description : None\n",
      "\n",
      "title : geladeira/ refrigerador electrolux frost -\n",
      "twitter:title : None\n",
      "og:title : None\n",
      "description : geladeira/ refrigerador electrolux frost free dw42x 380l frost free\n",
      "twitter:description : None\n",
      "og:description : None\n",
      "\n",
      "0/10 positive, 0/10 negative\n",
      "Do these records refer to the same thing?\n",
      "(y)es / (n)o / (u)nsure / (f)inished\n"
     ]
    },
    {
     "name": "stdout",
     "output_type": "stream",
     "text": [
      "u\n"
     ]
    },
    {
     "name": "stderr",
     "output_type": "stream",
     "text": [
      "title : camera digital canon a800 / prata / 10mp -\n",
      "twitter:title : None\n",
      "og:title : None\n",
      "description : camera digital canon a800 / prata / 10mp / tela 2 5 / zoom\n",
      "twitter:description : None\n",
      "og:description : None\n",
      "\n",
      "title : camera digital canon eos rebel t5 18mp l -\n",
      "twitter:title : None\n",
      "og:title : None\n",
      "description : camera digital canon eos rebel t5 18mp lente ef-s18-55mm iii cameras digitais filmadoras\n",
      "twitter:description : None\n",
      "og:description : None\n",
      "\n",
      "0/10 positive, 0/10 negative\n",
      "Do these records refer to the same thing?\n",
      "(y)es / (n)o / (u)nsure / (f)inished / (p)revious\n"
     ]
    },
    {
     "name": "stdout",
     "output_type": "stream",
     "text": [
      "n\n"
     ]
    },
    {
     "name": "stderr",
     "output_type": "stream",
     "text": [
      "title : roteador wireless d-link ultra dir-890l -\n",
      "twitter:title : None\n",
      "og:title : None\n",
      "description : roteador wireless d-link ultra dir-890l ac3200mbps 4 portas\n",
      "twitter:description : None\n",
      "og:description : None\n",
      "\n",
      "title : roteador repetidor wireless d-link dir -\n",
      "twitter:title : None\n",
      "og:title : None\n",
      "description : roteador repetidor wireless d-link dir-610 n150 mbps 1 roteador\n",
      "twitter:description : None\n",
      "og:description : None\n",
      "\n",
      "0/10 positive, 1/10 negative\n",
      "Do these records refer to the same thing?\n",
      "(y)es / (n)o / (u)nsure / (f)inished / (p)revious\n"
     ]
    },
    {
     "name": "stdout",
     "output_type": "stream",
     "text": [
      "n\n"
     ]
    },
    {
     "name": "stderr",
     "output_type": "stream",
     "text": [
      "title : lavadora secadora samsung siene wd106 -\n",
      "twitter:title : None\n",
      "og:title : None\n",
      "description : lavadora secadora samsung siene wd106 10kg inox look\n",
      "twitter:description : None\n",
      "og:description : None\n",
      "\n",
      "title : lavadora secadora samsung siene wd106 -\n",
      "twitter:title : None\n",
      "og:title : None\n",
      "description : lavadora secadora samsung siene wd106 10kg branca lava seca\n",
      "twitter:description : None\n",
      "og:description : None\n",
      "\n",
      "0/10 positive, 2/10 negative\n",
      "Do these records refer to the same thing?\n",
      "(y)es / (n)o / (u)nsure / (f)inished / (p)revious\n"
     ]
    },
    {
     "name": "stdout",
     "output_type": "stream",
     "text": [
      "y\n"
     ]
    },
    {
     "name": "stderr",
     "output_type": "stream",
     "text": [
      "title : fantasia darth vader - star wars -\n",
      "twitter:title : None\n",
      "og:title : None\n",
      "description : fantasia darth vader - star wars\n",
      "twitter:description : None\n",
      "og:description : None\n",
      "\n",
      "title : None\n",
      "twitter:title : None\n",
      "og:title : None\n",
      "description : None\n",
      "twitter:description : None\n",
      "og:description : None\n",
      "\n",
      "1/10 positive, 2/10 negative\n",
      "Do these records refer to the same thing?\n",
      "(y)es / (n)o / (u)nsure / (f)inished / (p)revious\n"
     ]
    },
    {
     "name": "stdout",
     "output_type": "stream",
     "text": [
      "n\n"
     ]
    },
    {
     "name": "stderr",
     "output_type": "stream",
     "text": [
      "title : geladeira / refrigerador brastemp invers -\n",
      "twitter:title : None\n",
      "og:title : None\n",
      "description : geladeira / refrigerador brastemp inverse frost free bre50nk\n",
      "twitter:description : None\n",
      "og:description : None\n",
      "\n",
      "title : geladeira / refrigerador brastemp duplex -\n",
      "twitter:title : None\n",
      "og:title : None\n",
      "description : geladeira / refrigerador brastemp duplex ative frost free frost free\n",
      "twitter:description : None\n",
      "og:description : None\n",
      "\n",
      "1/10 positive, 3/10 negative\n",
      "Do these records refer to the same thing?\n",
      "(y)es / (n)o / (u)nsure / (f)inished / (p)revious\n"
     ]
    },
    {
     "name": "stdout",
     "output_type": "stream",
     "text": [
      "u\n"
     ]
    },
    {
     "name": "stderr",
     "output_type": "stream",
     "text": [
      "title : tablet multilaser m7s 8gb wi-fi tela 7 '' -\n",
      "twitter:title : None\n",
      "og:title : None\n",
      "description : tablet multilaser m7s 8gb wi-fi tela 7\n",
      "twitter:description : None\n",
      "og:description : None\n",
      "\n",
      "title : tablet multilaser m7s 8gb wi-fi tela 7 '' -\n",
      "twitter:title : None\n",
      "og:title : None\n",
      "description : tablet multilaser m7s 8gb wi-fi tela 7\n",
      "twitter:description : None\n",
      "og:description : None\n",
      "\n",
      "1/10 positive, 3/10 negative\n",
      "Do these records refer to the same thing?\n",
      "(y)es / (n)o / (u)nsure / (f)inished / (p)revious\n"
     ]
    },
    {
     "name": "stdout",
     "output_type": "stream",
     "text": [
      "y\n"
     ]
    },
    {
     "name": "stderr",
     "output_type": "stream",
     "text": [
      "title : smartphone moto g 5 dual chip android 7 -\n",
      "twitter:title : None\n",
      "og:title : None\n",
      "description : smartphone moto g 5 dual chip android 7 0 tela 5\n",
      "twitter:description : None\n",
      "og:description : None\n",
      "\n",
      "title : smartphone moto g 5 dual chip android 7 -\n",
      "twitter:title : None\n",
      "og:title : None\n",
      "description : smartphone moto g 5 dual chip android 7 0 tela 5\n",
      "twitter:description : None\n",
      "og:description : None\n",
      "\n",
      "2/10 positive, 3/10 negative\n",
      "Do these records refer to the same thing?\n",
      "(y)es / (n)o / (u)nsure / (f)inished / (p)revious\n"
     ]
    },
    {
     "name": "stdout",
     "output_type": "stream",
     "text": [
      "y\n"
     ]
    },
    {
     "name": "stderr",
     "output_type": "stream",
     "text": [
      "title : smartphone samsung galaxy on 7 dual chip -\n",
      "twitter:title : None\n",
      "og:title : None\n",
      "description : smartphone samsung galaxy on 7 dual chip android 5 1 tela\n",
      "twitter:description : None\n",
      "og:description : None\n",
      "\n",
      "title : smartphone samsung galaxy j3 dual chip -\n",
      "twitter:title : None\n",
      "og:title : None\n",
      "description : smartphone samsung galaxy j3 dual chip android 5 1 8gb 4g galaxy j3\n",
      "twitter:description : None\n",
      "og:description : None\n",
      "\n",
      "3/10 positive, 3/10 negative\n",
      "Do these records refer to the same thing?\n",
      "(y)es / (n)o / (u)nsure / (f)inished / (p)revious\n"
     ]
    },
    {
     "name": "stdout",
     "output_type": "stream",
     "text": [
      "n\n"
     ]
    },
    {
     "name": "stderr",
     "output_type": "stream",
     "text": [
      "title : smartphone samsung galaxy j5 duos dual c -\n",
      "twitter:title : None\n",
      "og:title : None\n",
      "description : smartphone samsung galaxy j5 duos dual chip android 5 1 tela\n",
      "twitter:description : None\n",
      "og:description : None\n",
      "\n",
      "title : smartphone samsung galaxy j3 dual chip -\n",
      "twitter:title : None\n",
      "og:title : None\n",
      "description : smartphone samsung galaxy j3 dual chip android 5 1 8gb 4g galaxy j3\n",
      "twitter:description : None\n",
      "og:description : None\n",
      "\n",
      "3/10 positive, 4/10 negative\n",
      "Do these records refer to the same thing?\n",
      "(y)es / (n)o / (u)nsure / (f)inished / (p)revious\n"
     ]
    },
    {
     "name": "stdout",
     "output_type": "stream",
     "text": [
      "n\n"
     ]
    },
    {
     "name": "stderr",
     "output_type": "stream",
     "text": [
      "title : tablet samsung galaxy tab t561m 8gb wi -\n",
      "twitter:title : None\n",
      "og:title : None\n",
      "description : tablet samsung galaxy tab t561m 8gb wi-fi 3g tela 9 6\n",
      "twitter:description : None\n",
      "og:description : None\n",
      "\n",
      "title : tablet samsung galaxy tab t560 8gb wi- -\n",
      "twitter:title : None\n",
      "og:title : None\n",
      "description : tablet samsung galaxy tab t560 8gb wi-fi tela 9 6\n",
      "twitter:description : None\n",
      "og:description : None\n",
      "\n",
      "3/10 positive, 5/10 negative\n",
      "Do these records refer to the same thing?\n",
      "(y)es / (n)o / (u)nsure / (f)inished / (p)revious\n"
     ]
    },
    {
     "name": "stdout",
     "output_type": "stream",
     "text": [
      "n\n"
     ]
    },
    {
     "name": "stderr",
     "output_type": "stream",
     "text": [
      "title : smartphone samsung galaxy j3 duos dual c -\n",
      "twitter:title : None\n",
      "og:title : None\n",
      "description : smartphone samsung galaxy j3 duos dual chip android 5 1 tela\n",
      "twitter:description : None\n",
      "og:description : None\n",
      "\n",
      "title : smartphone samsung galaxy j5 duos dual c -\n",
      "twitter:title : None\n",
      "og:title : None\n",
      "description : smartphone samsung galaxy j5 duos dual chip android 5 1 tela galaxy j5\n",
      "twitter:description : None\n",
      "og:description : None\n",
      "\n",
      "3/10 positive, 6/10 negative\n",
      "Do these records refer to the same thing?\n",
      "(y)es / (n)o / (u)nsure / (f)inished / (p)revious\n"
     ]
    },
    {
     "name": "stdout",
     "output_type": "stream",
     "text": [
      "n\n"
     ]
    },
    {
     "name": "stderr",
     "output_type": "stream",
     "text": [
      "title : notebook acer es1-572-53gn intel core i5 -\n",
      "twitter:title : None\n",
      "og:title : None\n",
      "description : notebook acer es1-572-53gn intel core i5 4gb 1tb tela 15 6\n",
      "twitter:description : None\n",
      "og:description : None\n",
      "\n",
      "title : notebook acer es1-572-53gn intel core i5 -\n",
      "twitter:title : None\n",
      "og:title : None\n",
      "description : notebook acer es1-572-53gn intel core i5 4gb 1tb tela 15 6\n",
      "twitter:description : None\n",
      "og:description : None\n",
      "\n",
      "3/10 positive, 7/10 negative\n",
      "Do these records refer to the same thing?\n",
      "(y)es / (n)o / (u)nsure / (f)inished / (p)revious\n"
     ]
    },
    {
     "name": "stdout",
     "output_type": "stream",
     "text": [
      "y\n"
     ]
    },
    {
     "name": "stderr",
     "output_type": "stream",
     "text": [
      "title : tablet lenoxx tb 5400 p 8gb wi-fi tela -\n",
      "twitter:title : None\n",
      "og:title : None\n",
      "description : tablet lenoxx tb 5400 p 8gb wi-fi tela 7\n",
      "twitter:description : None\n",
      "og:description : None\n",
      "\n",
      "title : tablet lenoxx tb 5400 p 8gb wi-fi tela -\n",
      "twitter:title : None\n",
      "og:title : None\n",
      "description : tablet lenoxx tb 5400 p 8gb wi-fi tela 7\n",
      "twitter:description : None\n",
      "og:description : None\n",
      "\n",
      "4/10 positive, 7/10 negative\n",
      "Do these records refer to the same thing?\n",
      "(y)es / (n)o / (u)nsure / (f)inished / (p)revious\n"
     ]
    },
    {
     "name": "stdout",
     "output_type": "stream",
     "text": [
      "y\n"
     ]
    },
    {
     "name": "stderr",
     "output_type": "stream",
     "text": [
      "title : notebook asus z450la-wx010t intel core i -\n",
      "twitter:title : None\n",
      "og:title : None\n",
      "description : notebook asus z450la-wx010t intel core i3 4gb 1tb tela led\n",
      "twitter:description : None\n",
      "og:description : None\n",
      "\n",
      "title : notebook asus z450la-wx010t intel core i -\n",
      "twitter:title : None\n",
      "og:title : None\n",
      "description : notebook asus z450la-wx010t intel core i3 4gb 1tb tela led notebook\n",
      "twitter:description : None\n",
      "og:description : None\n",
      "\n",
      "5/10 positive, 7/10 negative\n",
      "Do these records refer to the same thing?\n",
      "(y)es / (n)o / (u)nsure / (f)inished / (p)revious\n"
     ]
    },
    {
     "name": "stdout",
     "output_type": "stream",
     "text": [
      "y\n"
     ]
    },
    {
     "name": "stderr",
     "output_type": "stream",
     "text": [
      "title : smartphone samsung galaxy j5 duos dual c -\n",
      "twitter:title : None\n",
      "og:title : None\n",
      "description : smartphone samsung galaxy j5 duos dual chip android 5 1 tela\n",
      "twitter:description : None\n",
      "og:description : None\n",
      "\n",
      "title : smartphone samsung galaxy j3 duos dual c -\n",
      "twitter:title : None\n",
      "og:title : None\n",
      "description : smartphone samsung galaxy j3 duos dual chip android 5 1 tela galaxy j3\n",
      "twitter:description : None\n",
      "og:description : None\n",
      "\n",
      "6/10 positive, 7/10 negative\n",
      "Do these records refer to the same thing?\n",
      "(y)es / (n)o / (u)nsure / (f)inished / (p)revious\n"
     ]
    },
    {
     "name": "stdout",
     "output_type": "stream",
     "text": [
      "n\n"
     ]
    },
    {
     "name": "stderr",
     "output_type": "stream",
     "text": [
      "title : tablet samsung galaxy tab t560n 8gb wi -\n",
      "twitter:title : None\n",
      "og:title : None\n",
      "description : tablet samsung galaxy tab t560n 8gb wi-fi tela 9 6\n",
      "twitter:description : None\n",
      "og:description : None\n",
      "\n",
      "title : tablet samsung galaxy tab t560 8gb wi- -\n",
      "twitter:title : None\n",
      "og:title : None\n",
      "description : tablet samsung galaxy tab t560 8gb wi-fi tela 9 6\n",
      "twitter:description : None\n",
      "og:description : None\n",
      "\n",
      "6/10 positive, 8/10 negative\n",
      "Do these records refer to the same thing?\n",
      "(y)es / (n)o / (u)nsure / (f)inished / (p)revious\n"
     ]
    },
    {
     "name": "stdout",
     "output_type": "stream",
     "text": [
      "y\n"
     ]
    },
    {
     "name": "stderr",
     "output_type": "stream",
     "text": [
      "title : game fifa 17 - ps4 -\n",
      "twitter:title : None\n",
      "og:title : None\n",
      "description : game fifa 17 - ps4\n",
      "twitter:description : None\n",
      "og:description : None\n",
      "\n",
      "title : game fifa 17 - ps4 -\n",
      "twitter:title : None\n",
      "og:title : None\n",
      "description : game fifa 17 - ps4 jogos playstation 4\n",
      "twitter:description : None\n",
      "og:description : None\n",
      "\n",
      "7/10 positive, 8/10 negative\n",
      "Do these records refer to the same thing?\n",
      "(y)es / (n)o / (u)nsure / (f)inished / (p)revious\n"
     ]
    },
    {
     "name": "stdout",
     "output_type": "stream",
     "text": [
      "y\n"
     ]
    },
    {
     "name": "stderr",
     "output_type": "stream",
     "text": [
      "title : tablet samsung galaxy tab t116 8gb wi- -\n",
      "twitter:title : None\n",
      "og:title : None\n",
      "description : tablet samsung galaxy tab t116 8gb wi-fi 3g tela 7\n",
      "twitter:description : None\n",
      "og:description : None\n",
      "\n",
      "title : tablet samsung galaxy tab t560 8gb wi- -\n",
      "twitter:title : None\n",
      "og:title : None\n",
      "description : tablet samsung galaxy tab t560 8gb wi-fi tela 9 6\n",
      "twitter:description : None\n",
      "og:description : None\n",
      "\n",
      "8/10 positive, 8/10 negative\n",
      "Do these records refer to the same thing?\n",
      "(y)es / (n)o / (u)nsure / (f)inished / (p)revious\n"
     ]
    },
    {
     "name": "stdout",
     "output_type": "stream",
     "text": [
      "n\n"
     ]
    },
    {
     "name": "stderr",
     "output_type": "stream",
     "text": [
      "title : smartphone samsung galaxy on 7 dual chip -\n",
      "twitter:title : None\n",
      "og:title : None\n",
      "description : smartphone samsung galaxy on 7 dual chip android 5 1 tela\n",
      "twitter:description : None\n",
      "og:description : None\n",
      "\n",
      "title : smartphone samsung galaxy s8+ dual chip -\n",
      "twitter:title : None\n",
      "og:title : None\n",
      "description : smartphone samsung galaxy s8+ dual chip android 7 0 tela galaxy s8 plus\n",
      "twitter:description : None\n",
      "og:description : None\n",
      "\n",
      "8/10 positive, 9/10 negative\n",
      "Do these records refer to the same thing?\n",
      "(y)es / (n)o / (u)nsure / (f)inished / (p)revious\n"
     ]
    },
    {
     "name": "stdout",
     "output_type": "stream",
     "text": [
      "n\n"
     ]
    },
    {
     "name": "stderr",
     "output_type": "stream",
     "text": [
      "title : tablet samsung galaxy tab t561m 8gb wi -\n",
      "twitter:title : None\n",
      "og:title : None\n",
      "description : tablet samsung galaxy tab t561m 8gb wi-fi 3g tela 9 6\n",
      "twitter:description : None\n",
      "og:description : None\n",
      "\n",
      "title : tablet samsung galaxy tab t116 8gb wi- -\n",
      "twitter:title : None\n",
      "og:title : None\n",
      "description : tablet samsung galaxy tab t116 8gb wi-fi 3g tela 7\n",
      "twitter:description : None\n",
      "og:description : None\n",
      "\n",
      "8/10 positive, 10/10 negative\n",
      "Do these records refer to the same thing?\n",
      "(y)es / (n)o / (u)nsure / (f)inished / (p)revious\n"
     ]
    },
    {
     "name": "stdout",
     "output_type": "stream",
     "text": [
      "n\n"
     ]
    },
    {
     "name": "stderr",
     "output_type": "stream",
     "text": [
      "title : caixa som bluetooth 3w rms divoom blu -\n",
      "twitter:title : None\n",
      "og:title : None\n",
      "description : caixa som bluetooth 3w rms divoom bluetune bean - preto\n",
      "twitter:description : None\n",
      "og:description : None\n",
      "\n",
      "title : caixa som bluetooth 3w rms divoom blu -\n",
      "twitter:title : None\n",
      "og:title : None\n",
      "description : caixa som bluetooth 3w rms divoom bluetune bean - azul caixas bluetooth\n",
      "twitter:description : None\n",
      "og:description : None\n",
      "\n",
      "8/10 positive, 11/10 negative\n",
      "Do these records refer to the same thing?\n",
      "(y)es / (n)o / (u)nsure / (f)inished / (p)revious\n"
     ]
    },
    {
     "name": "stdout",
     "output_type": "stream",
     "text": [
      "y\n"
     ]
    },
    {
     "name": "stderr",
     "output_type": "stream",
     "text": [
      "title : caixa som bluetooth 3w rms divoom blu -\n",
      "twitter:title : None\n",
      "og:title : None\n",
      "description : caixa som bluetooth 3w rms divoom bluetune bean - amarelo\n",
      "twitter:description : None\n",
      "og:description : None\n",
      "\n",
      "title : caixa som bluetooth 3w rms divoom blu -\n",
      "twitter:title : None\n",
      "og:title : None\n",
      "description : caixa som bluetooth 3w rms divoom bluetune bean - azul caixas bluetooth\n",
      "twitter:description : None\n",
      "og:description : None\n",
      "\n",
      "9/10 positive, 11/10 negative\n",
      "Do these records refer to the same thing?\n",
      "(y)es / (n)o / (u)nsure / (f)inished / (p)revious\n"
     ]
    },
    {
     "name": "stdout",
     "output_type": "stream",
     "text": [
      "y\n"
     ]
    },
    {
     "name": "stderr",
     "output_type": "stream",
     "text": [
      "title : modelador ceramico 0 75 mega -\n",
      "twitter:title : None\n",
      "og:title : None\n",
      "description : modelador ceramico 0 75 mega\n",
      "twitter:description : None\n",
      "og:description : None\n",
      "\n",
      "title : modelador ceramico 0 75 mega -\n",
      "twitter:title : None\n",
      "og:title : None\n",
      "description : modelador ceramico 0 75 mega escova modeladora\n",
      "twitter:description : None\n",
      "og:description : None\n",
      "\n",
      "10/10 positive, 11/10 negative\n",
      "Do these records refer to the same thing?\n",
      "(y)es / (n)o / (u)nsure / (f)inished / (p)revious\n"
     ]
    },
    {
     "name": "stdout",
     "output_type": "stream",
     "text": [
      "y\n"
     ]
    },
    {
     "name": "stderr",
     "output_type": "stream",
     "text": [
      "title : None\n",
      "twitter:title : None\n",
      "og:title : None\n",
      "description : None\n",
      "twitter:description : None\n",
      "og:description : None\n",
      "\n",
      "title : veiculo basico tartarugas ninja moto mul -\n",
      "twitter:title : None\n",
      "og:title : None\n",
      "description : veiculo basico tartarugas ninja moto multikids bonecos\n",
      "twitter:description : None\n",
      "og:description : None\n",
      "\n",
      "11/10 positive, 11/10 negative\n",
      "Do these records refer to the same thing?\n",
      "(y)es / (n)o / (u)nsure / (f)inished / (p)revious\n"
     ]
    },
    {
     "name": "stdout",
     "output_type": "stream",
     "text": [
      "n\n"
     ]
    },
    {
     "name": "stderr",
     "output_type": "stream",
     "text": [
      "title : bateria original canon cameras seri -\n",
      "twitter:title : None\n",
      "og:title : None\n",
      "description : bateria original canon cameras series n elph sd\n",
      "twitter:description : None\n",
      "og:description : None\n",
      "\n",
      "title : None\n",
      "twitter:title : None\n",
      "og:title : None\n",
      "description : None\n",
      "twitter:description : None\n",
      "og:description : None\n",
      "\n",
      "11/10 positive, 12/10 negative\n",
      "Do these records refer to the same thing?\n",
      "(y)es / (n)o / (u)nsure / (f)inished / (p)revious\n"
     ]
    },
    {
     "name": "stdout",
     "output_type": "stream",
     "text": [
      "n\n"
     ]
    },
    {
     "name": "stderr",
     "output_type": "stream",
     "text": [
      "title : caixa som bluetooth 3w rms divoom blu -\n",
      "twitter:title : None\n",
      "og:title : None\n",
      "description : caixa som bluetooth 3w rms divoom bluetune bean - amarelo\n",
      "twitter:description : None\n",
      "og:description : None\n",
      "\n",
      "title : caixa som bluetooth 3w rms divoom blu -\n",
      "twitter:title : None\n",
      "og:title : None\n",
      "description : caixa som bluetooth 3w rms divoom bluetune bean - preto caixas bluetooth\n",
      "twitter:description : None\n",
      "og:description : None\n",
      "\n",
      "11/10 positive, 13/10 negative\n",
      "Do these records refer to the same thing?\n",
      "(y)es / (n)o / (u)nsure / (f)inished / (p)revious\n"
     ]
    },
    {
     "name": "stdout",
     "output_type": "stream",
     "text": [
      "y\n"
     ]
    },
    {
     "name": "stderr",
     "output_type": "stream",
     "text": [
      "title : lavadora roupas brastemp 9kg bws09ab -\n",
      "twitter:title : None\n",
      "og:title : None\n",
      "description : lavadora roupas brastemp 9kg bws09ab branca\n",
      "twitter:description : None\n",
      "og:description : None\n",
      "\n",
      "title : lavadora roupas brastemp 9kg bws09ab -\n",
      "twitter:title : None\n",
      "og:title : None\n",
      "description : lavadora roupas brastemp 9kg bws09ab branca maquina lavar\n",
      "twitter:description : None\n",
      "og:description : None\n",
      "\n",
      "12/10 positive, 13/10 negative\n",
      "Do these records refer to the same thing?\n",
      "(y)es / (n)o / (u)nsure / (f)inished / (p)revious\n"
     ]
    },
    {
     "name": "stdout",
     "output_type": "stream",
     "text": [
      "y\n"
     ]
    },
    {
     "name": "stderr",
     "output_type": "stream",
     "text": [
      "title : geladeira / refrigerador brastemp duplex -\n",
      "twitter:title : None\n",
      "og:title : None\n",
      "description : geladeira / refrigerador brastemp duplex ative frost free\n",
      "twitter:description : None\n",
      "og:description : None\n",
      "\n",
      "title : geladeira / refrigerador brastemp invers -\n",
      "twitter:title : None\n",
      "og:title : None\n",
      "description : geladeira / refrigerador brastemp inverse frost free bre50nk frost free\n",
      "twitter:description : None\n",
      "og:description : None\n",
      "\n",
      "13/10 positive, 13/10 negative\n",
      "Do these records refer to the same thing?\n",
      "(y)es / (n)o / (u)nsure / (f)inished / (p)revious\n"
     ]
    },
    {
     "name": "stdout",
     "output_type": "stream",
     "text": [
      "u\n"
     ]
    },
    {
     "name": "stderr",
     "output_type": "stream",
     "text": [
      "title : smart tv led 43 '' lg 43lh5700 full hd -\n",
      "twitter:title : None\n",
      "og:title : None\n",
      "description : smart tv led 43\n",
      "twitter:description : None\n",
      "og:description : None\n",
      "\n",
      "title : smart tv led 43 '' samsung 43j5200 full hd -\n",
      "twitter:title : None\n",
      "og:title : None\n",
      "description : smart tv led 43\n",
      "twitter:description : None\n",
      "og:description : None\n",
      "\n",
      "13/10 positive, 13/10 negative\n",
      "Do these records refer to the same thing?\n",
      "(y)es / (n)o / (u)nsure / (f)inished / (p)revious\n"
     ]
    },
    {
     "name": "stdout",
     "output_type": "stream",
     "text": [
      "n\n"
     ]
    },
    {
     "name": "stderr",
     "output_type": "stream",
     "text": [
      "title : smartphone samsung galaxy j3 duos dual c -\n",
      "twitter:title : None\n",
      "og:title : None\n",
      "description : smartphone samsung galaxy j3 duos dual chip android 5 1 tela\n",
      "twitter:description : None\n",
      "og:description : None\n",
      "\n",
      "title : smartphone samsung galaxy j3 dual chip -\n",
      "twitter:title : None\n",
      "og:title : None\n",
      "description : smartphone samsung galaxy j3 dual chip android 5 1 8gb 4g galaxy j3\n",
      "twitter:description : None\n",
      "og:description : None\n",
      "\n",
      "13/10 positive, 14/10 negative\n",
      "Do these records refer to the same thing?\n",
      "(y)es / (n)o / (u)nsure / (f)inished / (p)revious\n"
     ]
    },
    {
     "name": "stdout",
     "output_type": "stream",
     "text": [
      "y\n"
     ]
    },
    {
     "name": "stderr",
     "output_type": "stream",
     "text": [
      "title : tostador electrolux easyline -\n",
      "twitter:title : None\n",
      "og:title : None\n",
      "description : tostador electrolux easyline\n",
      "twitter:description : None\n",
      "og:description : None\n",
      "\n",
      "title : tostador electrolux easyline -\n",
      "twitter:title : None\n",
      "og:title : None\n",
      "description : tostador electrolux easyline torradeira\n",
      "twitter:description : None\n",
      "og:description : None\n",
      "\n",
      "14/10 positive, 14/10 negative\n",
      "Do these records refer to the same thing?\n",
      "(y)es / (n)o / (u)nsure / (f)inished / (p)revious\n"
     ]
    },
    {
     "name": "stdout",
     "output_type": "stream",
     "text": [
      "f\n"
     ]
    },
    {
     "name": "stderr",
     "output_type": "stream",
     "text": [
      "Finished labeling\n"
     ]
    }
   ],
   "source": [
    "linker = dedupe.RecordLink(fields)\n",
    "linker.sample(p, w)\n",
    "dedupe.consoleLabel(linker)"
   ]
  },
  {
   "cell_type": "code",
   "execution_count": 10,
   "metadata": {},
   "outputs": [
    {
     "name": "stderr",
     "output_type": "stream",
     "text": [
      "INFO:rlr.crossvalidation:using cross validation to find optimum alpha...\n",
      "INFO:rlr.crossvalidation:optimum alpha: 0.100000\n",
      "INFO:dedupe.blocking:Canopy: LevenshteinSearchPredicate: (2, twitter:title)\n",
      "INFO:dedupe.blocking:Canopy: LevenshteinSearchPredicate: (1, twitter:title)\n",
      "INFO:dedupe.blocking:Canopy: LevenshteinSearchPredicate: (3, twitter:title)\n",
      "INFO:dedupe.blocking:Canopy: LevenshteinSearchPredicate: (4, twitter:title)\n",
      "INFO:dedupe.blocking:Canopy: TfidfTextSearchPredicate: (0.8, twitter:title)\n",
      "INFO:dedupe.blocking:Canopy: TfidfTextSearchPredicate: (0.6, twitter:title)\n",
      "INFO:dedupe.blocking:Canopy: TfidfTextSearchPredicate: (0.2, twitter:title)\n",
      "INFO:dedupe.blocking:Canopy: TfidfTextSearchPredicate: (0.4, twitter:title)\n",
      "INFO:dedupe.blocking:Canopy: TfidfNGramSearchPredicate: (0.4, twitter:title)\n",
      "INFO:dedupe.blocking:Canopy: TfidfNGramSearchPredicate: (0.2, twitter:title)\n",
      "INFO:dedupe.blocking:Canopy: TfidfNGramSearchPredicate: (0.6, twitter:title)\n",
      "INFO:dedupe.blocking:Canopy: TfidfNGramSearchPredicate: (0.8, twitter:title)\n",
      "INFO:dedupe.blocking:Canopy: LevenshteinSearchPredicate: (3, twitter:description)\n",
      "INFO:dedupe.blocking:Canopy: LevenshteinSearchPredicate: (2, twitter:description)\n",
      "INFO:dedupe.blocking:Canopy: LevenshteinSearchPredicate: (1, twitter:description)\n",
      "INFO:dedupe.blocking:Canopy: LevenshteinSearchPredicate: (4, twitter:description)\n",
      "INFO:dedupe.blocking:Canopy: TfidfTextSearchPredicate: (0.8, twitter:description)\n",
      "INFO:dedupe.blocking:Canopy: TfidfTextSearchPredicate: (0.4, twitter:description)\n",
      "INFO:dedupe.blocking:Canopy: TfidfTextSearchPredicate: (0.6, twitter:description)\n",
      "INFO:dedupe.blocking:Canopy: TfidfTextSearchPredicate: (0.2, twitter:description)\n",
      "INFO:dedupe.blocking:Canopy: TfidfNGramSearchPredicate: (0.4, og:title)\n",
      "INFO:dedupe.blocking:Canopy: TfidfNGramSearchPredicate: (0.6, og:title)\n",
      "INFO:dedupe.blocking:Canopy: TfidfNGramSearchPredicate: (0.2, og:title)\n",
      "INFO:dedupe.blocking:Canopy: TfidfNGramSearchPredicate: (0.8, og:title)\n",
      "INFO:dedupe.blocking:Canopy: LevenshteinSearchPredicate: (1, og:title)\n",
      "INFO:dedupe.blocking:Canopy: LevenshteinSearchPredicate: (2, og:title)\n",
      "INFO:dedupe.blocking:Canopy: LevenshteinSearchPredicate: (4, og:title)\n",
      "INFO:dedupe.blocking:Canopy: LevenshteinSearchPredicate: (3, og:title)\n",
      "INFO:dedupe.blocking:Canopy: TfidfTextSearchPredicate: (0.4, og:title)\n",
      "INFO:dedupe.blocking:Canopy: TfidfTextSearchPredicate: (0.2, og:title)\n",
      "INFO:dedupe.blocking:Canopy: TfidfTextSearchPredicate: (0.8, og:title)\n",
      "INFO:dedupe.blocking:Canopy: TfidfTextSearchPredicate: (0.6, og:title)\n",
      "INFO:dedupe.blocking:Canopy: LevenshteinSearchPredicate: (1, title)\n",
      "INFO:dedupe.blocking:Canopy: LevenshteinSearchPredicate: (3, title)\n",
      "INFO:dedupe.blocking:Canopy: LevenshteinSearchPredicate: (2, title)\n",
      "INFO:dedupe.blocking:Canopy: LevenshteinSearchPredicate: (4, title)\n",
      "INFO:dedupe.blocking:Canopy: TfidfTextSearchPredicate: (0.4, title)\n",
      "INFO:dedupe.blocking:Canopy: TfidfTextSearchPredicate: (0.2, title)\n",
      "INFO:dedupe.blocking:Canopy: TfidfTextSearchPredicate: (0.8, title)\n",
      "INFO:dedupe.blocking:Canopy: TfidfTextSearchPredicate: (0.6, title)\n",
      "INFO:dedupe.blocking:Canopy: TfidfNGramSearchPredicate: (0.2, title)\n",
      "INFO:dedupe.blocking:Canopy: TfidfNGramSearchPredicate: (0.8, title)\n",
      "INFO:dedupe.blocking:Canopy: TfidfNGramSearchPredicate: (0.4, title)\n",
      "INFO:dedupe.blocking:Canopy: TfidfNGramSearchPredicate: (0.6, title)\n",
      "INFO:dedupe.blocking:Canopy: TfidfTextSearchPredicate: (0.2, description)\n",
      "INFO:dedupe.blocking:Canopy: TfidfTextSearchPredicate: (0.4, description)\n",
      "INFO:dedupe.blocking:Canopy: TfidfTextSearchPredicate: (0.8, description)\n",
      "INFO:dedupe.blocking:Canopy: TfidfTextSearchPredicate: (0.6, description)\n",
      "INFO:dedupe.blocking:Canopy: LevenshteinSearchPredicate: (2, description)\n",
      "INFO:dedupe.blocking:Canopy: LevenshteinSearchPredicate: (4, description)\n",
      "INFO:dedupe.blocking:Canopy: LevenshteinSearchPredicate: (3, description)\n",
      "INFO:dedupe.blocking:Canopy: LevenshteinSearchPredicate: (1, description)\n",
      "INFO:dedupe.blocking:Canopy: LevenshteinSearchPredicate: (2, og:description)\n",
      "INFO:dedupe.blocking:Canopy: LevenshteinSearchPredicate: (3, og:description)\n",
      "INFO:dedupe.blocking:Canopy: LevenshteinSearchPredicate: (4, og:description)\n",
      "INFO:dedupe.blocking:Canopy: LevenshteinSearchPredicate: (1, og:description)\n",
      "INFO:dedupe.blocking:Canopy: TfidfTextSearchPredicate: (0.6, og:description)\n",
      "INFO:dedupe.blocking:Canopy: TfidfTextSearchPredicate: (0.8, og:description)\n",
      "INFO:dedupe.blocking:Canopy: TfidfTextSearchPredicate: (0.4, og:description)\n",
      "INFO:dedupe.blocking:Canopy: TfidfTextSearchPredicate: (0.2, og:description)\n",
      "INFO:dedupe.blocking:Canopy: LevenshteinSearchPredicate: (2, twitter:title)\n",
      "INFO:dedupe.blocking:Canopy: LevenshteinSearchPredicate: (1, twitter:title)\n",
      "INFO:dedupe.blocking:Canopy: LevenshteinSearchPredicate: (3, twitter:title)\n",
      "INFO:dedupe.blocking:Canopy: LevenshteinSearchPredicate: (4, twitter:title)\n",
      "INFO:dedupe.blocking:Canopy: TfidfTextSearchPredicate: (0.8, twitter:title)\n",
      "INFO:dedupe.blocking:Canopy: TfidfTextSearchPredicate: (0.6, twitter:title)\n",
      "INFO:dedupe.blocking:Canopy: TfidfTextSearchPredicate: (0.2, twitter:title)\n",
      "INFO:dedupe.blocking:Canopy: TfidfTextSearchPredicate: (0.4, twitter:title)\n",
      "INFO:dedupe.blocking:Canopy: TfidfNGramSearchPredicate: (0.4, twitter:title)\n",
      "INFO:dedupe.blocking:Canopy: TfidfNGramSearchPredicate: (0.2, twitter:title)\n",
      "INFO:dedupe.blocking:Canopy: TfidfNGramSearchPredicate: (0.6, twitter:title)\n",
      "INFO:dedupe.blocking:Canopy: TfidfNGramSearchPredicate: (0.8, twitter:title)\n",
      "INFO:dedupe.blocking:Canopy: LevenshteinSearchPredicate: (3, twitter:description)\n",
      "INFO:dedupe.blocking:Canopy: LevenshteinSearchPredicate: (2, twitter:description)\n",
      "INFO:dedupe.blocking:Canopy: LevenshteinSearchPredicate: (1, twitter:description)\n",
      "INFO:dedupe.blocking:Canopy: LevenshteinSearchPredicate: (4, twitter:description)\n",
      "INFO:dedupe.blocking:Canopy: TfidfTextSearchPredicate: (0.8, twitter:description)\n",
      "INFO:dedupe.blocking:Canopy: TfidfTextSearchPredicate: (0.4, twitter:description)\n",
      "INFO:dedupe.blocking:Canopy: TfidfTextSearchPredicate: (0.6, twitter:description)\n",
      "INFO:dedupe.blocking:Canopy: TfidfTextSearchPredicate: (0.2, twitter:description)\n",
      "INFO:dedupe.blocking:Canopy: TfidfNGramSearchPredicate: (0.4, og:title)\n",
      "INFO:dedupe.blocking:Canopy: TfidfNGramSearchPredicate: (0.6, og:title)\n",
      "INFO:dedupe.blocking:Canopy: TfidfNGramSearchPredicate: (0.2, og:title)\n",
      "INFO:dedupe.blocking:Canopy: TfidfNGramSearchPredicate: (0.8, og:title)\n",
      "INFO:dedupe.blocking:Canopy: LevenshteinSearchPredicate: (1, og:title)\n",
      "INFO:dedupe.blocking:Canopy: LevenshteinSearchPredicate: (2, og:title)\n",
      "INFO:dedupe.blocking:Canopy: LevenshteinSearchPredicate: (4, og:title)\n",
      "INFO:dedupe.blocking:Canopy: LevenshteinSearchPredicate: (3, og:title)\n",
      "INFO:dedupe.blocking:Canopy: TfidfTextSearchPredicate: (0.4, og:title)\n",
      "INFO:dedupe.blocking:Canopy: TfidfTextSearchPredicate: (0.2, og:title)\n",
      "INFO:dedupe.blocking:Canopy: TfidfTextSearchPredicate: (0.8, og:title)\n",
      "INFO:dedupe.blocking:Canopy: TfidfTextSearchPredicate: (0.6, og:title)\n",
      "INFO:dedupe.blocking:Canopy: LevenshteinSearchPredicate: (1, title)\n",
      "INFO:dedupe.blocking:Canopy: LevenshteinSearchPredicate: (3, title)\n",
      "INFO:dedupe.blocking:Canopy: LevenshteinSearchPredicate: (2, title)\n",
      "INFO:dedupe.blocking:Canopy: LevenshteinSearchPredicate: (4, title)\n",
      "INFO:dedupe.blocking:Canopy: TfidfTextSearchPredicate: (0.4, title)\n",
      "INFO:dedupe.blocking:Canopy: TfidfTextSearchPredicate: (0.2, title)\n",
      "INFO:dedupe.blocking:Canopy: TfidfTextSearchPredicate: (0.8, title)\n",
      "INFO:dedupe.blocking:Canopy: TfidfTextSearchPredicate: (0.6, title)\n",
      "INFO:dedupe.blocking:Canopy: TfidfNGramSearchPredicate: (0.2, title)\n",
      "INFO:dedupe.blocking:Canopy: TfidfNGramSearchPredicate: (0.8, title)\n",
      "INFO:dedupe.blocking:Canopy: TfidfNGramSearchPredicate: (0.4, title)\n",
      "INFO:dedupe.blocking:Canopy: TfidfNGramSearchPredicate: (0.6, title)\n",
      "INFO:dedupe.blocking:Canopy: TfidfTextSearchPredicate: (0.2, description)\n",
      "INFO:dedupe.blocking:Canopy: TfidfTextSearchPredicate: (0.4, description)\n",
      "INFO:dedupe.blocking:Canopy: TfidfTextSearchPredicate: (0.8, description)\n",
      "INFO:dedupe.blocking:Canopy: TfidfTextSearchPredicate: (0.6, description)\n",
      "INFO:dedupe.blocking:Canopy: LevenshteinSearchPredicate: (2, description)\n"
     ]
    },
    {
     "name": "stderr",
     "output_type": "stream",
     "text": [
      "INFO:dedupe.blocking:Canopy: LevenshteinSearchPredicate: (4, description)\n",
      "INFO:dedupe.blocking:Canopy: LevenshteinSearchPredicate: (3, description)\n",
      "INFO:dedupe.blocking:Canopy: LevenshteinSearchPredicate: (1, description)\n",
      "INFO:dedupe.blocking:Canopy: LevenshteinSearchPredicate: (2, og:description)\n",
      "INFO:dedupe.blocking:Canopy: LevenshteinSearchPredicate: (3, og:description)\n",
      "INFO:dedupe.blocking:Canopy: LevenshteinSearchPredicate: (4, og:description)\n",
      "INFO:dedupe.blocking:Canopy: LevenshteinSearchPredicate: (1, og:description)\n",
      "INFO:dedupe.blocking:Canopy: TfidfTextSearchPredicate: (0.6, og:description)\n",
      "INFO:dedupe.blocking:Canopy: TfidfTextSearchPredicate: (0.8, og:description)\n",
      "INFO:dedupe.blocking:Canopy: TfidfTextSearchPredicate: (0.4, og:description)\n",
      "INFO:dedupe.blocking:Canopy: TfidfTextSearchPredicate: (0.2, og:description)\n",
      "INFO:dedupe.training:Final predicate set:\n",
      "INFO:dedupe.training:(SimplePredicate: (sameSevenCharStartPredicate, description), TfidfNGramSearchPredicate: (0.8, title))\n"
     ]
    }
   ],
   "source": [
    "linker.train()"
   ]
  },
  {
   "cell_type": "code",
   "execution_count": 11,
   "metadata": {},
   "outputs": [
    {
     "name": "stderr",
     "output_type": "stream",
     "text": [
      "INFO:dedupe.blocking:Canopy: TfidfNGramSearchPredicate: (0.8, title)\n",
      "INFO:dedupe.api:0 records\n"
     ]
    }
   ],
   "source": [
    "m = linker.match(p,w, 0)"
   ]
  },
  {
   "cell_type": "code",
   "execution_count": 14,
   "metadata": {},
   "outputs": [
    {
     "data": {
      "text/plain": [
       "[(('8', '251'), 0.87354559),\n",
       " (('15', '119'), 0.87354559),\n",
       " (('34', '190'), 0.87354559),\n",
       " (('52', '158'), 0.87354559),\n",
       " (('87', '211'), 0.87354559),\n",
       " (('130', '20'), 0.87354559),\n",
       " (('167', '101'), 0.87354559),\n",
       " (('183', '247'), 0.87354559),\n",
       " (('107', '50'), 0.85862231),\n",
       " (('192', '172'), 0.85750359),\n",
       " (('116', '187'), 0.85622728),\n",
       " (('91', '2'), 0.85477227),\n",
       " (('80', '57'), 0.85224587),\n",
       " (('217', '246'), 0.85224587),\n",
       " (('125', '104'), 0.85133648),\n",
       " (('171', '202'), 0.84958315),\n",
       " (('174', '113'), 0.84958315),\n",
       " (('201', '155'), 0.84958315),\n",
       " (('230', '19'), 0.84910077),\n",
       " (('73', '43'), 0.84874421),\n",
       " (('169', '92'), 0.84874421),\n",
       " (('200', '253'), 0.84859866),\n",
       " (('97', '44'), 0.84232491),\n",
       " (('152', '189'), 0.84232491),\n",
       " (('173', '142'), 0.84232491),\n",
       " (('94', '305'), 0.8397994),\n",
       " (('186', '39'), 0.83685619),\n",
       " (('6', '192'), 0.82973665),\n",
       " (('13', '76'), 0.82973665),\n",
       " (('142', '248'), 0.82973665),\n",
       " (('224', '140'), 0.82973665),\n",
       " (('14', '299'), 0.82930356),\n",
       " (('160', '107'), 0.82641292),\n",
       " (('70', '278'), 0.81773841),\n",
       " (('93', '151'), 0.81773841),\n",
       " (('17', '64'), 0.80892146),\n",
       " (('59', '68'), 0.80892146),\n",
       " (('99', '126'), 0.79685223),\n",
       " (('185', '161'), 0.79685223),\n",
       " (('7', '40'), 0.76264483),\n",
       " (('23', '71'), 0.5624103),\n",
       " (('104', '6'), 0.27090639)]"
      ]
     },
     "execution_count": 14,
     "metadata": {},
     "output_type": "execute_result"
    }
   ],
   "source": [
    "m"
   ]
  },
  {
   "cell_type": "code",
   "execution_count": 13,
   "metadata": {
    "scrolled": false
   },
   "outputs": [
    {
     "name": "stdout",
     "output_type": "stream",
     "text": [
      "{'description': 'smartphone moto g 5 dual chip android 7 0 tela 5', 'title': 'smartphone moto g 5 dual chip android 7 -', 'twitter:title': None, 'og:title': None, 'twitter:description': None, 'og:description': None} {'description': 'smartphone moto g 5 dual chip android 7 0 tela 5', 'title': 'smartphone moto g 5 dual chip android 7 -', 'twitter:title': None, 'og:title': None, 'twitter:description': None, 'og:description': None}\n",
      "{'description': 'tablet lenoxx tb 5400 p 8gb wi-fi tela 7', 'title': 'tablet lenoxx tb 5400 p 8gb wi-fi tela -', 'twitter:title': None, 'og:title': None, 'twitter:description': None, 'og:description': None} {'description': 'tablet lenoxx tb 5400 p 8gb wi-fi tela 7', 'title': 'tablet lenoxx tb 5400 p 8gb wi-fi tela -', 'twitter:title': None, 'og:title': None, 'twitter:description': None, 'og:description': None}\n",
      "{'description': 'notebook acer es1-572-53gn intel core i5 4gb 1tb tela 15 6', 'title': 'notebook acer es1-572-53gn intel core i5 -', 'twitter:title': None, 'og:title': None, 'twitter:description': None, 'og:description': None} {'description': 'notebook acer es1-572-53gn intel core i5 4gb 1tb tela 15 6', 'title': 'notebook acer es1-572-53gn intel core i5 -', 'twitter:title': None, 'og:title': None, 'twitter:description': None, 'og:description': None}\n",
      "{'description': 'tablet multilaser m7s 8gb wi-fi tela 7', 'title': \"tablet multilaser m7s 8gb wi-fi tela 7 '' -\", 'twitter:title': None, 'og:title': None, 'twitter:description': None, 'og:description': None} {'description': 'tablet multilaser m7s 8gb wi-fi tela 7', 'title': \"tablet multilaser m7s 8gb wi-fi tela 7 '' -\", 'twitter:title': None, 'og:title': None, 'twitter:description': None, 'og:description': None}\n",
      "{'description': 'ipad pro 32gb wi-fi tela retina 9 7', 'title': \"ipad pro 32gb wi-fi tela retina 9 7 '' pra -\", 'twitter:title': None, 'og:title': None, 'twitter:description': None, 'og:description': None} {'description': 'ipad pro 32gb wi-fi tela retina 9 7', 'title': \"ipad pro 32gb wi-fi tela retina 9 7 '' pra -\", 'twitter:title': None, 'og:title': None, 'twitter:description': None, 'og:description': None}\n",
      "{'description': 'tablet samsung galaxy tab t116 8gb wi-fi 3g tela 7', 'title': 'tablet samsung galaxy tab t116 8gb wi- -', 'twitter:title': None, 'og:title': None, 'twitter:description': None, 'og:description': None} {'description': 'tablet samsung galaxy tab t116 8gb wi-fi 3g tela 7', 'title': 'tablet samsung galaxy tab t116 8gb wi- -', 'twitter:title': None, 'og:title': None, 'twitter:description': None, 'og:description': None}\n",
      "{'description': 'smart tv led 43', 'title': \"smart tv led 43 '' lg 43lh5700 full hd -\", 'twitter:title': None, 'og:title': None, 'twitter:description': None, 'og:description': None} {'description': 'smart tv led 43', 'title': \"smart tv led 43 '' lg 43lh5700 full hd -\", 'twitter:title': None, 'og:title': None, 'twitter:description': None, 'og:description': None}\n",
      "{'description': 'smart tv led 49', 'title': \"smart tv led 49 '' lg 49uh6100 ultra hd 4k -\", 'twitter:title': None, 'og:title': None, 'twitter:description': None, 'og:description': None} {'description': 'smart tv led 49', 'title': \"smart tv led 49 '' lg 49uh6100 ultra hd 4k -\", 'twitter:title': None, 'og:title': None, 'twitter:description': None, 'og:description': None}\n",
      "{'description': 'notebook asus z450la-wx010t intel core i3 4gb 1tb tela led', 'title': 'notebook asus z450la-wx010t intel core i -', 'twitter:title': None, 'og:title': None, 'twitter:description': None, 'og:description': None} {'description': 'notebook asus z450la-wx010t intel core i3 4gb 1tb tela led notebook', 'title': 'notebook asus z450la-wx010t intel core i -', 'twitter:title': None, 'og:title': None, 'twitter:description': None, 'og:description': None}\n",
      "{'description': 'roteador wireless d-link dir-615 n 300mbps duas antenas 5dbi', 'title': 'roteador wireless d-link dir-615 n 300mb -', 'twitter:title': None, 'og:title': None, 'twitter:description': None, 'og:description': None} {'description': 'roteador wireless d-link dir-615 n 300mbps duas antenas 5dbi roteador', 'title': 'roteador wireless d-link dir-615 n 300mb -', 'twitter:title': None, 'og:title': None, 'twitter:description': None, 'og:description': None}\n",
      "{'description': 'cooktop gas consul 5 bocas cd075 acendimento inteligente', 'title': 'cooktop gas consul 5 bocas cd075 acend -', 'twitter:title': None, 'og:title': None, 'twitter:description': None, 'og:description': None} {'description': 'cooktop gas consul 5 bocas cd075 acendimento inteligente cooktop', 'title': 'cooktop gas consul 5 bocas cd075 acend -', 'twitter:title': None, 'og:title': None, 'twitter:description': None, 'og:description': None}\n",
      "{'description': 'webcam plugplay pink piano wc048 - multilaser', 'title': 'webcam plugplay pink piano wc048 - mult -', 'twitter:title': None, 'og:title': None, 'twitter:description': None, 'og:description': None} {'description': 'webcam plugplay pink piano wc048 - multilaser webcam', 'title': 'webcam plugplay pink piano wc048 - mult -', 'twitter:title': None, 'og:title': None, 'twitter:description': None, 'og:description': None}\n",
      "{'description': 'smartphone samsung galaxy j5 duos dual chip android 5 1 tela', 'title': 'smartphone samsung galaxy j5 duos dual c -', 'twitter:title': None, 'og:title': None, 'twitter:description': None, 'og:description': None} {'description': 'smartphone samsung galaxy j5 duos dual chip android 5 1 tela galaxy j5', 'title': 'smartphone samsung galaxy j5 duos dual c -', 'twitter:title': None, 'og:title': None, 'twitter:description': None, 'og:description': None}\n",
      "{'description': 'smartphone samsung galaxy j3 duos dual chip android 5 1 tela', 'title': 'smartphone samsung galaxy j3 duos dual c -', 'twitter:title': None, 'og:title': None, 'twitter:description': None, 'og:description': None} {'description': 'smartphone samsung galaxy j3 duos dual chip android 5 1 tela galaxy j3', 'title': 'smartphone samsung galaxy j3 duos dual c -', 'twitter:title': None, 'og:title': None, 'twitter:description': None, 'og:description': None}\n",
      "{'description': 'console sony playstation 4 500gb slim', 'title': 'console sony playstation 4 500gb slim -', 'twitter:title': None, 'og:title': None, 'twitter:description': None, 'og:description': None} {'description': 'console sony playstation 4 500gb slim console playstation 4', 'title': 'console sony playstation 4 500gb slim -', 'twitter:title': None, 'og:title': None, 'twitter:description': None, 'og:description': None}\n",
      "{'description': 'tenis olympikus rio 3', 'title': 'tenis olympikus rio 3 -', 'twitter:title': None, 'og:title': None, 'twitter:description': None, 'og:description': None} {'description': 'tenis olympikus rio 3 tenis', 'title': 'tenis olympikus rio 3 -', 'twitter:title': None, 'og:title': None, 'twitter:description': None, 'og:description': None}\n",
      "{'description': 'geladeira / refrigerador brastemp inverse frost free bre50nk', 'title': 'geladeira / refrigerador brastemp invers -', 'twitter:title': None, 'og:title': None, 'twitter:description': None, 'og:description': None} {'description': 'geladeira / refrigerador brastemp inverse frost free bre50nk frost free', 'title': 'geladeira / refrigerador brastemp invers -', 'twitter:title': None, 'og:title': None, 'twitter:description': None, 'og:description': None}\n",
      "{'description': 'geladeira / refrigerador brastemp duplex ative frost free', 'title': 'geladeira / refrigerador brastemp duplex -', 'twitter:title': None, 'og:title': None, 'twitter:description': None, 'og:description': None} {'description': 'geladeira / refrigerador brastemp duplex ative frost free frost free', 'title': 'geladeira / refrigerador brastemp duplex -', 'twitter:title': None, 'og:title': None, 'twitter:description': None, 'og:description': None}\n",
      "{'description': 'conversor gravador digital aquario dtv-8000', 'title': 'conversor gravador digital aquario dt -', 'twitter:title': None, 'og:title': None, 'twitter:description': None, 'og:description': None} {'description': 'conversor gravador digital aquario dtv-8000 conversor digital', 'title': 'conversor gravador digital aquario dt -', 'twitter:title': None, 'og:title': None, 'twitter:description': None, 'og:description': None}\n",
      "{'description': 'all in one intel acer dqb31al002 az1-751-br11 core i5 5200u', 'title': 'all in one intel acer dqb31al002 az1-751 -', 'twitter:title': None, 'og:title': None, 'twitter:description': None, 'og:description': None} {'description': 'all in one intel acer dqb31al002 az1-751-br11 core i5 5200u all in one', 'title': 'all in one intel acer dqb31al002 az1-751 -', 'twitter:title': None, 'og:title': None, 'twitter:description': None, 'og:description': None}\n",
      "{'description': 'computador all in one dell inspiron 3459-a10 intel core i3', 'title': 'computador all in one dell inspiron 3459 -', 'twitter:title': None, 'og:title': None, 'twitter:description': None, 'og:description': None} {'description': 'computador all in one dell inspiron 3459-a10 intel core i3 all in one', 'title': 'computador all in one dell inspiron 3459 -', 'twitter:title': None, 'og:title': None, 'twitter:description': None, 'og:description': None}\n",
      "{'description': 'oculos sol sun john feminino deborah', 'title': 'oculos sol sun john feminino deborah -', 'twitter:title': None, 'og:title': None, 'twitter:description': None, 'og:description': None} {'description': 'oculos sol sun john feminino deborah oculos sol', 'title': 'oculos sol sun john feminino deborah -', 'twitter:title': None, 'og:title': None, 'twitter:description': None, 'og:description': None}\n",
      "{'description': 'dvd player portatil entrada usb 2 0 cartaosd amd 1100', 'title': 'dvd player portatil entrada usb 2 0 -', 'twitter:title': None, 'og:title': None, 'twitter:description': None, 'og:description': None} {'description': 'dvd player portatil entrada usb 2 0 cartaosd amd 1100 dvd automotivo', 'title': 'dvd player portatil entrada usb 2 0 -', 'twitter:title': None, 'og:title': None, 'twitter:description': None, 'og:description': None}\n",
      "{'description': 'dvd player aquarius quatro rodas 3 polegadas usb sd aux', 'title': 'dvd player aquarius quatro rodas 3 poleg -', 'twitter:title': None, 'og:title': None, 'twitter:description': None, 'og:description': None} {'description': 'dvd player aquarius quatro rodas 3 polegadas usb sd aux dvd automotivo', 'title': 'dvd player aquarius quatro rodas 3 poleg -', 'twitter:title': None, 'og:title': None, 'twitter:description': None, 'og:description': None}\n",
      "{'description': 'caixa som bluetooth 3w rms divoom bluetune bean - preto', 'title': 'caixa som bluetooth 3w rms divoom blu -', 'twitter:title': None, 'og:title': None, 'twitter:description': None, 'og:description': None} {'description': 'caixa som bluetooth 3w rms divoom bluetune bean - preto caixas bluetooth', 'title': 'caixa som bluetooth 3w rms divoom blu -', 'twitter:title': None, 'og:title': None, 'twitter:description': None, 'og:description': None}\n",
      "{'description': 'radio portatil motobras 3 fxs am/fm/oc entrada usb sd', 'title': 'radio portatil motobras 3 fxs am/fm/o -', 'twitter:title': None, 'og:title': None, 'twitter:description': None, 'og:description': None} {'description': 'radio portatil motobras 3 fxs am/fm/oc entrada usb sd som portatil', 'title': 'radio portatil motobras 3 fxs am/fm/o -', 'twitter:title': None, 'og:title': None, 'twitter:description': None, 'og:description': None}\n",
      "{'description': 'adega vinhos philco ph24 dual zone 24 garrafas', 'title': 'adega vinhos philco ph24 dual zone 24 -', 'twitter:title': None, 'og:title': None, 'twitter:description': None, 'og:description': None} {'description': 'adega vinhos philco ph24 dual zone 24 garrafas adega vinho', 'title': 'adega vinhos philco ph24 dual zone 24 -', 'twitter:title': None, 'og:title': None, 'twitter:description': None, 'og:description': None}\n",
      "{'description': 'smartphone motorola moto g4 plus dual chip android 6 0 tela', 'title': 'smartphone motorola moto g4 plus dual ch -', 'twitter:title': None, 'og:title': None, 'twitter:description': None, 'og:description': None} {'description': 'smartphone motorola moto g4 plus dual chip android 6 0 tela moto g 4', 'title': 'smartphone motorola moto g4 plus dual ch -', 'twitter:title': None, 'og:title': None, 'twitter:description': None, 'og:description': None}\n",
      "{'description': 'extrator frutas mondial turbo e-10 bivolt 1 litro preto', 'title': 'extrator frutas mondial turbo e-10 bi -', 'twitter:title': None, 'og:title': None, 'twitter:description': None, 'og:description': None} {'description': 'extrator frutas mondial turbo e-10 bivolt 1 litro preto espremedor fruta', 'title': 'extrator frutas mondial turbo e-10 bi -', 'twitter:title': None, 'og:title': None, 'twitter:description': None, 'og:description': None}\n",
      "{'description': 'conjunto radio fm + relogio digital cinderela - candide', 'title': 'conjunto radio fm + relogio digital cind -', 'twitter:title': None, 'og:title': None, 'twitter:description': None, 'og:description': None} {'description': 'conjunto radio fm + relogio digital cinderela - candide outros brinquedos', 'title': 'conjunto radio fm + relogio digital cind -', 'twitter:title': None, 'og:title': None, 'twitter:description': None, 'og:description': None}\n",
      "{'description': 'lavadora roupas brastemp 11kg bws11 cesto smart wave -', 'title': 'lavadora roupas brastemp 11kg bws11 c -', 'twitter:title': None, 'og:title': None, 'twitter:description': None, 'og:description': None} {'description': 'lavadora roupas brastemp 11kg bws11 cesto smart wave - maquina lavar', 'title': 'lavadora roupas brastemp 11kg bws11 c -', 'twitter:title': None, 'og:title': None, 'twitter:description': None, 'og:description': None}\n",
      "{'description': 'multifuncional hp deskjet ink advantage 2136', 'title': 'multifuncional hp deskjet ink advantage -', 'twitter:title': None, 'og:title': None, 'twitter:description': None, 'og:description': None} {'description': 'multifuncional hp deskjet ink advantage 2136 multifuncional jato', 'title': 'multifuncional hp deskjet ink advantage -', 'twitter:title': None, 'og:title': None, 'twitter:description': None, 'og:description': None}\n",
      "{'description': 'smartphone samsung galaxy s8+ dual chip android 7 0 tela', 'title': 'smartphone samsung galaxy s8+ dual chip -', 'twitter:title': None, 'og:title': None, 'twitter:description': None, 'og:description': None} {'description': 'smartphone samsung galaxy s8+ dual chip android 7 0 tela galaxy s8 plus', 'title': 'smartphone samsung galaxy s8+ dual chip -', 'twitter:title': None, 'og:title': None, 'twitter:description': None, 'og:description': None}\n",
      "{'description': 'mochila zoo porco espinho - skip hop', 'title': 'mochila zoo porco espinho - skip hop -', 'twitter:title': None, 'og:title': None, 'twitter:description': None, 'og:description': None} {'description': 'mochila zoo porco espinho - skip hop bolsas malas', 'title': 'mochila zoo porco espinho - skip hop -', 'twitter:title': None, 'og:title': None, 'twitter:description': None, 'og:description': None}\n",
      "{'description': 'lavadora secadora samsung siene wd106 10kg branca', 'title': 'lavadora secadora samsung siene wd106 -', 'twitter:title': None, 'og:title': None, 'twitter:description': None, 'og:description': None} {'description': 'lavadora secadora samsung siene wd106 10kg branca lava seca', 'title': 'lavadora secadora samsung siene wd106 -', 'twitter:title': None, 'og:title': None, 'twitter:description': None, 'og:description': None}\n",
      "{'description': 'tostador electrolux easyline', 'title': 'tostador electrolux easyline -', 'twitter:title': None, 'og:title': None, 'twitter:description': None, 'og:description': None} {'description': 'tostador electrolux easyline torradeira', 'title': 'tostador electrolux easyline -', 'twitter:title': None, 'og:title': None, 'twitter:description': None, 'og:description': None}\n",
      "{'description': 'lavadora roupas brastemp 9kg bws09ab branca', 'title': 'lavadora roupas brastemp 9kg bws09ab -', 'twitter:title': None, 'og:title': None, 'twitter:description': None, 'og:description': None} {'description': 'lavadora roupas brastemp 9kg bws09ab branca maquina lavar', 'title': 'lavadora roupas brastemp 9kg bws09ab -', 'twitter:title': None, 'og:title': None, 'twitter:description': None, 'og:description': None}\n",
      "{'description': 'modelador ceramico 0 75 mega', 'title': 'modelador ceramico 0 75 mega -', 'twitter:title': None, 'og:title': None, 'twitter:description': None, 'og:description': None} {'description': 'modelador ceramico 0 75 mega escova modeladora', 'title': 'modelador ceramico 0 75 mega -', 'twitter:title': None, 'og:title': None, 'twitter:description': None, 'og:description': None}\n",
      "{'description': 'caixa som bluetooth 3w rms divoom bluetune bean - amarelo', 'title': 'caixa som bluetooth 3w rms divoom blu -', 'twitter:title': None, 'og:title': None, 'twitter:description': None, 'og:description': None} {'description': 'caixa som bluetooth 3w rms divoom bluetune bean - azul caixas bluetooth', 'title': 'caixa som bluetooth 3w rms divoom blu -', 'twitter:title': None, 'og:title': None, 'twitter:description': None, 'og:description': None}\n",
      "{'description': 'game fifa 17 - ps4', 'title': 'game fifa 17 - ps4 -', 'twitter:title': None, 'og:title': None, 'twitter:description': None, 'og:description': None} {'description': 'game fifa 17 - ps4 jogos playstation 4', 'title': 'game fifa 17 - ps4 -', 'twitter:title': None, 'og:title': None, 'twitter:description': None, 'og:description': None}\n",
      "{'description': 'tablet samsung galaxy tab t560n 8gb wi-fi tela 9 6', 'title': 'tablet samsung galaxy tab t560n 8gb wi -', 'twitter:title': None, 'og:title': None, 'twitter:description': None, 'og:description': None} {'description': 'tablet samsung galaxy tab t560 8gb wi-fi tela 9 6', 'title': 'tablet samsung galaxy tab t560 8gb wi- -', 'twitter:title': None, 'og:title': None, 'twitter:description': None, 'og:description': None}\n",
      "{'description': 'smartphone samsung galaxy on 7 dual chip android 5 1 tela', 'title': 'smartphone samsung galaxy on 7 dual chip -', 'twitter:title': None, 'og:title': None, 'twitter:description': None, 'og:description': None} {'description': 'smartphone samsung galaxy j3 dual chip android 5 1 8gb 4g galaxy j3', 'title': 'smartphone samsung galaxy j3 dual chip -', 'twitter:title': None, 'og:title': None, 'twitter:description': None, 'og:description': None}\n"
     ]
    }
   ],
   "source": [
    "for i in m:\n",
    "    print(p[i[0][0]], w[i[0][1]])"
   ]
  },
  {
   "cell_type": "code",
   "execution_count": null,
   "metadata": {
    "collapsed": true
   },
   "outputs": [],
   "source": []
  }
 ],
 "metadata": {
  "kernelspec": {
   "display_name": "Python 3",
   "language": "python",
   "name": "python3"
  },
  "language_info": {
   "codemirror_mode": {
    "name": "ipython",
    "version": 3
   },
   "file_extension": ".py",
   "mimetype": "text/x-python",
   "name": "python",
   "nbconvert_exporter": "python",
   "pygments_lexer": "ipython3",
   "version": "3.6.1"
  }
 },
 "nbformat": 4,
 "nbformat_minor": 2
}
