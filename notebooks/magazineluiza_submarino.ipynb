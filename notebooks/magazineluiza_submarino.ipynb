{
 "cells": [
  {
   "cell_type": "code",
   "execution_count": 1,
   "metadata": {
    "collapsed": true
   },
   "outputs": [],
   "source": [
    "import dedupe\n",
    "import json\n",
    "from cytoolz import *\n",
    "from copy import copy"
   ]
  },
  {
   "cell_type": "code",
   "execution_count": 2,
   "metadata": {
    "collapsed": true
   },
   "outputs": [],
   "source": [
    "fields = [{'field': 'title', 'type': 'String', 'has missing': True},\n",
    "         {'field': 'twitter:title', 'type': 'String', 'has missing': True},\n",
    "         {'field': 'og:title', 'type': 'String', 'has missing': True},\n",
    "         {'field': 'description', 'type': 'Text', 'has missing': True},\n",
    "         {'field': 'twitter:description', 'type': 'Text', 'has missing': True},\n",
    "         {'field': 'og:description', 'type': 'Text', 'has missing': True}]"
   ]
  },
  {
   "cell_type": "code",
   "execution_count": 3,
   "metadata": {
    "collapsed": true
   },
   "outputs": [],
   "source": [
    "def is_expected(item):\n",
    "    expected = ['title', 'twitter:title', 'og:title', 'description', 'twitter:description', 'og:description']\n",
    "    return item in expected  \n",
    "\n",
    "\n",
    "def add_field(d, f):\n",
    "    return assoc(d, f, None)\n",
    "\n",
    "\n",
    "def remove_field(d, f):\n",
    "    return dissoc(d, f)        \n",
    "\n",
    "\n",
    "def normalize_dict(d):\n",
    "    expected = ['title', 'twitter:title', 'og:title', 'description', 'twitter:description', 'og:description']\n",
    "    new = keyfilter(is_expected, merge(d))\n",
    "    for field in expected:        \n",
    "        if not new.get(field):\n",
    "            new[field] =  None\n",
    "    return new\n",
    "    \n",
    "\n",
    "def create_labels(index, data):\n",
    "    return {index: data}"
   ]
  },
  {
   "cell_type": "code",
   "execution_count": 4,
   "metadata": {
    "collapsed": true
   },
   "outputs": [],
   "source": [
    "with open('data/magazineluiza/parsed_data.json') as f:\n",
    "    magazineluiza = json.loads(f.read())['products']\n",
    "\n",
    "with open('data/submarino/parsed_data.json') as f:\n",
    "    submarino = json.loads(f.read())['products']"
   ]
  },
  {
   "cell_type": "code",
   "execution_count": 5,
   "metadata": {
    "collapsed": true
   },
   "outputs": [],
   "source": [
    "magazineluiza_meta = [normalize_dict(offer['meta']) for offer in magazineluiza]\n",
    "submarino_meta = [normalize_dict(offer['meta']) for offer in submarino]\n",
    "p = {str(i): magazineluiza_meta[i] for i in range(len(magazineluiza_meta))}\n",
    "w = {str(i): submarino_meta[i] for i in range(len(submarino_meta))}"
   ]
  },
  {
   "cell_type": "code",
   "execution_count": 19,
   "metadata": {},
   "outputs": [
    {
     "name": "stderr",
     "output_type": "stream",
     "text": [
      "title : smartphone lg x power 16gb indigo dual chip 4g cam 13mp flash tela 5 3 '' proc quad core android - lg x power - magazine luiza\n",
      "twitter:title : None\n",
      "og:title : None\n",
      "description : smartphone lg x power 16gb indigo dual chip 4g magazine luiza\n",
      "twitter:description : None\n",
      "og:description : None\n",
      "\n",
      "title : smartphone moto g 5 dual chip android 7 -\n",
      "twitter:title : None\n",
      "og:title : None\n",
      "description : smartphone moto g 5 dual chip android 7 0 tela 5\n",
      "twitter:description : None\n",
      "og:description : None\n",
      "\n",
      "0/10 positive, 0/10 negative\n",
      "Do these records refer to the same thing?\n",
      "(y)es / (n)o / (u)nsure / (f)inished\n"
     ]
    },
    {
     "name": "stdout",
     "output_type": "stream",
     "text": [
      "n\n"
     ]
    },
    {
     "name": "stderr",
     "output_type": "stream",
     "text": [
      "title : climatizador ar ventisol frio umidificador ionizador / ventilador 3 velocidades junior clm - climatizador ar - magazine luiza\n",
      "twitter:title : None\n",
      "og:title : None\n",
      "description : climatizador ar ventisol frio umidificador magazine luiza\n",
      "twitter:description : None\n",
      "og:description : None\n",
      "\n",
      "title : climatizador ar portatil breeze 506 c -\n",
      "twitter:title : None\n",
      "og:title : None\n",
      "description : climatizador ar portatil breeze 506 cli506 frio preto climatizador\n",
      "twitter:description : None\n",
      "og:description : None\n",
      "\n",
      "0/10 positive, 1/10 negative\n",
      "Do these records refer to the same thing?\n",
      "(y)es / (n)o / (u)nsure / (f)inished / (p)revious\n"
     ]
    },
    {
     "name": "stdout",
     "output_type": "stream",
     "text": [
      "n\n"
     ]
    },
    {
     "name": "stderr",
     "output_type": "stream",
     "text": [
      "title : multifuncional hp ink advantage ultra 2136 jato tinta colorida - impressora multifuncional - magazine luiza\n",
      "twitter:title : None\n",
      "og:title : None\n",
      "description : multifuncional hp ink advantage ultra 2136 magazine luiza\n",
      "twitter:description : None\n",
      "og:description : None\n",
      "\n",
      "title : None\n",
      "twitter:title : None\n",
      "og:title : None\n",
      "description : None\n",
      "twitter:description : None\n",
      "og:description : None\n",
      "\n",
      "0/10 positive, 2/10 negative\n",
      "Do these records refer to the same thing?\n",
      "(y)es / (n)o / (u)nsure / (f)inished / (p)revious\n"
     ]
    },
    {
     "name": "stdout",
     "output_type": "stream",
     "text": [
      "n\n"
     ]
    },
    {
     "name": "stderr",
     "output_type": "stream",
     "text": [
      "title : guarda-roupa casal atraente 2 portas correr 4 gavetas araplac espelho - guarda-roupa casal - magazine luiza\n",
      "twitter:title : None\n",
      "og:title : None\n",
      "description : guarda-roupa casal atraente 2 portas correr magazine luiza\n",
      "twitter:description : None\n",
      "og:description : None\n",
      "\n",
      "title : None\n",
      "twitter:title : None\n",
      "og:title : None\n",
      "description : None\n",
      "twitter:description : None\n",
      "og:description : None\n",
      "\n",
      "0/10 positive, 3/10 negative\n",
      "Do these records refer to the same thing?\n",
      "(y)es / (n)o / (u)nsure / (f)inished / (p)revious\n"
     ]
    },
    {
     "name": "stdout",
     "output_type": "stream",
     "text": [
      "n\n"
     ]
    },
    {
     "name": "stderr",
     "output_type": "stream",
     "text": [
      "title : secador cabelo taiff tourmaline ion ceramica 2000w 2 velocidades - secador cabelo - magazine luiza\n",
      "twitter:title : None\n",
      "og:title : None\n",
      "description : secador cabelo taiff tourmaline ion ceramica magazine luiza\n",
      "twitter:description : None\n",
      "og:description : None\n",
      "\n",
      "title : secador cabelo taiff tourmaline ion c -\n",
      "twitter:title : None\n",
      "og:title : None\n",
      "description : secador cabelo taiff tourmaline ion ceramica preto - domestico\n",
      "twitter:description : None\n",
      "og:description : None\n",
      "\n",
      "0/10 positive, 4/10 negative\n",
      "Do these records refer to the same thing?\n",
      "(y)es / (n)o / (u)nsure / (f)inished / (p)revious\n"
     ]
    },
    {
     "name": "stdout",
     "output_type": "stream",
     "text": [
      "u\n"
     ]
    },
    {
     "name": "stderr",
     "output_type": "stream",
     "text": [
      "title : roteador wireless tp-link tl-wr720n 150mbps 1 antena 3 portas - roteador - magazine luiza\n",
      "twitter:title : None\n",
      "og:title : None\n",
      "description : roteador wireless tp-link tl-wr720n magazine luiza\n",
      "twitter:description : None\n",
      "og:description : None\n",
      "\n",
      "title : roteador wireless tp-link tl-wr720n 150m -\n",
      "twitter:title : None\n",
      "og:title : None\n",
      "description : roteador wireless tp-link tl-wr720n 150mbps 2 portas roteador\n",
      "twitter:description : None\n",
      "og:description : None\n",
      "\n",
      "0/10 positive, 4/10 negative\n",
      "Do these records refer to the same thing?\n",
      "(y)es / (n)o / (u)nsure / (f)inished / (p)revious\n"
     ]
    },
    {
     "name": "stdout",
     "output_type": "stream",
     "text": [
      "y\n"
     ]
    },
    {
     "name": "stderr",
     "output_type": "stream",
     "text": [
      "title : notebook samsung expert x24 intel core i5 6gb 1tb led 15 6 '' full hd placa video 2gb windows 10 - notebook - magazine luiza\n",
      "twitter:title : None\n",
      "og:title : None\n",
      "description : notebook samsung expert x24 intel core i5 6gb 1tb magazine luiza\n",
      "twitter:description : None\n",
      "og:description : None\n",
      "\n",
      "title : notebook samsung expert x23 intel core 5 -\n",
      "twitter:title : None\n",
      "og:title : None\n",
      "description : notebook samsung expert x23 intel core 5 i5 8gb geforce notebook\n",
      "twitter:description : None\n",
      "og:description : None\n",
      "\n",
      "1/10 positive, 4/10 negative\n",
      "Do these records refer to the same thing?\n",
      "(y)es / (n)o / (u)nsure / (f)inished / (p)revious\n"
     ]
    },
    {
     "name": "stdout",
     "output_type": "stream",
     "text": [
      "n\n"
     ]
    },
    {
     "name": "stderr",
     "output_type": "stream",
     "text": [
      "title : smart tv led 49 '' 4k lg 49uh6100 ultra hd conversor integrado 3 hdmi 1 usb wi-fi - tv 4k - magazine luiza\n",
      "twitter:title : None\n",
      "og:title : None\n",
      "description : smart tv led 49 '' 4k lg 49uh6100 ultra hd magazine luiza\n",
      "twitter:description : None\n",
      "og:description : None\n",
      "\n",
      "title : smart tv led 49 '' lg 49uh6100 ultra hd 4k -\n",
      "twitter:title : None\n",
      "og:title : None\n",
      "description : smart tv led 49\n",
      "twitter:description : None\n",
      "og:description : None\n",
      "\n",
      "1/10 positive, 5/10 negative\n",
      "Do these records refer to the same thing?\n",
      "(y)es / (n)o / (u)nsure / (f)inished / (p)revious\n"
     ]
    },
    {
     "name": "stdout",
     "output_type": "stream",
     "text": [
      "y\n"
     ]
    },
    {
     "name": "stderr",
     "output_type": "stream",
     "text": [
      "title : notebook dell inspiron i15-5558-a50 intel core i7 8gb 1tb led 15 6 '' placa video 4gb windows 10 - notebook dell inspiron - magazine luiza\n",
      "twitter:title : None\n",
      "og:title : None\n",
      "description : notebook dell inspiron i15-5558-a50 intel core i7 magazine luiza\n",
      "twitter:description : None\n",
      "og:description : None\n",
      "\n",
      "title : notebook dell inspiron i15-5567-a40c int -\n",
      "twitter:title : None\n",
      "og:title : None\n",
      "description : notebook dell inspiron i15-5567-a40c intel core 7 i7 8gb notebook\n",
      "twitter:description : None\n",
      "og:description : None\n",
      "\n",
      "2/10 positive, 5/10 negative\n",
      "Do these records refer to the same thing?\n",
      "(y)es / (n)o / (u)nsure / (f)inished / (p)revious\n"
     ]
    },
    {
     "name": "stdout",
     "output_type": "stream",
     "text": [
      "n\n"
     ]
    },
    {
     "name": "stderr",
     "output_type": "stream",
     "text": [
      "title : cafeteira expresso 19 bar nespresso inissia vermelha rubi - cafeteira nespresso - magazine luiza\n",
      "twitter:title : None\n",
      "og:title : None\n",
      "description : cafeteira expresso 19 bar nespresso inissia magazine luiza\n",
      "twitter:description : None\n",
      "og:description : None\n",
      "\n",
      "title : cafeteira expresso nespresso inissia 19 -\n",
      "twitter:title : None\n",
      "og:title : None\n",
      "description : cafeteira expresso nespresso inissia 19 bar - vermelho ruby cafeteira expresso\n",
      "twitter:description : None\n",
      "og:description : None\n",
      "\n",
      "2/10 positive, 6/10 negative\n",
      "Do these records refer to the same thing?\n",
      "(y)es / (n)o / (u)nsure / (f)inished / (p)revious\n"
     ]
    },
    {
     "name": "stdout",
     "output_type": "stream",
     "text": [
      "y\n"
     ]
    },
    {
     "name": "stderr",
     "output_type": "stream",
     "text": [
      "title : smartphone samsung galaxy j5 duos 16gb dourado dual chip 4g cam 13mp + selfie 5mp flash tela 5 '' - samsung galaxy j5 - magazine luiza\n",
      "twitter:title : None\n",
      "og:title : None\n",
      "description : smartphone samsung galaxy j5 duos 16gb dourado magazine luiza\n",
      "twitter:description : None\n",
      "og:description : None\n",
      "\n",
      "title : smartphone samsung galaxy j5 duos dual c -\n",
      "twitter:title : None\n",
      "og:title : None\n",
      "description : smartphone samsung galaxy j5 duos dual chip android 5 1 tela galaxy j5\n",
      "twitter:description : None\n",
      "og:description : None\n",
      "\n",
      "3/10 positive, 6/10 negative\n",
      "Do these records refer to the same thing?\n",
      "(y)es / (n)o / (u)nsure / (f)inished / (p)revious\n"
     ]
    },
    {
     "name": "stdout",
     "output_type": "stream",
     "text": [
      "n\n"
     ]
    },
    {
     "name": "stderr",
     "output_type": "stream",
     "text": [
      "title : iphone 6 apple 16gb cinza espacial tela 4 7 '' retina 4g camera 8mp + frontal ios 10 proc m8 - iphone 6 iphone 6 plus - magazine luiza\n",
      "twitter:title : None\n",
      "og:title : None\n",
      "description : iphone 6 apple 16gb cinza espacial tela 4 7 '' magazine luiza\n",
      "twitter:description : None\n",
      "og:description : None\n",
      "\n",
      "title : iphone 5s 16gb cinza espacial tela retin -\n",
      "twitter:title : None\n",
      "og:title : None\n",
      "description : iphone 5s 16gb cinza espacial tela retina 4\n",
      "twitter:description : None\n",
      "og:description : None\n",
      "\n",
      "3/10 positive, 7/10 negative\n",
      "Do these records refer to the same thing?\n",
      "(y)es / (n)o / (u)nsure / (f)inished / (p)revious\n"
     ]
    },
    {
     "name": "stdout",
     "output_type": "stream",
     "text": [
      "n\n"
     ]
    },
    {
     "name": "stderr",
     "output_type": "stream",
     "text": [
      "title : notebook lenovo ideapad 110 intel dual core 4gb 1tb led 15 6 '' windows 10 - notebook - magazine luiza\n",
      "twitter:title : None\n",
      "og:title : None\n",
      "description : notebook lenovo ideapad 110 intel dual core magazine luiza\n",
      "twitter:description : None\n",
      "og:description : None\n",
      "\n",
      "title : notebook lenovo ideapad 310 intel core i -\n",
      "twitter:title : None\n",
      "og:title : None\n",
      "description : notebook lenovo ideapad 310 intel core i7 8gb 1tb led 14\n",
      "twitter:description : None\n",
      "og:description : None\n",
      "\n",
      "3/10 positive, 8/10 negative\n",
      "Do these records refer to the same thing?\n",
      "(y)es / (n)o / (u)nsure / (f)inished / (p)revious\n"
     ]
    },
    {
     "name": "stdout",
     "output_type": "stream",
     "text": [
      "n\n"
     ]
    },
    {
     "name": "stderr",
     "output_type": "stream",
     "text": [
      "title : notebook lenovo ideapad 110 intel dual core 4gb 1tb led 15 6 '' windows 10 - notebook - magazine luiza\n",
      "twitter:title : None\n",
      "og:title : None\n",
      "description : notebook lenovo ideapad 110 intel dual core magazine luiza\n",
      "twitter:description : None\n",
      "og:description : None\n",
      "\n",
      "title : notebook lenovo ideapad 310 intel core i -\n",
      "twitter:title : None\n",
      "og:title : None\n",
      "description : notebook lenovo ideapad 310 intel core i7 8gb 1tb led 14\n",
      "twitter:description : None\n",
      "og:description : None\n",
      "\n",
      "3/10 positive, 9/10 negative\n",
      "Do these records refer to the same thing?\n",
      "(y)es / (n)o / (u)nsure / (f)inished / (p)revious\n"
     ]
    },
    {
     "name": "stdout",
     "output_type": "stream",
     "text": [
      "n\n"
     ]
    },
    {
     "name": "stderr",
     "output_type": "stream",
     "text": [
      "title : smartphone samsung galaxy s8+ 64gb prata dual chip 4g cam 12mp + selfie 8mp tela 6 2 '' quad hd - samsung galaxy s8 s8+ - magazine luiza\n",
      "twitter:title : None\n",
      "og:title : None\n",
      "description : smartphone samsung galaxy s8+ 64gb prata dual chip magazine luiza\n",
      "twitter:description : None\n",
      "og:description : None\n",
      "\n",
      "title : smartphone samsung galaxy s8+ dual chip -\n",
      "twitter:title : None\n",
      "og:title : None\n",
      "description : smartphone samsung galaxy s8+ dual chip android 7 0 tela galaxy s8 plus\n",
      "twitter:description : None\n",
      "og:description : None\n",
      "\n",
      "3/10 positive, 10/10 negative\n",
      "Do these records refer to the same thing?\n",
      "(y)es / (n)o / (u)nsure / (f)inished / (p)revious\n"
     ]
    },
    {
     "name": "stdout",
     "output_type": "stream",
     "text": [
      "y\n"
     ]
    },
    {
     "name": "stderr",
     "output_type": "stream",
     "text": [
      "title : smartphone samsung galaxy s8 64gb preto dual chip 4g cam 12mp + selfie 8mp tela 5 8 '' quad hd - samsung galaxy s8 s8+ - magazine luiza\n",
      "twitter:title : None\n",
      "og:title : None\n",
      "description : smartphone samsung galaxy s8 64gb preto dual chip magazine luiza\n",
      "twitter:description : None\n",
      "og:description : None\n",
      "\n",
      "title : smartphone samsung galaxy s8+ dual chip -\n",
      "twitter:title : None\n",
      "og:title : None\n",
      "description : smartphone samsung galaxy s8+ dual chip android 7 0 tela galaxy s8 plus\n",
      "twitter:description : None\n",
      "og:description : None\n",
      "\n",
      "4/10 positive, 10/10 negative\n",
      "Do these records refer to the same thing?\n",
      "(y)es / (n)o / (u)nsure / (f)inished / (p)revious\n"
     ]
    },
    {
     "name": "stdout",
     "output_type": "stream",
     "text": [
      "y\n"
     ]
    },
    {
     "name": "stderr",
     "output_type": "stream",
     "text": [
      "title : batedeira planetaria kitchenaid artisan stand mixer 300w 10 velocidades - batedeira planetaria - magazine luiza\n",
      "twitter:title : None\n",
      "og:title : None\n",
      "description : batedeira planetaria kitchenaid artisan magazine luiza\n",
      "twitter:description : None\n",
      "og:description : None\n",
      "\n",
      "title : batedeira planetaria kitchenaid stand mi -\n",
      "twitter:title : None\n",
      "og:title : None\n",
      "description : batedeira planetaria kitchenaid stand mixer onix black 220v batedeira\n",
      "twitter:description : None\n",
      "og:description : None\n",
      "\n",
      "5/10 positive, 10/10 negative\n",
      "Do these records refer to the same thing?\n",
      "(y)es / (n)o / (u)nsure / (f)inished / (p)revious\n"
     ]
    },
    {
     "name": "stdout",
     "output_type": "stream",
     "text": [
      "y\n"
     ]
    },
    {
     "name": "stderr",
     "output_type": "stream",
     "text": [
      "title : espremedor frutas blackdecker cj650 eletrico 30w 1l branco - espremedor fruta - magazine luiza\n",
      "twitter:title : None\n",
      "og:title : None\n",
      "description : espremedor frutas blackdecker cj650 eletrico magazine luiza\n",
      "twitter:description : None\n",
      "og:description : None\n",
      "\n",
      "title : espremedor frutas black decker cj65 -\n",
      "twitter:title : None\n",
      "og:title : None\n",
      "description : espremedor frutas black decker cj650 1 litro branco espremedor fruta\n",
      "twitter:description : None\n",
      "og:description : None\n",
      "\n",
      "6/10 positive, 10/10 negative\n",
      "Do these records refer to the same thing?\n",
      "(y)es / (n)o / (u)nsure / (f)inished / (p)revious\n"
     ]
    },
    {
     "name": "stdout",
     "output_type": "stream",
     "text": [
      "y\n"
     ]
    },
    {
     "name": "stderr",
     "output_type": "stream",
     "text": [
      "title : roteador wireless tp-link tl-wr720n 150mbps 1 antena 3 portas - roteador - magazine luiza\n",
      "twitter:title : None\n",
      "og:title : None\n",
      "description : roteador wireless tp-link tl-wr720n magazine luiza\n",
      "twitter:description : None\n",
      "og:description : None\n",
      "\n",
      "title : roteador wireless tp-link tl-wr840n 300 -\n",
      "twitter:title : None\n",
      "og:title : None\n",
      "description : roteador wireless tp-link tl-wr840n 300mbps 2 4ghz duas roteador\n",
      "twitter:description : None\n",
      "og:description : None\n",
      "\n",
      "7/10 positive, 10/10 negative\n",
      "Do these records refer to the same thing?\n",
      "(y)es / (n)o / (u)nsure / (f)inished / (p)revious\n"
     ]
    },
    {
     "name": "stdout",
     "output_type": "stream",
     "text": [
      "n\n"
     ]
    },
    {
     "name": "stderr",
     "output_type": "stream",
     "text": [
      "title : geladeira/refrigerador brastemp frost free duplex 429l ative brm50nbana branco - geladeira/refrigerador frost free - magazine luiza\n",
      "twitter:title : None\n",
      "og:title : None\n",
      "description : geladeira/refrigerador brastemp frost free duplex magazine luiza\n",
      "twitter:description : None\n",
      "og:description : None\n",
      "\n",
      "title : geladeira / refrigerador brastemp duplex -\n",
      "twitter:title : None\n",
      "og:title : None\n",
      "description : geladeira / refrigerador brastemp duplex ative frost free frost free\n",
      "twitter:description : None\n",
      "og:description : None\n",
      "\n",
      "7/10 positive, 11/10 negative\n",
      "Do these records refer to the same thing?\n",
      "(y)es / (n)o / (u)nsure / (f)inished / (p)revious\n"
     ]
    },
    {
     "name": "stdout",
     "output_type": "stream",
     "text": [
      "u\n"
     ]
    },
    {
     "name": "stderr",
     "output_type": "stream",
     "text": [
      "title : micro-ondas brastemp ative bmj38arana 38l inox - micro-ondas - magazine luiza\n",
      "twitter:title : None\n",
      "og:title : None\n",
      "description : micro-ondas brastemp ative bmj38arana magazine luiza\n",
      "twitter:description : None\n",
      "og:description : None\n",
      "\n",
      "title : micro-ondas brastemp ative bmj38 38 lit -\n",
      "twitter:title : None\n",
      "og:title : None\n",
      "description : micro-ondas brastemp ative bmj38 38 litros inox micro-ondas\n",
      "twitter:description : None\n",
      "og:description : None\n",
      "\n",
      "7/10 positive, 11/10 negative\n",
      "Do these records refer to the same thing?\n",
      "(y)es / (n)o / (u)nsure / (f)inished / (p)revious\n"
     ]
    },
    {
     "name": "stdout",
     "output_type": "stream",
     "text": [
      "y\n"
     ]
    },
    {
     "name": "stderr",
     "output_type": "stream",
     "text": [
      "title : climatizador ar ventisol frio umidificador ionizador / ventilador 3 velocidades junior clm - climatizador ar - magazine luiza\n",
      "twitter:title : None\n",
      "og:title : None\n",
      "description : climatizador ar ventisol frio umidificador magazine luiza\n",
      "twitter:description : None\n",
      "og:description : None\n",
      "\n",
      "title : climatizador ar portatil umidificad -\n",
      "twitter:title : None\n",
      "og:title : None\n",
      "description : climatizador ar portatil umidificador elgin branco frio climatizador\n",
      "twitter:description : None\n",
      "og:description : None\n",
      "\n",
      "8/10 positive, 11/10 negative\n",
      "Do these records refer to the same thing?\n",
      "(y)es / (n)o / (u)nsure / (f)inished / (p)revious\n"
     ]
    },
    {
     "name": "stdout",
     "output_type": "stream",
     "text": [
      "n\n"
     ]
    },
    {
     "name": "stderr",
     "output_type": "stream",
     "text": [
      "title : cafeteira expresso 15 bar arno dolce gusto mini vermelha - cafeteira dolce gusto - magazine luiza\n",
      "twitter:title : None\n",
      "og:title : None\n",
      "description : cafeteira expresso 15 bar arno dolce gusto mini magazine luiza\n",
      "twitter:description : None\n",
      "og:description : None\n",
      "\n",
      "title : cafeteira expresso arno nescafe dolce gu -\n",
      "twitter:title : None\n",
      "og:title : None\n",
      "description : cafeteira expresso arno nescafe dolce gusto mini 15 bar cafeteira expresso\n",
      "twitter:description : None\n",
      "og:description : None\n",
      "\n",
      "8/10 positive, 12/10 negative\n",
      "Do these records refer to the same thing?\n",
      "(y)es / (n)o / (u)nsure / (f)inished / (p)revious\n"
     ]
    },
    {
     "name": "stdout",
     "output_type": "stream",
     "text": [
      "y\n"
     ]
    },
    {
     "name": "stderr",
     "output_type": "stream",
     "text": [
      "title : smartphone samsung galaxy j5 duos 16gb dourado dual chip 4g cam 13mp + selfie 5mp flash tela 5 '' - samsung galaxy j5 - magazine luiza\n",
      "twitter:title : None\n",
      "og:title : None\n",
      "description : smartphone samsung galaxy j5 duos 16gb dourado magazine luiza\n",
      "twitter:description : None\n",
      "og:description : None\n",
      "\n",
      "title : smartphone samsung galaxy j3 duos dual c -\n",
      "twitter:title : None\n",
      "og:title : None\n",
      "description : smartphone samsung galaxy j3 duos dual chip android 5 1 tela galaxy j3\n",
      "twitter:description : None\n",
      "og:description : None\n",
      "\n",
      "9/10 positive, 12/10 negative\n",
      "Do these records refer to the same thing?\n",
      "(y)es / (n)o / (u)nsure / (f)inished / (p)revious\n"
     ]
    },
    {
     "name": "stdout",
     "output_type": "stream",
     "text": [
      "n\n"
     ]
    },
    {
     "name": "stderr",
     "output_type": "stream",
     "text": [
      "title : multifuncional hp ink advantage ultra 2136 jato tinta colorida - impressora multifuncional - magazine luiza\n",
      "twitter:title : None\n",
      "og:title : None\n",
      "description : multifuncional hp ink advantage ultra 2136 magazine luiza\n",
      "twitter:description : None\n",
      "og:description : None\n",
      "\n",
      "title : multifuncional hp deskjet ink advantage -\n",
      "twitter:title : None\n",
      "og:title : None\n",
      "description : multifuncional hp deskjet ink advantage 2136 multifuncional jato\n",
      "twitter:description : None\n",
      "og:description : None\n",
      "\n",
      "9/10 positive, 13/10 negative\n",
      "Do these records refer to the same thing?\n",
      "(y)es / (n)o / (u)nsure / (f)inished / (p)revious\n"
     ]
    },
    {
     "name": "stdout",
     "output_type": "stream",
     "text": [
      "y\n"
     ]
    },
    {
     "name": "stderr",
     "output_type": "stream",
     "text": [
      "title : purificador agua consul indicador troca refil cpc30ab - purificador agua - magazine luiza\n",
      "twitter:title : None\n",
      "og:title : None\n",
      "description : purificador agua consul magazine luiza\n",
      "twitter:description : None\n",
      "og:description : None\n",
      "\n",
      "title : purificador agua consul cpc30ab branco -\n",
      "twitter:title : None\n",
      "og:title : None\n",
      "description : purificador agua consul cpc30ab branco purificador agua\n",
      "twitter:description : None\n",
      "og:description : None\n",
      "\n",
      "10/10 positive, 13/10 negative\n",
      "Do these records refer to the same thing?\n",
      "(y)es / (n)o / (u)nsure / (f)inished / (p)revious\n"
     ]
    },
    {
     "name": "stdout",
     "output_type": "stream",
     "text": [
      "y\n"
     ]
    },
    {
     "name": "stderr",
     "output_type": "stream",
     "text": [
      "title : ipad pro apple 32gb prata tela 9 7 retina wi-fi processador m9 camera 12mp - ipad pro apple - magazine luiza\n",
      "twitter:title : None\n",
      "og:title : None\n",
      "description : ipad pro apple 32gb prata tela 9 7 retina magazine luiza\n",
      "twitter:description : None\n",
      "og:description : None\n",
      "\n",
      "title : ipad pro 32gb wi-fi tela retina 9 7 '' pra -\n",
      "twitter:title : None\n",
      "og:title : None\n",
      "description : ipad pro 32gb wi-fi tela retina 9 7\n",
      "twitter:description : None\n",
      "og:description : None\n",
      "\n",
      "11/10 positive, 13/10 negative\n",
      "Do these records refer to the same thing?\n",
      "(y)es / (n)o / (u)nsure / (f)inished / (p)revious\n"
     ]
    },
    {
     "name": "stdout",
     "output_type": "stream",
     "text": [
      "f\n"
     ]
    },
    {
     "name": "stderr",
     "output_type": "stream",
     "text": [
      "Finished labeling\n"
     ]
    }
   ],
   "source": [
    "linker = dedupe.RecordLink(fields)\n",
    "linker.sample(p, w)\n",
    "dedupe.consoleLabel(linker)"
   ]
  },
  {
   "cell_type": "code",
   "execution_count": 20,
   "metadata": {},
   "outputs": [
    {
     "name": "stderr",
     "output_type": "stream",
     "text": [
      "INFO:rlr.crossvalidation:using cross validation to find optimum alpha...\n",
      "INFO:rlr.crossvalidation:optimum alpha: 0.001000\n",
      "INFO:dedupe.blocking:Canopy: TfidfNGramSearchPredicate: (0.6, twitter:title)\n",
      "INFO:dedupe.blocking:Canopy: TfidfNGramSearchPredicate: (0.2, twitter:title)\n",
      "INFO:dedupe.blocking:Canopy: TfidfNGramSearchPredicate: (0.4, twitter:title)\n",
      "INFO:dedupe.blocking:Canopy: TfidfNGramSearchPredicate: (0.8, twitter:title)\n",
      "INFO:dedupe.blocking:Canopy: TfidfTextSearchPredicate: (0.4, twitter:title)\n",
      "INFO:dedupe.blocking:Canopy: TfidfTextSearchPredicate: (0.2, twitter:title)\n",
      "INFO:dedupe.blocking:Canopy: TfidfTextSearchPredicate: (0.6, twitter:title)\n",
      "INFO:dedupe.blocking:Canopy: TfidfTextSearchPredicate: (0.8, twitter:title)\n",
      "INFO:dedupe.blocking:Canopy: LevenshteinSearchPredicate: (4, twitter:title)\n",
      "INFO:dedupe.blocking:Canopy: LevenshteinSearchPredicate: (2, twitter:title)\n",
      "INFO:dedupe.blocking:Canopy: LevenshteinSearchPredicate: (1, twitter:title)\n",
      "INFO:dedupe.blocking:Canopy: LevenshteinSearchPredicate: (3, twitter:title)\n",
      "INFO:dedupe.blocking:Canopy: TfidfNGramSearchPredicate: (0.2, title)\n",
      "INFO:dedupe.blocking:Canopy: TfidfNGramSearchPredicate: (0.4, title)\n",
      "INFO:dedupe.blocking:Canopy: TfidfNGramSearchPredicate: (0.6, title)\n",
      "INFO:dedupe.blocking:Canopy: TfidfNGramSearchPredicate: (0.8, title)\n",
      "INFO:dedupe.blocking:Canopy: LevenshteinSearchPredicate: (4, title)\n",
      "INFO:dedupe.blocking:Canopy: LevenshteinSearchPredicate: (3, title)\n",
      "INFO:dedupe.blocking:Canopy: LevenshteinSearchPredicate: (2, title)\n",
      "INFO:dedupe.blocking:Canopy: LevenshteinSearchPredicate: (1, title)\n",
      "INFO:dedupe.blocking:Canopy: TfidfTextSearchPredicate: (0.2, title)\n",
      "INFO:dedupe.blocking:Canopy: TfidfTextSearchPredicate: (0.6, title)\n",
      "INFO:dedupe.blocking:Canopy: TfidfTextSearchPredicate: (0.8, title)\n",
      "INFO:dedupe.blocking:Canopy: TfidfTextSearchPredicate: (0.4, title)\n",
      "INFO:dedupe.blocking:Canopy: TfidfNGramSearchPredicate: (0.4, og:title)\n",
      "INFO:dedupe.blocking:Canopy: TfidfNGramSearchPredicate: (0.8, og:title)\n",
      "INFO:dedupe.blocking:Canopy: TfidfNGramSearchPredicate: (0.2, og:title)\n",
      "INFO:dedupe.blocking:Canopy: TfidfNGramSearchPredicate: (0.6, og:title)\n",
      "INFO:dedupe.blocking:Canopy: LevenshteinSearchPredicate: (2, og:title)\n",
      "INFO:dedupe.blocking:Canopy: LevenshteinSearchPredicate: (4, og:title)\n",
      "INFO:dedupe.blocking:Canopy: LevenshteinSearchPredicate: (3, og:title)\n",
      "INFO:dedupe.blocking:Canopy: LevenshteinSearchPredicate: (1, og:title)\n",
      "INFO:dedupe.blocking:Canopy: TfidfTextSearchPredicate: (0.4, og:title)\n",
      "INFO:dedupe.blocking:Canopy: TfidfTextSearchPredicate: (0.2, og:title)\n",
      "INFO:dedupe.blocking:Canopy: TfidfTextSearchPredicate: (0.8, og:title)\n",
      "INFO:dedupe.blocking:Canopy: TfidfTextSearchPredicate: (0.6, og:title)\n",
      "INFO:dedupe.blocking:Canopy: LevenshteinSearchPredicate: (3, og:description)\n",
      "INFO:dedupe.blocking:Canopy: LevenshteinSearchPredicate: (1, og:description)\n",
      "INFO:dedupe.blocking:Canopy: LevenshteinSearchPredicate: (2, og:description)\n",
      "INFO:dedupe.blocking:Canopy: LevenshteinSearchPredicate: (4, og:description)\n",
      "INFO:dedupe.blocking:Canopy: TfidfTextSearchPredicate: (0.2, og:description)\n",
      "INFO:dedupe.blocking:Canopy: TfidfTextSearchPredicate: (0.4, og:description)\n",
      "INFO:dedupe.blocking:Canopy: TfidfTextSearchPredicate: (0.6, og:description)\n",
      "INFO:dedupe.blocking:Canopy: TfidfTextSearchPredicate: (0.8, og:description)\n",
      "INFO:dedupe.blocking:Canopy: TfidfTextSearchPredicate: (0.8, twitter:description)\n",
      "INFO:dedupe.blocking:Canopy: TfidfTextSearchPredicate: (0.6, twitter:description)\n",
      "INFO:dedupe.blocking:Canopy: TfidfTextSearchPredicate: (0.4, twitter:description)\n",
      "INFO:dedupe.blocking:Canopy: TfidfTextSearchPredicate: (0.2, twitter:description)\n",
      "INFO:dedupe.blocking:Canopy: LevenshteinSearchPredicate: (2, twitter:description)\n",
      "INFO:dedupe.blocking:Canopy: LevenshteinSearchPredicate: (4, twitter:description)\n",
      "INFO:dedupe.blocking:Canopy: LevenshteinSearchPredicate: (1, twitter:description)\n",
      "INFO:dedupe.blocking:Canopy: LevenshteinSearchPredicate: (3, twitter:description)\n",
      "INFO:dedupe.blocking:Canopy: LevenshteinSearchPredicate: (3, description)\n",
      "INFO:dedupe.blocking:Canopy: LevenshteinSearchPredicate: (4, description)\n",
      "INFO:dedupe.blocking:Canopy: LevenshteinSearchPredicate: (1, description)\n",
      "INFO:dedupe.blocking:Canopy: LevenshteinSearchPredicate: (2, description)\n",
      "INFO:dedupe.blocking:Canopy: TfidfTextSearchPredicate: (0.4, description)\n",
      "INFO:dedupe.blocking:Canopy: TfidfTextSearchPredicate: (0.2, description)\n",
      "INFO:dedupe.blocking:Canopy: TfidfTextSearchPredicate: (0.6, description)\n",
      "INFO:dedupe.blocking:Canopy: TfidfTextSearchPredicate: (0.8, description)\n",
      "INFO:dedupe.blocking:Canopy: TfidfNGramSearchPredicate: (0.6, twitter:title)\n",
      "INFO:dedupe.blocking:Canopy: TfidfNGramSearchPredicate: (0.2, twitter:title)\n",
      "INFO:dedupe.blocking:Canopy: TfidfNGramSearchPredicate: (0.4, twitter:title)\n",
      "INFO:dedupe.blocking:Canopy: TfidfNGramSearchPredicate: (0.8, twitter:title)\n",
      "INFO:dedupe.blocking:Canopy: TfidfTextSearchPredicate: (0.4, twitter:title)\n",
      "INFO:dedupe.blocking:Canopy: TfidfTextSearchPredicate: (0.2, twitter:title)\n",
      "INFO:dedupe.blocking:Canopy: TfidfTextSearchPredicate: (0.6, twitter:title)\n",
      "INFO:dedupe.blocking:Canopy: TfidfTextSearchPredicate: (0.8, twitter:title)\n",
      "INFO:dedupe.blocking:Canopy: LevenshteinSearchPredicate: (4, twitter:title)\n",
      "INFO:dedupe.blocking:Canopy: LevenshteinSearchPredicate: (2, twitter:title)\n",
      "INFO:dedupe.blocking:Canopy: LevenshteinSearchPredicate: (1, twitter:title)\n",
      "INFO:dedupe.blocking:Canopy: LevenshteinSearchPredicate: (3, twitter:title)\n",
      "INFO:dedupe.blocking:Canopy: TfidfNGramSearchPredicate: (0.2, title)\n",
      "INFO:dedupe.blocking:Canopy: TfidfNGramSearchPredicate: (0.4, title)\n",
      "INFO:dedupe.blocking:Canopy: TfidfNGramSearchPredicate: (0.6, title)\n",
      "INFO:dedupe.blocking:Canopy: TfidfNGramSearchPredicate: (0.8, title)\n",
      "INFO:dedupe.blocking:Canopy: LevenshteinSearchPredicate: (4, title)\n",
      "INFO:dedupe.blocking:Canopy: LevenshteinSearchPredicate: (3, title)\n",
      "INFO:dedupe.blocking:Canopy: LevenshteinSearchPredicate: (2, title)\n",
      "INFO:dedupe.blocking:Canopy: LevenshteinSearchPredicate: (1, title)\n",
      "INFO:dedupe.blocking:Canopy: TfidfTextSearchPredicate: (0.2, title)\n",
      "INFO:dedupe.blocking:Canopy: TfidfTextSearchPredicate: (0.6, title)\n",
      "INFO:dedupe.blocking:Canopy: TfidfTextSearchPredicate: (0.8, title)\n",
      "INFO:dedupe.blocking:Canopy: TfidfTextSearchPredicate: (0.4, title)\n",
      "INFO:dedupe.blocking:Canopy: TfidfNGramSearchPredicate: (0.4, og:title)\n",
      "INFO:dedupe.blocking:Canopy: TfidfNGramSearchPredicate: (0.8, og:title)\n",
      "INFO:dedupe.blocking:Canopy: TfidfNGramSearchPredicate: (0.2, og:title)\n",
      "INFO:dedupe.blocking:Canopy: TfidfNGramSearchPredicate: (0.6, og:title)\n",
      "INFO:dedupe.blocking:Canopy: LevenshteinSearchPredicate: (2, og:title)\n",
      "INFO:dedupe.blocking:Canopy: LevenshteinSearchPredicate: (4, og:title)\n",
      "INFO:dedupe.blocking:Canopy: LevenshteinSearchPredicate: (3, og:title)\n",
      "INFO:dedupe.blocking:Canopy: LevenshteinSearchPredicate: (1, og:title)\n",
      "INFO:dedupe.blocking:Canopy: TfidfTextSearchPredicate: (0.4, og:title)\n",
      "INFO:dedupe.blocking:Canopy: TfidfTextSearchPredicate: (0.2, og:title)\n",
      "INFO:dedupe.blocking:Canopy: TfidfTextSearchPredicate: (0.8, og:title)\n",
      "INFO:dedupe.blocking:Canopy: TfidfTextSearchPredicate: (0.6, og:title)\n",
      "INFO:dedupe.blocking:Canopy: LevenshteinSearchPredicate: (3, og:description)\n",
      "INFO:dedupe.blocking:Canopy: LevenshteinSearchPredicate: (1, og:description)\n",
      "INFO:dedupe.blocking:Canopy: LevenshteinSearchPredicate: (2, og:description)\n",
      "INFO:dedupe.blocking:Canopy: LevenshteinSearchPredicate: (4, og:description)\n",
      "INFO:dedupe.blocking:Canopy: TfidfTextSearchPredicate: (0.2, og:description)\n",
      "INFO:dedupe.blocking:Canopy: TfidfTextSearchPredicate: (0.4, og:description)\n",
      "INFO:dedupe.blocking:Canopy: TfidfTextSearchPredicate: (0.6, og:description)\n",
      "INFO:dedupe.blocking:Canopy: TfidfTextSearchPredicate: (0.8, og:description)\n",
      "INFO:dedupe.blocking:Canopy: TfidfTextSearchPredicate: (0.8, twitter:description)\n",
      "INFO:dedupe.blocking:Canopy: TfidfTextSearchPredicate: (0.6, twitter:description)\n",
      "INFO:dedupe.blocking:Canopy: TfidfTextSearchPredicate: (0.4, twitter:description)\n",
      "INFO:dedupe.blocking:Canopy: TfidfTextSearchPredicate: (0.2, twitter:description)\n",
      "INFO:dedupe.blocking:Canopy: LevenshteinSearchPredicate: (2, twitter:description)\n"
     ]
    },
    {
     "name": "stderr",
     "output_type": "stream",
     "text": [
      "INFO:dedupe.blocking:Canopy: LevenshteinSearchPredicate: (4, twitter:description)\n",
      "INFO:dedupe.blocking:Canopy: LevenshteinSearchPredicate: (1, twitter:description)\n",
      "INFO:dedupe.blocking:Canopy: LevenshteinSearchPredicate: (3, twitter:description)\n",
      "INFO:dedupe.blocking:Canopy: LevenshteinSearchPredicate: (3, description)\n",
      "INFO:dedupe.blocking:Canopy: LevenshteinSearchPredicate: (4, description)\n",
      "INFO:dedupe.blocking:Canopy: LevenshteinSearchPredicate: (1, description)\n",
      "INFO:dedupe.blocking:Canopy: LevenshteinSearchPredicate: (2, description)\n",
      "INFO:dedupe.blocking:Canopy: TfidfTextSearchPredicate: (0.4, description)\n",
      "INFO:dedupe.blocking:Canopy: TfidfTextSearchPredicate: (0.2, description)\n",
      "INFO:dedupe.blocking:Canopy: TfidfTextSearchPredicate: (0.6, description)\n",
      "INFO:dedupe.blocking:Canopy: TfidfTextSearchPredicate: (0.8, description)\n",
      "INFO:dedupe.training:Final predicate set:\n",
      "INFO:dedupe.training:(SimplePredicate: (commonIntegerPredicate, description), TfidfTextSearchPredicate: (0.8, title))\n",
      "INFO:dedupe.training:(TfidfNGramSearchPredicate: (0.8, title), TfidfTextSearchPredicate: (0.2, description))\n",
      "INFO:dedupe.training:(SimplePredicate: (commonIntegerPredicate, description), TfidfTextSearchPredicate: (0.8, description))\n"
     ]
    }
   ],
   "source": [
    "linker.train()"
   ]
  },
  {
   "cell_type": "code",
   "execution_count": 26,
   "metadata": {},
   "outputs": [
    {
     "name": "stderr",
     "output_type": "stream",
     "text": [
      "INFO:dedupe.blocking:Canopy: TfidfTextSearchPredicate: (0.8, title)\n",
      "INFO:dedupe.blocking:Canopy: TfidfNGramSearchPredicate: (0.8, title)\n",
      "INFO:dedupe.blocking:Canopy: TfidfTextSearchPredicate: (0.2, description)\n",
      "INFO:dedupe.blocking:Canopy: TfidfTextSearchPredicate: (0.8, description)\n",
      "INFO:dedupe.api:0 records\n"
     ]
    }
   ],
   "source": [
    "m = linker.match(p,w, 0.5)"
   ]
  },
  {
   "cell_type": "code",
   "execution_count": 28,
   "metadata": {},
   "outputs": [
    {
     "data": {
      "text/plain": [
       "[(('67', '124'), 0.8946358),\n",
       " (('80', '24'), 0.82308519),\n",
       " (('102', '46'), 0.80518389),\n",
       " (('68', '90'), 0.77409548),\n",
       " (('48', '243'), 0.71765369),\n",
       " (('35', '226'), 0.71225941),\n",
       " (('36', '81'), 0.67035252),\n",
       " (('84', '219'), 0.58986253),\n",
       " (('78', '53'), 0.57222021),\n",
       " (('11', '37'), 0.53219789),\n",
       " (('65', '87'), 0.52614051),\n",
       " (('25', '41'), 0.5185957),\n",
       " (('43', '207'), 0.5073415)]"
      ]
     },
     "execution_count": 28,
     "metadata": {},
     "output_type": "execute_result"
    }
   ],
   "source": [
    "m"
   ]
  },
  {
   "cell_type": "code",
   "execution_count": 29,
   "metadata": {},
   "outputs": [
    {
     "name": "stdout",
     "output_type": "stream",
     "text": [
      "{'description': 'cafeteira expresso 15 bar arno dolce gusto mini magazine luiza', 'title': 'cafeteira expresso 15 bar arno dolce gusto mini vermelha - cafeteira dolce gusto - magazine luiza', 'twitter:title': None, 'og:title': None, 'twitter:description': None, 'og:description': None} {'description': 'cafeteira expresso arno nescafe dolce gusto mini 15 bar cafeteira expresso', 'title': 'cafeteira expresso arno nescafe dolce gu -', 'twitter:title': None, 'og:title': None, 'twitter:description': None, 'og:description': None}\n",
      "{'description': 'ipad pro apple 32gb prata tela 9 7 retina magazine luiza', 'title': 'ipad pro apple 32gb prata tela 9 7 retina wi-fi processador m9 camera 12mp - ipad pro apple - magazine luiza', 'twitter:title': None, 'og:title': None, 'twitter:description': None, 'og:description': None} {'description': 'ipad pro 32gb wi-fi tela retina 9 7', 'title': \"ipad pro 32gb wi-fi tela retina 9 7 '' pra -\", 'twitter:title': None, 'og:title': None, 'twitter:description': None, 'og:description': None}\n",
      "{'description': 'cafeteira expresso 19 bar nespresso inissia magazine luiza', 'title': 'cafeteira expresso 19 bar nespresso inissia vermelha rubi - cafeteira nespresso - magazine luiza', 'twitter:title': None, 'og:title': None, 'twitter:description': None, 'og:description': None} {'description': 'cafeteira expresso nespresso inissia 19 bar - vermelho ruby cafeteira expresso', 'title': 'cafeteira expresso nespresso inissia 19 -', 'twitter:title': None, 'og:title': None, 'twitter:description': None, 'og:description': None}\n",
      "{'description': 'secador cabelo taiff tourmaline ion ceramica magazine luiza', 'title': 'secador cabelo taiff tourmaline ion ceramica 2000w 2 velocidades - secador cabelo - magazine luiza', 'twitter:title': None, 'og:title': None, 'twitter:description': None, 'og:description': None} {'description': 'secador cabelo taiff tourmaline ion ceramica preto - domestico', 'title': 'secador cabelo taiff tourmaline ion c -', 'twitter:title': None, 'og:title': None, 'twitter:description': None, 'og:description': None}\n",
      "{'description': 'purificador agua consul magazine luiza', 'title': 'purificador agua consul indicador troca refil cpc30ab - purificador agua - magazine luiza', 'twitter:title': None, 'og:title': None, 'twitter:description': None, 'og:description': None} {'description': 'purificador agua consul cpc30ab branco purificador agua', 'title': 'purificador agua consul cpc30ab branco -', 'twitter:title': None, 'og:title': None, 'twitter:description': None, 'og:description': None}\n",
      "{'description': 'multifuncional hp ink advantage ultra 2136 magazine luiza', 'title': 'multifuncional hp ink advantage ultra 2136 jato tinta colorida - impressora multifuncional - magazine luiza', 'twitter:title': None, 'og:title': None, 'twitter:description': None, 'og:description': None} {'description': 'multifuncional hp deskjet ink advantage 2136 multifuncional jato', 'title': 'multifuncional hp deskjet ink advantage -', 'twitter:title': None, 'og:title': None, 'twitter:description': None, 'og:description': None}\n",
      "{'description': 'roteador wireless tp-link tl-wr720n magazine luiza', 'title': 'roteador wireless tp-link tl-wr720n 150mbps 1 antena 3 portas - roteador - magazine luiza', 'twitter:title': None, 'og:title': None, 'twitter:description': None, 'og:description': None} {'description': 'roteador wireless tp-link tl-wr720n 150mbps 2 portas roteador', 'title': 'roteador wireless tp-link tl-wr720n 150m -', 'twitter:title': None, 'og:title': None, 'twitter:description': None, 'og:description': None}\n",
      "{'description': 'geladeira/refrigerador brastemp frost free duplex magazine luiza', 'title': 'geladeira/refrigerador brastemp frost free duplex 429l ative brm50nbana branco - geladeira/refrigerador frost free - magazine luiza', 'twitter:title': None, 'og:title': None, 'twitter:description': None, 'og:description': None} {'description': 'geladeira / refrigerador brastemp duplex ative frost free frost free', 'title': 'geladeira / refrigerador brastemp duplex -', 'twitter:title': None, 'og:title': None, 'twitter:description': None, 'og:description': None}\n",
      "{'description': 'climatizador ar ventisol frio umidificador magazine luiza', 'title': 'climatizador ar ventisol frio umidificador ionizador / ventilador 3 velocidades junior clm - climatizador ar - magazine luiza', 'twitter:title': None, 'og:title': None, 'twitter:description': None, 'og:description': None} {'description': 'climatizador ar portatil umidificador elgin branco frio climatizador', 'title': 'climatizador ar portatil umidificad -', 'twitter:title': None, 'og:title': None, 'twitter:description': None, 'og:description': None}\n",
      "{'description': \"smart tv led 49 '' 4k lg 49uh6100 ultra hd magazine luiza\", 'title': \"smart tv led 49 '' 4k lg 49uh6100 ultra hd conversor integrado 3 hdmi 1 usb wi-fi - tv 4k - magazine luiza\", 'twitter:title': None, 'og:title': None, 'twitter:description': None, 'og:description': None} {'description': 'smart tv led 49', 'title': \"smart tv led 49 '' lg 49uh6100 ultra hd 4k -\", 'twitter:title': None, 'og:title': None, 'twitter:description': None, 'og:description': None}\n",
      "{'description': \"iphone 6 apple 16gb cinza espacial tela 4 7 '' magazine luiza\", 'title': \"iphone 6 apple 16gb cinza espacial tela 4 7 '' retina 4g camera 8mp + frontal ios 10 proc m8 - iphone 6 iphone 6 plus - magazine luiza\", 'twitter:title': None, 'og:title': None, 'twitter:description': None, 'og:description': None} {'description': 'iphone 6 16gb prata tela retina hd 4 7', 'title': \"iphone 6 16gb prata tela retina hd 4 7 '' -\", 'twitter:title': None, 'og:title': None, 'twitter:description': None, 'og:description': None}\n",
      "{'description': 'smartphone samsung galaxy s8+ 64gb prata dual chip magazine luiza', 'title': \"smartphone samsung galaxy s8+ 64gb prata dual chip 4g cam 12mp + selfie 8mp tela 6 2 '' quad hd - samsung galaxy s8 s8+ - magazine luiza\", 'twitter:title': None, 'og:title': None, 'twitter:description': None, 'og:description': None} {'description': 'smartphone samsung galaxy s8+ dual chip android 7 0 tela galaxy s8 plus', 'title': 'smartphone samsung galaxy s8+ dual chip -', 'twitter:title': None, 'og:title': None, 'twitter:description': None, 'og:description': None}\n",
      "{'description': 'smartphone samsung galaxy j5 duos 16gb dourado magazine luiza', 'title': \"smartphone samsung galaxy j5 duos 16gb dourado dual chip 4g cam 13mp + selfie 5mp flash tela 5 '' - samsung galaxy j5 - magazine luiza\", 'twitter:title': None, 'og:title': None, 'twitter:description': None, 'og:description': None} {'description': 'smartphone samsung galaxy j5 duos dual chip android 5 1 tela galaxy j5', 'title': 'smartphone samsung galaxy j5 duos dual c -', 'twitter:title': None, 'og:title': None, 'twitter:description': None, 'og:description': None}\n"
     ]
    }
   ],
   "source": [
    "for i in m:\n",
    "    print(p[i[0][0]], w[i[0][1]])"
   ]
  },
  {
   "cell_type": "code",
   "execution_count": null,
   "metadata": {
    "collapsed": true
   },
   "outputs": [],
   "source": []
  }
 ],
 "metadata": {
  "kernelspec": {
   "display_name": "Python 3",
   "language": "python",
   "name": "python3"
  },
  "language_info": {
   "codemirror_mode": {
    "name": "ipython",
    "version": 3
   },
   "file_extension": ".py",
   "mimetype": "text/x-python",
   "name": "python",
   "nbconvert_exporter": "python",
   "pygments_lexer": "ipython3",
   "version": "3.6.1"
  }
 },
 "nbformat": 4,
 "nbformat_minor": 2
}
