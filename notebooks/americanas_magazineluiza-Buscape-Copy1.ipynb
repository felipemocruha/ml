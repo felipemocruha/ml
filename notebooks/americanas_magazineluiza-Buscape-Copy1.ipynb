{
 "cells": [
  {
   "cell_type": "code",
   "execution_count": 15,
   "metadata": {
    "collapsed": true
   },
   "outputs": [],
   "source": [
    "import dedupe\n",
    "import json\n",
    "from cytoolz import *\n",
    "from copy import copy\n",
    "import re\n",
    "import nltk\n",
    "from bs4 import BeautifulSoup\n",
    "from nltk.tokenize import word_tokenize\n",
    "from urllib.parse import urlparse\n",
    "from unicodedata import normalize"
   ]
  },
  {
   "cell_type": "code",
   "execution_count": 16,
   "metadata": {
    "collapsed": true
   },
   "outputs": [],
   "source": [
    "fields = [{'field': 'description', 'type': 'String', 'has missing': True},\n",
    "          {'field': 'description', 'type': 'Text', 'has missing': True},\n",
    "          {'field': 'price', 'type': 'Price', 'has missing': True}]\n",
    "\n",
    "\n",
    "def tokenize_url(url):\n",
    "    path = urlparse(url).path\n",
    "    path = path.replace('/', ' ')\n",
    "    path = path.replace('-', ' ')\n",
    "    return word_tokenize(path)\n",
    "\n",
    "\n",
    "def remove_accents(input_str):\n",
    "    return normalize('NFKD', input_str).encode('ascii', 'ignore').decode()\n",
    "\n",
    "\n",
    "def sanitize_string(input_str):\n",
    "    pattern = r'[?|&|!|@|#|;|*|~|(|)|´|^|\\r|\\n|\\t]'\n",
    "    return clean_string(re.sub(pattern, r'', remove_accents(input_str.lower())))\n",
    "\n",
    "\n",
    "def clean_string(input_str):\n",
    "    unuseful = set(['confira', 'compre', 'oferta', 'novo',\n",
    "                    'preco', 'agora', 'melhores', 'aqui',\n",
    "                    'aproveite', 'menor', 'maior', 'encontra',\n",
    "                    'site', 'condicoes', 'ofertas', 'imbativeis',\n",
    "                    'vendas', 'online', 'novo', 'nova', 'tecnologia',\n",
    "                    'precos', 'pagamento', 'melhor', 'veja', 'encontre',\n",
    "                    'menores', 'vem', 'venha', 'ver'])\n",
    "\n",
    "    names = set(['walmart', 'walmart.com', 'shoptime', 'shoptime.com',\n",
    "                 'pontofrio', 'pontofrio.com', 'magazineluiza', 'magazineluiza.com',\n",
    "                 'magazine luiza', 'americanas', 'americanas.com', 'submarino',\n",
    "                 'submarino.com', 'extra', 'extra.com.br', 'casas bahia', 'casasbahia.com.br'])\n",
    "\n",
    "    stopwords = [remove_accents(s) for s in nltk.corpus.stopwords.words('portuguese')]\n",
    "    repl = list(concat([unuseful, names, stopwords]))\n",
    "    tk = word_tokenize(input_str)\n",
    "    return ' '.join([word for word in tk if word not in repl])\n",
    "\n",
    "\n",
    "def preprocess(item):\n",
    "    return {'description': sanitize_string(item['description']), 'price': float(sanitize_string(item['price']))}"
   ]
  },
  {
   "cell_type": "code",
   "execution_count": 17,
   "metadata": {
    "collapsed": true
   },
   "outputs": [],
   "source": [
    "with open('../data/americanas/buscape.json') as f:\n",
    "    walmart = [preprocess(dissoc(item, 'image')) for item in json.loads(f.read())['products']]\n",
    "\n",
    "with open('../data/magazineluiza/buscape.json') as f:\n",
    "    submarino = [preprocess(dissoc(item, 'image')) for item in json.loads(f.read())['products']]"
   ]
  },
  {
   "cell_type": "code",
   "execution_count": 18,
   "metadata": {
    "collapsed": true
   },
   "outputs": [],
   "source": [
    "p = {str(i): walmart[i] for i in range(len(walmart))}\n",
    "w = {str(i): submarino[i] for i in range(len(submarino))}"
   ]
  },
  {
   "cell_type": "code",
   "execution_count": 19,
   "metadata": {
    "scrolled": true
   },
   "outputs": [
    {
     "name": "stderr",
     "output_type": "stream",
     "text": [
      "description : kit reparo piscina 106400 . 0824175\n",
      "price : 14.9\n",
      "\n",
      "description : kit reparo balanca traseira peugeot 206 207 1.4 1.6 todos barra estabilizadora\n",
      "price : 105.9\n",
      "\n",
      "0/10 positive, 0/10 negative\n",
      "Do these records refer to the same thing?\n",
      "(y)es / (n)o / (u)nsure / (f)inished\n"
     ]
    },
    {
     "name": "stdout",
     "output_type": "stream",
     "text": [
      "n\n"
     ]
    },
    {
     "name": "stderr",
     "output_type": "stream",
     "text": [
      "description : tapete aviao - castor 8372374\n",
      "price : 59.9\n",
      "\n",
      "description : tapete personalizado nissan x - terra 2009 2012 preto 5 pcs + trava seguranca\n",
      "price : 59.9\n",
      "\n",
      "0/10 positive, 1/10 negative\n",
      "Do these records refer to the same thing?\n",
      "(y)es / (n)o / (u)nsure / (f)inished / (p)revious\n"
     ]
    },
    {
     "name": "stdout",
     "output_type": "stream",
     "text": [
      "n\n"
     ]
    },
    {
     "name": "stderr",
     "output_type": "stream",
     "text": [
      "description : escova dental colgate smiles 5+ anos 8306039\n",
      "price : 17.19\n",
      "\n",
      "description : escova dental colgate smiles 5 anos\n",
      "price : 14.99\n",
      "\n",
      "0/10 positive, 2/10 negative\n",
      "Do these records refer to the same thing?\n",
      "(y)es / (n)o / (u)nsure / (f)inished / (p)revious\n"
     ]
    },
    {
     "name": "stdout",
     "output_type": "stream",
     "text": [
      "y\n"
     ]
    },
    {
     "name": "stderr",
     "output_type": "stream",
     "text": [
      "description : escova dental closeup ultra reach media 1 unidade 8253885\n",
      "price : 16.47\n",
      "\n",
      "description : escova dental close up ultra reach media\n",
      "price : 14.44\n",
      "\n",
      "1/10 positive, 2/10 negative\n",
      "Do these records refer to the same thing?\n",
      "(y)es / (n)o / (u)nsure / (f)inished / (p)revious\n"
     ]
    },
    {
     "name": "stdout",
     "output_type": "stream",
     "text": [
      "y\n"
     ]
    },
    {
     "name": "stderr",
     "output_type": "stream",
     "text": [
      "description : comoda infantil 4 gavetas bb 500 bco . 0838507\n",
      "price : 269.99\n",
      "\n",
      "description : criado infantil 4 gavetas\n",
      "price : 420.0\n",
      "\n",
      "2/10 positive, 2/10 negative\n",
      "Do these records refer to the same thing?\n",
      "(y)es / (n)o / (u)nsure / (f)inished / (p)revious\n"
     ]
    },
    {
     "name": "stdout",
     "output_type": "stream",
     "text": [
      "n\n"
     ]
    },
    {
     "name": "stderr",
     "output_type": "stream",
     "text": [
      "description : adesivo soleira resinada ranger 13 16 cabine dupla 4 pecas preto cromo 8588438\n",
      "price : 65.9\n",
      "\n",
      "description : adesivo soleira resinada gol g3 g4 g5 g6 00 16 4 pecas preto cromo\n",
      "price : 49.9\n",
      "\n",
      "2/10 positive, 3/10 negative\n",
      "Do these records refer to the same thing?\n",
      "(y)es / (n)o / (u)nsure / (f)inished / (p)revious\n"
     ]
    },
    {
     "name": "stdout",
     "output_type": "stream",
     "text": [
      "n\n"
     ]
    },
    {
     "name": "stderr",
     "output_type": "stream",
     "text": [
      "description : escova dental closeup ultra reach media 1 unidade 8253885\n",
      "price : 16.47\n",
      "\n",
      "description : escova dental close up ultra reach macia\n",
      "price : 14.44\n",
      "\n",
      "2/10 positive, 4/10 negative\n",
      "Do these records refer to the same thing?\n",
      "(y)es / (n)o / (u)nsure / (f)inished / (p)revious\n"
     ]
    },
    {
     "name": "stdout",
     "output_type": "stream",
     "text": [
      "y\n"
     ]
    },
    {
     "name": "stderr",
     "output_type": "stream",
     "text": [
      "description : escova dental closeup ultra reach macia 1 unidade 8207840\n",
      "price : 16.47\n",
      "\n",
      "description : escova dental close up ultra reach macia\n",
      "price : 14.44\n",
      "\n",
      "3/10 positive, 4/10 negative\n",
      "Do these records refer to the same thing?\n",
      "(y)es / (n)o / (u)nsure / (f)inished / (p)revious\n"
     ]
    },
    {
     "name": "stdout",
     "output_type": "stream",
     "text": [
      "y\n"
     ]
    },
    {
     "name": "stderr",
     "output_type": "stream",
     "text": [
      "description : cama solteiro cama auxiliar cm bco / bco / pto . 1232793\n",
      "price : 449.1\n",
      "\n",
      "description : cama solteiro vital\n",
      "price : 254.2\n",
      "\n",
      "4/10 positive, 4/10 negative\n",
      "Do these records refer to the same thing?\n",
      "(y)es / (n)o / (u)nsure / (f)inished / (p)revious\n"
     ]
    },
    {
     "name": "stdout",
     "output_type": "stream",
     "text": [
      "n\n"
     ]
    },
    {
     "name": "stderr",
     "output_type": "stream",
     "text": [
      "description : calca motocross pro tork insane 4 amarela roxa trilha - tamanho 42 8507281\n",
      "price : 126.88\n",
      "\n",
      "description : calca motocross pro tork insane 4 vermelha cinza trilha\n",
      "price : 106.9\n",
      "\n",
      "4/10 positive, 5/10 negative\n",
      "Do these records refer to the same thing?\n",
      "(y)es / (n)o / (u)nsure / (f)inished / (p)revious\n"
     ]
    },
    {
     "name": "stdout",
     "output_type": "stream",
     "text": [
      "y\n"
     ]
    },
    {
     "name": "stderr",
     "output_type": "stream",
     "text": [
      "description : calca motocross pro tork insane 4 amarela roxa trilha - tamanho 54 8558621\n",
      "price : 126.88\n",
      "\n",
      "description : calca motocross pro tork insane 3 azul trilha\n",
      "price : 99.9\n",
      "\n",
      "5/10 positive, 5/10 negative\n",
      "Do these records refer to the same thing?\n",
      "(y)es / (n)o / (u)nsure / (f)inished / (p)revious\n"
     ]
    },
    {
     "name": "stdout",
     "output_type": "stream",
     "text": [
      "y\n"
     ]
    },
    {
     "name": "stderr",
     "output_type": "stream",
     "text": [
      "description : kit emblema resinado chevrolet dourado fosco fundo dourado 10,5x3,7cm 25 pecas 8503538\n",
      "price : 114.75\n",
      "\n",
      "description : kit emblema resinado chevrolet dourado fosco borda cromada 9,5x3,5cm 10 pecas\n",
      "price : 54.9\n",
      "\n",
      "6/10 positive, 5/10 negative\n",
      "Do these records refer to the same thing?\n",
      "(y)es / (n)o / (u)nsure / (f)inished / (p)revious\n"
     ]
    },
    {
     "name": "stdout",
     "output_type": "stream",
     "text": [
      "n\n"
     ]
    },
    {
     "name": "stderr",
     "output_type": "stream",
     "text": [
      "description : camisa motocross pro tork insane 5 branco preto trilha - tamanho gg 8561531\n",
      "price : 38.9\n",
      "\n",
      "description : calca motocross pro tork insane 3 azul trilha\n",
      "price : 99.9\n",
      "\n",
      "6/10 positive, 6/10 negative\n",
      "Do these records refer to the same thing?\n",
      "(y)es / (n)o / (u)nsure / (f)inished / (p)revious\n"
     ]
    },
    {
     "name": "stdout",
     "output_type": "stream",
     "text": [
      "n\n"
     ]
    },
    {
     "name": "stderr",
     "output_type": "stream",
     "text": [
      "description : emblema chevrolet gravata dourada modelo corsa sedan 2010 2011 porta - malas 9131031\n",
      "price : 14.9\n",
      "\n",
      "description : emblema chevrolet gravata dourada 5,3x2,0cm\n",
      "price : 3.9\n",
      "\n",
      "6/10 positive, 7/10 negative\n",
      "Do these records refer to the same thing?\n",
      "(y)es / (n)o / (u)nsure / (f)inished / (p)revious\n"
     ]
    },
    {
     "name": "stdout",
     "output_type": "stream",
     "text": [
      "u\n"
     ]
    },
    {
     "name": "stderr",
     "output_type": "stream",
     "text": [
      "description : teclado gamer multimidia g910 orion spark 920 - 006385 . 2170532\n",
      "price : 1022.91\n",
      "\n",
      "description : teclado gamer logitech g910 orion spark fio\n",
      "price : 1209.99\n",
      "\n",
      "6/10 positive, 7/10 negative\n",
      "Do these records refer to the same thing?\n",
      "(y)es / (n)o / (u)nsure / (f)inished / (p)revious\n"
     ]
    },
    {
     "name": "stdout",
     "output_type": "stream",
     "text": [
      "n\n"
     ]
    },
    {
     "name": "stderr",
     "output_type": "stream",
     "text": [
      "description : escova dental colgate twister ultra completo 3 unidades 8332615\n",
      "price : 15.35\n",
      "\n",
      "description : escova dental colgate dr. rabbit\n",
      "price : 3.49\n",
      "\n",
      "6/10 positive, 8/10 negative\n",
      "Do these records refer to the same thing?\n",
      "(y)es / (n)o / (u)nsure / (f)inished / (p)revious\n"
     ]
    },
    {
     "name": "stdout",
     "output_type": "stream",
     "text": [
      "n\n"
     ]
    },
    {
     "name": "stderr",
     "output_type": "stream",
     "text": [
      "description : kit cabelo manteiga la bella liss shampoo 500ml , mascara 950g leave - in 150g 8365894\n",
      "price : 148.7\n",
      "\n",
      "description : kit sobrevivencia\n",
      "price : 229.9\n",
      "\n",
      "6/10 positive, 9/10 negative\n",
      "Do these records refer to the same thing?\n",
      "(y)es / (n)o / (u)nsure / (f)inished / (p)revious\n"
     ]
    },
    {
     "name": "stdout",
     "output_type": "stream",
     "text": [
      "n\n"
     ]
    },
    {
     "name": "stderr",
     "output_type": "stream",
     "text": [
      "description : calca motocross pro tork insane 4 amarela roxa trilha - tamanho 42 8507281\n",
      "price : 126.88\n",
      "\n",
      "description : calca motocross pro tork connect spice trilha\n",
      "price : 264.9\n",
      "\n",
      "6/10 positive, 10/10 negative\n",
      "Do these records refer to the same thing?\n",
      "(y)es / (n)o / (u)nsure / (f)inished / (p)revious\n"
     ]
    },
    {
     "name": "stdout",
     "output_type": "stream",
     "text": [
      "y\n"
     ]
    },
    {
     "name": "stderr",
     "output_type": "stream",
     "text": [
      "description : calca motocross pro tork insane 4 amarela roxa trilha - tamanho 40 8535169\n",
      "price : 126.88\n",
      "\n",
      "description : calca motocross pro tork connect spice trilha\n",
      "price : 264.9\n",
      "\n",
      "7/10 positive, 10/10 negative\n",
      "Do these records refer to the same thing?\n",
      "(y)es / (n)o / (u)nsure / (f)inished / (p)revious\n"
     ]
    },
    {
     "name": "stdout",
     "output_type": "stream",
     "text": [
      "y\n"
     ]
    },
    {
     "name": "stderr",
     "output_type": "stream",
     "text": [
      "description : adesivo soleira resinada c3 03 17 4 pecas preto cromo 8507409\n",
      "price : 42.9\n",
      "\n",
      "description : adesivo soleira resinada gol g3 g4 g5 g6 00 16 4 pecas preto cromo\n",
      "price : 49.9\n",
      "\n",
      "8/10 positive, 10/10 negative\n",
      "Do these records refer to the same thing?\n",
      "(y)es / (n)o / (u)nsure / (f)inished / (p)revious\n"
     ]
    },
    {
     "name": "stdout",
     "output_type": "stream",
     "text": [
      "n\n"
     ]
    },
    {
     "name": "stderr",
     "output_type": "stream",
     "text": [
      "description : dvd player trc dvd 170 karaoke usb dvd 170 . 2152667\n",
      "price : 129.0\n",
      "\n",
      "description : dvd - amarcord\n",
      "price : 32.99\n",
      "\n",
      "8/10 positive, 11/10 negative\n",
      "Do these records refer to the same thing?\n",
      "(y)es / (n)o / (u)nsure / (f)inished / (p)revious\n"
     ]
    },
    {
     "name": "stdout",
     "output_type": "stream",
     "text": [
      "n\n"
     ]
    },
    {
     "name": "stderr",
     "output_type": "stream",
     "text": [
      "description : lampada bulbo led - 12w - e27 - branco frio - bivolt 9250797\n",
      "price : 15.2\n",
      "\n",
      "description : lampada h4 24v 70w\n",
      "price : 12.5\n",
      "\n",
      "8/10 positive, 12/10 negative\n",
      "Do these records refer to the same thing?\n",
      "(y)es / (n)o / (u)nsure / (f)inished / (p)revious\n"
     ]
    },
    {
     "name": "stdout",
     "output_type": "stream",
     "text": [
      "n\n"
     ]
    },
    {
     "name": "stderr",
     "output_type": "stream",
     "text": [
      "description : vibrador gasolina concreto , potencia 5,5 hp , motor ge 550 - v55 - g 8300391\n",
      "price : 859.0\n",
      "\n",
      "description : motor gasolina nagano nmg65\n",
      "price : 969.99\n",
      "\n",
      "8/10 positive, 13/10 negative\n",
      "Do these records refer to the same thing?\n",
      "(y)es / (n)o / (u)nsure / (f)inished / (p)revious\n"
     ]
    },
    {
     "name": "stdout",
     "output_type": "stream",
     "text": [
      "n\n"
     ]
    },
    {
     "name": "stderr",
     "output_type": "stream",
     "text": [
      "description : dvd player philips dvp2880x / 78 divx ultra hdmi dvp2880x / 78 . 1907580\n",
      "price : 169.0\n",
      "\n",
      "description : dvd alma pudor\n",
      "price : 47.99\n",
      "\n",
      "8/10 positive, 14/10 negative\n",
      "Do these records refer to the same thing?\n",
      "(y)es / (n)o / (u)nsure / (f)inished / (p)revious\n"
     ]
    },
    {
     "name": "stdout",
     "output_type": "stream",
     "text": [
      "n\n"
     ]
    },
    {
     "name": "stderr",
     "output_type": "stream",
     "text": [
      "description : escova dental colgate smiles 5+ anos 8306039\n",
      "price : 17.19\n",
      "\n",
      "description : escova dental colgate dr. rabbit\n",
      "price : 3.49\n",
      "\n",
      "8/10 positive, 15/10 negative\n",
      "Do these records refer to the same thing?\n",
      "(y)es / (n)o / (u)nsure / (f)inished / (p)revious\n"
     ]
    },
    {
     "name": "stdout",
     "output_type": "stream",
     "text": [
      "n\n"
     ]
    },
    {
     "name": "stderr",
     "output_type": "stream",
     "text": [
      "description : lampada super led multilaser hb4 12v 30w 6200k - au831 - neutro 9149788\n",
      "price : 143.91\n",
      "\n",
      "description : kit lampada super led h13 12v 32w 6000k\n",
      "price : 105.0\n",
      "\n",
      "8/10 positive, 16/10 negative\n",
      "Do these records refer to the same thing?\n",
      "(y)es / (n)o / (u)nsure / (f)inished / (p)revious\n"
     ]
    },
    {
     "name": "stdout",
     "output_type": "stream",
     "text": [
      "n\n"
     ]
    },
    {
     "name": "stderr",
     "output_type": "stream",
     "text": [
      "description : escova dental oral - b 3d white advantage 2 unidades 8379904\n",
      "price : 17.09\n",
      "\n",
      "description : escova dental oral - b indicator plus 40 - 2 unidades\n",
      "price : 12.99\n",
      "\n",
      "8/10 positive, 17/10 negative\n",
      "Do these records refer to the same thing?\n",
      "(y)es / (n)o / (u)nsure / (f)inished / (p)revious\n"
     ]
    },
    {
     "name": "stdout",
     "output_type": "stream",
     "text": [
      "u\n"
     ]
    },
    {
     "name": "stderr",
     "output_type": "stream",
     "text": [
      "description : dvd player philips dvp2880x / 78 divx ultra hdmi dvp2880x / 78 . 1907580\n",
      "price : 169.0\n",
      "\n",
      "description : dvd - amarcord\n",
      "price : 32.99\n",
      "\n",
      "8/10 positive, 17/10 negative\n",
      "Do these records refer to the same thing?\n",
      "(y)es / (n)o / (u)nsure / (f)inished / (p)revious\n"
     ]
    },
    {
     "name": "stdout",
     "output_type": "stream",
     "text": [
      "n\n"
     ]
    },
    {
     "name": "stderr",
     "output_type": "stream",
     "text": [
      "description : vela ngk dcpr8eix bmw / ducati / harley / ktm iridium 8285994\n",
      "price : 59.8\n",
      "\n",
      "description : vela ngk cr9ehix9 6216\n",
      "price : 59.8\n",
      "\n",
      "8/10 positive, 18/10 negative\n",
      "Do these records refer to the same thing?\n",
      "(y)es / (n)o / (u)nsure / (f)inished / (p)revious\n"
     ]
    },
    {
     "name": "stdout",
     "output_type": "stream",
     "text": [
      "n\n"
     ]
    },
    {
     "name": "stderr",
     "output_type": "stream",
     "text": [
      "description : guarda - roupa infantils 2 portas fofinho art in moveis branco 8368822\n",
      "price : 319.89\n",
      "\n",
      "description : guarda roupa infantil rubi 4 portas - canaa\n",
      "price : 1195.2\n",
      "\n",
      "8/10 positive, 19/10 negative\n",
      "Do these records refer to the same thing?\n",
      "(y)es / (n)o / (u)nsure / (f)inished / (p)revious\n"
     ]
    },
    {
     "name": "stdout",
     "output_type": "stream",
     "text": [
      "n\n"
     ]
    },
    {
     "name": "stderr",
     "output_type": "stream",
     "text": [
      "description : guarda - roupa solteiro 4 portas 3 gavetas 150533 . 2167001\n",
      "price : 432.9\n",
      "\n",
      "description : guarda roupa solteiro 2 portas 3 gavetas thor moveis horizonte freijo dourado\n",
      "price : 1099.9\n",
      "\n",
      "8/10 positive, 20/10 negative\n",
      "Do these records refer to the same thing?\n",
      "(y)es / (n)o / (u)nsure / (f)inished / (p)revious\n"
     ]
    },
    {
     "name": "stdout",
     "output_type": "stream",
     "text": [
      "n\n"
     ]
    },
    {
     "name": "stderr",
     "output_type": "stream",
     "text": [
      "description : escova dental oral - b complete 40 2 unidades 8212826\n",
      "price : 10.91\n",
      "\n",
      "description : escova dental oral - b indicator plus 40 - 2 unidades\n",
      "price : 12.99\n",
      "\n",
      "8/10 positive, 21/10 negative\n",
      "Do these records refer to the same thing?\n",
      "(y)es / (n)o / (u)nsure / (f)inished / (p)revious\n"
     ]
    },
    {
     "name": "stdout",
     "output_type": "stream",
     "text": [
      "y\n"
     ]
    },
    {
     "name": "stderr",
     "output_type": "stream",
     "text": [
      "description : radio portatil am / fm 20 faixas c / entrada auxiliar bd 112 ba . 2152164\n",
      "price : 152.1\n",
      "\n",
      "description : sos agua\n",
      "price : 32.9\n",
      "\n",
      "9/10 positive, 21/10 negative\n",
      "Do these records refer to the same thing?\n",
      "(y)es / (n)o / (u)nsure / (f)inished / (p)revious\n"
     ]
    },
    {
     "name": "stdout",
     "output_type": "stream",
     "text": [
      "n\n"
     ]
    },
    {
     "name": "stderr",
     "output_type": "stream",
     "text": [
      "description : camisa motocross pro tork insane 5 branco preto trilha - tamanho gg 8561531\n",
      "price : 38.9\n",
      "\n",
      "description : camisa jett tattooed - pro tork\n",
      "price : 43.9\n",
      "\n",
      "9/10 positive, 22/10 negative\n",
      "Do these records refer to the same thing?\n",
      "(y)es / (n)o / (u)nsure / (f)inished / (p)revious\n"
     ]
    },
    {
     "name": "stdout",
     "output_type": "stream",
     "text": [
      "n\n"
     ]
    },
    {
     "name": "stderr",
     "output_type": "stream",
     "text": [
      "description : guarda - roupa casal 8 portas 6 gavetas 120780 . 2167034\n",
      "price : 1169.99\n",
      "\n",
      "description : guarda roupa casal 3 portas 6 gavetas natus moveis horizonte canela\n",
      "price : 1599.9\n",
      "\n",
      "9/10 positive, 23/10 negative\n",
      "Do these records refer to the same thing?\n",
      "(y)es / (n)o / (u)nsure / (f)inished / (p)revious\n"
     ]
    },
    {
     "name": "stdout",
     "output_type": "stream",
     "text": [
      "n\n"
     ]
    },
    {
     "name": "stderr",
     "output_type": "stream",
     "text": [
      "description : guarda - roupa casal 8 portas 6 gavetas 120700 . 2167033\n",
      "price : 1169.99\n",
      "\n",
      "description : guarda roupa casal 3 portas 6 gavetas natus moveis horizonte canela\n",
      "price : 1599.9\n",
      "\n",
      "9/10 positive, 24/10 negative\n",
      "Do these records refer to the same thing?\n",
      "(y)es / (n)o / (u)nsure / (f)inished / (p)revious\n"
     ]
    },
    {
     "name": "stdout",
     "output_type": "stream",
     "text": [
      "n\n"
     ]
    },
    {
     "name": "stderr",
     "output_type": "stream",
     "text": [
      "description : camisa motocross pro tork insane 100 preta trilha - tamanho m 8505172\n",
      "price : 40.9\n",
      "\n",
      "description : camisa pro tork insane 3 azul motocross\n",
      "price : 39.9\n",
      "\n",
      "9/10 positive, 25/10 negative\n",
      "Do these records refer to the same thing?\n",
      "(y)es / (n)o / (u)nsure / (f)inished / (p)revious\n"
     ]
    },
    {
     "name": "stdout",
     "output_type": "stream",
     "text": [
      "y\n"
     ]
    },
    {
     "name": "stderr",
     "output_type": "stream",
     "text": [
      "description : guarda - roupa casal 3 portas correr 3 gavetas 4013 - 166 . 2145710\n",
      "price : 1079.99\n",
      "\n",
      "description : ponte modulada casal 3 portas nobre\n",
      "price : 548.86\n",
      "\n",
      "10/10 positive, 25/10 negative\n",
      "Do these records refer to the same thing?\n",
      "(y)es / (n)o / (u)nsure / (f)inished / (p)revious\n"
     ]
    },
    {
     "name": "stdout",
     "output_type": "stream",
     "text": [
      "n\n"
     ]
    },
    {
     "name": "stderr",
     "output_type": "stream",
     "text": [
      "description : guarda - roupa / comoda compacto 2 portas fofinho rp5040 li art in moveis lilas 8298672\n",
      "price : 469.9\n",
      "\n",
      "description : guarda - roupa comoda quarto compacto rp5040 branco / rosa - art in moveis\n",
      "price : 579.9\n",
      "\n",
      "10/10 positive, 26/10 negative\n",
      "Do these records refer to the same thing?\n",
      "(y)es / (n)o / (u)nsure / (f)inished / (p)revious\n"
     ]
    },
    {
     "name": "stdout",
     "output_type": "stream",
     "text": [
      "y\n"
     ]
    },
    {
     "name": "stderr",
     "output_type": "stream",
     "text": [
      "description : guarda - roupa casal 5 portas 4 gavetas 101883 . 2167004\n",
      "price : 622.03\n",
      "\n",
      "description : guarda - roupa casal santos andira star 5 portas 3 gavetas espelho - branco opcao rosa\n",
      "price : 499.9\n",
      "\n",
      "11/10 positive, 26/10 negative\n",
      "Do these records refer to the same thing?\n",
      "(y)es / (n)o / (u)nsure / (f)inished / (p)revious\n"
     ]
    },
    {
     "name": "stdout",
     "output_type": "stream",
     "text": [
      "n\n"
     ]
    },
    {
     "name": "stderr",
     "output_type": "stream",
     "text": [
      "description : sofa retratil reclinavel 2 lugares suede cor 592 azul . 1219204\n",
      "price : 1259.1\n",
      "\n",
      "description : sofa retratil 2 lugares tauri suede liso prata\n",
      "price : 1189.0\n",
      "\n",
      "11/10 positive, 27/10 negative\n",
      "Do these records refer to the same thing?\n",
      "(y)es / (n)o / (u)nsure / (f)inished / (p)revious\n"
     ]
    },
    {
     "name": "stdout",
     "output_type": "stream",
     "text": [
      "n\n"
     ]
    },
    {
     "name": "stderr",
     "output_type": "stream",
     "text": [
      "description : colchao solteiro americanflex espuma d28 88x188cm 5012807 . 2161338\n",
      "price : 461.69\n",
      "\n",
      "description : colchao solteiro espuma certificada d28 78x188x14\n",
      "price : 349.0\n",
      "\n",
      "11/10 positive, 28/10 negative\n",
      "Do these records refer to the same thing?\n",
      "(y)es / (n)o / (u)nsure / (f)inished / (p)revious\n"
     ]
    },
    {
     "name": "stdout",
     "output_type": "stream",
     "text": [
      "n\n"
     ]
    },
    {
     "name": "stderr",
     "output_type": "stream",
     "text": [
      "description : par palhetas limpador - brisa bosch aerotwin plus bmw m 6 coupe f 13 2012 diante - ap26 / ap17 8262901\n",
      "price : 164.9\n",
      "\n",
      "description : palhetas limpador parabrisa bosch aerotwin plus ap19m + ap24m jaguar xf - 2010\n",
      "price : 139.9\n",
      "\n",
      "11/10 positive, 29/10 negative\n",
      "Do these records refer to the same thing?\n",
      "(y)es / (n)o / (u)nsure / (f)inished / (p)revious\n"
     ]
    },
    {
     "name": "stdout",
     "output_type": "stream",
     "text": [
      "n\n"
     ]
    },
    {
     "name": "stderr",
     "output_type": "stream",
     "text": [
      "description : sofa retratil 3 lugares suede verona verona 3l 1707 . 1219195\n",
      "price : 899.91\n",
      "\n",
      "description : sofa retratil 3 lugares tauri suede liso preto\n",
      "price : 1669.0\n",
      "\n",
      "11/10 positive, 30/10 negative\n",
      "Do these records refer to the same thing?\n",
      "(y)es / (n)o / (u)nsure / (f)inished / (p)revious\n"
     ]
    },
    {
     "name": "stdout",
     "output_type": "stream",
     "text": [
      "n\n"
     ]
    },
    {
     "name": "stderr",
     "output_type": "stream",
     "text": [
      "description : guarda - roupa casal 6 portas 6 gavetas 149983 . 2161675\n",
      "price : 647.1\n",
      "\n",
      "description : guarda roupa casal 6 portas 8 gavetas espelho coliseu moveis horizonte canela\n",
      "price : 1899.9\n",
      "\n",
      "11/10 positive, 31/10 negative\n",
      "Do these records refer to the same thing?\n",
      "(y)es / (n)o / (u)nsure / (f)inished / (p)revious\n"
     ]
    },
    {
     "name": "stdout",
     "output_type": "stream",
     "text": [
      "n\n"
     ]
    },
    {
     "name": "stderr",
     "output_type": "stream",
     "text": [
      "description : guarda - roupa casal 6 portas 6 gavetas 149983 . 2161675\n",
      "price : 647.1\n",
      "\n",
      "description : guarda roupa casal 6 portas 8 gavetas espelho coliseu moveis horizonte branco\n",
      "price : 1899.9\n",
      "\n",
      "11/10 positive, 32/10 negative\n",
      "Do these records refer to the same thing?\n",
      "(y)es / (n)o / (u)nsure / (f)inished / (p)revious\n"
     ]
    },
    {
     "name": "stdout",
     "output_type": "stream",
     "text": [
      "n\n"
     ]
    },
    {
     "name": "stderr",
     "output_type": "stream",
     "text": [
      "description : par palhetas limpador - brisa bosch aerotwin plus peugeot 508 2011 diante - ap26 / ap20 8382610\n",
      "price : 164.9\n",
      "\n",
      "description : palhetas limpador parabrisa bosch aerotwin plus ap19m + ap24m jaguar xf - 2010\n",
      "price : 139.9\n",
      "\n",
      "11/10 positive, 33/10 negative\n",
      "Do these records refer to the same thing?\n",
      "(y)es / (n)o / (u)nsure / (f)inished / (p)revious\n"
     ]
    },
    {
     "name": "stdout",
     "output_type": "stream",
     "text": [
      "n\n"
     ]
    },
    {
     "name": "stderr",
     "output_type": "stream",
     "text": [
      "description : calca trek fish grafite g guepardo 8574438\n",
      "price : 208.0\n",
      "\n",
      "description : calca thorre mista\n",
      "price : 219.99\n",
      "\n",
      "11/10 positive, 34/10 negative\n",
      "Do these records refer to the same thing?\n",
      "(y)es / (n)o / (u)nsure / (f)inished / (p)revious\n"
     ]
    },
    {
     "name": "stdout",
     "output_type": "stream",
     "text": [
      "n\n"
     ]
    },
    {
     "name": "stderr",
     "output_type": "stream",
     "text": [
      "description : calca trek fish grafite g guepardo 8574438\n",
      "price : 208.0\n",
      "\n",
      "description : calca triya malha\n",
      "price : 179.99\n",
      "\n",
      "11/10 positive, 35/10 negative\n",
      "Do these records refer to the same thing?\n",
      "(y)es / (n)o / (u)nsure / (f)inished / (p)revious\n"
     ]
    },
    {
     "name": "stdout",
     "output_type": "stream",
     "text": [
      "n\n"
     ]
    },
    {
     "name": "stderr",
     "output_type": "stream",
     "text": [
      "description : camisa motocross pro tork jett hi - vis verde neon - tamanho gg 8535815\n",
      "price : 51.9\n",
      "\n",
      "description : calca motocross jett hi - vis rosa neon pro tork\n",
      "price : 181.9\n",
      "\n",
      "11/10 positive, 36/10 negative\n",
      "Do these records refer to the same thing?\n",
      "(y)es / (n)o / (u)nsure / (f)inished / (p)revious\n"
     ]
    },
    {
     "name": "stdout",
     "output_type": "stream",
     "text": [
      "n\n"
     ]
    },
    {
     "name": "stderr",
     "output_type": "stream",
     "text": [
      "description : camisa motocross pro tork jett hi - vis verde neon - tamanho g 8593374\n",
      "price : 51.9\n",
      "\n",
      "description : calca motocross jett hi - vis rosa neon pro tork\n",
      "price : 181.9\n",
      "\n",
      "11/10 positive, 37/10 negative\n",
      "Do these records refer to the same thing?\n",
      "(y)es / (n)o / (u)nsure / (f)inished / (p)revious\n"
     ]
    },
    {
     "name": "stdout",
     "output_type": "stream",
     "text": [
      "n\n"
     ]
    },
    {
     "name": "stderr",
     "output_type": "stream",
     "text": [
      "description : sofa retratil 2 lugares suede tetra t20 - 474 . 2145645\n",
      "price : 839.61\n",
      "\n",
      "description : sofa retratil 2 lugares tauri suede liso preto\n",
      "price : 1189.0\n",
      "\n",
      "11/10 positive, 38/10 negative\n",
      "Do these records refer to the same thing?\n",
      "(y)es / (n)o / (u)nsure / (f)inished / (p)revious\n"
     ]
    },
    {
     "name": "stdout",
     "output_type": "stream",
     "text": [
      "n\n"
     ]
    },
    {
     "name": "stderr",
     "output_type": "stream",
     "text": [
      "description : beliche madeira macica moveis lencois 078 / imb . 1235025\n",
      "price : 323.99\n",
      "\n",
      "description : bau madeira macica moveis neppel neppel\n",
      "price : 308.95\n",
      "\n",
      "11/10 positive, 39/10 negative\n",
      "Do these records refer to the same thing?\n",
      "(y)es / (n)o / (u)nsure / (f)inished / (p)revious\n"
     ]
    },
    {
     "name": "stdout",
     "output_type": "stream",
     "text": [
      "n\n"
     ]
    },
    {
     "name": "stderr",
     "output_type": "stream",
     "text": [
      "description : guarda roupa casal 6 portas 3 gavetas caju henn malbec 8270409\n",
      "price : 579.9\n",
      "\n",
      "description : guarda roupa casal 6 portas 8 gavetas espelho coliseu moveis horizonte freijo dourado\n",
      "price : 1899.9\n",
      "\n",
      "11/10 positive, 40/10 negative\n",
      "Do these records refer to the same thing?\n",
      "(y)es / (n)o / (u)nsure / (f)inished / (p)revious\n"
     ]
    },
    {
     "name": "stdout",
     "output_type": "stream",
     "text": [
      "n\n"
     ]
    },
    {
     "name": "stderr",
     "output_type": "stream",
     "text": [
      "description : guarda - roupa casal athenas 6 portas 4 gavetas 16554 . 1234973\n",
      "price : 2043.0\n",
      "\n",
      "description : guarda roupa infantil rubi 4 portas - canaa\n",
      "price : 1195.2\n",
      "\n",
      "11/10 positive, 41/10 negative\n",
      "Do these records refer to the same thing?\n",
      "(y)es / (n)o / (u)nsure / (f)inished / (p)revious\n"
     ]
    },
    {
     "name": "stdout",
     "output_type": "stream",
     "text": [
      "f\n"
     ]
    },
    {
     "name": "stderr",
     "output_type": "stream",
     "text": [
      "Finished labeling\n"
     ]
    }
   ],
   "source": [
    "linker = dedupe.RecordLink(fields)\n",
    "linker.sample(p, w)\n",
    "dedupe.consoleLabel(linker)"
   ]
  },
  {
   "cell_type": "code",
   "execution_count": 20,
   "metadata": {},
   "outputs": [
    {
     "name": "stderr",
     "output_type": "stream",
     "text": [
      "INFO:rlr.crossvalidation:using cross validation to find optimum alpha...\n",
      "INFO:rlr.crossvalidation:optimum alpha: 0.100000\n",
      "INFO:dedupe.blocking:Canopy: TfidfNGramSearchPredicate: (0.8, description)\n",
      "INFO:dedupe.blocking:Canopy: TfidfNGramSearchPredicate: (0.4, description)\n",
      "INFO:dedupe.blocking:Canopy: TfidfNGramSearchPredicate: (0.2, description)\n",
      "INFO:dedupe.blocking:Canopy: TfidfNGramSearchPredicate: (0.6, description)\n",
      "INFO:dedupe.blocking:Canopy: LevenshteinSearchPredicate: (1, description)\n",
      "INFO:dedupe.blocking:Canopy: LevenshteinSearchPredicate: (2, description)\n",
      "INFO:dedupe.blocking:Canopy: LevenshteinSearchPredicate: (3, description)\n",
      "INFO:dedupe.blocking:Canopy: LevenshteinSearchPredicate: (4, description)\n",
      "INFO:dedupe.blocking:Canopy: TfidfTextSearchPredicate: (0.8, description)\n",
      "INFO:dedupe.blocking:Canopy: TfidfTextSearchPredicate: (0.6, description)\n",
      "INFO:dedupe.blocking:Canopy: TfidfTextSearchPredicate: (0.2, description)\n",
      "INFO:dedupe.blocking:Canopy: TfidfTextSearchPredicate: (0.4, description)\n",
      "INFO:dedupe.blocking:Canopy: TfidfNGramSearchPredicate: (0.8, description)\n",
      "INFO:dedupe.blocking:Canopy: TfidfNGramSearchPredicate: (0.4, description)\n",
      "INFO:dedupe.blocking:Canopy: TfidfNGramSearchPredicate: (0.2, description)\n",
      "INFO:dedupe.blocking:Canopy: TfidfNGramSearchPredicate: (0.6, description)\n",
      "INFO:dedupe.blocking:Canopy: LevenshteinSearchPredicate: (1, description)\n",
      "INFO:dedupe.blocking:Canopy: LevenshteinSearchPredicate: (2, description)\n",
      "INFO:dedupe.blocking:Canopy: LevenshteinSearchPredicate: (3, description)\n",
      "INFO:dedupe.blocking:Canopy: LevenshteinSearchPredicate: (4, description)\n",
      "INFO:dedupe.blocking:Canopy: TfidfTextSearchPredicate: (0.8, description)\n",
      "INFO:dedupe.blocking:Canopy: TfidfTextSearchPredicate: (0.6, description)\n",
      "INFO:dedupe.blocking:Canopy: TfidfTextSearchPredicate: (0.2, description)\n",
      "INFO:dedupe.blocking:Canopy: TfidfTextSearchPredicate: (0.4, description)\n",
      "INFO:dedupe.training:Final predicate set:\n",
      "INFO:dedupe.training:TfidfNGramSearchPredicate: (0.6, description)\n",
      "INFO:dedupe.training:(SimplePredicate: (commonIntegerPredicate, description), TfidfTextSearchPredicate: (0.6, description))\n"
     ]
    }
   ],
   "source": [
    "linker.train()"
   ]
  },
  {
   "cell_type": "code",
   "execution_count": 24,
   "metadata": {},
   "outputs": [
    {
     "name": "stderr",
     "output_type": "stream",
     "text": [
      "INFO:dedupe.blocking:Canopy: TfidfNGramSearchPredicate: (0.6, description)\n",
      "INFO:dedupe.blocking:Canopy: TfidfTextSearchPredicate: (0.6, description)\n",
      "INFO:dedupe.api:0 records\n",
      "INFO:dedupe.api:100 records\n"
     ]
    }
   ],
   "source": [
    "m = linker.match(p,w, 0.2)"
   ]
  },
  {
   "cell_type": "code",
   "execution_count": 25,
   "metadata": {},
   "outputs": [
    {
     "data": {
      "text/plain": [
       "[(('8700', '2351'), 0.91932768),\n",
       " (('8706', '2353'), 0.81043434),\n",
       " (('8707', '2364'), 0.81043434),\n",
       " (('8576', '3940'), 0.61180764),\n",
       " (('8578', '3942'), 0.57256919),\n",
       " (('3564', '6227'), 0.50662416),\n",
       " (('8577', '3945'), 0.47610179),\n",
       " (('2943', '3863'), 0.46175286),\n",
       " (('2028', '6945'), 0.4521119),\n",
       " (('8703', '2356'), 0.43386456),\n",
       " (('7308', '466'), 0.43194285),\n",
       " (('2032', '6943'), 0.35962871),\n",
       " (('8130', '802'), 0.26454091),\n",
       " (('3565', '6226'), 0.23791718),\n",
       " (('3571', '6212'), 0.21998759)]"
      ]
     },
     "execution_count": 25,
     "metadata": {},
     "output_type": "execute_result"
    }
   ],
   "source": [
    "m"
   ]
  },
  {
   "cell_type": "code",
   "execution_count": 26,
   "metadata": {
    "scrolled": false
   },
   "outputs": [
    {
     "name": "stdout",
     "output_type": "stream",
     "text": [
      "{'description': 'escova dental colgate smiles 5 anos', 'price': 14.99} {'description': 'escova dental colgate smiles 5+ anos 8306039', 'price': 17.19}\n",
      "{'description': 'escova dental close up ultra reach media', 'price': 14.44} {'description': 'escova dental closeup ultra reach media 1 unidade 8253885', 'price': 16.47}\n",
      "{'description': 'escova dental close up ultra reach macia', 'price': 14.44} {'description': 'escova dental closeup ultra reach macia 1 unidade 8207840', 'price': 16.47}\n",
      "{'description': 'calca motocross pro tork insane 4 vermelha cinza trilha', 'price': 106.9} {'description': 'calca motocross pro tork insane 4 amarela roxa trilha - tamanho 38 8522268', 'price': 126.88}\n",
      "{'description': 'calca motocross pro tork insane 3 azul trilha', 'price': 99.9} {'description': 'calca motocross pro tork insane 4 amarela roxa trilha - tamanho 40 8535169', 'price': 126.88}\n",
      "{'description': 'guarda - roupa infantil selena 4 portas 2 gavetas branco - carolina baby', 'price': 1014.9} {'description': 'guarda - roupa infantil 4 portas 2 gavetas 10297 . 2137096', 'price': 1169.99}\n",
      "{'description': 'camisa pro tork insane 3 azul motocross', 'price': 39.9} {'description': 'camisa motocross pro tork insane 5 adulto azul preto trilha - tamanho xgg 8539921', 'price': 38.9}\n",
      "{'description': 'criado infantil 4 gavetas', 'price': 420.0} {'description': 'comoda infantil 4 gavetas bb 500 bco . 0838507', 'price': 269.99}\n",
      "{'description': 'kit emblema resinado chevrolet dourado fosco borda cromada 9,5x3,5cm 10 pecas', 'price': 54.9} {'description': 'kit emblema resinado chevrolet dourado fosco fundo dourado 10,5x3,7cm 25 pecas 8503538', 'price': 114.75}\n",
      "{'description': 'escova dental oral - b indicator plus 40 - 2 unidades', 'price': 12.99} {'description': 'escova dental oral - b complete 40 2 unidades 8212826', 'price': 10.91}\n",
      "{'description': 'teclado gamer logitech g910 orion spark fio', 'price': 1209.99} {'description': 'teclado gamer multimidia g910 orion spark 920 - 006385 . 2170532', 'price': 1022.91}\n",
      "{'description': 'adesivo soleira resinada gol g3 g4 g5 g6 00 16 4 pecas preto cromo', 'price': 49.9} {'description': 'adesivo soleira resinada ranger 13 16 cabine dupla 4 pecas preto cromo 8588438', 'price': 65.9}\n",
      "{'description': 'guarda - roupa comoda quarto compacto rp5040 branco / rosa - art in moveis', 'price': 579.9} {'description': 'guarda - roupa / comoda compacto 2 portas fofinho rp5040 li art in moveis lilas 8298672', 'price': 469.9}\n",
      "{'description': 'guarda roupa ajl louise 4 portas 2 gavetas branco', 'price': 295.01} {'description': 'guarda - roupa solteiro 3 portas 2 gavetas 138483 . 2167006', 'price': 287.99}\n",
      "{'description': 'guarda roupa 3 portas angra glass - panan', 'price': 978.0} {'description': 'guarda - roupa casal 3 portas correr 3 gavetas 3956 - 84 . 2145706', 'price': 989.99}\n"
     ]
    }
   ],
   "source": [
    "for i in m:\n",
    "    print(p[i[0][0]], w[i[0][1]])"
   ]
  },
  {
   "cell_type": "code",
   "execution_count": 5,
   "metadata": {},
   "outputs": [
    {
     "data": {
      "text/plain": [
       "9035"
      ]
     },
     "execution_count": 5,
     "metadata": {},
     "output_type": "execute_result"
    }
   ],
   "source": [
    "len(walmart)"
   ]
  },
  {
   "cell_type": "code",
   "execution_count": 6,
   "metadata": {},
   "outputs": [
    {
     "data": {
      "text/plain": [
       "8970"
      ]
     },
     "execution_count": 6,
     "metadata": {},
     "output_type": "execute_result"
    }
   ],
   "source": [
    "len(submarino)"
   ]
  },
  {
   "cell_type": "code",
   "execution_count": null,
   "metadata": {
    "collapsed": true
   },
   "outputs": [],
   "source": []
  }
 ],
 "metadata": {
  "kernelspec": {
   "display_name": "Python 3",
   "language": "python",
   "name": "python3"
  },
  "language_info": {
   "codemirror_mode": {
    "name": "ipython",
    "version": 3
   },
   "file_extension": ".py",
   "mimetype": "text/x-python",
   "name": "python",
   "nbconvert_exporter": "python",
   "pygments_lexer": "ipython3",
   "version": "3.6.1"
  }
 },
 "nbformat": 4,
 "nbformat_minor": 2
}
