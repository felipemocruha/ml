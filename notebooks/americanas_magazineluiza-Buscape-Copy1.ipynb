{
 "cells": [
  {
   "cell_type": "code",
   "execution_count": 2,
   "metadata": {
    "collapsed": true
   },
   "outputs": [],
   "source": [
    "import dedupe\n",
    "import json\n",
    "from cytoolz import *\n",
    "from copy import copy\n",
    "import re\n",
    "import nltk\n",
    "from bs4 import BeautifulSoup\n",
    "from nltk.tokenize import word_tokenize\n",
    "from urllib.parse import urlparse\n",
    "from unicodedata import normalize"
   ]
  },
  {
   "cell_type": "code",
   "execution_count": 15,
   "metadata": {
    "collapsed": true
   },
   "outputs": [],
   "source": [
    "fields = [{'field': 'description', 'variable name': 'description', 'type': 'Text'},\n",
    "          {'field': 'price', 'variable name': 'price', 'type': 'Price'},\n",
    "          {'type': 'Interaction', 'interaction variables': ['description', 'price']}]\n",
    "\n",
    "\n",
    "def tokenize_url(url):\n",
    "    path = urlparse(url).path\n",
    "    path = path.replace('/', ' ')\n",
    "    path = path.replace('-', ' ')\n",
    "    return word_tokenize(path)\n",
    "\n",
    "\n",
    "def remove_accents(input_str):\n",
    "    return normalize('NFKD', input_str).encode('ascii', 'ignore').decode()\n",
    "\n",
    "\n",
    "def sanitize_string(input_str):\n",
    "    pattern = r'[?|&|!|@|#|;|*|~|(|)|´|^|\\r|\\n|\\t]'\n",
    "    return clean_string(re.sub(pattern, r'', remove_accents(input_str.lower())))\n",
    "\n",
    "\n",
    "def clean_string(input_str):\n",
    "    unuseful = set(['confira', 'compre', 'oferta', 'novo',\n",
    "                    'preco', 'agora', 'melhores', 'aqui',\n",
    "                    'aproveite', 'menor', 'maior', 'encontra',\n",
    "                    'site', 'condicoes', 'ofertas', 'imbativeis',\n",
    "                    'vendas', 'online', 'novo', 'nova', 'tecnologia',\n",
    "                    'precos', 'pagamento', 'melhor', 'veja', 'encontre',\n",
    "                    'menores', 'vem', 'venha', 'ver'])\n",
    "\n",
    "    names = set(['walmart', 'walmart.com', 'shoptime', 'shoptime.com',\n",
    "                 'pontofrio', 'pontofrio.com', 'magazineluiza', 'magazineluiza.com',\n",
    "                 'magazine luiza', 'americanas', 'americanas.com', 'submarino',\n",
    "                 'submarino.com', 'extra', 'extra.com.br', 'casas bahia', 'casasbahia.com.br'])\n",
    "\n",
    "    stopwords = [remove_accents(s) for s in nltk.corpus.stopwords.words('portuguese')]\n",
    "    repl = list(concat([unuseful, names, stopwords]))\n",
    "    tk = word_tokenize(input_str)\n",
    "    return ' '.join([word for word in tk if word not in repl])\n",
    "\n",
    "\n",
    "def preprocess(item):\n",
    "    return {'description': sanitize_string(item['description']), 'price': float(sanitize_string(item['price']))}"
   ]
  },
  {
   "cell_type": "code",
   "execution_count": 4,
   "metadata": {
    "collapsed": true
   },
   "outputs": [],
   "source": [
    "with open('../data/americanas/buscape.json') as f:\n",
    "    walmart = [preprocess(dissoc(item, 'image')) for item in json.loads(f.read())['products']]\n",
    "\n",
    "with open('../data/magazineluiza/buscape.json') as f:\n",
    "    submarino = [preprocess(dissoc(item, 'image')) for item in json.loads(f.read())['products']]"
   ]
  },
  {
   "cell_type": "code",
   "execution_count": 16,
   "metadata": {
    "collapsed": true
   },
   "outputs": [],
   "source": [
    "p = {str(i): walmart[i] for i in range(len(walmart))}\n",
    "w = {str(i): submarino[i] for i in range(len(submarino))}"
   ]
  },
  {
   "cell_type": "code",
   "execution_count": 17,
   "metadata": {
    "scrolled": false
   },
   "outputs": [
    {
     "name": "stderr",
     "output_type": "stream",
     "text": [
      "description : kit relacao transmissao suzuki katana 125 09 - 43z x 14z - c / corrente 428h x 116l - premium 8295437\n",
      "price : 74.9\n",
      "\n",
      "description : pastilha freio - nakata - pajero sport 2002 2008 - traseiro - jogo - nkf - 1232p\n",
      "price : 74.9\n",
      "\n",
      "0/10 positive, 0/10 negative\n",
      "Do these records refer to the same thing?\n",
      "(y)es / (n)o / (u)nsure / (f)inished\n"
     ]
    },
    {
     "name": "stdout",
     "output_type": "stream",
     "text": [
      "n\n"
     ]
    },
    {
     "name": "stderr",
     "output_type": "stream",
     "text": [
      "description : sofa retratil reclinavel chaise 2 lugares suede porsche . 2133868\n",
      "price : 2645.91\n",
      "\n",
      "description : sofa somopar adventure retratil reclinavel 2 lugares suede amassado marrom claro\n",
      "price : 771.67\n",
      "\n",
      "0/10 positive, 1/10 negative\n",
      "Do these records refer to the same thing?\n",
      "(y)es / (n)o / (u)nsure / (f)inished / (p)revious\n"
     ]
    },
    {
     "name": "stdout",
     "output_type": "stream",
     "text": [
      "n\n"
     ]
    },
    {
     "name": "stderr",
     "output_type": "stream",
     "text": [
      "description : escova dental oral - b complete 40 2 unidades 8212826\n",
      "price : 10.91\n",
      "\n",
      "description : escova dental oral - b indicator plus 40 - 2 unidades\n",
      "price : 12.99\n",
      "\n",
      "0/10 positive, 2/10 negative\n",
      "Do these records refer to the same thing?\n",
      "(y)es / (n)o / (u)nsure / (f)inished / (p)revious\n"
     ]
    },
    {
     "name": "stdout",
     "output_type": "stream",
     "text": [
      "y\n"
     ]
    },
    {
     "name": "stderr",
     "output_type": "stream",
     "text": [
      "description : escova dental colgate smiles 5+ anos 8306039\n",
      "price : 17.19\n",
      "\n",
      "description : escova dental colgate smiles 5 anos\n",
      "price : 14.99\n",
      "\n",
      "1/10 positive, 2/10 negative\n",
      "Do these records refer to the same thing?\n",
      "(y)es / (n)o / (u)nsure / (f)inished / (p)revious\n"
     ]
    },
    {
     "name": "stdout",
     "output_type": "stream",
     "text": [
      "y\n"
     ]
    },
    {
     "name": "stderr",
     "output_type": "stream",
     "text": [
      "description : guarda - roupa infantil 4 portas 2 gavetas 10297 . 2137096\n",
      "price : 1169.99\n",
      "\n",
      "description : guarda - roupa infantil selena 4 portas 2 gavetas branco - carolina baby\n",
      "price : 1014.9\n",
      "\n",
      "2/10 positive, 2/10 negative\n",
      "Do these records refer to the same thing?\n",
      "(y)es / (n)o / (u)nsure / (f)inished / (p)revious\n"
     ]
    },
    {
     "name": "stdout",
     "output_type": "stream",
     "text": [
      "u\n"
     ]
    },
    {
     "name": "stderr",
     "output_type": "stream",
     "text": [
      "description : guarda - roupa casal 10 portas 3 gavetas 18490 - 85 . 2128143\n",
      "price : 359.99\n",
      "\n",
      "description : guarda - roupa casal santos andira star 5 portas 3 gavetas espelho - branco opcao rosa\n",
      "price : 499.9\n",
      "\n",
      "2/10 positive, 2/10 negative\n",
      "Do these records refer to the same thing?\n",
      "(y)es / (n)o / (u)nsure / (f)inished / (p)revious\n"
     ]
    },
    {
     "name": "stdout",
     "output_type": "stream",
     "text": [
      "n\n"
     ]
    },
    {
     "name": "stderr",
     "output_type": "stream",
     "text": [
      "description : sofa 3 lugares suede amsterda s31 . 1250197\n",
      "price : 842.63\n",
      "\n",
      "description : sofa 3 lugares brilhante suede prata\n",
      "price : 709.99\n",
      "\n",
      "2/10 positive, 3/10 negative\n",
      "Do these records refer to the same thing?\n",
      "(y)es / (n)o / (u)nsure / (f)inished / (p)revious\n"
     ]
    },
    {
     "name": "stdout",
     "output_type": "stream",
     "text": [
      "n\n"
     ]
    },
    {
     "name": "stderr",
     "output_type": "stream",
     "text": [
      "description : calca motocross pro tork insane 4 amarela roxa trilha - tamanho 54 8558621\n",
      "price : 126.88\n",
      "\n",
      "description : calca motocross pro tork insane 4 vermelha cinza trilha\n",
      "price : 106.9\n",
      "\n",
      "2/10 positive, 4/10 negative\n",
      "Do these records refer to the same thing?\n",
      "(y)es / (n)o / (u)nsure / (f)inished / (p)revious\n"
     ]
    },
    {
     "name": "stdout",
     "output_type": "stream",
     "text": [
      "y\n"
     ]
    },
    {
     "name": "stderr",
     "output_type": "stream",
     "text": [
      "description : calca motocross pro tork insane 4 amarela roxa trilha - tamanho 42 8507281\n",
      "price : 126.88\n",
      "\n",
      "description : calca motocross pro tork insane 4 vermelha cinza trilha\n",
      "price : 106.9\n",
      "\n",
      "3/10 positive, 4/10 negative\n",
      "Do these records refer to the same thing?\n",
      "(y)es / (n)o / (u)nsure / (f)inished / (p)revious\n"
     ]
    },
    {
     "name": "stdout",
     "output_type": "stream",
     "text": [
      "y\n"
     ]
    },
    {
     "name": "stderr",
     "output_type": "stream",
     "text": [
      "description : calca motocross pro tork insane 4 amarela roxa trilha - tamanho 40 8535169\n",
      "price : 126.88\n",
      "\n",
      "description : calca motocross pro tork insane 4 vermelha cinza trilha\n",
      "price : 106.9\n",
      "\n",
      "4/10 positive, 4/10 negative\n",
      "Do these records refer to the same thing?\n",
      "(y)es / (n)o / (u)nsure / (f)inished / (p)revious\n"
     ]
    },
    {
     "name": "stdout",
     "output_type": "stream",
     "text": [
      "y\n"
     ]
    },
    {
     "name": "stderr",
     "output_type": "stream",
     "text": [
      "description : adesivo soleira resinada corolla 15 16 4 pecas cromado preto 8569897\n",
      "price : 53.9\n",
      "\n",
      "description : adesivo soleira resinada gol g3 g4 g5 g6 00 16 4 pecas preto cromo\n",
      "price : 49.9\n",
      "\n",
      "5/10 positive, 4/10 negative\n",
      "Do these records refer to the same thing?\n",
      "(y)es / (n)o / (u)nsure / (f)inished / (p)revious\n"
     ]
    },
    {
     "name": "stdout",
     "output_type": "stream",
     "text": [
      "n\n"
     ]
    },
    {
     "name": "stderr",
     "output_type": "stream",
     "text": [
      "description : radio portatil am / fm 12 faixas rp - 69 rp 69 . 2152182\n",
      "price : 233.1\n",
      "\n",
      "description : livro - estatuto crianca adolescente comentado - 9788530969745\n",
      "price : 206.15\n",
      "\n",
      "5/10 positive, 5/10 negative\n",
      "Do these records refer to the same thing?\n",
      "(y)es / (n)o / (u)nsure / (f)inished / (p)revious\n"
     ]
    },
    {
     "name": "stdout",
     "output_type": "stream",
     "text": [
      "n\n"
     ]
    },
    {
     "name": "stderr",
     "output_type": "stream",
     "text": [
      "description : teclado usb fio - kb - 11bk - preto c3tech 9223212\n",
      "price : 23.3\n",
      "\n",
      "description : cabo fechadura - palio 2001 2011 - 2 portas - lado passageiro - cada unidade\n",
      "price : 23.3\n",
      "\n",
      "5/10 positive, 6/10 negative\n",
      "Do these records refer to the same thing?\n",
      "(y)es / (n)o / (u)nsure / (f)inished / (p)revious\n"
     ]
    },
    {
     "name": "stdout",
     "output_type": "stream",
     "text": [
      "n\n"
     ]
    },
    {
     "name": "stderr",
     "output_type": "stream",
     "text": [
      "description : teclado gamer usb fio - kg - 10 - preto c3tech 9166131\n",
      "price : 33.9\n",
      "\n",
      "description : cabo embreagem - fania - / c / d - 10 - 1979 1984 - 768 mm - cada unidade - 30 - 101\n",
      "price : 27.7\n",
      "\n",
      "5/10 positive, 7/10 negative\n",
      "Do these records refer to the same thing?\n",
      "(y)es / (n)o / (u)nsure / (f)inished / (p)revious\n"
     ]
    },
    {
     "name": "stdout",
     "output_type": "stream",
     "text": [
      "n\n"
     ]
    },
    {
     "name": "stderr",
     "output_type": "stream",
     "text": [
      "description : escova dental closeup ultra reach media 1 unidade 8253885\n",
      "price : 16.47\n",
      "\n",
      "description : escova dental close up ultra reach media\n",
      "price : 14.44\n",
      "\n",
      "5/10 positive, 8/10 negative\n",
      "Do these records refer to the same thing?\n",
      "(y)es / (n)o / (u)nsure / (f)inished / (p)revious\n"
     ]
    },
    {
     "name": "stdout",
     "output_type": "stream",
     "text": [
      "y\n"
     ]
    },
    {
     "name": "stderr",
     "output_type": "stream",
     "text": [
      "description : escova dental closeup ultra reach macia 1 unidade 8207840\n",
      "price : 16.47\n",
      "\n",
      "description : escova dental close up ultra reach macia\n",
      "price : 14.44\n",
      "\n",
      "6/10 positive, 8/10 negative\n",
      "Do these records refer to the same thing?\n",
      "(y)es / (n)o / (u)nsure / (f)inished / (p)revious\n"
     ]
    },
    {
     "name": "stdout",
     "output_type": "stream",
     "text": [
      "y\n"
     ]
    },
    {
     "name": "stderr",
     "output_type": "stream",
     "text": [
      "description : par palhetas limpador - brisa bosch aerotwin plus mercedes - benz classe m 164 2005 2011 - ap28 / ap21 8341497\n",
      "price : 164.9\n",
      "\n",
      "description : par palheta limpador mercedes - benz classe cabriolet 2010 - 2012 dyna - s65a / s60a - 65cm / 60cm\n",
      "price : 199.9\n",
      "\n",
      "7/10 positive, 8/10 negative\n",
      "Do these records refer to the same thing?\n",
      "(y)es / (n)o / (u)nsure / (f)inished / (p)revious\n"
     ]
    },
    {
     "name": "stdout",
     "output_type": "stream",
     "text": [
      "u\n"
     ]
    },
    {
     "name": "stderr",
     "output_type": "stream",
     "text": [
      "description : guarda - roupa casal 3 portas correr 3 gavetas 3956 - 84 . 2145706\n",
      "price : 989.99\n",
      "\n",
      "description : guarda - roupa 3 portas correr vitoria espelho branco / preto - at . home by madesa\n",
      "price : 989.99\n",
      "\n",
      "7/10 positive, 8/10 negative\n",
      "Do these records refer to the same thing?\n",
      "(y)es / (n)o / (u)nsure / (f)inished / (p)revious\n"
     ]
    },
    {
     "name": "stdout",
     "output_type": "stream",
     "text": [
      "n\n"
     ]
    },
    {
     "name": "stderr",
     "output_type": "stream",
     "text": [
      "description : guarda - roupa casal 3 portas correr 3 gavetas 4013 - 166 . 2145710\n",
      "price : 1079.99\n",
      "\n",
      "description : guarda - roupa 3 portas correr vitoria espelho branco / preto - at . home by madesa\n",
      "price : 989.99\n",
      "\n",
      "7/10 positive, 9/10 negative\n",
      "Do these records refer to the same thing?\n",
      "(y)es / (n)o / (u)nsure / (f)inished / (p)revious\n"
     ]
    },
    {
     "name": "stdout",
     "output_type": "stream",
     "text": [
      "u\n"
     ]
    },
    {
     "name": "stderr",
     "output_type": "stream",
     "text": [
      "description : kit refil escova eletrica pro - saude flossaction - 6 unidades 8343552\n",
      "price : 209.7\n",
      "\n",
      "description : kit 6 unidades refil escova eletrica precision clean oral - b\n",
      "price : 119.99\n",
      "\n",
      "7/10 positive, 9/10 negative\n",
      "Do these records refer to the same thing?\n",
      "(y)es / (n)o / (u)nsure / (f)inished / (p)revious\n"
     ]
    },
    {
     "name": "stdout",
     "output_type": "stream",
     "text": [
      "u\n"
     ]
    },
    {
     "name": "stderr",
     "output_type": "stream",
     "text": [
      "description : guarda - roupa casal 3 portas correr 3 gavetas 3956 - 166 . 2145707\n",
      "price : 1099.99\n",
      "\n",
      "description : guarda - roupa 3 portas correr vitoria espelho branco / preto - at . home by madesa\n",
      "price : 989.99\n",
      "\n",
      "7/10 positive, 9/10 negative\n",
      "Do these records refer to the same thing?\n",
      "(y)es / (n)o / (u)nsure / (f)inished / (p)revious\n"
     ]
    },
    {
     "name": "stdout",
     "output_type": "stream",
     "text": [
      "u\n"
     ]
    },
    {
     "name": "stderr",
     "output_type": "stream",
     "text": [
      "description : camisa motocross pro tork jett hi - vis verde neon - tamanho gg 8535815\n",
      "price : 51.9\n",
      "\n",
      "description : calca motocross jett hi - vis rosa neon pro tork\n",
      "price : 181.9\n",
      "\n",
      "7/10 positive, 9/10 negative\n",
      "Do these records refer to the same thing?\n",
      "(y)es / (n)o / (u)nsure / (f)inished / (p)revious\n"
     ]
    },
    {
     "name": "stdout",
     "output_type": "stream",
     "text": [
      "y\n"
     ]
    },
    {
     "name": "stderr",
     "output_type": "stream",
     "text": [
      "description : camisa motocross pro tork jett hi - vis verde neon - tamanho g 8593374\n",
      "price : 51.9\n",
      "\n",
      "description : calca motocross jett hi - vis rosa neon pro tork\n",
      "price : 181.9\n",
      "\n",
      "8/10 positive, 9/10 negative\n",
      "Do these records refer to the same thing?\n",
      "(y)es / (n)o / (u)nsure / (f)inished / (p)revious\n"
     ]
    },
    {
     "name": "stdout",
     "output_type": "stream",
     "text": [
      "p\n"
     ]
    },
    {
     "name": "stderr",
     "output_type": "stream",
     "text": [
      "description : camisa motocross pro tork jett hi - vis verde neon - tamanho gg 8535815\n",
      "price : 51.9\n",
      "\n",
      "description : calca motocross jett hi - vis rosa neon pro tork\n",
      "price : 181.9\n",
      "\n",
      "7/10 positive, 9/10 negative\n",
      "Do these records refer to the same thing?\n",
      "(y)es / (n)o / (u)nsure / (f)inished\n"
     ]
    },
    {
     "name": "stdout",
     "output_type": "stream",
     "text": [
      "n\n"
     ]
    },
    {
     "name": "stderr",
     "output_type": "stream",
     "text": [
      "description : camisa motocross pro tork jett hi - vis verde neon - tamanho g 8593374\n",
      "price : 51.9\n",
      "\n",
      "description : calca motocross jett hi - vis rosa neon pro tork\n",
      "price : 181.9\n",
      "\n",
      "7/10 positive, 10/10 negative\n",
      "Do these records refer to the same thing?\n",
      "(y)es / (n)o / (u)nsure / (f)inished / (p)revious\n"
     ]
    },
    {
     "name": "stdout",
     "output_type": "stream",
     "text": [
      "n\n"
     ]
    },
    {
     "name": "stderr",
     "output_type": "stream",
     "text": [
      "description : calca motocross pro tork insane 4 amarela roxa trilha - tamanho 46 8516151\n",
      "price : 126.88\n",
      "\n",
      "description : calca motocross pro tork insane 3 azul trilha\n",
      "price : 99.9\n",
      "\n",
      "7/10 positive, 11/10 negative\n",
      "Do these records refer to the same thing?\n",
      "(y)es / (n)o / (u)nsure / (f)inished / (p)revious\n"
     ]
    },
    {
     "name": "stdout",
     "output_type": "stream",
     "text": [
      "y\n"
     ]
    },
    {
     "name": "stderr",
     "output_type": "stream",
     "text": [
      "description : camisa motocross pro tork insane 5 branco preto trilha - tamanho xgg 8559880\n",
      "price : 38.9\n",
      "\n",
      "description : camisa pro tork insane 3 azul motocross\n",
      "price : 39.9\n",
      "\n",
      "8/10 positive, 11/10 negative\n",
      "Do these records refer to the same thing?\n",
      "(y)es / (n)o / (u)nsure / (f)inished / (p)revious\n"
     ]
    },
    {
     "name": "stdout",
     "output_type": "stream",
     "text": [
      "y\n"
     ]
    },
    {
     "name": "stderr",
     "output_type": "stream",
     "text": [
      "description : anel folheado ouro detalhe perola - unica - aro 15 8292126\n",
      "price : 59.8\n",
      "\n",
      "description : grade - choque - alternativo - stilo 2008 diante - furo milha - aro prata - lad ...\n",
      "price : 61.2\n",
      "\n",
      "9/10 positive, 11/10 negative\n",
      "Do these records refer to the same thing?\n",
      "(y)es / (n)o / (u)nsure / (f)inished / (p)revious\n"
     ]
    },
    {
     "name": "stdout",
     "output_type": "stream",
     "text": [
      "n\n"
     ]
    },
    {
     "name": "stderr",
     "output_type": "stream",
     "text": [
      "description : sofa retratil reclinavel 3 lugares suede cor 592 azul . 1219205\n",
      "price : 1799.1\n",
      "\n",
      "description : sofa retratil 3 lugares tauri suede liso preto\n",
      "price : 1669.0\n",
      "\n",
      "9/10 positive, 12/10 negative\n",
      "Do these records refer to the same thing?\n",
      "(y)es / (n)o / (u)nsure / (f)inished / (p)revious\n"
     ]
    },
    {
     "name": "stdout",
     "output_type": "stream",
     "text": [
      "y\n"
     ]
    },
    {
     "name": "stderr",
     "output_type": "stream",
     "text": [
      "description : teclado gamer multimidia g910 orion spark 920 - 006385 . 2170532\n",
      "price : 1022.91\n",
      "\n",
      "description : teclado gamer logitech g910 orion spark fio\n",
      "price : 1209.99\n",
      "\n",
      "10/10 positive, 12/10 negative\n",
      "Do these records refer to the same thing?\n",
      "(y)es / (n)o / (u)nsure / (f)inished / (p)revious\n"
     ]
    },
    {
     "name": "stdout",
     "output_type": "stream",
     "text": [
      "n\n"
     ]
    },
    {
     "name": "stderr",
     "output_type": "stream",
     "text": [
      "description : cama baba paris branco brilho - unico 8319756\n",
      "price : 569.8\n",
      "\n",
      "description : cama baba vitta branco - moveis matic\n",
      "price : 522.68\n",
      "\n",
      "10/10 positive, 13/10 negative\n",
      "Do these records refer to the same thing?\n",
      "(y)es / (n)o / (u)nsure / (f)inished / (p)revious\n"
     ]
    },
    {
     "name": "stdout",
     "output_type": "stream",
     "text": [
      "p\n"
     ]
    },
    {
     "name": "stderr",
     "output_type": "stream",
     "text": [
      "description : teclado gamer multimidia g910 orion spark 920 - 006385 . 2170532\n",
      "price : 1022.91\n",
      "\n",
      "description : teclado gamer logitech g910 orion spark fio\n",
      "price : 1209.99\n",
      "\n",
      "10/10 positive, 12/10 negative\n",
      "Do these records refer to the same thing?\n",
      "(y)es / (n)o / (u)nsure / (f)inished\n"
     ]
    },
    {
     "name": "stdout",
     "output_type": "stream",
     "text": [
      "y\n"
     ]
    },
    {
     "name": "stderr",
     "output_type": "stream",
     "text": [
      "description : cama baba paris branco brilho - unico 8319756\n",
      "price : 569.8\n",
      "\n",
      "description : cama baba vitta branco - moveis matic\n",
      "price : 522.68\n",
      "\n",
      "11/10 positive, 12/10 negative\n",
      "Do these records refer to the same thing?\n",
      "(y)es / (n)o / (u)nsure / (f)inished / (p)revious\n"
     ]
    },
    {
     "name": "stdout",
     "output_type": "stream",
     "text": [
      "f\n"
     ]
    },
    {
     "name": "stderr",
     "output_type": "stream",
     "text": [
      "Finished labeling\n"
     ]
    }
   ],
   "source": [
    "linker = dedupe.RecordLink(fields)\n",
    "linker.sample(p, w)\n",
    "dedupe.consoleLabel(linker)"
   ]
  },
  {
   "cell_type": "code",
   "execution_count": 19,
   "metadata": {},
   "outputs": [
    {
     "name": "stderr",
     "output_type": "stream",
     "text": [
      "INFO:rlr.crossvalidation:using cross validation to find optimum alpha...\n",
      "INFO:rlr.crossvalidation:optimum alpha: 0.001000\n",
      "INFO:dedupe.blocking:Canopy: LevenshteinSearchPredicate: (1, description)\n",
      "INFO:dedupe.blocking:Canopy: LevenshteinSearchPredicate: (3, description)\n",
      "INFO:dedupe.blocking:Canopy: LevenshteinSearchPredicate: (2, description)\n",
      "INFO:dedupe.blocking:Canopy: LevenshteinSearchPredicate: (4, description)\n",
      "INFO:dedupe.blocking:Canopy: TfidfTextSearchPredicate: (0.4, description)\n",
      "INFO:dedupe.blocking:Canopy: TfidfTextSearchPredicate: (0.8, description)\n",
      "INFO:dedupe.blocking:Canopy: TfidfTextSearchPredicate: (0.6, description)\n",
      "INFO:dedupe.blocking:Canopy: TfidfTextSearchPredicate: (0.2, description)\n",
      "INFO:dedupe.blocking:Canopy: LevenshteinSearchPredicate: (1, description)\n",
      "INFO:dedupe.blocking:Canopy: LevenshteinSearchPredicate: (3, description)\n",
      "INFO:dedupe.blocking:Canopy: LevenshteinSearchPredicate: (2, description)\n",
      "INFO:dedupe.blocking:Canopy: LevenshteinSearchPredicate: (4, description)\n",
      "INFO:dedupe.blocking:Canopy: TfidfTextSearchPredicate: (0.4, description)\n",
      "INFO:dedupe.blocking:Canopy: TfidfTextSearchPredicate: (0.8, description)\n",
      "INFO:dedupe.blocking:Canopy: TfidfTextSearchPredicate: (0.6, description)\n",
      "INFO:dedupe.blocking:Canopy: TfidfTextSearchPredicate: (0.2, description)\n",
      "INFO:dedupe.training:Final predicate set:\n",
      "INFO:dedupe.training:TfidfTextSearchPredicate: (0.6, description)\n"
     ]
    }
   ],
   "source": [
    "linker.train()"
   ]
  },
  {
   "cell_type": "code",
   "execution_count": 20,
   "metadata": {},
   "outputs": [
    {
     "name": "stderr",
     "output_type": "stream",
     "text": [
      "INFO:dedupe.blocking:Canopy: TfidfTextSearchPredicate: (0.6, description)\n",
      "INFO:dedupe.api:0 records\n"
     ]
    }
   ],
   "source": [
    "m = linker.match(p,w, 0.2)"
   ]
  },
  {
   "cell_type": "code",
   "execution_count": 22,
   "metadata": {},
   "outputs": [
    {
     "data": {
      "text/plain": [
       "[(('8703', '2356'), 0.96166432),\n",
       " (('8700', '2351'), 0.95724398),\n",
       " (('3564', '6227'), 0.87211442),\n",
       " (('8130', '802'), 0.8031795),\n",
       " (('8576', '3940'), 0.71475679),\n",
       " (('8577', '3945'), 0.6980688),\n",
       " (('8560', '3853'), 0.69237101),\n",
       " (('8706', '2353'), 0.69050813),\n",
       " (('8707', '2364'), 0.69050813),\n",
       " (('3571', '6212'), 0.62375528),\n",
       " (('8592', '3941'), 0.51010996),\n",
       " (('2032', '6944'), 0.48204303),\n",
       " (('5947', '8945'), 0.46984631),\n",
       " (('1785', '792'), 0.45069176),\n",
       " (('1869', '701'), 0.4317129),\n",
       " (('8578', '3942'), 0.42345086),\n",
       " (('7308', '466'), 0.41837117),\n",
       " (('3565', '6226'), 0.28748187),\n",
       " (('5946', '8946'), 0.28189543),\n",
       " (('3553', '6228'), 0.27771178),\n",
       " (('1787', '6213'), 0.27527407),\n",
       " (('1796', '6214'), 0.27527407),\n",
       " (('1341', '7807'), 0.23714177),\n",
       " (('2232', '803'), 0.23364666),\n",
       " (('3569', '788'), 0.22465377),\n",
       " (('1803', '6215'), 0.21821894)]"
      ]
     },
     "execution_count": 22,
     "metadata": {},
     "output_type": "execute_result"
    }
   ],
   "source": [
    "m"
   ]
  },
  {
   "cell_type": "code",
   "execution_count": 23,
   "metadata": {
    "scrolled": false
   },
   "outputs": [
    {
     "name": "stdout",
     "output_type": "stream",
     "text": [
      "{'description': 'escova dental oral - b indicator plus 40 - 2 unidades', 'price': 12.99} {'description': 'escova dental oral - b complete 40 2 unidades 8212826', 'price': 10.91}\n",
      "{'description': 'escova dental colgate smiles 5 anos', 'price': 14.99} {'description': 'escova dental colgate smiles 5+ anos 8306039', 'price': 17.19}\n",
      "{'description': 'guarda - roupa infantil selena 4 portas 2 gavetas branco - carolina baby', 'price': 1014.9} {'description': 'guarda - roupa infantil 4 portas 2 gavetas 10297 . 2137096', 'price': 1169.99}\n",
      "{'description': 'guarda - roupa comoda quarto compacto rp5040 branco / rosa - art in moveis', 'price': 579.9} {'description': 'guarda - roupa / comoda compacto 2 portas fofinho rp5040 li art in moveis lilas 8298672', 'price': 469.9}\n",
      "{'description': 'calca motocross pro tork insane 4 vermelha cinza trilha', 'price': 106.9} {'description': 'calca motocross pro tork insane 4 amarela roxa trilha - tamanho 38 8522268', 'price': 126.88}\n",
      "{'description': 'camisa pro tork insane 3 azul motocross', 'price': 39.9} {'description': 'camisa motocross pro tork insane 5 adulto azul preto trilha - tamanho xgg 8539921', 'price': 38.9}\n",
      "{'description': 'cama box queen box + colchao ortobom estrutura ortopedica ortopillow - 158x198x48', 'price': 1249.99} {'description': 'cama box queen size box + colchao ortobom mola pocket 48cm altura physical 2192522', 'price': 1234.99}\n",
      "{'description': 'escova dental close up ultra reach media', 'price': 14.44} {'description': 'escova dental closeup ultra reach media 1 unidade 8253885', 'price': 16.47}\n",
      "{'description': 'escova dental close up ultra reach macia', 'price': 14.44} {'description': 'escova dental closeup ultra reach macia 1 unidade 8207840', 'price': 16.47}\n",
      "{'description': 'guarda roupa 3 portas angra glass - panan', 'price': 978.0} {'description': 'guarda - roupa casal 3 portas correr 3 gavetas 3956 - 84 . 2145706', 'price': 989.99}\n",
      "{'description': 'camisa infantil insane 5 motocross branco lilas pro tork', 'price': 56.9} {'description': 'camisa motocross pro tork insane 5 branco preto trilha - tamanho gg 8561531', 'price': 38.9}\n",
      "{'description': 'adesivo soleira resinada gol g3 g4 g5 g6 00 16 4 pecas preto cromo', 'price': 49.9} {'description': 'adesivo soleira resinada corolla 15 16 4 pecas cromado preto 8569897', 'price': 53.9}\n",
      "{'description': 'cama box casal box + colchao ortobom viscomemory espuma viscoelastica - 138x188x56', 'price': 2549.99} {'description': 'cama box casal box + colchao americanflex mola 53cm altura romance 2095382', 'price': 2878.5}\n",
      "{'description': 'guarda roupa solteiro 2 portas 3 gavetas thor moveis horizonte branco', 'price': 1099.9} {'description': 'guarda - roupa solteiro 3 portas s363 kappesberg branco 8366376', 'price': 1269.9}\n",
      "{'description': 'sofa 3 lugares galapagos suede cinza', 'price': 699.99} {'description': 'sofa 3 lugares suede amsterda s31 . 1250197', 'price': 842.63}\n",
      "{'description': 'calca motocross pro tork insane 3 azul trilha', 'price': 99.9} {'description': 'calca motocross pro tork insane 4 amarela roxa trilha - tamanho 40 8535169', 'price': 126.88}\n",
      "{'description': 'teclado gamer logitech g910 orion spark fio', 'price': 1209.99} {'description': 'teclado gamer multimidia g910 orion spark 920 - 006385 . 2170532', 'price': 1022.91}\n",
      "{'description': 'guarda roupa ajl louise 4 portas 2 gavetas branco', 'price': 295.01} {'description': 'guarda - roupa solteiro 3 portas 2 gavetas 138483 . 2167006', 'price': 287.99}\n",
      "{'description': 'cama box casal box + colchao epeda sleepy molas bonnel - 138x188x48cm', 'price': 979.99} {'description': 'cama box box + colchao solteiro espuma d - 45 88x188cm - castor black white aria 3d 2094529', 'price': 905.33}\n",
      "{'description': 'guarda roupa cuba 6 portas 2 gavetas - imbuia / preto - moval', 'price': 459.9} {'description': 'guarda - roupa casal 6 portas 6 gavetas 149983 . 2161675', 'price': 647.1}\n",
      "{'description': 'guarda roupa casal 6 portas 8 gavetas espelho coliseu moveis horizonte branco', 'price': 1899.9} {'description': 'guarda - roupa casal 8 portas 6 gavetas 120722 . 0877739', 'price': 1169.99}\n",
      "{'description': 'guarda roupa casal 6 portas 8 gavetas espelho coliseu moveis horizonte canela', 'price': 1899.9} {'description': 'guarda - roupa casal 8 portas 6 gavetas 120780 . 2167034', 'price': 1169.99}\n",
      "{'description': 'colchao solteiro espuma certificada d28 78x188x14', 'price': 349.0} {'description': 'colchao solteiro americanflex espuma d28 88x188cm 5012807 . 2161338', 'price': 461.69}\n",
      "{'description': 'balcao 2 portas 3 gavetas cz614 tampo branco / nude / preto - art in moveis', 'price': 678.05} {'description': 'guarda - roupa infantil 3 portas fofinho art in moveis branco / azul 8371504', 'price': 464.9}\n",
      "{'description': 'guarda - roupa 4 portas felicce carraro anis / camurca / branco', 'price': 529.9} {'description': 'guarda - roupa infantil 4 portas sorriso santos andira branco / branco 8348539', 'price': 959.9}\n",
      "{'description': 'guarda roupa casal 3 portas 6 gavetas natus moveis horizonte canela', 'price': 1599.9} {'description': 'guarda - roupa casal 8 portas 6 gavetas 120700 . 2167033', 'price': 1169.99}\n"
     ]
    }
   ],
   "source": [
    "for i in m:\n",
    "    print(p[i[0][0]], w[i[0][1]])"
   ]
  },
  {
   "cell_type": "code",
   "execution_count": 5,
   "metadata": {},
   "outputs": [
    {
     "data": {
      "text/plain": [
       "9035"
      ]
     },
     "execution_count": 5,
     "metadata": {},
     "output_type": "execute_result"
    }
   ],
   "source": [
    "len(walmart)"
   ]
  },
  {
   "cell_type": "code",
   "execution_count": 6,
   "metadata": {},
   "outputs": [
    {
     "data": {
      "text/plain": [
       "8970"
      ]
     },
     "execution_count": 6,
     "metadata": {},
     "output_type": "execute_result"
    }
   ],
   "source": [
    "len(submarino)"
   ]
  },
  {
   "cell_type": "code",
   "execution_count": null,
   "metadata": {
    "collapsed": true
   },
   "outputs": [],
   "source": []
  }
 ],
 "metadata": {
  "kernelspec": {
   "display_name": "Python 3",
   "language": "python",
   "name": "python3"
  },
  "language_info": {
   "codemirror_mode": {
    "name": "ipython",
    "version": 3
   },
   "file_extension": ".py",
   "mimetype": "text/x-python",
   "name": "python",
   "nbconvert_exporter": "python",
   "pygments_lexer": "ipython3",
   "version": "3.6.1"
  }
 },
 "nbformat": 4,
 "nbformat_minor": 2
}
