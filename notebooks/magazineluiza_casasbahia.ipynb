{
 "cells": [
  {
   "cell_type": "code",
   "execution_count": 16,
   "metadata": {
    "collapsed": true
   },
   "outputs": [],
   "source": [
    "import dedupe\n",
    "import json\n",
    "from cytoolz import *\n",
    "from copy import copy"
   ]
  },
  {
   "cell_type": "code",
   "execution_count": 17,
   "metadata": {
    "collapsed": true
   },
   "outputs": [],
   "source": [
    "fields = [{'field': 'title', 'type': 'String', 'has missing': True},\n",
    "         {'field': 'twitter:title', 'type': 'String', 'has missing': True},\n",
    "         {'field': 'og:title', 'type': 'String', 'has missing': True},\n",
    "         {'field': 'description', 'type': 'Text', 'has missing': True},\n",
    "         {'field': 'twitter:description', 'type': 'Text', 'has missing': True},\n",
    "         {'field': 'og:description', 'type': 'Text', 'has missing': True}]"
   ]
  },
  {
   "cell_type": "code",
   "execution_count": 18,
   "metadata": {
    "collapsed": true
   },
   "outputs": [],
   "source": [
    "def is_expected(item):\n",
    "    expected = ['title', 'twitter:title', 'og:title', 'description', 'twitter:description', 'og:description']\n",
    "    return item in expected  \n",
    "\n",
    "\n",
    "def add_field(d, f):\n",
    "    return assoc(d, f, None)\n",
    "\n",
    "\n",
    "def remove_field(d, f):\n",
    "    return dissoc(d, f)        \n",
    "\n",
    "\n",
    "def normalize_dict(d):\n",
    "    expected = ['title', 'twitter:title', 'og:title', 'description', 'twitter:description', 'og:description']\n",
    "    new = keyfilter(is_expected, merge(d))\n",
    "    for field in expected:        \n",
    "        if not new.get(field):\n",
    "            new[field] =  None\n",
    "    return new\n",
    "    \n",
    "\n",
    "def create_labels(index, data):\n",
    "    return {index: data}"
   ]
  },
  {
   "cell_type": "code",
   "execution_count": 19,
   "metadata": {},
   "outputs": [],
   "source": [
    "with open('data/magazineluiza/parsed_data.json') as f:\n",
    "    magazineluiza = json.loads(f.read())['products']\n",
    "\n",
    "with open('data/casasbahia/parsed_data.json') as f:\n",
    "    casasbahia = json.loads(f.read())['products']"
   ]
  },
  {
   "cell_type": "code",
   "execution_count": 20,
   "metadata": {
    "collapsed": true
   },
   "outputs": [],
   "source": [
    "magazineluiza_meta = [normalize_dict(offer['meta']) for offer in magazineluiza]\n",
    "casasbahia_meta = [normalize_dict(offer['meta']) for offer in casasbahia]\n",
    "p = {str(i): magazineluiza_meta[i] for i in range(len(magazineluiza_meta))}\n",
    "w = {str(i): casasbahia_meta[i] for i in range(len(casasbahia_meta))}"
   ]
  },
  {
   "cell_type": "code",
   "execution_count": null,
   "metadata": {},
   "outputs": [
    {
     "name": "stderr",
     "output_type": "stream",
     "text": [
      "title : freezer vertical brastemp frost free flex bvr28hr inox - 228l - vertical\n",
      "twitter:title : None\n",
      "og:title : None\n",
      "description : freezer vertical brastemp , ideal casa\n",
      "twitter:description : None\n",
      "og:description : None\n",
      "\n",
      "title : freezer vertical frost free brastemp 228l bvr28hrana - freezer vertical - magazine luiza\n",
      "twitter:title : None\n",
      "og:title : None\n",
      "description : freezer vertical frost free brastemp 228l magazine luiza .\n",
      "twitter:description : None\n",
      "og:description : None\n",
      "\n",
      "0/10 positive, 0/10 negative\n",
      "Do these records refer to the same thing?\n",
      "(y)es / (n)o / (u)nsure / (f)inished\n"
     ]
    },
    {
     "name": "stdout",
     "output_type": "stream",
     "text": [
      "y\n"
     ]
    },
    {
     "name": "stderr",
     "output_type": "stream",
     "text": [
      "title : mixer fast blend colors azul - mixer\n",
      "twitter:title : None\n",
      "og:title : None\n",
      "description : mixer fast blend colors azul\n",
      "twitter:description : None\n",
      "og:description : None\n",
      "\n",
      "title : climatizador ar elgin purificador/ ventilador umidificador/ ionizador 3 velocidades 45fce7500br - climatizador ar - magazine luiza\n",
      "twitter:title : None\n",
      "og:title : None\n",
      "description : climatizador ar elgin purificador/ ventilador magazine luiza .\n",
      "twitter:description : None\n",
      "og:description : None\n",
      "\n",
      "1/10 positive, 0/10 negative\n",
      "Do these records refer to the same thing?\n",
      "(y)es / (n)o / (u)nsure / (f)inished / (p)revious\n"
     ]
    }
   ],
   "source": [
    "linker = dedupe.RecordLink(fields)\n",
    "linker.sample(p, w)\n",
    "dedupe.consoleLabel(linker)"
   ]
  },
  {
   "cell_type": "code",
   "execution_count": 10,
   "metadata": {},
   "outputs": [
    {
     "name": "stderr",
     "output_type": "stream",
     "text": [
      "INFO:rlr.crossvalidation:using cross validation to find optimum alpha...\n",
      "INFO:rlr.crossvalidation:optimum alpha: 0.000100\n",
      "INFO:dedupe.blocking:Canopy: TfidfTextSearchPredicate: (0.6, og:title)\n",
      "INFO:dedupe.blocking:Canopy: TfidfTextSearchPredicate: (0.4, og:title)\n",
      "INFO:dedupe.blocking:Canopy: TfidfTextSearchPredicate: (0.2, og:title)\n",
      "INFO:dedupe.blocking:Canopy: TfidfTextSearchPredicate: (0.8, og:title)\n",
      "INFO:dedupe.blocking:Canopy: LevenshteinSearchPredicate: (4, og:title)\n",
      "INFO:dedupe.blocking:Canopy: LevenshteinSearchPredicate: (2, og:title)\n",
      "INFO:dedupe.blocking:Canopy: LevenshteinSearchPredicate: (3, og:title)\n",
      "INFO:dedupe.blocking:Canopy: LevenshteinSearchPredicate: (1, og:title)\n",
      "INFO:dedupe.blocking:Canopy: TfidfNGramSearchPredicate: (0.2, og:title)\n",
      "INFO:dedupe.blocking:Canopy: TfidfNGramSearchPredicate: (0.6, og:title)\n",
      "INFO:dedupe.blocking:Canopy: TfidfNGramSearchPredicate: (0.4, og:title)\n",
      "INFO:dedupe.blocking:Canopy: TfidfNGramSearchPredicate: (0.8, og:title)\n",
      "INFO:dedupe.blocking:Canopy: TfidfTextSearchPredicate: (0.8, twitter:description)\n",
      "INFO:dedupe.blocking:Canopy: TfidfTextSearchPredicate: (0.2, twitter:description)\n",
      "INFO:dedupe.blocking:Canopy: TfidfTextSearchPredicate: (0.6, twitter:description)\n",
      "INFO:dedupe.blocking:Canopy: TfidfTextSearchPredicate: (0.4, twitter:description)\n",
      "INFO:dedupe.blocking:Canopy: LevenshteinSearchPredicate: (4, twitter:description)\n",
      "INFO:dedupe.blocking:Canopy: LevenshteinSearchPredicate: (1, twitter:description)\n",
      "INFO:dedupe.blocking:Canopy: LevenshteinSearchPredicate: (2, twitter:description)\n",
      "INFO:dedupe.blocking:Canopy: LevenshteinSearchPredicate: (3, twitter:description)\n",
      "INFO:dedupe.blocking:Canopy: TfidfTextSearchPredicate: (0.8, twitter:title)\n",
      "INFO:dedupe.blocking:Canopy: TfidfTextSearchPredicate: (0.2, twitter:title)\n",
      "INFO:dedupe.blocking:Canopy: TfidfTextSearchPredicate: (0.6, twitter:title)\n",
      "INFO:dedupe.blocking:Canopy: TfidfTextSearchPredicate: (0.4, twitter:title)\n",
      "INFO:dedupe.blocking:Canopy: TfidfNGramSearchPredicate: (0.8, twitter:title)\n",
      "INFO:dedupe.blocking:Canopy: TfidfNGramSearchPredicate: (0.6, twitter:title)\n",
      "INFO:dedupe.blocking:Canopy: TfidfNGramSearchPredicate: (0.4, twitter:title)\n",
      "INFO:dedupe.blocking:Canopy: TfidfNGramSearchPredicate: (0.2, twitter:title)\n",
      "INFO:dedupe.blocking:Canopy: LevenshteinSearchPredicate: (3, twitter:title)\n",
      "INFO:dedupe.blocking:Canopy: LevenshteinSearchPredicate: (2, twitter:title)\n",
      "INFO:dedupe.blocking:Canopy: LevenshteinSearchPredicate: (4, twitter:title)\n",
      "INFO:dedupe.blocking:Canopy: LevenshteinSearchPredicate: (1, twitter:title)\n",
      "INFO:dedupe.blocking:Canopy: TfidfNGramSearchPredicate: (0.4, title)\n",
      "INFO:dedupe.blocking:Canopy: TfidfNGramSearchPredicate: (0.2, title)\n",
      "INFO:dedupe.blocking:Canopy: TfidfNGramSearchPredicate: (0.8, title)\n",
      "INFO:dedupe.blocking:Canopy: TfidfNGramSearchPredicate: (0.6, title)\n",
      "INFO:dedupe.blocking:Canopy: LevenshteinSearchPredicate: (3, title)\n",
      "INFO:dedupe.blocking:Canopy: LevenshteinSearchPredicate: (1, title)\n",
      "INFO:dedupe.blocking:Canopy: LevenshteinSearchPredicate: (2, title)\n",
      "INFO:dedupe.blocking:Canopy: LevenshteinSearchPredicate: (4, title)\n",
      "INFO:dedupe.blocking:Canopy: TfidfTextSearchPredicate: (0.2, title)\n",
      "INFO:dedupe.blocking:Canopy: TfidfTextSearchPredicate: (0.8, title)\n",
      "INFO:dedupe.blocking:Canopy: TfidfTextSearchPredicate: (0.4, title)\n",
      "INFO:dedupe.blocking:Canopy: TfidfTextSearchPredicate: (0.6, title)\n",
      "INFO:dedupe.blocking:Canopy: TfidfTextSearchPredicate: (0.2, og:description)\n",
      "INFO:dedupe.blocking:Canopy: TfidfTextSearchPredicate: (0.8, og:description)\n",
      "INFO:dedupe.blocking:Canopy: TfidfTextSearchPredicate: (0.6, og:description)\n",
      "INFO:dedupe.blocking:Canopy: TfidfTextSearchPredicate: (0.4, og:description)\n",
      "INFO:dedupe.blocking:Canopy: LevenshteinSearchPredicate: (3, og:description)\n",
      "INFO:dedupe.blocking:Canopy: LevenshteinSearchPredicate: (2, og:description)\n",
      "INFO:dedupe.blocking:Canopy: LevenshteinSearchPredicate: (1, og:description)\n",
      "INFO:dedupe.blocking:Canopy: LevenshteinSearchPredicate: (4, og:description)\n",
      "INFO:dedupe.blocking:Canopy: TfidfTextSearchPredicate: (0.6, description)\n",
      "INFO:dedupe.blocking:Canopy: TfidfTextSearchPredicate: (0.4, description)\n",
      "INFO:dedupe.blocking:Canopy: TfidfTextSearchPredicate: (0.2, description)\n",
      "INFO:dedupe.blocking:Canopy: TfidfTextSearchPredicate: (0.8, description)\n",
      "INFO:dedupe.blocking:Canopy: LevenshteinSearchPredicate: (3, description)\n",
      "INFO:dedupe.blocking:Canopy: LevenshteinSearchPredicate: (1, description)\n",
      "INFO:dedupe.blocking:Canopy: LevenshteinSearchPredicate: (2, description)\n",
      "INFO:dedupe.blocking:Canopy: LevenshteinSearchPredicate: (4, description)\n",
      "INFO:dedupe.blocking:Canopy: TfidfTextSearchPredicate: (0.6, og:title)\n",
      "INFO:dedupe.blocking:Canopy: TfidfTextSearchPredicate: (0.4, og:title)\n",
      "INFO:dedupe.blocking:Canopy: TfidfTextSearchPredicate: (0.2, og:title)\n",
      "INFO:dedupe.blocking:Canopy: TfidfTextSearchPredicate: (0.8, og:title)\n",
      "INFO:dedupe.blocking:Canopy: LevenshteinSearchPredicate: (4, og:title)\n",
      "INFO:dedupe.blocking:Canopy: LevenshteinSearchPredicate: (2, og:title)\n",
      "INFO:dedupe.blocking:Canopy: LevenshteinSearchPredicate: (3, og:title)\n",
      "INFO:dedupe.blocking:Canopy: LevenshteinSearchPredicate: (1, og:title)\n",
      "INFO:dedupe.blocking:Canopy: TfidfNGramSearchPredicate: (0.2, og:title)\n",
      "INFO:dedupe.blocking:Canopy: TfidfNGramSearchPredicate: (0.6, og:title)\n",
      "INFO:dedupe.blocking:Canopy: TfidfNGramSearchPredicate: (0.4, og:title)\n",
      "INFO:dedupe.blocking:Canopy: TfidfNGramSearchPredicate: (0.8, og:title)\n",
      "INFO:dedupe.blocking:Canopy: TfidfTextSearchPredicate: (0.8, twitter:description)\n",
      "INFO:dedupe.blocking:Canopy: TfidfTextSearchPredicate: (0.2, twitter:description)\n",
      "INFO:dedupe.blocking:Canopy: TfidfTextSearchPredicate: (0.6, twitter:description)\n",
      "INFO:dedupe.blocking:Canopy: TfidfTextSearchPredicate: (0.4, twitter:description)\n",
      "INFO:dedupe.blocking:Canopy: LevenshteinSearchPredicate: (4, twitter:description)\n",
      "INFO:dedupe.blocking:Canopy: LevenshteinSearchPredicate: (1, twitter:description)\n",
      "INFO:dedupe.blocking:Canopy: LevenshteinSearchPredicate: (2, twitter:description)\n",
      "INFO:dedupe.blocking:Canopy: LevenshteinSearchPredicate: (3, twitter:description)\n",
      "INFO:dedupe.blocking:Canopy: TfidfTextSearchPredicate: (0.8, twitter:title)\n",
      "INFO:dedupe.blocking:Canopy: TfidfTextSearchPredicate: (0.2, twitter:title)\n",
      "INFO:dedupe.blocking:Canopy: TfidfTextSearchPredicate: (0.6, twitter:title)\n",
      "INFO:dedupe.blocking:Canopy: TfidfTextSearchPredicate: (0.4, twitter:title)\n",
      "INFO:dedupe.blocking:Canopy: TfidfNGramSearchPredicate: (0.8, twitter:title)\n",
      "INFO:dedupe.blocking:Canopy: TfidfNGramSearchPredicate: (0.6, twitter:title)\n",
      "INFO:dedupe.blocking:Canopy: TfidfNGramSearchPredicate: (0.4, twitter:title)\n",
      "INFO:dedupe.blocking:Canopy: TfidfNGramSearchPredicate: (0.2, twitter:title)\n",
      "INFO:dedupe.blocking:Canopy: LevenshteinSearchPredicate: (3, twitter:title)\n",
      "INFO:dedupe.blocking:Canopy: LevenshteinSearchPredicate: (2, twitter:title)\n",
      "INFO:dedupe.blocking:Canopy: LevenshteinSearchPredicate: (4, twitter:title)\n",
      "INFO:dedupe.blocking:Canopy: LevenshteinSearchPredicate: (1, twitter:title)\n",
      "INFO:dedupe.blocking:Canopy: TfidfNGramSearchPredicate: (0.4, title)\n",
      "INFO:dedupe.blocking:Canopy: TfidfNGramSearchPredicate: (0.2, title)\n",
      "INFO:dedupe.blocking:Canopy: TfidfNGramSearchPredicate: (0.8, title)\n",
      "INFO:dedupe.blocking:Canopy: TfidfNGramSearchPredicate: (0.6, title)\n",
      "INFO:dedupe.blocking:Canopy: LevenshteinSearchPredicate: (3, title)\n",
      "INFO:dedupe.blocking:Canopy: LevenshteinSearchPredicate: (1, title)\n",
      "INFO:dedupe.blocking:Canopy: LevenshteinSearchPredicate: (2, title)\n",
      "INFO:dedupe.blocking:Canopy: LevenshteinSearchPredicate: (4, title)\n",
      "INFO:dedupe.blocking:Canopy: TfidfTextSearchPredicate: (0.2, title)\n",
      "INFO:dedupe.blocking:Canopy: TfidfTextSearchPredicate: (0.8, title)\n",
      "INFO:dedupe.blocking:Canopy: TfidfTextSearchPredicate: (0.4, title)\n",
      "INFO:dedupe.blocking:Canopy: TfidfTextSearchPredicate: (0.6, title)\n",
      "INFO:dedupe.blocking:Canopy: TfidfTextSearchPredicate: (0.2, og:description)\n",
      "INFO:dedupe.blocking:Canopy: TfidfTextSearchPredicate: (0.8, og:description)\n",
      "INFO:dedupe.blocking:Canopy: TfidfTextSearchPredicate: (0.6, og:description)\n",
      "INFO:dedupe.blocking:Canopy: TfidfTextSearchPredicate: (0.4, og:description)\n",
      "INFO:dedupe.blocking:Canopy: LevenshteinSearchPredicate: (3, og:description)\n"
     ]
    },
    {
     "name": "stderr",
     "output_type": "stream",
     "text": [
      "INFO:dedupe.blocking:Canopy: LevenshteinSearchPredicate: (2, og:description)\n",
      "INFO:dedupe.blocking:Canopy: LevenshteinSearchPredicate: (1, og:description)\n",
      "INFO:dedupe.blocking:Canopy: LevenshteinSearchPredicate: (4, og:description)\n",
      "INFO:dedupe.blocking:Canopy: TfidfTextSearchPredicate: (0.6, description)\n",
      "INFO:dedupe.blocking:Canopy: TfidfTextSearchPredicate: (0.4, description)\n",
      "INFO:dedupe.blocking:Canopy: TfidfTextSearchPredicate: (0.2, description)\n",
      "INFO:dedupe.blocking:Canopy: TfidfTextSearchPredicate: (0.8, description)\n",
      "INFO:dedupe.blocking:Canopy: LevenshteinSearchPredicate: (3, description)\n",
      "INFO:dedupe.blocking:Canopy: LevenshteinSearchPredicate: (1, description)\n",
      "INFO:dedupe.blocking:Canopy: LevenshteinSearchPredicate: (2, description)\n",
      "INFO:dedupe.blocking:Canopy: LevenshteinSearchPredicate: (4, description)\n",
      "INFO:dedupe.training:Final predicate set:\n",
      "INFO:dedupe.training:(SimplePredicate: (firstTokenPredicate, description), TfidfTextSearchPredicate: (0.8, title))\n",
      "INFO:dedupe.training:(ExistsPredicate: (Exists, description), SimplePredicate: (commonThreeTokens, description))\n",
      "INFO:dedupe.training:(SimplePredicate: (commonIntegerPredicate, description), TfidfTextSearchPredicate: (0.4, description))\n"
     ]
    }
   ],
   "source": [
    "linker.train()"
   ]
  },
  {
   "cell_type": "code",
   "execution_count": 11,
   "metadata": {},
   "outputs": [
    {
     "name": "stderr",
     "output_type": "stream",
     "text": [
      "INFO:dedupe.blocking:Canopy: TfidfTextSearchPredicate: (0.8, title)\n",
      "INFO:dedupe.blocking:Canopy: TfidfTextSearchPredicate: (0.4, description)\n",
      "INFO:dedupe.api:0 records\n"
     ]
    }
   ],
   "source": [
    "m = linker.match(p,w, 0.1)"
   ]
  },
  {
   "cell_type": "code",
   "execution_count": 15,
   "metadata": {},
   "outputs": [
    {
     "data": {
      "text/plain": [
       "[(('11', '74'), 0.99999875),\n",
       " (('2', '9'), 0.99994677),\n",
       " (('57', '32'), 0.9996708),\n",
       " (('39', '59'), 0.99879026),\n",
       " (('46', '47'), 0.9729774),\n",
       " (('9', '33'), 0.96253824),\n",
       " (('61', '40'), 0.96245885),\n",
       " (('79', '7'), 0.86856556),\n",
       " (('40', '58'), 0.80882889),\n",
       " (('1', '18'), 0.70724171),\n",
       " (('43', '71'), 0.63747907),\n",
       " (('0', '41'), 0.60950667),\n",
       " (('12', '79'), 0.56972182),\n",
       " (('18', '77'), 0.52886176),\n",
       " (('78', '22'), 0.18875611)]"
      ]
     },
     "execution_count": 15,
     "metadata": {},
     "output_type": "execute_result"
    }
   ],
   "source": [
    "m"
   ]
  },
  {
   "cell_type": "code",
   "execution_count": 14,
   "metadata": {},
   "outputs": [
    {
     "name": "stdout",
     "output_type": "stream",
     "text": [
      "{'description': 'modelador cachos relaxbeauty ana hickmann - titanium control ceramica 90o 220o c condicoes encontra site magazine luiza .', 'title': 'modelador cachos relaxbeauty ana hickmann - titanium control ceramica 90o 220o c relaxbeauty - produtos beleza - magazine luiza', 'twitter:title': None, 'og:title': None, 'twitter:description': None, 'og:description': None} {'description': 'modelador cachos relaxbeauty ana hickmann - titanium control ceramica 90o 220o c', 'title': 'modelador cachos relaxbeauty ana hickmann - titanium control ceramica 90o 220o c - modeladores escovas rotativas casasbahia.com.br', 'twitter:title': None, 'og:title': None, 'twitter:description': None, 'og:description': None}\n",
      "{'description': 'controle ps4 fio dualshock 4 sony condicoes encontra site magazine luiza .', 'title': 'controle ps4 fio dualshock 4 sony preto - acessorios playstation 4 - magazine luiza', 'twitter:title': None, 'og:title': None, 'twitter:description': None, 'og:description': None} {'description': 'controle fio sony dualshock 4 branco encontra .', 'title': 'controle fio sony dualshock 4 branco - ps4 - acessorios playstation 4 casasbahia.com.br', 'twitter:title': None, 'og:title': None, 'twitter:description': None, 'og:description': None}\n",
      "{'description': 'call of duty : infinite warfare ps4 condicoes encontra site magazine luiza .', 'title': 'call of duty : infinite warfare ps4 activision - call of duty playstation xbox - magazine luiza', 'twitter:title': None, 'og:title': None, 'twitter:description': None, 'og:description': None} {'description': 'jogo call of duty : infinite warfare encontra . .', 'title': 'jogo call of duty : infinite warfare - ps4 - jogos playstation 4 casasbahia.com.br', 'twitter:title': None, 'og:title': None, 'twitter:description': None, 'og:description': None}\n",
      "{'description': 'lava-loucas brastemp blf10as inox 10 servicos condicoes encontra site magazine luiza .', 'title': 'lava-loucas brastemp blf10as inox 10 servicos painel touch screen - lava-loucas - magazine luiza', 'twitter:title': None, 'og:title': None, 'twitter:description': None, 'og:description': None} {'description': 'encontre lava-loucas automatica brastemp blf10as painel touch 10 servicos - inox . precos condicoes especiais .', 'title': 'lava-loucas automatica brastemp blf10as painel touch 10 servicos - inox - lava-loucas casasbahia.com.br', 'twitter:title': None, 'og:title': None, 'twitter:description': None, 'og:description': None}\n",
      "{'description': 'freezer vertical consul 231l condicoes encontra site magazine luiza .', 'title': 'freezer vertical consul 231l cvu26ebana - freezer vertical - magazine luiza', 'twitter:title': None, 'og:title': None, 'twitter:description': None, 'og:description': None} {'description': 'freezer vertical', 'title': 'freezer vertical consul cvu26e 1 porta - 231l - vertical casasbahia.com.br', 'twitter:title': None, 'og:title': None, 'twitter:description': None, 'og:description': None}\n",
      "{'description': 'mixer cadence fast blend colors 2 velocidades condicoes encontra site magazine luiza .', 'title': 'mixer cadence fast blend colors 2 velocidades 170w - mixer - magazine luiza', 'twitter:title': None, 'og:title': None, 'twitter:description': None, 'og:description': None} {'description': 'mixer fast blend colors azul', 'title': 'mixer fast blend colors azul - mixer casasbahia.com.br', 'twitter:title': None, 'og:title': None, 'twitter:description': None, 'og:description': None}\n",
      "{'description': 'processador alimentos philips walita condicoes encontra site magazine luiza .', 'title': 'processador alimentos philips walita viva ri7632 2 velocidades + pulsar 650w - processador alimentos - magazine luiza', 'twitter:title': None, 'og:title': None, 'twitter:description': None, 'og:description': None} {'description': 'processador alimentos liquidificador ri7632/91 preto philips walita', 'title': 'processador alimentos liquidificador ri7632/91 preto philips walita - processador alimentos casasbahia.com.br', 'twitter:title': None, 'og:title': None, 'twitter:description': None, 'og:description': None}\n",
      "{'description': 'forno gas embutir brastemp boa84ae condicoes encontra site magazine luiza .', 'title': 'forno gas embutir brastemp boa84ae 84l grill touch timer - forno embutir - magazine luiza', 'twitter:title': None, 'og:title': None, 'twitter:description': None, 'og:description': None} {'description': 'forno gas embutir brastemp facilita dia dia cozinha , ter tempo fazer gosta .', 'title': 'forno gas embutir brastemp 84 litros boa84 preto 220v - forno embutir casasbahia.com.br', 'twitter:title': None, 'og:title': None, 'twitter:description': None, 'og:description': None}\n",
      "{'description': 'secador cabelo taiff tourmaline ion ceramica condicoes encontra site magazine luiza .', 'title': 'secador cabelo taiff tourmaline ion ceramica 2000w 2 velocidades - secador cabelo - magazine luiza', 'twitter:title': None, 'og:title': None, 'twitter:description': None, 'og:description': None} {'description': 'secador profissional 2000w - tourmaline ion ceramica - taiff', 'title': 'secador profissional 2000w - tourmaline ion ceramica - taiff - secadores cabelo casasbahia.com.br', 'twitter:title': None, 'og:title': None, 'twitter:description': None, 'og:description': None}\n",
      "{'description': 'chaleira eletrica cadence simmy 1l condicoes encontra site magazine luiza .', 'title': 'chaleira eletrica cadence simmy 1l porta-fio - chaleira eletricas - magazine luiza', 'twitter:title': None, 'og:title': None, 'twitter:description': None, 'og:description': None} {'description': 'adquira chaleira eletrica simmy cadence cel310 1100w capacidade 1 litro - branca', 'title': 'chaleira eletrica simmy cadence cel310 1100w capacidade 1 litro - branca - chaleiras eletricas casasbahia.com.br', 'twitter:title': None, 'og:title': None, 'twitter:description': None, 'og:description': None}\n",
      "{'description': 'notebook dell inspiron i15-5558-a50 intel core i7 condicoes encontra site magazine luiza .', 'title': \"notebook dell inspiron i15-5558-a50 intel core i7 8gb 1tb led 15,6 '' placa video 4gb windows 10 - notebook dell inspiron - magazine luiza\", 'twitter:title': None, 'og:title': None, 'twitter:description': None, 'og:description': None} {'description': 'ofertas notebook dell inspiron i15-5558-b30 intel coreTM i5-5200u , 4gb , 1tb windows 10 encontra .', 'title': \"notebook dell inspiron i15-5558-b30 intel coreTM i5-5200u , 4gb , 1tb , gravador dvd , leitor cartoes , hdmi , bluetooth , led 15.6 '' windows 10 - notebook casasbahia.com.br\", 'twitter:title': None, 'og:title': None, 'twitter:description': None, 'og:description': None}\n",
      "{'description': 'geladeira/refrigerador brastemp frost free duplex condicoes encontra site magazine luiza .', 'title': 'geladeira/refrigerador brastemp frost free duplex 429l ative brm50nbana branco - geladeira/refrigerador frost free - magazine luiza', 'twitter:title': None, 'og:title': None, 'twitter:description': None, 'og:description': None} {'description': 'eletrodomesticos - refrigerador brastemp frost free duplex ative brm50nb c/ controle eletronico - 429l precos casas bahia', 'title': 'geladeira brastemp frost free duplex ative brm50nb c/ controle eletronico - 429l - frost free casasbahia.com.br', 'twitter:title': None, 'og:title': None, 'twitter:description': None, 'og:description': None}\n",
      "{'description': 'secador cabelo taiff fox ion condicoes encontra site magazine luiza .', 'title': 'secador cabelo taiff fox ion 2000w 2 velocidades - secador cabelo - magazine luiza', 'twitter:title': None, 'og:title': None, 'twitter:description': None, 'og:description': None} {'description': 'beleza saude - secador taiff fox ion - 2.000 w precos casas bahia', 'title': 'secador cabelos taiff fox ion motor ac profissional 5 temperaturas 2000w - prata - secadores cabelo casasbahia.com.br', 'twitter:title': None, 'og:title': None, 'twitter:description': None, 'og:description': None}\n",
      "{'description': 'freezer vertical frost free brastemp 228l condicoes encontra site magazine luiza .', 'title': 'freezer vertical frost free brastemp 228l bvr28hrana - freezer vertical - magazine luiza', 'twitter:title': None, 'og:title': None, 'twitter:description': None, 'og:description': None} {'description': 'freezer vertical brastemp , ideal casa', 'title': 'freezer vertical brastemp frost free flex bvr28hr inox - 228l - vertical casasbahia.com.br', 'twitter:title': None, 'og:title': None, 'twitter:description': None, 'og:description': None}\n",
      "{'description': 'dvd player trc dvd 170 karaoke usb condicoes encontra site magazine luiza .', 'title': 'dvd player trc dvd 170 karaoke usb 1 microfone funcao ripping - dvd player - magazine luiza', 'twitter:title': None, 'og:title': None, 'twitter:description': None, 'og:description': None} {'description': 'eletronicos - dvd player karaoke trc dvd-170 compacto c/ entrada usb precos casas bahia', 'title': 'dvd player karaoke trc dvd-170 compacto c/ entrada usb - dvd player casasbahia.com.br', 'twitter:title': None, 'og:title': None, 'twitter:description': None, 'og:description': None}\n"
     ]
    }
   ],
   "source": [
    "for i in m:\n",
    "    print(p[i[0][0]], w[i[0][1]])"
   ]
  },
  {
   "cell_type": "code",
   "execution_count": null,
   "metadata": {
    "collapsed": true
   },
   "outputs": [],
   "source": []
  }
 ],
 "metadata": {
  "kernelspec": {
   "display_name": "Python 3",
   "language": "python",
   "name": "python3"
  },
  "language_info": {
   "codemirror_mode": {
    "name": "ipython",
    "version": 3
   },
   "file_extension": ".py",
   "mimetype": "text/x-python",
   "name": "python",
   "nbconvert_exporter": "python",
   "pygments_lexer": "ipython3",
   "version": "3.6.1"
  }
 },
 "nbformat": 4,
 "nbformat_minor": 2
}
