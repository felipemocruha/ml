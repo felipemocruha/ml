{
 "cells": [
  {
   "cell_type": "code",
   "execution_count": null,
   "metadata": {},
   "outputs": [],
   "source": [
    "const Nightmare = require('nightmare')"
   ]
  },
  {
   "cell_type": "code",
   "execution_count": null,
   "metadata": {
    "scrolled": true
   },
   "outputs": [],
   "source": [
    "const fetchOne = (url) => {\n",
    "    let page = new Nightmare()\n",
    "        .useragent(\"Mozilla/5.0 (Windows NT 6.3; WOW64) AppleWebKit/537.36 (KHTML, like Gecko) Chrome/38.0.2125.111 Safari/537.36\")\n",
    "        .goto(url)\n",
    "        .wait(1000)\n",
    "        .html('/home/bisca/Projetos/crawler/data/page.html', 'HTMLComplete')\n",
    "        .end()\n",
    "        .then(res => {\n",
    "            console.log('fetched one!')\n",
    "        })\n",
    "        .catch(err => {\n",
    "            console.log(err)\n",
    "        })\n",
    "}"
   ]
  },
  {
   "cell_type": "code",
   "execution_count": null,
   "metadata": {},
   "outputs": [],
   "source": [
    "fetchOne('https://www.walmart.com.br/smartphone-samsung-galaxy-a720-a7-2017-rosa/5365917/pr')"
   ]
  },
  {
   "cell_type": "code",
   "execution_count": 4,
   "metadata": {},
   "outputs": [],
   "source": [
    "var u = new url.parse('https://www.walmart.com.br/smartphone-samsung-galaxy-a720-a7-2017-rosa/5365917/pr')"
   ]
  },
  {
   "cell_type": "code",
   "execution_count": 2,
   "metadata": {
    "collapsed": true
   },
   "outputs": [],
   "source": [
    "const url = require('url')"
   ]
  },
  {
   "cell_type": "code",
   "execution_count": 5,
   "metadata": {},
   "outputs": [
    {
     "data": {
      "text/plain": [
       "[Url] {\"protocol\":\"https:\",\"slashes\":true,\"auth\":null,\"host\":\"www.walmart.com.br\",\"port\":null,\"hostname\":\"www.walmart.com.br\",\"hash\":null,\"search\":null,\"query\":null,\"pathname\":\"/smartphone-samsung-galaxy-a720-a7-2017-rosa/5365917/pr\",\"path\":\"/smartphone-samsung-galaxy-a720-a7-2017-rosa/5365917/pr\",\"href\":\"https://www.walmart.com.br/smartphone-samsung-galaxy-a720-a7-2017-rosa/5365917/pr\"}"
      ]
     },
     "execution_count": 5,
     "metadata": {},
     "output_type": "execute_result"
    }
   ],
   "source": [
    "u"
   ]
  },
  {
   "cell_type": "code",
   "execution_count": 7,
   "metadata": {},
   "outputs": [
    {
     "data": {
      "text/plain": [
       "\"-smartphone-samsung-galaxy-a720-a7-2017-rosa/5365917/pr\""
      ]
     },
     "execution_count": 7,
     "metadata": {},
     "output_type": "execute_result"
    }
   ],
   "source": [
    "u.path.replace('/', '-')"
   ]
  },
  {
   "cell_type": "code",
   "execution_count": null,
   "metadata": {
    "collapsed": true
   },
   "outputs": [],
   "source": []
  }
 ],
 "metadata": {
  "kernelspec": {
   "display_name": "NodeJS",
   "language": "javascript",
   "name": "nodejs"
  },
  "language_info": {
   "codemirror_mode": "javascript",
   "file_extension": ".js",
   "mimetype": "text/javascript",
   "name": "nodejs",
   "pygments_lexer": "javascript",
   "version": "0.10"
  }
 },
 "nbformat": 4,
 "nbformat_minor": 2
}
