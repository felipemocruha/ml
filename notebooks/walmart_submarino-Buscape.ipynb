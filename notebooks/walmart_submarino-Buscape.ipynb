{
 "cells": [
  {
   "cell_type": "code",
   "execution_count": 6,
   "metadata": {
    "collapsed": true
   },
   "outputs": [],
   "source": [
    "import dedupe\n",
    "import json\n",
    "from cytoolz import *\n",
    "from copy import copy\n",
    "import re\n",
    "import nltk\n",
    "from bs4 import BeautifulSoup\n",
    "from nltk.tokenize import word_tokenize\n",
    "from urllib.parse import urlparse\n",
    "from unicodedata import normalize\n",
    "from sklearn.neural_network import MLPClassifier"
   ]
  },
  {
   "cell_type": "code",
   "execution_count": 5,
   "metadata": {
    "collapsed": true
   },
   "outputs": [],
   "source": [
    "fields = [{'field': 'description', 'variable name': 'description', 'type': 'String'},\n",
    "          {'field': 'price', 'variable name': 'price', 'type': 'Price'},\n",
    "          {'type': 'Interaction', 'interaction variables': ['description', 'price']}]\n",
    "\n",
    "\n",
    "def tokenize_url(url):\n",
    "    path = urlparse(url).path\n",
    "    path = path.replace('/', ' ')\n",
    "    path = path.replace('-', ' ')\n",
    "    return word_tokenize(path)\n",
    "\n",
    "\n",
    "def remove_accents(input_str):\n",
    "    return normalize('NFKD', input_str).encode('ascii', 'ignore').decode()\n",
    "\n",
    "\n",
    "def sanitize_string(input_str):\n",
    "    pattern = r'[?|&|!|@|#|;|*|~|(|)|´|^|\\r|\\n|\\t]'\n",
    "    price_pattern = r'[\\d]+\\.[\\d]+\\.[\\d]+'\n",
    "    \n",
    "    if re.match(price_pattern, input_str):\n",
    "        sep = input_str.rsplit('.')\n",
    "        return '{}.{}'.format(sep[0], sep[1])\n",
    "    \n",
    "    return clean_string(re.sub(pattern, r'', remove_accents(input_str.lower())))\n",
    "\n",
    "\n",
    "def clean_string(input_str):\n",
    "    unuseful = set(['confira', 'compre', 'oferta', 'novo',\n",
    "                    'preco', 'agora', 'melhores', 'aqui',\n",
    "                    'aproveite', 'menor', 'maior', 'encontra',\n",
    "                    'site', 'condicoes', 'ofertas', 'imbativeis',\n",
    "                    'vendas', 'online', 'novo', 'nova', 'tecnologia',\n",
    "                    'precos', 'pagamento', 'melhor', 'veja', 'encontre',\n",
    "                    'menores', 'vem', 'venha', 'ver'])\n",
    "\n",
    "    names = set(['walmart', 'walmart.com', 'shoptime', 'shoptime.com',\n",
    "                 'pontofrio', 'pontofrio.com', 'magazineluiza', 'magazineluiza.com',\n",
    "                 'magazine luiza', 'americanas', 'americanas.com', 'submarino',\n",
    "                 'submarino.com', 'extra', 'extra.com.br', 'casas bahia', 'casasbahia.com.br'])\n",
    "\n",
    "    stopwords = [remove_accents(s) for s in nltk.corpus.stopwords.words('portuguese')]\n",
    "    repl = list(concat([unuseful, names, stopwords]))\n",
    "    tk = word_tokenize(input_str)\n",
    "    return ' '.join([word for word in tk if word not in repl])\n",
    "\n",
    "\n",
    "def preprocess(item):\n",
    "    return {'description': sanitize_string(item['description']), 'price': float(sanitize_string(item['price']))}"
   ]
  },
  {
   "cell_type": "code",
   "execution_count": 7,
   "metadata": {},
   "outputs": [],
   "source": [
    "with open('../data/walmart/buscape.json') as f:\n",
    "    walmart = [preprocess(dissoc(item, 'image')) for item in json.loads(f.read())['products']]\n",
    "\n",
    "with open('../data/submarino/buscape.json') as f:\n",
    "    submarino = [preprocess(dissoc(item, 'image')) for item in json.loads(f.read())['products']]"
   ]
  },
  {
   "cell_type": "code",
   "execution_count": 8,
   "metadata": {
    "collapsed": true
   },
   "outputs": [],
   "source": [
    "p = {str(i): walmart[i] for i in range(len(walmart))}\n",
    "w = {str(i): submarino[i] for i in range(len(submarino))}"
   ]
  },
  {
   "cell_type": "code",
   "execution_count": 11,
   "metadata": {
    "scrolled": false
   },
   "outputs": [
    {
     "name": "stderr",
     "output_type": "stream",
     "text": [
      "description : game micoach by adidas - ps3\n",
      "price : 56.99\n",
      "\n",
      "description : capinha celular nba note 4 milwaukee bucks - nbae14 3984861\n",
      "price : 59.9\n",
      "\n",
      "0/10 positive, 0/10 negative\n",
      "Do these records refer to the same thing?\n",
      "(y)es / (n)o / (u)nsure / (f)inished\n"
     ]
    },
    {
     "name": "stdout",
     "output_type": "stream",
     "text": [
      "n\n"
     ]
    },
    {
     "name": "stderr",
     "output_type": "stream",
     "text": [
      "description : bateria camera digital samsung pl50\n",
      "price : 86.0\n",
      "\n",
      "description : bateria notebook hp pavilion dm3 - 1116 polimero li - po 10.8v 11.1v / / preta / / 5200mah 2142825\n",
      "price : 270.9\n",
      "\n",
      "0/10 positive, 1/10 negative\n",
      "Do these records refer to the same thing?\n",
      "(y)es / (n)o / (u)nsure / (f)inished / (p)revious\n"
     ]
    },
    {
     "name": "stdout",
     "output_type": "stream",
     "text": [
      "n\n"
     ]
    },
    {
     "name": "stderr",
     "output_type": "stream",
     "text": [
      "description : banheira 500 litros - nautika\n",
      "price : 137.52\n",
      "\n",
      "description : banheira 230 litros - nautika 2206703\n",
      "price : 71.06\n",
      "\n",
      "0/10 positive, 2/10 negative\n",
      "Do these records refer to the same thing?\n",
      "(y)es / (n)o / (u)nsure / (f)inished / (p)revious\n"
     ]
    },
    {
     "name": "stdout",
     "output_type": "stream",
     "text": [
      "n\n"
     ]
    },
    {
     "name": "stderr",
     "output_type": "stream",
     "text": [
      "description : farol - arteb - amarok 2010 diante - lado passageiro - cada unidade - 0160754\n",
      "price : 556.0\n",
      "\n",
      "description : farol - arteb - amarok 2010 diante - lado passageiro - cada unidade - 0160754 3816829\n",
      "price : 556.0\n",
      "\n",
      "0/10 positive, 3/10 negative\n",
      "Do these records refer to the same thing?\n",
      "(y)es / (n)o / (u)nsure / (f)inished / (p)revious\n"
     ]
    },
    {
     "name": "stdout",
     "output_type": "stream",
     "text": [
      "y\n"
     ]
    },
    {
     "name": "stderr",
     "output_type": "stream",
     "text": [
      "description : terminal direcao diametro pino 14,6 x 225 mm direito hilux gi\n",
      "price : 132.95\n",
      "\n",
      "description : terminal direcao diametro pino 14,6 x 225 mm direito hilux gi 3796373\n",
      "price : 132.95\n",
      "\n",
      "1/10 positive, 3/10 negative\n",
      "Do these records refer to the same thing?\n",
      "(y)es / (n)o / (u)nsure / (f)inished / (p)revious\n"
     ]
    },
    {
     "name": "stdout",
     "output_type": "stream",
     "text": [
      "y\n"
     ]
    },
    {
     "name": "stderr",
     "output_type": "stream",
     "text": [
      "description : cozinha compacta damasco itatiaia coimbra bege / branco laca\n",
      "price : 778.48\n",
      "\n",
      "description : cozinha compacta damasco itatiaia coimbra bege / branco laca 2557202\n",
      "price : 779.87\n",
      "\n",
      "2/10 positive, 3/10 negative\n",
      "Do these records refer to the same thing?\n",
      "(y)es / (n)o / (u)nsure / (f)inished / (p)revious\n"
     ]
    },
    {
     "name": "stdout",
     "output_type": "stream",
     "text": [
      "y\n"
     ]
    },
    {
     "name": "stderr",
     "output_type": "stream",
     "text": [
      "description : escapamento turbo esportivo pro tork honda biz 125 2010 + brinde\n",
      "price : 121.22\n",
      "\n",
      "description : escapamento turbo esportivo pro tork honda biz 100 1998 2005 + brinde 3582460\n",
      "price : 124.46\n",
      "\n",
      "3/10 positive, 3/10 negative\n",
      "Do these records refer to the same thing?\n",
      "(y)es / (n)o / (u)nsure / (f)inished / (p)revious\n"
     ]
    },
    {
     "name": "stdout",
     "output_type": "stream",
     "text": [
      "n\n"
     ]
    },
    {
     "name": "stderr",
     "output_type": "stream",
     "text": [
      "description : par farol daylight hyundai ix35 2009 2010 2011 2012 foco duplo mascara negra\n",
      "price : 1919.2\n",
      "\n",
      "description : par farol daylight l200 triton 2007 2008 2009 2010 2011 2012 foco duplo mascara negra led 484664\n",
      "price : 1760.0\n",
      "\n",
      "3/10 positive, 4/10 negative\n",
      "Do these records refer to the same thing?\n",
      "(y)es / (n)o / (u)nsure / (f)inished / (p)revious\n"
     ]
    },
    {
     "name": "stdout",
     "output_type": "stream",
     "text": [
      "n\n"
     ]
    },
    {
     "name": "stderr",
     "output_type": "stream",
     "text": [
      "description : escapamento turbo esportivo pro tork honda biz 125 2010 + brinde\n",
      "price : 121.22\n",
      "\n",
      "description : escapamento turbo esportivo pro tork honda biz 100 1998 2005 + brinde 3582460\n",
      "price : 124.46\n",
      "\n",
      "3/10 positive, 5/10 negative\n",
      "Do these records refer to the same thing?\n",
      "(y)es / (n)o / (u)nsure / (f)inished / (p)revious\n"
     ]
    },
    {
     "name": "stdout",
     "output_type": "stream",
     "text": [
      "n\n"
     ]
    },
    {
     "name": "stderr",
     "output_type": "stream",
     "text": [
      "description : cozinha compacta 5141 sicilia siena moveis argila / amarelo gema\n",
      "price : 2499.9\n",
      "\n",
      "description : cozinha compacta 5143 sicilia siena moveis argila / amarelo gema 2555451\n",
      "price : 1499.89\n",
      "\n",
      "3/10 positive, 6/10 negative\n",
      "Do these records refer to the same thing?\n",
      "(y)es / (n)o / (u)nsure / (f)inished / (p)revious\n"
     ]
    },
    {
     "name": "stdout",
     "output_type": "stream",
     "text": [
      "n\n"
     ]
    },
    {
     "name": "stderr",
     "output_type": "stream",
     "text": [
      "description : escapamento turbo esportivo pro tork honda biz 100 1998 2005 + brinde\n",
      "price : 121.22\n",
      "\n",
      "description : escapamento turbo esportivo pro tork honda biz 100 1998 2005 + brinde 3582460\n",
      "price : 124.46\n",
      "\n",
      "3/10 positive, 7/10 negative\n",
      "Do these records refer to the same thing?\n",
      "(y)es / (n)o / (u)nsure / (f)inished / (p)revious\n"
     ]
    },
    {
     "name": "stdout",
     "output_type": "stream",
     "text": [
      "y\n"
     ]
    },
    {
     "name": "stderr",
     "output_type": "stream",
     "text": [
      "description : escapamento turbo esportivo pro tork honda biz 125 2010 + brinde\n",
      "price : 121.22\n",
      "\n",
      "description : escapamento turbo esportivo pro tork honda biz 125 2010 + brinde 3582467\n",
      "price : 124.46\n",
      "\n",
      "4/10 positive, 7/10 negative\n",
      "Do these records refer to the same thing?\n",
      "(y)es / (n)o / (u)nsure / (f)inished / (p)revious\n"
     ]
    },
    {
     "name": "stdout",
     "output_type": "stream",
     "text": [
      "y\n"
     ]
    },
    {
     "name": "stderr",
     "output_type": "stream",
     "text": [
      "description : protetor radiador triumph tiger explorer 1200 / xc 2016\n",
      "price : 401.0\n",
      "\n",
      "description : protetor radiador triumph tiger explorer 1200 / xc 2016 3807296\n",
      "price : 401.0\n",
      "\n",
      "5/10 positive, 7/10 negative\n",
      "Do these records refer to the same thing?\n",
      "(y)es / (n)o / (u)nsure / (f)inished / (p)revious\n"
     ]
    },
    {
     "name": "stdout",
     "output_type": "stream",
     "text": [
      "y\n"
     ]
    },
    {
     "name": "stderr",
     "output_type": "stream",
     "text": [
      "description : cozinha compacta 5141 sicilia siena moveis argila / amarelo gema\n",
      "price : 2499.9\n",
      "\n",
      "description : cozinha compacta 5144 sicilia siena moveis argila / amarelo gema 2555456\n",
      "price : 1499.89\n",
      "\n",
      "6/10 positive, 7/10 negative\n",
      "Do these records refer to the same thing?\n",
      "(y)es / (n)o / (u)nsure / (f)inished / (p)revious\n"
     ]
    },
    {
     "name": "stdout",
     "output_type": "stream",
     "text": [
      "n\n"
     ]
    },
    {
     "name": "stderr",
     "output_type": "stream",
     "text": [
      "description : puff angel redondo collor impermealizado pes palito amarelo - lymdecor\n",
      "price : 199.5\n",
      "\n",
      "description : puff angel redondo collor impermealizado pes palito amarelo lymdecor 3301986\n",
      "price : 199.5\n",
      "\n",
      "6/10 positive, 8/10 negative\n",
      "Do these records refer to the same thing?\n",
      "(y)es / (n)o / (u)nsure / (f)inished / (p)revious\n"
     ]
    },
    {
     "name": "stdout",
     "output_type": "stream",
     "text": [
      "y\n"
     ]
    },
    {
     "name": "stderr",
     "output_type": "stream",
     "text": [
      "description : guarda roupa 6 portas 2 gavetas astral 100 mdp rodapes castanho / avela touch - demobile\n",
      "price : 639.95\n",
      "\n",
      "description : guarda roupa 6 portas 2 gavetas astral 100 % mdp rodapes castanho / avela touch - demobile - 201,00 x 165,00 x 47,00 3503333\n",
      "price : 639.94\n",
      "\n",
      "7/10 positive, 8/10 negative\n",
      "Do these records refer to the same thing?\n",
      "(y)es / (n)o / (u)nsure / (f)inished / (p)revious\n"
     ]
    },
    {
     "name": "stdout",
     "output_type": "stream",
     "text": [
      "y\n"
     ]
    },
    {
     "name": "stderr",
     "output_type": "stream",
     "text": [
      "description : jogo mesa 70 70 heineken 4 cadeiras pamplona mel - moveis parana\n",
      "price : 1272.9\n",
      "\n",
      "description : jogo mesa 70 70 heineken 4 cadeiras pamplona mel - moveis parana 3489124\n",
      "price : 1339.87\n",
      "\n",
      "8/10 positive, 8/10 negative\n",
      "Do these records refer to the same thing?\n",
      "(y)es / (n)o / (u)nsure / (f)inished / (p)revious\n"
     ]
    },
    {
     "name": "stdout",
     "output_type": "stream",
     "text": [
      "y\n"
     ]
    },
    {
     "name": "stderr",
     "output_type": "stream",
     "text": [
      "description : conjunto sala jantar mesa 6 cadeiras megan madesa rustic / perola\n",
      "price : 959.9\n",
      "\n",
      "description : conjunto sala jantar mesa 6 cadeiras celeny madesa rustic / floral hibiscos 2306804\n",
      "price : 599.9\n",
      "\n",
      "9/10 positive, 8/10 negative\n",
      "Do these records refer to the same thing?\n",
      "(y)es / (n)o / (u)nsure / (f)inished / (p)revious\n"
     ]
    },
    {
     "name": "stdout",
     "output_type": "stream",
     "text": [
      "n\n"
     ]
    },
    {
     "name": "stderr",
     "output_type": "stream",
     "text": [
      "description : escapamento esportivo 788 aco pro tork star 50 traxx + brinde\n",
      "price : 155.09\n",
      "\n",
      "description : escapamento esportivo 788 aco pro tork speed 150 dafra + brinde cromado 3582767\n",
      "price : 159.24\n",
      "\n",
      "9/10 positive, 9/10 negative\n",
      "Do these records refer to the same thing?\n",
      "(y)es / (n)o / (u)nsure / (f)inished / (p)revious\n"
     ]
    },
    {
     "name": "stdout",
     "output_type": "stream",
     "text": [
      "n\n"
     ]
    },
    {
     "name": "stderr",
     "output_type": "stream",
     "text": [
      "description : banqueta courissimo giratoria regulagem altura modelo umix 801c vermelho - mix u\n",
      "price : 339.9\n",
      "\n",
      "description : banqueta courissimo giratoria regulagem altura umix 801c vermelha 3757764\n",
      "price : 285.08\n",
      "\n",
      "9/10 positive, 10/10 negative\n",
      "Do these records refer to the same thing?\n",
      "(y)es / (n)o / (u)nsure / (f)inished / (p)revious\n"
     ]
    },
    {
     "name": "stdout",
     "output_type": "stream",
     "text": [
      "y\n"
     ]
    },
    {
     "name": "stderr",
     "output_type": "stream",
     "text": [
      "description : comoda 3 gavetas nature branco fosco / eco wood\n",
      "price : 598.98\n",
      "\n",
      "description : comoda 3 gavetas nature branco fosco / eco wood 3067539\n",
      "price : 598.98\n",
      "\n",
      "10/10 positive, 10/10 negative\n",
      "Do these records refer to the same thing?\n",
      "(y)es / (n)o / (u)nsure / (f)inished / (p)revious\n"
     ]
    },
    {
     "name": "stdout",
     "output_type": "stream",
     "text": [
      "y\n"
     ]
    },
    {
     "name": "stderr",
     "output_type": "stream",
     "text": [
      "description : conjunto sala jantar mesa 6 cadeiras gales madesa rustic / perola\n",
      "price : 649.9\n",
      "\n",
      "description : conjunto sala jantar mesa 4 cadeiras dijon madesa rustic / floral hibiscos 2485074\n",
      "price : 759.9\n",
      "\n",
      "11/10 positive, 10/10 negative\n",
      "Do these records refer to the same thing?\n",
      "(y)es / (n)o / (u)nsure / (f)inished / (p)revious\n"
     ]
    },
    {
     "name": "stdout",
     "output_type": "stream",
     "text": [
      "n\n"
     ]
    },
    {
     "name": "stderr",
     "output_type": "stream",
     "text": [
      "description : escapamento turbo esportivo pro tork honda biz 100 1998 2005 + brinde\n",
      "price : 121.22\n",
      "\n",
      "description : escapamento turbo esportivo pro tork honda biz 125 2010 + brinde 3582467\n",
      "price : 124.46\n",
      "\n",
      "11/10 positive, 11/10 negative\n",
      "Do these records refer to the same thing?\n",
      "(y)es / (n)o / (u)nsure / (f)inished / (p)revious\n"
     ]
    },
    {
     "name": "stdout",
     "output_type": "stream",
     "text": [
      "f\n"
     ]
    },
    {
     "name": "stderr",
     "output_type": "stream",
     "text": [
      "Finished labeling\n"
     ]
    }
   ],
   "source": [
    "linker = dedupe.RecordLink(fields)\n",
    "linker.sample(p, w)\n",
    "dedupe.consoleLabel(linker)"
   ]
  },
  {
   "cell_type": "code",
   "execution_count": 12,
   "metadata": {},
   "outputs": [
    {
     "name": "stderr",
     "output_type": "stream",
     "text": [
      "INFO:rlr.crossvalidation:using cross validation to find optimum alpha...\n",
      "INFO:rlr.crossvalidation:optimum alpha: 0.000100\n",
      "INFO:dedupe.blocking:Canopy: TfidfNGramSearchPredicate: (0.4, description)\n",
      "INFO:dedupe.blocking:Canopy: TfidfNGramSearchPredicate: (0.2, description)\n",
      "INFO:dedupe.blocking:Canopy: TfidfNGramSearchPredicate: (0.8, description)\n",
      "INFO:dedupe.blocking:Canopy: TfidfNGramSearchPredicate: (0.6, description)\n",
      "INFO:dedupe.blocking:Canopy: TfidfTextSearchPredicate: (0.2, description)\n",
      "INFO:dedupe.blocking:Canopy: TfidfTextSearchPredicate: (0.6, description)\n",
      "INFO:dedupe.blocking:Canopy: TfidfTextSearchPredicate: (0.4, description)\n",
      "INFO:dedupe.blocking:Canopy: TfidfTextSearchPredicate: (0.8, description)\n",
      "INFO:dedupe.blocking:Canopy: LevenshteinSearchPredicate: (2, description)\n",
      "INFO:dedupe.blocking:Canopy: LevenshteinSearchPredicate: (1, description)\n",
      "INFO:dedupe.blocking:Canopy: LevenshteinSearchPredicate: (3, description)\n",
      "INFO:dedupe.blocking:Canopy: LevenshteinSearchPredicate: (4, description)\n",
      "INFO:dedupe.blocking:Canopy: TfidfNGramSearchPredicate: (0.4, description)\n",
      "INFO:dedupe.blocking:Canopy: TfidfNGramSearchPredicate: (0.2, description)\n",
      "INFO:dedupe.blocking:Canopy: TfidfNGramSearchPredicate: (0.8, description)\n",
      "INFO:dedupe.blocking:Canopy: TfidfNGramSearchPredicate: (0.6, description)\n",
      "INFO:dedupe.blocking:Canopy: TfidfTextSearchPredicate: (0.2, description)\n",
      "INFO:dedupe.blocking:Canopy: TfidfTextSearchPredicate: (0.6, description)\n",
      "INFO:dedupe.blocking:Canopy: TfidfTextSearchPredicate: (0.4, description)\n",
      "INFO:dedupe.blocking:Canopy: TfidfTextSearchPredicate: (0.8, description)\n",
      "INFO:dedupe.blocking:Canopy: LevenshteinSearchPredicate: (2, description)\n",
      "INFO:dedupe.blocking:Canopy: LevenshteinSearchPredicate: (1, description)\n",
      "INFO:dedupe.blocking:Canopy: LevenshteinSearchPredicate: (3, description)\n",
      "INFO:dedupe.blocking:Canopy: LevenshteinSearchPredicate: (4, description)\n",
      "INFO:dedupe.training:Final predicate set:\n",
      "INFO:dedupe.training:TfidfNGramSearchPredicate: (0.8, description)\n"
     ]
    }
   ],
   "source": [
    "linker.train()"
   ]
  },
  {
   "cell_type": "code",
   "execution_count": 16,
   "metadata": {},
   "outputs": [
    {
     "name": "stderr",
     "output_type": "stream",
     "text": [
      "INFO:dedupe.canopy_index:Removing stop word li\n",
      "INFO:dedupe.canopy_index:Removing stop word la\n",
      "INFO:dedupe.blocking:Canopy: TfidfNGramSearchPredicate: (0.8, description)\n",
      "INFO:dedupe.api:0 records\n",
      "INFO:dedupe.blocking:10000, 8.8622902 seconds\n"
     ]
    }
   ],
   "source": [
    "m = linker.match(p,w, 0)"
   ]
  },
  {
   "cell_type": "code",
   "execution_count": 17,
   "metadata": {},
   "outputs": [
    {
     "data": {
      "text/plain": [
       "[(('4013', '1424'), 0.99999994),\n",
       " (('14085', '2342'), 0.98305237),\n",
       " (('12936', '1965'), 0.89569336),\n",
       " (('9895', '976'), 0.10485038),\n",
       " (('9890', '2791'), 0.030447919),\n",
       " (('8699', '2358'), 9.981847e-05)]"
      ]
     },
     "execution_count": 17,
     "metadata": {},
     "output_type": "execute_result"
    }
   ],
   "source": [
    "m"
   ]
  },
  {
   "cell_type": "code",
   "execution_count": 18,
   "metadata": {
    "scrolled": false
   },
   "outputs": [
    {
     "name": "stdout",
     "output_type": "stream",
     "text": [
      "{'description': 'lanterna traseira saveiro g3 2000 2001 2002 2003 2004 2005 bicolor 484482', 'price': 63.15} {'description': 'par farol daylight golf 99 2000 2001 2002 2003 2004 2005 2006 led mascara cromada', 'price': 878.4}\n",
      "{'description': 'kit coifa homocinetica cambio esquerdo rolamento golf , golf , golf , polo classic 1.8 3714147', 'price': 31.04} {'description': 'kit coifa homocinetica cambio esquerdo rolamento golf , golf , golf , polo classic 1.8', 'price': 31.04}\n",
      "{'description': 'pneu linglong 235 / 60r16 tl 100h crosswind hp010 3740579', 'price': 481.48} {'description': 'pneu linglong 235 / 60r16 tl 100h crosswind hp010', 'price': 416.56}\n",
      "{'description': 'kit farol mascara cromada sprinter cdi 2003 2004 2005 2006 2007 2008 2009 2010 2011 grade 489263', 'price': 445.39} {'description': 'central multimidia honda fit 2003 2004 2005 2006 2007 2008', 'price': 1567.99}\n",
      "{'description': 'par farol peugeot 206 99 2000 2001 2002 2003 2004 2005 2006 2007 2008 black foco duplo angel eyes 484869', 'price': 960.0} {'description': 'parachoque dianteiro golf 99 2000 2001 2002 2003 2004 2005', 'price': 190.4}\n",
      "{'description': 'maquina vidro mecanica , manual porta dianteira esquerdo ford f12000 , f14000 , f16000 , f250 , f , 350 , f400098 3763390', 'price': 174.5} {'description': 'terminal direcao dianteiro ford f100 , f150 , f250 , f350 , f600 , f700 , p350 , tkr', 'price': 115.32}\n"
     ]
    }
   ],
   "source": [
    "for i in m:\n",
    "    print(p[i[0][0]], w[i[0][1]])"
   ]
  },
  {
   "cell_type": "code",
   "execution_count": 13,
   "metadata": {},
   "outputs": [
    {
     "name": "stderr",
     "output_type": "stream",
     "text": [
      "INFO:dedupe.canopy_index:Removing stop word ia\n",
      "INFO:dedupe.canopy_index:Removing stop word en\n",
      "INFO:dedupe.canopy_index:Removing stop word ra\n",
      "INFO:dedupe.canopy_index:Removing stop word or\n",
      "INFO:dedupe.canopy_index:Removing stop word ta\n",
      "INFO:dedupe.canopy_index:Removing stop word do\n",
      "INFO:dedupe.canopy_index:Removing stop word iv\n",
      "INFO:dedupe.canopy_index:Removing stop word ro\n",
      "INFO:dedupe.canopy_index:Removing stop word de\n",
      "INFO:dedupe.canopy_index:Removing stop word an\n",
      "INFO:dedupe.canopy_index:Removing stop word ca\n",
      "INFO:dedupe.canopy_index:Removing stop word ac\n",
      "INFO:dedupe.canopy_index:Removing stop word te\n",
      "INFO:dedupe.canopy_index:Removing stop word to\n",
      "INFO:dedupe.canopy_index:Removing stop word el\n",
      "INFO:dedupe.canopy_index:Removing stop word co\n",
      "INFO:dedupe.canopy_index:Removing stop word es\n",
      "INFO:dedupe.canopy_index:Removing stop word nt\n",
      "INFO:dedupe.canopy_index:Removing stop word ei\n",
      "INFO:dedupe.canopy_index:Removing stop word ma\n",
      "INFO:dedupe.canopy_index:Removing stop word re\n",
      "INFO:dedupe.canopy_index:Removing stop word in\n",
      "INFO:dedupe.canopy_index:Removing stop word at\n",
      "INFO:dedupe.canopy_index:Removing stop word on\n",
      "INFO:dedupe.canopy_index:Removing stop word ol\n",
      "INFO:dedupe.canopy_index:Removing stop word me\n",
      "INFO:dedupe.canopy_index:Removing stop word ve\n",
      "INFO:dedupe.canopy_index:Removing stop word ri\n",
      "INFO:dedupe.canopy_index:Removing stop word is\n",
      "INFO:dedupe.blocking:Canopy: TfidfNGramSearchPredicate: (0.8, description)\n",
      "INFO:dedupe.api:0 records\n",
      "INFO:dedupe.blocking:10000, 7.9510512 seconds\n",
      "INFO:dedupe.api:Maximum expected recall and precision\n",
      "INFO:dedupe.api:recall: 0.947\n",
      "INFO:dedupe.api:precision: 0.960\n",
      "INFO:dedupe.api:With threshold: 0.896\n"
     ]
    },
    {
     "data": {
      "text/plain": [
       "0.89569336"
      ]
     },
     "execution_count": 13,
     "metadata": {},
     "output_type": "execute_result"
    }
   ],
   "source": [
    "linker.threshold(p,w, recall_weight=0.5)"
   ]
  },
  {
   "cell_type": "code",
   "execution_count": 19,
   "metadata": {},
   "outputs": [
    {
     "name": "stderr",
     "output_type": "stream",
     "text": [
      "description : short auslander destroyed\n",
      "price : 74.99\n",
      "\n",
      "description : capa transparente personalizada exclusiva samsung galaxy j7 sm - j700f dachshund - tp70 3176298\n",
      "price : 24.9\n",
      "\n",
      "0/10 positive, 0/10 negative\n",
      "Do these records refer to the same thing?\n",
      "(y)es / (n)o / (u)nsure / (f)inished\n"
     ]
    },
    {
     "name": "stdout",
     "output_type": "stream",
     "text": [
      "n\n"
     ]
    },
    {
     "name": "stderr",
     "output_type": "stream",
     "text": [
      "description : livro - new sprinkles 2 : activity pad - 9786070604379\n",
      "price : 44.99\n",
      "\n",
      "description : cha dez 354245\n",
      "price : 26.5\n",
      "\n",
      "0/10 positive, 1/10 negative\n",
      "Do these records refer to the same thing?\n",
      "(y)es / (n)o / (u)nsure / (f)inished / (p)revious\n"
     ]
    },
    {
     "name": "stdout",
     "output_type": "stream",
     "text": [
      "n\n"
     ]
    },
    {
     "name": "stderr",
     "output_type": "stream",
     "text": [
      "description : cozinha compacta 5141 sicilia siena moveis argila / amarelo gema\n",
      "price : 2499.9\n",
      "\n",
      "description : cozinha compacta 5143 sicilia siena moveis argila / amarelo gema 2555451\n",
      "price : 1499.89\n",
      "\n",
      "0/10 positive, 2/10 negative\n",
      "Do these records refer to the same thing?\n",
      "(y)es / (n)o / (u)nsure / (f)inished / (p)revious\n"
     ]
    },
    {
     "name": "stdout",
     "output_type": "stream",
     "text": [
      "n\n"
     ]
    },
    {
     "name": "stderr",
     "output_type": "stream",
     "text": [
      "description : farol automotive imports vw gol - saveiro - parati g3 2000 - 2005 lado passageiro\n",
      "price : 188.99\n",
      "\n",
      "description : farol automotive imports vw gol - saveiro - parati g3 2000 - 2005 lado passageiro 3805005\n",
      "price : 188.99\n",
      "\n",
      "0/10 positive, 3/10 negative\n",
      "Do these records refer to the same thing?\n",
      "(y)es / (n)o / (u)nsure / (f)inished / (p)revious\n"
     ]
    },
    {
     "name": "stdout",
     "output_type": "stream",
     "text": [
      "y\n"
     ]
    },
    {
     "name": "stderr",
     "output_type": "stream",
     "text": [
      "description : terminal direcao diametro pino 14,6 x 225 mm direito hilux gi\n",
      "price : 132.95\n",
      "\n",
      "description : terminal direcao diametro pino 14,6 x 225 mm direito hilux gi 3796373\n",
      "price : 132.95\n",
      "\n",
      "1/10 positive, 3/10 negative\n",
      "Do these records refer to the same thing?\n",
      "(y)es / (n)o / (u)nsure / (f)inished / (p)revious\n"
     ]
    },
    {
     "name": "stdout",
     "output_type": "stream",
     "text": [
      "y\n"
     ]
    },
    {
     "name": "stderr",
     "output_type": "stream",
     "text": [
      "description : cozinha compacta damasco itatiaia coimbra bege / branco laca\n",
      "price : 778.48\n",
      "\n",
      "description : cozinha compacta damasco itatiaia coimbra bege / branco laca 2557202\n",
      "price : 779.87\n",
      "\n",
      "2/10 positive, 3/10 negative\n",
      "Do these records refer to the same thing?\n",
      "(y)es / (n)o / (u)nsure / (f)inished / (p)revious\n"
     ]
    },
    {
     "name": "stdout",
     "output_type": "stream",
     "text": [
      "y\n"
     ]
    },
    {
     "name": "stderr",
     "output_type": "stream",
     "text": [
      "description : banheira 500 litros - nautika\n",
      "price : 137.52\n",
      "\n",
      "description : banheira 230 litros - nautika 2206703\n",
      "price : 71.06\n",
      "\n",
      "3/10 positive, 3/10 negative\n",
      "Do these records refer to the same thing?\n",
      "(y)es / (n)o / (u)nsure / (f)inished / (p)revious\n"
     ]
    },
    {
     "name": "stdout",
     "output_type": "stream",
     "text": [
      "n\n"
     ]
    },
    {
     "name": "stderr",
     "output_type": "stream",
     "text": [
      "description : conjunto sala jantar mesa 6 cadeiras gales madesa rustic / perola\n",
      "price : 649.9\n",
      "\n",
      "description : conjunto sala jantar mesa 4 cadeiras lexy madesa rustic / floral hibiscos 2306754\n",
      "price : 399.9\n",
      "\n",
      "3/10 positive, 4/10 negative\n",
      "Do these records refer to the same thing?\n",
      "(y)es / (n)o / (u)nsure / (f)inished / (p)revious\n"
     ]
    },
    {
     "name": "stdout",
     "output_type": "stream",
     "text": [
      "n\n"
     ]
    },
    {
     "name": "stderr",
     "output_type": "stream",
     "text": [
      "description : piscina inflavel 4600\n",
      "price : 249.0\n",
      "\n",
      "description : piscina inflavel 3700l 270x70cm bel lazer 1922454\n",
      "price : 221.9\n",
      "\n",
      "3/10 positive, 5/10 negative\n",
      "Do these records refer to the same thing?\n",
      "(y)es / (n)o / (u)nsure / (f)inished / (p)revious\n"
     ]
    },
    {
     "name": "stdout",
     "output_type": "stream",
     "text": [
      "n\n"
     ]
    },
    {
     "name": "stderr",
     "output_type": "stream",
     "text": [
      "description : guarda roupa 6 portas 2 gavetas astral 100 mdp rodapes castanho / avela touch - demobile\n",
      "price : 639.95\n",
      "\n",
      "description : guarda roupa 6 portas 2 gavetas astral 100 % mdp rodapes castanho / avela touch - demobile - 201,00 x 165,00 x 47,00 3503333\n",
      "price : 639.94\n",
      "\n",
      "3/10 positive, 6/10 negative\n",
      "Do these records refer to the same thing?\n",
      "(y)es / (n)o / (u)nsure / (f)inished / (p)revious\n"
     ]
    },
    {
     "name": "stdout",
     "output_type": "stream",
     "text": [
      "y\n"
     ]
    },
    {
     "name": "stderr",
     "output_type": "stream",
     "text": [
      "description : escapamento turbo esportivo pro tork honda biz 100 1998 2005 + brinde\n",
      "price : 121.22\n",
      "\n",
      "description : escapamento turbo esportivo pro tork honda biz 100 1998 2005 + brinde 3582460\n",
      "price : 124.46\n",
      "\n",
      "4/10 positive, 6/10 negative\n",
      "Do these records refer to the same thing?\n",
      "(y)es / (n)o / (u)nsure / (f)inished / (p)revious\n"
     ]
    },
    {
     "name": "stdout",
     "output_type": "stream",
     "text": [
      "y\n"
     ]
    },
    {
     "name": "stderr",
     "output_type": "stream",
     "text": [
      "description : jogo mesa 70 70 heineken 4 cadeiras pamplona mel - moveis parana\n",
      "price : 1272.9\n",
      "\n",
      "description : jogo mesa 70 70 heineken 2 cadeiras pamplona mel - moveis parana 3489118\n",
      "price : 939.89\n",
      "\n",
      "5/10 positive, 6/10 negative\n",
      "Do these records refer to the same thing?\n",
      "(y)es / (n)o / (u)nsure / (f)inished / (p)revious\n"
     ]
    },
    {
     "name": "stdout",
     "output_type": "stream",
     "text": [
      "n\n"
     ]
    },
    {
     "name": "stderr",
     "output_type": "stream",
     "text": [
      "description : puff angel redondo collor impermealizado pes palito amarelo - lymdecor\n",
      "price : 199.5\n",
      "\n",
      "description : puff angel redondo collor impermealizado pes palito amarelo lymdecor 3301986\n",
      "price : 199.5\n",
      "\n",
      "5/10 positive, 7/10 negative\n",
      "Do these records refer to the same thing?\n",
      "(y)es / (n)o / (u)nsure / (f)inished / (p)revious\n"
     ]
    },
    {
     "name": "stdout",
     "output_type": "stream",
     "text": [
      "y\n"
     ]
    },
    {
     "name": "stderr",
     "output_type": "stream",
     "text": [
      "description : grade moldura - choque audi a3 sportback 09 10 11 12 furo preto\n",
      "price : 139.9\n",
      "\n",
      "description : grade moldura - choque audi a3 sportback 09 10 11 12 furo preto lado esquerdo motorista 3709431\n",
      "price : 139.9\n",
      "\n",
      "6/10 positive, 7/10 negative\n",
      "Do these records refer to the same thing?\n",
      "(y)es / (n)o / (u)nsure / (f)inished / (p)revious\n"
     ]
    },
    {
     "name": "stdout",
     "output_type": "stream",
     "text": [
      "y\n"
     ]
    },
    {
     "name": "stderr",
     "output_type": "stream",
     "text": [
      "description : cozinha compacta 5141 sicilia siena moveis argila / amarelo gema\n",
      "price : 2499.9\n",
      "\n",
      "description : cozinha compacta 5141 sicilia siena moveis argila / vermelho scarlet 2555442\n",
      "price : 2499.9\n",
      "\n",
      "7/10 positive, 7/10 negative\n",
      "Do these records refer to the same thing?\n",
      "(y)es / (n)o / (u)nsure / (f)inished / (p)revious\n"
     ]
    },
    {
     "name": "stdout",
     "output_type": "stream",
     "text": [
      "y\n"
     ]
    },
    {
     "name": "stderr",
     "output_type": "stream",
     "text": [
      "description : jogo mesa redonda brahma 4 cadeiras bahia mel - moveis parana\n",
      "price : 1041.1\n",
      "\n",
      "description : jogo mesa redonda heineken 4 cadeiras bahia mel - moveis parana 3489157\n",
      "price : 1095.9\n",
      "\n",
      "8/10 positive, 7/10 negative\n",
      "Do these records refer to the same thing?\n",
      "(y)es / (n)o / (u)nsure / (f)inished / (p)revious\n"
     ]
    },
    {
     "name": "stdout",
     "output_type": "stream",
     "text": [
      "p\n"
     ]
    },
    {
     "name": "stderr",
     "output_type": "stream",
     "text": [
      "description : cozinha compacta 5141 sicilia siena moveis argila / amarelo gema\n",
      "price : 2499.9\n",
      "\n",
      "description : cozinha compacta 5141 sicilia siena moveis argila / vermelho scarlet 2555442\n",
      "price : 2499.9\n",
      "\n",
      "7/10 positive, 7/10 negative\n",
      "Do these records refer to the same thing?\n",
      "(y)es / (n)o / (u)nsure / (f)inished\n"
     ]
    },
    {
     "name": "stdout",
     "output_type": "stream",
     "text": [
      "n\n"
     ]
    },
    {
     "name": "stderr",
     "output_type": "stream",
     "text": [
      "description : jogo mesa redonda brahma 4 cadeiras bahia mel - moveis parana\n",
      "price : 1041.1\n",
      "\n",
      "description : jogo mesa redonda heineken 4 cadeiras bahia mel - moveis parana 3489157\n",
      "price : 1095.9\n",
      "\n",
      "7/10 positive, 8/10 negative\n",
      "Do these records refer to the same thing?\n",
      "(y)es / (n)o / (u)nsure / (f)inished / (p)revious\n"
     ]
    },
    {
     "name": "stdout",
     "output_type": "stream",
     "text": [
      "n\n"
     ]
    },
    {
     "name": "stderr",
     "output_type": "stream",
     "text": [
      "description : jogo mesa redonda brahma 4 cadeiras bahia mel - moveis parana\n",
      "price : 1041.1\n",
      "\n",
      "description : jogo mesa redonda brahma 4 cadeiras camboriu mel moveis parana 3568654\n",
      "price : 1095.9\n",
      "\n",
      "7/10 positive, 9/10 negative\n",
      "Do these records refer to the same thing?\n",
      "(y)es / (n)o / (u)nsure / (f)inished / (p)revious\n"
     ]
    },
    {
     "name": "stdout",
     "output_type": "stream",
     "text": [
      "y\n"
     ]
    },
    {
     "name": "stderr",
     "output_type": "stream",
     "text": [
      "description : capacete corazza air ultra safe\n",
      "price : 199.2\n",
      "\n",
      "description : capacete corazza air ultra safe 1830869\n",
      "price : 199.2\n",
      "\n",
      "8/10 positive, 9/10 negative\n",
      "Do these records refer to the same thing?\n",
      "(y)es / (n)o / (u)nsure / (f)inished / (p)revious\n"
     ]
    },
    {
     "name": "stdout",
     "output_type": "stream",
     "text": [
      "y\n"
     ]
    },
    {
     "name": "stderr",
     "output_type": "stream",
     "text": [
      "description : jogo mesa redonda heineken 4 cadeiras camboriu mel - moveis parana\n",
      "price : 1041.1\n",
      "\n",
      "description : jogo mesa redonda heineken 4 cadeiras bahia mel - moveis parana 3489157\n",
      "price : 1095.9\n",
      "\n",
      "9/10 positive, 9/10 negative\n",
      "Do these records refer to the same thing?\n",
      "(y)es / (n)o / (u)nsure / (f)inished / (p)revious\n"
     ]
    },
    {
     "name": "stdout",
     "output_type": "stream",
     "text": [
      "y\n"
     ]
    },
    {
     "name": "stderr",
     "output_type": "stream",
     "text": [
      "description : kit coifa homocinetica daewoo espero\n",
      "price : 35.0\n",
      "\n",
      "description : kit coifa homocinetica cambio esquerdo rolamento golf , golf , golf , polo classic 1.8 3714147\n",
      "price : 31.04\n",
      "\n",
      "10/10 positive, 9/10 negative\n",
      "Do these records refer to the same thing?\n",
      "(y)es / (n)o / (u)nsure / (f)inished / (p)revious\n"
     ]
    },
    {
     "name": "stdout",
     "output_type": "stream",
     "text": [
      "n\n"
     ]
    },
    {
     "name": "stderr",
     "output_type": "stream",
     "text": [
      "description : banco pequeno naturalle branco - tramontina\n",
      "price : 80.99\n",
      "\n",
      "description : banco pequeno naturalle branco in casa tramontina 3774992\n",
      "price : 111.48\n",
      "\n",
      "10/10 positive, 10/10 negative\n",
      "Do these records refer to the same thing?\n",
      "(y)es / (n)o / (u)nsure / (f)inished / (p)revious\n"
     ]
    },
    {
     "name": "stdout",
     "output_type": "stream",
     "text": [
      "y\n"
     ]
    },
    {
     "name": "stderr",
     "output_type": "stream",
     "text": [
      "description : escapamento esportivo 788 aco pro tork honda fan 125 2014 2015 + brinde\n",
      "price : 155.09\n",
      "\n",
      "description : escapamento esportivo 788 aco pro tork honda titan 150 esd 2004 2008 + brinde cromado 3582741\n",
      "price : 159.24\n",
      "\n",
      "11/10 positive, 10/10 negative\n",
      "Do these records refer to the same thing?\n",
      "(y)es / (n)o / (u)nsure / (f)inished / (p)revious\n"
     ]
    },
    {
     "name": "stdout",
     "output_type": "stream",
     "text": [
      "n\n"
     ]
    },
    {
     "name": "stderr",
     "output_type": "stream",
     "text": [
      "description : cozinha compacta 5141 sicilia siena moveis argila / amarelo gema\n",
      "price : 2499.9\n",
      "\n",
      "description : cozinha compacta 5142 sicilia siena moveis argila 2556669\n",
      "price : 1799.9\n",
      "\n",
      "11/10 positive, 11/10 negative\n",
      "Do these records refer to the same thing?\n",
      "(y)es / (n)o / (u)nsure / (f)inished / (p)revious\n"
     ]
    },
    {
     "name": "stdout",
     "output_type": "stream",
     "text": [
      "n\n"
     ]
    },
    {
     "name": "stderr",
     "output_type": "stream",
     "text": [
      "description : kit piscina inflavel bestway 10.179l filtro capa bomba\n",
      "price : 899.9\n",
      "\n",
      "description : kit piscina inflavel bestway 3.700ls filtro capa bomba forro 220 2179512\n",
      "price : 499.9\n",
      "\n",
      "11/10 positive, 12/10 negative\n",
      "Do these records refer to the same thing?\n",
      "(y)es / (n)o / (u)nsure / (f)inished / (p)revious\n"
     ]
    },
    {
     "name": "stdout",
     "output_type": "stream",
     "text": [
      "n\n"
     ]
    },
    {
     "name": "stderr",
     "output_type": "stream",
     "text": [
      "description : mesa centro duo - cinza\n",
      "price : 949.0\n",
      "\n",
      "description : mesa centro duo 2 gavetas natural amarelo maxima 2884394\n",
      "price : 967.8\n",
      "\n",
      "11/10 positive, 13/10 negative\n",
      "Do these records refer to the same thing?\n",
      "(y)es / (n)o / (u)nsure / (f)inished / (p)revious\n"
     ]
    },
    {
     "name": "stdout",
     "output_type": "stream",
     "text": [
      "n\n"
     ]
    },
    {
     "name": "stderr",
     "output_type": "stream",
     "text": [
      "description : kit 2 fornos 3 portas fellicci master kd25 carvalho blanche\n",
      "price : 393.28\n",
      "\n",
      "description : kit 2 fornos 3 portas fellicci master kd25 carvalho blanche 3573674\n",
      "price : 419.0\n",
      "\n",
      "11/10 positive, 14/10 negative\n",
      "Do these records refer to the same thing?\n",
      "(y)es / (n)o / (u)nsure / (f)inished / (p)revious\n"
     ]
    },
    {
     "name": "stdout",
     "output_type": "stream",
     "text": [
      "y\n"
     ]
    },
    {
     "name": "stderr",
     "output_type": "stream",
     "text": [
      "description : comoda 3 gavetas nature branco fosco / eco wood\n",
      "price : 598.98\n",
      "\n",
      "description : comoda 3 gavetas nature branco fosco / eco wood 3067539\n",
      "price : 598.98\n",
      "\n",
      "12/10 positive, 14/10 negative\n",
      "Do these records refer to the same thing?\n",
      "(y)es / (n)o / (u)nsure / (f)inished / (p)revious\n"
     ]
    },
    {
     "name": "stdout",
     "output_type": "stream",
     "text": [
      "y\n"
     ]
    },
    {
     "name": "stderr",
     "output_type": "stream",
     "text": [
      "description : jogo anel toyota corolla 1.8 16v 7afe\n",
      "price : 120.0\n",
      "\n",
      "description : jogo anel toyota corolla 1.6 / 1.8 16v 02 / ... 3719711\n",
      "price : 108.0\n",
      "\n",
      "13/10 positive, 14/10 negative\n",
      "Do these records refer to the same thing?\n",
      "(y)es / (n)o / (u)nsure / (f)inished / (p)revious\n"
     ]
    },
    {
     "name": "stdout",
     "output_type": "stream",
     "text": [
      "f\n"
     ]
    },
    {
     "name": "stderr",
     "output_type": "stream",
     "text": [
      "Finished labeling\n"
     ]
    }
   ],
   "source": [
    "linker2 = dedupe.RecordLink(fields)\n",
    "linker2.classifier = MLPClassifier()\n",
    "linker2.sample(p, w)\n",
    "dedupe.consoleLabel(linker2)"
   ]
  },
  {
   "cell_type": "code",
   "execution_count": 20,
   "metadata": {},
   "outputs": [
    {
     "name": "stderr",
     "output_type": "stream",
     "text": [
      "/home/bisca/Projetos/crawler/env/lib/python3.6/site-packages/sklearn/neural_network/multilayer_perceptron.py:563: ConvergenceWarning: Stochastic Optimizer: Maximum iterations reached and the optimization hasn't converged yet.\n",
      "  % (), ConvergenceWarning)\n",
      "INFO:dedupe.blocking:Canopy: TfidfNGramSearchPredicate: (0.4, description)\n",
      "INFO:dedupe.blocking:Canopy: TfidfNGramSearchPredicate: (0.2, description)\n",
      "INFO:dedupe.blocking:Canopy: TfidfNGramSearchPredicate: (0.8, description)\n",
      "INFO:dedupe.blocking:Canopy: TfidfNGramSearchPredicate: (0.6, description)\n",
      "INFO:dedupe.blocking:Canopy: TfidfTextSearchPredicate: (0.2, description)\n",
      "INFO:dedupe.blocking:Canopy: TfidfTextSearchPredicate: (0.6, description)\n",
      "INFO:dedupe.blocking:Canopy: TfidfTextSearchPredicate: (0.4, description)\n",
      "INFO:dedupe.blocking:Canopy: TfidfTextSearchPredicate: (0.8, description)\n",
      "INFO:dedupe.blocking:Canopy: LevenshteinSearchPredicate: (2, description)\n",
      "INFO:dedupe.blocking:Canopy: LevenshteinSearchPredicate: (1, description)\n",
      "INFO:dedupe.blocking:Canopy: LevenshteinSearchPredicate: (3, description)\n",
      "INFO:dedupe.blocking:Canopy: LevenshteinSearchPredicate: (4, description)\n",
      "INFO:dedupe.blocking:Canopy: TfidfNGramSearchPredicate: (0.4, description)\n",
      "INFO:dedupe.blocking:Canopy: TfidfNGramSearchPredicate: (0.2, description)\n",
      "INFO:dedupe.blocking:Canopy: TfidfNGramSearchPredicate: (0.8, description)\n",
      "INFO:dedupe.blocking:Canopy: TfidfNGramSearchPredicate: (0.6, description)\n",
      "INFO:dedupe.blocking:Canopy: TfidfTextSearchPredicate: (0.2, description)\n",
      "INFO:dedupe.blocking:Canopy: TfidfTextSearchPredicate: (0.6, description)\n",
      "INFO:dedupe.blocking:Canopy: TfidfTextSearchPredicate: (0.4, description)\n",
      "INFO:dedupe.blocking:Canopy: TfidfTextSearchPredicate: (0.8, description)\n",
      "INFO:dedupe.blocking:Canopy: LevenshteinSearchPredicate: (2, description)\n",
      "INFO:dedupe.blocking:Canopy: LevenshteinSearchPredicate: (1, description)\n",
      "INFO:dedupe.blocking:Canopy: LevenshteinSearchPredicate: (3, description)\n",
      "INFO:dedupe.blocking:Canopy: LevenshteinSearchPredicate: (4, description)\n",
      "INFO:dedupe.training:Final predicate set:\n",
      "INFO:dedupe.training:SimplePredicate: (commonThreeTokens, description)\n"
     ]
    }
   ],
   "source": [
    "linker2.train()"
   ]
  },
  {
   "cell_type": "code",
   "execution_count": 21,
   "metadata": {},
   "outputs": [
    {
     "name": "stderr",
     "output_type": "stream",
     "text": [
      "INFO:dedupe.blocking:Canopy: TfidfNGramSearchPredicate: (0.8, description)\n",
      "INFO:dedupe.api:0 records\n",
      "INFO:dedupe.blocking:10000, 8.7587402 seconds\n"
     ]
    }
   ],
   "source": [
    "m2 = linker.match(p,w, 0)"
   ]
  },
  {
   "cell_type": "code",
   "execution_count": 22,
   "metadata": {},
   "outputs": [
    {
     "name": "stdout",
     "output_type": "stream",
     "text": [
      "{'description': 'lanterna traseira saveiro g3 2000 2001 2002 2003 2004 2005 bicolor 484482', 'price': 63.15} {'description': 'par farol daylight golf 99 2000 2001 2002 2003 2004 2005 2006 led mascara cromada', 'price': 878.4}\n",
      "{'description': 'kit coifa homocinetica cambio esquerdo rolamento golf , golf , golf , polo classic 1.8 3714147', 'price': 31.04} {'description': 'kit coifa homocinetica cambio esquerdo rolamento golf , golf , golf , polo classic 1.8', 'price': 31.04}\n",
      "{'description': 'pneu linglong 235 / 60r16 tl 100h crosswind hp010 3740579', 'price': 481.48} {'description': 'pneu linglong 235 / 60r16 tl 100h crosswind hp010', 'price': 416.56}\n",
      "{'description': 'kit farol mascara cromada sprinter cdi 2003 2004 2005 2006 2007 2008 2009 2010 2011 grade 489263', 'price': 445.39} {'description': 'central multimidia honda fit 2003 2004 2005 2006 2007 2008', 'price': 1567.99}\n",
      "{'description': 'par farol peugeot 206 99 2000 2001 2002 2003 2004 2005 2006 2007 2008 black foco duplo angel eyes 484869', 'price': 960.0} {'description': 'parachoque dianteiro golf 99 2000 2001 2002 2003 2004 2005', 'price': 190.4}\n",
      "{'description': 'maquina vidro mecanica , manual porta dianteira esquerdo ford f12000 , f14000 , f16000 , f250 , f , 350 , f400098 3763390', 'price': 174.5} {'description': 'terminal direcao dianteiro ford f100 , f150 , f250 , f350 , f600 , f700 , p350 , tkr', 'price': 115.32}\n"
     ]
    }
   ],
   "source": [
    "for i in m2:\n",
    "    print(p[i[0][0]], w[i[0][1]])"
   ]
  },
  {
   "cell_type": "code",
   "execution_count": null,
   "metadata": {
    "collapsed": true
   },
   "outputs": [],
   "source": []
  }
 ],
 "metadata": {
  "kernelspec": {
   "display_name": "Python 3",
   "language": "python",
   "name": "python3"
  },
  "language_info": {
   "codemirror_mode": {
    "name": "ipython",
    "version": 3
   },
   "file_extension": ".py",
   "mimetype": "text/x-python",
   "name": "python",
   "nbconvert_exporter": "python",
   "pygments_lexer": "ipython3",
   "version": "3.6.1"
  }
 },
 "nbformat": 4,
 "nbformat_minor": 2
}
