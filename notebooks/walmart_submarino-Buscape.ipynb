{
 "cells": [
  {
   "cell_type": "code",
   "execution_count": 33,
   "metadata": {
    "collapsed": true
   },
   "outputs": [],
   "source": [
    "import dedupe\n",
    "import json\n",
    "from cytoolz import *\n",
    "from copy import copy\n",
    "import re\n",
    "import nltk\n",
    "from bs4 import BeautifulSoup\n",
    "from nltk.tokenize import word_tokenize\n",
    "from urllib.parse import urlparse\n",
    "from unicodedata import normalize"
   ]
  },
  {
   "cell_type": "code",
   "execution_count": 34,
   "metadata": {},
   "outputs": [],
   "source": [
    "fields = [{'field': 'description', 'type': 'String', 'has missing': True},\n",
    "         {'field': 'price', 'type': 'Price', 'has missing': True}]\n",
    "\n",
    "\n",
    "def tokenize_url(url):\n",
    "    path = urlparse(url).path\n",
    "    path = path.replace('/', ' ')\n",
    "    path = path.replace('-', ' ')\n",
    "    return word_tokenize(path)\n",
    "\n",
    "\n",
    "def remove_accents(input_str):\n",
    "    return normalize('NFKD', input_str).encode('ascii', 'ignore').decode()\n",
    "\n",
    "\n",
    "def sanitize_string(input_str):\n",
    "    pattern = r'[?|&|!|@|#|;|*|~|(|)|´|^|\\r|\\n|\\t]'\n",
    "    return clean_string(re.sub(pattern, r'', remove_accents(input_str.lower())))\n",
    "\n",
    "\n",
    "def clean_string(input_str):\n",
    "    unuseful = set(['confira', 'compre', 'oferta', 'novo',\n",
    "                    'preco', 'agora', 'melhores', 'aqui',\n",
    "                    'aproveite', 'menor', 'maior', 'encontra',\n",
    "                    'site', 'condicoes', 'ofertas', 'imbativeis',\n",
    "                    'vendas', 'online', 'novo', 'nova', 'tecnologia',\n",
    "                    'precos', 'pagamento', 'melhor', 'veja', 'encontre',\n",
    "                    'menores', 'vem', 'venha', 'ver'])\n",
    "\n",
    "    names = set(['walmart', 'walmart.com', 'shoptime', 'shoptime.com',\n",
    "                 'pontofrio', 'pontofrio.com', 'magazineluiza', 'magazineluiza.com',\n",
    "                 'magazine luiza', 'americanas', 'americanas.com', 'submarino',\n",
    "                 'submarino.com', 'extra', 'extra.com.br', 'casas bahia', 'casasbahia.com.br'])\n",
    "\n",
    "    stopwords = [remove_accents(s) for s in nltk.corpus.stopwords.words('portuguese')]\n",
    "    repl = list(concat([unuseful, names, stopwords]))\n",
    "    tk = word_tokenize(input_str)\n",
    "    return ' '.join([word for word in tk if word not in repl])\n",
    "\n",
    "\n",
    "def preprocess(item):\n",
    "    return {'description': sanitize_string(item['description']), 'price': float(sanitize_string(item['price']))}"
   ]
  },
  {
   "cell_type": "code",
   "execution_count": 35,
   "metadata": {},
   "outputs": [],
   "source": [
    "with open('../data/walmart/buscape.json') as f:\n",
    "    walmart = [preprocess(dissoc(item, 'image')) for item in json.loads(f.read())['products']]\n",
    "\n",
    "with open('../data/submarino/buscape.json') as f:\n",
    "    submarino = [preprocess(dissoc(item, 'image')) for item in json.loads(f.read())['products']]"
   ]
  },
  {
   "cell_type": "code",
   "execution_count": 36,
   "metadata": {
    "collapsed": true
   },
   "outputs": [],
   "source": [
    "p = {str(i): walmart[i] for i in range(len(walmart))}\n",
    "w = {str(i): submarino[i] for i in range(len(submarino))}"
   ]
  },
  {
   "cell_type": "code",
   "execution_count": 37,
   "metadata": {},
   "outputs": [
    {
     "name": "stderr",
     "output_type": "stream",
     "text": [
      "description : livro - design grafico integracao autodesk 3ds max 2010 adobe photoshop cs4 extended - aprenda recursos fundamentais forma pratica visual - 9788536502601\n",
      "price : 109.6\n",
      "\n",
      "description : brinco prata zirconias 11564 4064732\n",
      "price : 89.0\n",
      "\n",
      "0/10 positive, 0/10 negative\n",
      "Do these records refer to the same thing?\n",
      "(y)es / (n)o / (u)nsure / (f)inished\n"
     ]
    },
    {
     "name": "stdout",
     "output_type": "stream",
     "text": [
      "n\n"
     ]
    },
    {
     "name": "stderr",
     "output_type": "stream",
     "text": [
      "description : blusa sacada estampada\n",
      "price : 129.99\n",
      "\n",
      "description : boneca princesas disney - mini princesa amigo - costuras cinderela b5333 - hasbro 2621211\n",
      "price : 59.99\n",
      "\n",
      "0/10 positive, 1/10 negative\n",
      "Do these records refer to the same thing?\n",
      "(y)es / (n)o / (u)nsure / (f)inished / (p)revious\n"
     ]
    },
    {
     "name": "stdout",
     "output_type": "stream",
     "text": [
      "n\n"
     ]
    },
    {
     "name": "stderr",
     "output_type": "stream",
     "text": [
      "description : bico injetor gm vectra 8v 2.2 1998 2003 monza kadett mpfi gasolina 1991 1996 s10 blazer 2.2 199\n",
      "price : 140.45\n",
      "\n",
      "description : bico injetor gm vectra 8v 2.2 1998 2003 monza kadett mpfi gasolina 1991 1996 s10 blazer 2.2 1996 1997 3171632\n",
      "price : 140.44\n",
      "\n",
      "0/10 positive, 2/10 negative\n",
      "Do these records refer to the same thing?\n",
      "(y)es / (n)o / (u)nsure / (f)inished / (p)revious\n"
     ]
    },
    {
     "name": "stdout",
     "output_type": "stream",
     "text": [
      "y\n"
     ]
    },
    {
     "name": "stderr",
     "output_type": "stream",
     "text": [
      "description : fantasia borboleta basic\n",
      "price : 75.99\n",
      "\n",
      "description : fantasia borboleta basic arca noe 1882969\n",
      "price : 79.99\n",
      "\n",
      "1/10 positive, 2/10 negative\n",
      "Do these records refer to the same thing?\n",
      "(y)es / (n)o / (u)nsure / (f)inished / (p)revious\n"
     ]
    },
    {
     "name": "stdout",
     "output_type": "stream",
     "text": [
      "y\n"
     ]
    },
    {
     "name": "stderr",
     "output_type": "stream",
     "text": [
      "description : cozinha completa maia 02 palmeira moveis jacarta / fume\n",
      "price : 1099.9\n",
      "\n",
      "description : cozinha completa maia 02 palmeira moveis jacarta preto 3578309\n",
      "price : 1099.9\n",
      "\n",
      "2/10 positive, 2/10 negative\n",
      "Do these records refer to the same thing?\n",
      "(y)es / (n)o / (u)nsure / (f)inished / (p)revious\n"
     ]
    },
    {
     "name": "stdout",
     "output_type": "stream",
     "text": [
      "n\n"
     ]
    },
    {
     "name": "stderr",
     "output_type": "stream",
     "text": [
      "description : plataforma mod . sport dianteira - mirage 150 - jjcustom\n",
      "price : 393.21\n",
      "\n",
      "description : plataforma mod . laser dianteira mirage 150 jjcustom 2873675\n",
      "price : 323.04\n",
      "\n",
      "2/10 positive, 3/10 negative\n",
      "Do these records refer to the same thing?\n",
      "(y)es / (n)o / (u)nsure / (f)inished / (p)revious\n"
     ]
    },
    {
     "name": "stdout",
     "output_type": "stream",
     "text": [
      "u\n"
     ]
    },
    {
     "name": "stderr",
     "output_type": "stream",
     "text": [
      "description : cozinha completa maia 02 palmeira moveis jacarta / esmeralda\n",
      "price : 1099.9\n",
      "\n",
      "description : cozinha completa maia 05 palmeira moveis jacarta esmeralda 3578314\n",
      "price : 1699.88\n",
      "\n",
      "2/10 positive, 3/10 negative\n",
      "Do these records refer to the same thing?\n",
      "(y)es / (n)o / (u)nsure / (f)inished / (p)revious\n"
     ]
    },
    {
     "name": "stdout",
     "output_type": "stream",
     "text": [
      "u\n"
     ]
    },
    {
     "name": "stderr",
     "output_type": "stream",
     "text": [
      "description : cozinha completa maia 06 palmeira moveis jacarta / preto\n",
      "price : 1699.9\n",
      "\n",
      "description : cozinha completa maia 02 palmeira moveis jacarta preto 3578309\n",
      "price : 1099.9\n",
      "\n",
      "2/10 positive, 3/10 negative\n",
      "Do these records refer to the same thing?\n",
      "(y)es / (n)o / (u)nsure / (f)inished / (p)revious\n"
     ]
    },
    {
     "name": "stdout",
     "output_type": "stream",
     "text": [
      "u\n"
     ]
    },
    {
     "name": "stderr",
     "output_type": "stream",
     "text": [
      "description : cozinha completa maia 05 palmeira moveis jacarta / preto\n",
      "price : 1699.9\n",
      "\n",
      "description : cozinha completa maia 02 palmeira moveis jacarta preto 3578309\n",
      "price : 1099.9\n",
      "\n",
      "2/10 positive, 3/10 negative\n",
      "Do these records refer to the same thing?\n",
      "(y)es / (n)o / (u)nsure / (f)inished / (p)revious\n"
     ]
    },
    {
     "name": "stdout",
     "output_type": "stream",
     "text": [
      "u\n"
     ]
    },
    {
     "name": "stderr",
     "output_type": "stream",
     "text": [
      "description : sissy bar destacavel cav . fantasma - triumph thunderbird 1700cc - jjcustom\n",
      "price : 894.47\n",
      "\n",
      "description : sissy bar destacavel cav . fantasma triumph thunderbird 1700cc jjcustom 2873376\n",
      "price : 894.47\n",
      "\n",
      "2/10 positive, 3/10 negative\n",
      "Do these records refer to the same thing?\n",
      "(y)es / (n)o / (u)nsure / (f)inished / (p)revious\n"
     ]
    },
    {
     "name": "stdout",
     "output_type": "stream",
     "text": [
      "y\n"
     ]
    },
    {
     "name": "stderr",
     "output_type": "stream",
     "text": [
      "description : cozinha completa maia 05 palmeira moveis jacarta / esmeralda\n",
      "price : 1699.9\n",
      "\n",
      "description : cozinha completa maia 05 palmeira moveis jacarta esmeralda 3578314\n",
      "price : 1699.88\n",
      "\n",
      "3/10 positive, 3/10 negative\n",
      "Do these records refer to the same thing?\n",
      "(y)es / (n)o / (u)nsure / (f)inished / (p)revious\n"
     ]
    },
    {
     "name": "stdout",
     "output_type": "stream",
     "text": [
      "y\n"
     ]
    },
    {
     "name": "stderr",
     "output_type": "stream",
     "text": [
      "description : cozinha compacta tulipa madesa branco / tirol\n",
      "price : 969.9\n",
      "\n",
      "description : cozinha compacta sandra elis madesa branco / tirol 1644802\n",
      "price : 1499.89\n",
      "\n",
      "4/10 positive, 3/10 negative\n",
      "Do these records refer to the same thing?\n",
      "(y)es / (n)o / (u)nsure / (f)inished / (p)revious\n"
     ]
    },
    {
     "name": "stdout",
     "output_type": "stream",
     "text": [
      "n\n"
     ]
    },
    {
     "name": "stderr",
     "output_type": "stream",
     "text": [
      "description : sissy bar destacavel cav . fantasma - mirage 650 - jjcustom\n",
      "price : 881.99\n",
      "\n",
      "description : sissy bar destacavel cav . fantasma hd dyna super glide 1600 2008 2014 jjcustom 2873316\n",
      "price : 894.47\n",
      "\n",
      "4/10 positive, 4/10 negative\n",
      "Do these records refer to the same thing?\n",
      "(y)es / (n)o / (u)nsure / (f)inished / (p)revious\n"
     ]
    },
    {
     "name": "stdout",
     "output_type": "stream",
     "text": [
      "u\n"
     ]
    },
    {
     "name": "stderr",
     "output_type": "stream",
     "text": [
      "description : fantasia arara\n",
      "price : 128.24\n",
      "\n",
      "description : fantasia bruxa alegria infantil 2065983\n",
      "price : 49.99\n",
      "\n",
      "4/10 positive, 4/10 negative\n",
      "Do these records refer to the same thing?\n",
      "(y)es / (n)o / (u)nsure / (f)inished / (p)revious\n"
     ]
    },
    {
     "name": "stdout",
     "output_type": "stream",
     "text": [
      "n\n"
     ]
    },
    {
     "name": "stderr",
     "output_type": "stream",
     "text": [
      "description : plataforma mod . sport traseira fixo - mirage 150 - jjcustom\n",
      "price : 393.21\n",
      "\n",
      "description : plataforma mod . sport traseira fixo mirage 250 jjcustom 2872729\n",
      "price : 393.21\n",
      "\n",
      "4/10 positive, 5/10 negative\n",
      "Do these records refer to the same thing?\n",
      "(y)es / (n)o / (u)nsure / (f)inished / (p)revious\n"
     ]
    },
    {
     "name": "stdout",
     "output_type": "stream",
     "text": [
      "n\n"
     ]
    },
    {
     "name": "stderr",
     "output_type": "stream",
     "text": [
      "description : fantasia thundercats - lion adulto\n",
      "price : 170.99\n",
      "\n",
      "description : fantasia thundercats lion adulto 1900609\n",
      "price : 179.99\n",
      "\n",
      "4/10 positive, 6/10 negative\n",
      "Do these records refer to the same thing?\n",
      "(y)es / (n)o / (u)nsure / (f)inished / (p)revious\n"
     ]
    },
    {
     "name": "stdout",
     "output_type": "stream",
     "text": [
      "y\n"
     ]
    },
    {
     "name": "stderr",
     "output_type": "stream",
     "text": [
      "description : poltrona decorativa sala escritorio tilla sued preto - jm estofados\n",
      "price : 299.0\n",
      "\n",
      "description : poltrona decorativa sala escritorio tilla sued amarelo - jm estofados 2475857\n",
      "price : 299.0\n",
      "\n",
      "5/10 positive, 6/10 negative\n",
      "Do these records refer to the same thing?\n",
      "(y)es / (n)o / (u)nsure / (f)inished / (p)revious\n"
     ]
    },
    {
     "name": "stdout",
     "output_type": "stream",
     "text": [
      "y\n"
     ]
    },
    {
     "name": "stderr",
     "output_type": "stream",
     "text": [
      "description : plataforma mod . sport dianteira - mirage 150 - jjcustom\n",
      "price : 393.21\n",
      "\n",
      "description : plataforma mod . sport traseira fixo mirage 250 jjcustom 2872729\n",
      "price : 393.21\n",
      "\n",
      "6/10 positive, 6/10 negative\n",
      "Do these records refer to the same thing?\n",
      "(y)es / (n)o / (u)nsure / (f)inished / (p)revious\n"
     ]
    },
    {
     "name": "stdout",
     "output_type": "stream",
     "text": [
      "n\n"
     ]
    },
    {
     "name": "stderr",
     "output_type": "stream",
     "text": [
      "description : guarda - roupa espelho sparta 6 portas carioca moveis gris / preto\n",
      "price : 929.0\n",
      "\n",
      "description : guarda - roupa espelho bahia 3 portas carioca moveis branco / branco 1603824\n",
      "price : 829.9\n",
      "\n",
      "6/10 positive, 7/10 negative\n",
      "Do these records refer to the same thing?\n",
      "(y)es / (n)o / (u)nsure / (f)inished / (p)revious\n"
     ]
    },
    {
     "name": "stdout",
     "output_type": "stream",
     "text": [
      "n\n"
     ]
    },
    {
     "name": "stderr",
     "output_type": "stream",
     "text": [
      "description : plataforma mod . sport traseira fixo - mirage 150 - jjcustom\n",
      "price : 393.21\n",
      "\n",
      "description : plataforma mod . sport traseira fixo boulevard m800 jjcustom 2872699\n",
      "price : 393.21\n",
      "\n",
      "6/10 positive, 8/10 negative\n",
      "Do these records refer to the same thing?\n",
      "(y)es / (n)o / (u)nsure / (f)inished / (p)revious\n"
     ]
    },
    {
     "name": "stdout",
     "output_type": "stream",
     "text": [
      "n\n"
     ]
    },
    {
     "name": "stderr",
     "output_type": "stream",
     "text": [
      "description : bico injetor vw gol 1.0 16v\n",
      "price : 89.65\n",
      "\n",
      "description : bico injetor fiat uno 1.0 palio 1.0 1.6 8v 16v fire gasolina 3171614\n",
      "price : 115.94\n",
      "\n",
      "6/10 positive, 9/10 negative\n",
      "Do these records refer to the same thing?\n",
      "(y)es / (n)o / (u)nsure / (f)inished / (p)revious\n"
     ]
    },
    {
     "name": "stdout",
     "output_type": "stream",
     "text": [
      "n\n"
     ]
    },
    {
     "name": "stderr",
     "output_type": "stream",
     "text": [
      "description : fantasia arara\n",
      "price : 128.24\n",
      "\n",
      "description : fantasia caipira joao heat girls 2323704\n",
      "price : 89.99\n",
      "\n",
      "6/10 positive, 10/10 negative\n",
      "Do these records refer to the same thing?\n",
      "(y)es / (n)o / (u)nsure / (f)inished / (p)revious\n"
     ]
    },
    {
     "name": "stdout",
     "output_type": "stream",
     "text": [
      "n\n"
     ]
    },
    {
     "name": "stderr",
     "output_type": "stream",
     "text": [
      "description : sissy bar destacavel cav . fantasma - mirage 650 - jjcustom\n",
      "price : 881.99\n",
      "\n",
      "description : sissy bar destacavel cav . fantasma hd 883 / xl1200 jjcustom 2873299\n",
      "price : 881.99\n",
      "\n",
      "6/10 positive, 11/10 negative\n",
      "Do these records refer to the same thing?\n",
      "(y)es / (n)o / (u)nsure / (f)inished / (p)revious\n"
     ]
    },
    {
     "name": "stdout",
     "output_type": "stream",
     "text": [
      "n\n"
     ]
    },
    {
     "name": "stderr",
     "output_type": "stream",
     "text": [
      "description : cd pepinho\n",
      "price : 27.99\n",
      "\n",
      "description : fio flexivel crank cabo bateria sonorizacao profissional 6mm 50 metros vermelho cristal 2851105\n",
      "price : 92.9\n",
      "\n",
      "6/10 positive, 12/10 negative\n",
      "Do these records refer to the same thing?\n",
      "(y)es / (n)o / (u)nsure / (f)inished / (p)revious\n"
     ]
    },
    {
     "name": "stdout",
     "output_type": "stream",
     "text": [
      "n\n"
     ]
    },
    {
     "name": "stderr",
     "output_type": "stream",
     "text": [
      "description : fantasia indiana\n",
      "price : 85.49\n",
      "\n",
      "description : fantasia thundercats lion adulto 1900609\n",
      "price : 179.99\n",
      "\n",
      "6/10 positive, 13/10 negative\n",
      "Do these records refer to the same thing?\n",
      "(y)es / (n)o / (u)nsure / (f)inished / (p)revious\n"
     ]
    },
    {
     "name": "stdout",
     "output_type": "stream",
     "text": [
      "n\n"
     ]
    },
    {
     "name": "stderr",
     "output_type": "stream",
     "text": [
      "description : fantasia can can luxo\n",
      "price : 47.49\n",
      "\n",
      "description : fantasia vampiro luxo adulto 2118596\n",
      "price : 89.9\n",
      "\n",
      "6/10 positive, 14/10 negative\n",
      "Do these records refer to the same thing?\n",
      "(y)es / (n)o / (u)nsure / (f)inished / (p)revious\n"
     ]
    },
    {
     "name": "stdout",
     "output_type": "stream",
     "text": [
      "n\n"
     ]
    },
    {
     "name": "stderr",
     "output_type": "stream",
     "text": [
      "description : fantasia dragao\n",
      "price : 179.54\n",
      "\n",
      "description : fantasia the flintstones betty adulto 2083621\n",
      "price : 79.9\n",
      "\n",
      "6/10 positive, 15/10 negative\n",
      "Do these records refer to the same thing?\n",
      "(y)es / (n)o / (u)nsure / (f)inished / (p)revious\n"
     ]
    },
    {
     "name": "stdout",
     "output_type": "stream",
     "text": [
      "n\n"
     ]
    },
    {
     "name": "stderr",
     "output_type": "stream",
     "text": [
      "description : capacete fechado shark vision - r2 blank blk preto\n",
      "price : 1799.9\n",
      "\n",
      "description : capacete fechado shark vision - r2 cisor kwr 3829208\n",
      "price : 1999.9\n",
      "\n",
      "6/10 positive, 16/10 negative\n",
      "Do these records refer to the same thing?\n",
      "(y)es / (n)o / (u)nsure / (f)inished / (p)revious\n"
     ]
    },
    {
     "name": "stdout",
     "output_type": "stream",
     "text": [
      "y\n"
     ]
    },
    {
     "name": "stderr",
     "output_type": "stream",
     "text": [
      "description : regata canal estampa\n",
      "price : 64.99\n",
      "\n",
      "description : regata feminina estampada camisaria colombo 2248481\n",
      "price : 15.99\n",
      "\n",
      "7/10 positive, 16/10 negative\n",
      "Do these records refer to the same thing?\n",
      "(y)es / (n)o / (u)nsure / (f)inished / (p)revious\n"
     ]
    },
    {
     "name": "stdout",
     "output_type": "stream",
     "text": [
      "n\n"
     ]
    },
    {
     "name": "stderr",
     "output_type": "stream",
     "text": [
      "description : capacete tsw mtb elite\n",
      "price : 173.9\n",
      "\n",
      "description : capacete cross pro tork liberty mx pro branco azul brilhante viseira 3833855\n",
      "price : 99.9\n",
      "\n",
      "7/10 positive, 17/10 negative\n",
      "Do these records refer to the same thing?\n",
      "(y)es / (n)o / (u)nsure / (f)inished / (p)revious\n"
     ]
    },
    {
     "name": "stdout",
     "output_type": "stream",
     "text": [
      "n\n"
     ]
    },
    {
     "name": "stderr",
     "output_type": "stream",
     "text": [
      "description : kit 4 pneus bridgestone b250 175 / 70r14 84t\n",
      "price : 1007.44\n",
      "\n",
      "description : kit 4 pneus aro 17 bridgestone 225 / 50r17 94v turanza er300 ecopia 2593797\n",
      "price : 1869.12\n",
      "\n",
      "7/10 positive, 18/10 negative\n",
      "Do these records refer to the same thing?\n",
      "(y)es / (n)o / (u)nsure / (f)inished / (p)revious\n"
     ]
    },
    {
     "name": "stdout",
     "output_type": "stream",
     "text": [
      "n\n"
     ]
    },
    {
     "name": "stderr",
     "output_type": "stream",
     "text": [
      "description : livro - abra\n",
      "price : 23.48\n",
      "\n",
      "description : cronometro profissional c / 10 memorias , relogio , alarme bussola - vollo vl - 512 1570768\n",
      "price : 74.9\n",
      "\n",
      "7/10 positive, 19/10 negative\n",
      "Do these records refer to the same thing?\n",
      "(y)es / (n)o / (u)nsure / (f)inished / (p)revious\n"
     ]
    },
    {
     "name": "stdout",
     "output_type": "stream",
     "text": [
      "n\n"
     ]
    },
    {
     "name": "stderr",
     "output_type": "stream",
     "text": [
      "description : capacete fechado zeus 811 evo plasma black red fundo branco preto vermelho\n",
      "price : 479.9\n",
      "\n",
      "description : capacete zeus 811 evo plasma al5 2697063\n",
      "price : 328.98\n",
      "\n",
      "7/10 positive, 20/10 negative\n",
      "Do these records refer to the same thing?\n",
      "(y)es / (n)o / (u)nsure / (f)inished / (p)revious\n"
     ]
    },
    {
     "name": "stdout",
     "output_type": "stream",
     "text": [
      "y\n"
     ]
    },
    {
     "name": "stderr",
     "output_type": "stream",
     "text": [
      "description : fantasia odalisca\n",
      "price : 85.49\n",
      "\n",
      "description : fantasia caipira lastex festa junina 1898464\n",
      "price : 54.99\n",
      "\n",
      "8/10 positive, 20/10 negative\n",
      "Do these records refer to the same thing?\n",
      "(y)es / (n)o / (u)nsure / (f)inished / (p)revious\n"
     ]
    },
    {
     "name": "stdout",
     "output_type": "stream",
     "text": [
      "n\n"
     ]
    },
    {
     "name": "stderr",
     "output_type": "stream",
     "text": [
      "description : protetor motor carenagem honda transalp 700\n",
      "price : 600.51\n",
      "\n",
      "description : protetor motor / carenagem honda nc700 scam spto 061 2874115\n",
      "price : 746.28\n",
      "\n",
      "8/10 positive, 21/10 negative\n",
      "Do these records refer to the same thing?\n",
      "(y)es / (n)o / (u)nsure / (f)inished / (p)revious\n"
     ]
    },
    {
     "name": "stdout",
     "output_type": "stream",
     "text": [
      "y\n"
     ]
    },
    {
     "name": "stderr",
     "output_type": "stream",
     "text": [
      "description : santo antonio ranger 2013 2016 bepo cromado grade vigia\n",
      "price : 814.54\n",
      "\n",
      "description : santo antonio ranger bepo cromado elevac grade vigia 2585835\n",
      "price : 889.54\n",
      "\n",
      "9/10 positive, 21/10 negative\n",
      "Do these records refer to the same thing?\n",
      "(y)es / (n)o / (u)nsure / (f)inished / (p)revious\n"
     ]
    },
    {
     "name": "stdout",
     "output_type": "stream",
     "text": [
      "y\n"
     ]
    },
    {
     "name": "stderr",
     "output_type": "stream",
     "text": [
      "description : sissy bar destacavel cav . fantasma - shadow 750 2010 - jjcustom\n",
      "price : 818.99\n",
      "\n",
      "description : sissy bar destacavel cav . fantasma hd dyna super glide 1600 2008 2014 jjcustom 2873316\n",
      "price : 894.47\n",
      "\n",
      "10/10 positive, 21/10 negative\n",
      "Do these records refer to the same thing?\n",
      "(y)es / (n)o / (u)nsure / (f)inished / (p)revious\n"
     ]
    },
    {
     "name": "stdout",
     "output_type": "stream",
     "text": [
      "n\n"
     ]
    },
    {
     "name": "stderr",
     "output_type": "stream",
     "text": [
      "description : camisa fox - 180 race\n",
      "price : 139.9\n",
      "\n",
      "description : farol palio siena strada g3 03 04 05 06 07 08 09 10 11 12 13 14 15 mascara cromada foco duplo lado direito passageiro 3867679\n",
      "price : 139.9\n",
      "\n",
      "10/10 positive, 22/10 negative\n",
      "Do these records refer to the same thing?\n",
      "(y)es / (n)o / (u)nsure / (f)inished / (p)revious\n"
     ]
    },
    {
     "name": "stdout",
     "output_type": "stream",
     "text": [
      "f\n"
     ]
    },
    {
     "name": "stderr",
     "output_type": "stream",
     "text": [
      "Finished labeling\n"
     ]
    }
   ],
   "source": [
    "linker = dedupe.RecordLink(fields)\n",
    "linker.sample(p, w)\n",
    "dedupe.consoleLabel(linker)"
   ]
  },
  {
   "cell_type": "code",
   "execution_count": 38,
   "metadata": {},
   "outputs": [
    {
     "name": "stderr",
     "output_type": "stream",
     "text": [
      "INFO:rlr.crossvalidation:using cross validation to find optimum alpha...\n",
      "INFO:rlr.crossvalidation:optimum alpha: 0.100000\n",
      "INFO:dedupe.blocking:Canopy: LevenshteinSearchPredicate: (3, description)\n",
      "INFO:dedupe.blocking:Canopy: LevenshteinSearchPredicate: (4, description)\n",
      "INFO:dedupe.blocking:Canopy: LevenshteinSearchPredicate: (1, description)\n",
      "INFO:dedupe.blocking:Canopy: LevenshteinSearchPredicate: (2, description)\n",
      "INFO:dedupe.blocking:Canopy: TfidfTextSearchPredicate: (0.8, description)\n",
      "INFO:dedupe.blocking:Canopy: TfidfTextSearchPredicate: (0.4, description)\n",
      "INFO:dedupe.blocking:Canopy: TfidfTextSearchPredicate: (0.2, description)\n",
      "INFO:dedupe.blocking:Canopy: TfidfTextSearchPredicate: (0.6, description)\n",
      "INFO:dedupe.blocking:Canopy: TfidfNGramSearchPredicate: (0.6, description)\n",
      "INFO:dedupe.blocking:Canopy: TfidfNGramSearchPredicate: (0.2, description)\n",
      "INFO:dedupe.blocking:Canopy: TfidfNGramSearchPredicate: (0.4, description)\n",
      "INFO:dedupe.blocking:Canopy: TfidfNGramSearchPredicate: (0.8, description)\n",
      "INFO:dedupe.blocking:Canopy: LevenshteinSearchPredicate: (3, description)\n",
      "INFO:dedupe.blocking:Canopy: LevenshteinSearchPredicate: (4, description)\n",
      "INFO:dedupe.blocking:Canopy: LevenshteinSearchPredicate: (1, description)\n",
      "INFO:dedupe.blocking:Canopy: LevenshteinSearchPredicate: (2, description)\n",
      "INFO:dedupe.blocking:Canopy: TfidfTextSearchPredicate: (0.8, description)\n",
      "INFO:dedupe.blocking:Canopy: TfidfTextSearchPredicate: (0.4, description)\n",
      "INFO:dedupe.blocking:Canopy: TfidfTextSearchPredicate: (0.2, description)\n",
      "INFO:dedupe.blocking:Canopy: TfidfTextSearchPredicate: (0.6, description)\n",
      "INFO:dedupe.blocking:Canopy: TfidfNGramSearchPredicate: (0.6, description)\n",
      "INFO:dedupe.blocking:Canopy: TfidfNGramSearchPredicate: (0.2, description)\n",
      "INFO:dedupe.blocking:Canopy: TfidfNGramSearchPredicate: (0.4, description)\n",
      "INFO:dedupe.blocking:Canopy: TfidfNGramSearchPredicate: (0.8, description)\n",
      "INFO:dedupe.training:Final predicate set:\n",
      "INFO:dedupe.training:TfidfTextSearchPredicate: (0.6, description)\n"
     ]
    }
   ],
   "source": [
    "linker.train()"
   ]
  },
  {
   "cell_type": "code",
   "execution_count": 39,
   "metadata": {},
   "outputs": [
    {
     "name": "stderr",
     "output_type": "stream",
     "text": [
      "INFO:dedupe.blocking:Canopy: TfidfTextSearchPredicate: (0.6, description)\n",
      "INFO:dedupe.api:0 records\n",
      "INFO:dedupe.api:100 records\n"
     ]
    }
   ],
   "source": [
    "m = linker.match(p,w, 0)"
   ]
  },
  {
   "cell_type": "code",
   "execution_count": 40,
   "metadata": {},
   "outputs": [
    {
     "data": {
      "text/plain": [
       "[(('3999', '3944'), 0.79641318),\n",
       " (('3787', '1531'), 0.75663102),\n",
       " (('738', '302'), 0.69547784),\n",
       " (('2872', '795'), 0.67398232),\n",
       " (('2869', '797'), 0.66353774),\n",
       " (('4001', '3951'), 0.62680578),\n",
       " (('3510', '2253'), 0.60751826),\n",
       " (('3800', '1537'), 0.54060543),\n",
       " (('3491', '2262'), 0.51300508),\n",
       " (('3803', '1519'), 0.40277994),\n",
       " (('2849', '2269'), 0.40034854),\n",
       " (('3488', '2266'), 0.36752567),\n",
       " (('2887', '1217'), 0.36571729),\n",
       " (('3489', '2252'), 0.33275783),\n",
       " (('2861', '1454'), 0.33249581),\n",
       " (('3497', '2254'), 0.32417876),\n",
       " (('3809', '1523'), 0.30562451),\n",
       " (('4541', '3552'), 0.30531472),\n",
       " (('3503', '2247'), 0.2779274),\n",
       " (('4559', '3144'), 0.25304466),\n",
       " (('3502', '2259'), 0.25260404),\n",
       " (('3496', '2263'), 0.25094247),\n",
       " (('3507', '2250'), 0.2412139),\n",
       " (('2797', '2618'), 0.23926325),\n",
       " (('741', '1909'), 0.2219941),\n",
       " (('1494', '1923'), 0.22037077),\n",
       " (('3495', '2265'), 0.21026333),\n",
       " (('3798', '1521'), 0.20818588),\n",
       " (('4555', '3152'), 0.17429905),\n",
       " (('3792', '1518'), 0.17184785),\n",
       " (('3085', '3877'), 0.1680084),\n",
       " (('2948', '1236'), 0.1673886),\n",
       " (('3500', '2251'), 0.15967973),\n",
       " (('3805', '1527'), 0.14499417),\n",
       " (('2661', '1912'), 0.14370219),\n",
       " (('1909', '3453'), 0.13752076),\n",
       " (('4491', '1608'), 0.13009883),\n",
       " (('992', '453'), 0.12945044),\n",
       " (('3498', '2248'), 0.12752095),\n",
       " (('1542', '1421'), 0.1259651),\n",
       " (('530', '734'), 0.12257699),\n",
       " (('4484', '1595'), 0.11576885),\n",
       " (('1247', '4046'), 0.11559486),\n",
       " (('4480', '1594'), 0.11517546),\n",
       " (('4485', '1609'), 0.11099738),\n",
       " (('1911', '3583'), 0.10790906),\n",
       " (('2793', '2623'), 0.10732158),\n",
       " (('4169', '2410'), 0.10687357),\n",
       " (('4490', '1597'), 0.10410674),\n",
       " (('750', '318'), 0.10138717),\n",
       " (('1653', '3682'), 0.087634623),\n",
       " (('4486', '1607'), 0.085251249),\n",
       " (('4488', '1593'), 0.081681713),\n",
       " (('3795', '1539'), 0.080820985),\n",
       " (('3799', '1522'), 0.078546263),\n",
       " (('522', '1091'), 0.077618904),\n",
       " (('2736', '2031'), 0.077046677),\n",
       " (('1252', '1955'), 0.071161665),\n",
       " (('4483', '1598'), 0.070539191),\n",
       " (('4479', '1600'), 0.06872151),\n",
       " (('879', '0'), 0.063052878),\n",
       " (('1461', '4131'), 0.058823958),\n",
       " (('3203', '651'), 0.057463232),\n",
       " (('4350', '1237'), 0.053157102),\n",
       " (('3922', '981'), 0.052886102),\n",
       " (('1708', '564'), 0.048107669),\n",
       " (('3420', '2936'), 0.042217813),\n",
       " (('4477', '1588'), 0.039300356),\n",
       " (('4557', '3148'), 0.037644617),\n",
       " (('1249', '4047'), 0.034297444),\n",
       " (('1218', '953'), 0.031672683),\n",
       " (('291', '3904'), 0.02852094),\n",
       " (('1248', '1942'), 0.028380698),\n",
       " (('3668', '2000'), 0.02766346),\n",
       " (('3268', '458'), 0.027185908),\n",
       " (('646', '1101'), 0.027002286),\n",
       " (('1922', '4201'), 0.026907472),\n",
       " (('2954', '1228'), 0.025712125),\n",
       " (('550', '718'), 0.025394203),\n",
       " (('1258', '2947'), 0.024396362),\n",
       " (('1464', '2019'), 0.024228249),\n",
       " (('2780', '2619'), 0.023784019),\n",
       " (('3200', '2792'), 0.021170519),\n",
       " (('2781', '2621'), 0.019596923),\n",
       " (('2024', '4432'), 0.018155452),\n",
       " (('3666', '1087'), 0.01795816),\n",
       " (('1050', '4137'), 0.017318554),\n",
       " (('1036', '4155'), 0.015994407),\n",
       " (('794', '1410'), 0.015543494),\n",
       " (('58', '1562'), 0.015192911),\n",
       " (('551', '713'), 0.013445712),\n",
       " (('2372', '2783'), 0.013095689),\n",
       " (('4014', '1918'), 0.012817117),\n",
       " (('2446', '247'), 0.01206034),\n",
       " (('1460', '4013'), 0.011998395),\n",
       " (('1925', '3451'), 0.011891954),\n",
       " (('1449', '2018'), 0.01138637),\n",
       " (('3114', '143'), 0.011173026),\n",
       " (('285', '3902'), 0.0095715495),\n",
       " (('3201', '4425'), 0.0089410013),\n",
       " (('3210', '3716'), 0.0076513574),\n",
       " (('3396', '2156'), 0.0072576422),\n",
       " (('3405', '4334'), 0.0068559991),\n",
       " (('2035', '139'), 0.0062831747),\n",
       " (('290', '3905'), 0.0057541193),\n",
       " (('3739', '3233'), 0.0056525087),\n",
       " (('4204', '3027'), 0.0056298985),\n",
       " (('283', '3901'), 0.0050578485),\n",
       " (('3277', '3442'), 0.0046104868),\n",
       " (('1232', '449'), 0.004372926),\n",
       " (('293', '3903'), 0.0035208918),\n",
       " (('1337', '3297'), 0.0033619525),\n",
       " (('4206', '4304'), 0.002362204),\n",
       " (('2099', '4147'), 0.0016277329),\n",
       " (('947', '175'), 0.0009521324),\n",
       " (('4078', '3323'), 0.00088216423),\n",
       " (('1859', '3894'), 0.00031391834),\n",
       " (('155', '214'), 0.00022913562),\n",
       " (('1021', '530'), 0.00022890707),\n",
       " (('1430', '3652'), 5.3773434e-05),\n",
       " (('1030', '384'), 3.0259162e-05),\n",
       " (('1094', '3043'), 2.7293086e-06)]"
      ]
     },
     "execution_count": 40,
     "metadata": {},
     "output_type": "execute_result"
    }
   ],
   "source": [
    "m"
   ]
  },
  {
   "cell_type": "code",
   "execution_count": 41,
   "metadata": {
    "scrolled": false
   },
   "outputs": [
    {
     "name": "stdout",
     "output_type": "stream",
     "text": [
      "{'description': 'bico injetor gm vectra 8v 2.2 1998 2003 monza kadett mpfi gasolina 1991 1996 s10 blazer 2.2 1996 1997 3171632', 'price': 140.44} {'description': 'bico injetor gm vectra 8v 2.2 1998 2003 monza kadett mpfi gasolina 1991 1996 s10 blazer 2.2 199', 'price': 140.45}\n",
      "{'description': 'fantasia borboleta basic arca noe 1882969', 'price': 79.99} {'description': 'fantasia borboleta basic', 'price': 75.99}\n",
      "{'description': 'poltrona decorativa sala escritorio tilla sued amarelo - jm estofados 2475857', 'price': 299.0} {'description': 'poltrona decorativa sala escritorio tilla sued preto - jm estofados', 'price': 299.0}\n",
      "{'description': 'cozinha completa maia 05 palmeira moveis jacarta esmeralda 3578314', 'price': 1699.88} {'description': 'cozinha completa maia 05 palmeira moveis jacarta / esmeralda', 'price': 1699.9}\n",
      "{'description': 'cozinha completa maia 02 palmeira moveis jacarta preto 3578309', 'price': 1099.9} {'description': 'cozinha completa maia 02 palmeira moveis jacarta / preto', 'price': 1099.9}\n",
      "{'description': 'bico injetor vw polo 1.0 16v gasolina 3171659', 'price': 92.3} {'description': 'bico injetor vw gol 1.0 16v', 'price': 89.65}\n",
      "{'description': 'sissy bar destacavel cav . fantasma triumph thunderbird 1700cc jjcustom 2873376', 'price': 894.47} {'description': 'sissy bar destacavel cav . fantasma - triumph thunderbird 1700cc - jjcustom', 'price': 894.47}\n",
      "{'description': 'fantasia thundercats lion adulto 1900609', 'price': 179.99} {'description': 'fantasia thundercats - lion adulto', 'price': 170.99}\n",
      "{'description': 'plataforma mod . sport traseira fixo mirage 250 jjcustom 2872729', 'price': 393.21} {'description': 'plataforma mod . sport traseira fixo - mirage 150 - jjcustom', 'price': 393.21}\n",
      "{'description': 'fantasia caipira chic festa junina 1898377', 'price': 98.99} {'description': 'fantasia pirata chic', 'price': 98.31}\n",
      "{'description': 'protetor motor / carenagem honda xl 700v transalp scam spto 062 2874114', 'price': 598.38} {'description': 'protetor motor carenagem honda transalp 700', 'price': 600.51}\n",
      "{'description': 'sissy bar destacavel cav . fantasma hd dyna super glide 1600 2008 2014 jjcustom 2873316', 'price': 894.47} {'description': 'sissy bar destacavel flame - hd dyna super glide 1600 - jjcustom', 'price': 828.22}\n",
      "{'description': 'cozinha compacta sandra elis madesa branco / tirol 1644802', 'price': 1499.89} {'description': 'cozinha compacta amarilis madesa branco / tirol', 'price': 929.0}\n",
      "{'description': 'plataforma mod . sport traseira articulada vulcan 900 classic jjcustom 2872673', 'price': 459.71} {'description': 'plataforma mod . chopper traseira articulada - vulcan 900 classic - jjcustom', 'price': 544.02}\n",
      "{'description': 'protetor radiador honda shadow 750 escape cobra 2874531', 'price': 294.78} {'description': 'protetor radiador shadow 750 caramori', 'price': 294.6}\n",
      "{'description': 'sissy bar destacavel cav . fantasma hd 883 / xl1200 jjcustom 2873299', 'price': 881.99} {'description': 'sissy bar destacavel cav . fantasma - mirage 650 - jjcustom', 'price': 881.99}\n",
      "{'description': 'fantasia bruxinha halloween 3988110', 'price': 95.99} {'description': 'fantasia arara', 'price': 128.24}\n",
      "{'description': 'livro ressurreicao aconteceu ... 3289330 - 9788526306936', 'price': 19.95} {'description': 'livro - abra', 'price': 23.48}\n",
      "{'description': 'plataforma mod . laser dianteira mirage 150 jjcustom 2873675', 'price': 323.04} {'description': 'plataforma mod . sport dianteira - mirage 150 - jjcustom', 'price': 393.21}\n",
      "{'description': 'capacete fechado shark vision - r2 cisor kwr 3829208', 'price': 1999.9} {'description': 'capacete fechado shark vision - r2 blank blk preto', 'price': 1799.9}\n",
      "{'description': 'sissy bar destacavel cav . fantasma - hd road king / street glide 2014 2015 jjcustom 2873328', 'price': 914.88} {'description': 'sissy bar destacavel zombie - hd road king 2008 - jjcustom', 'price': 894.47}\n",
      "{'description': 'plataforma mod . wing traseira artic . mirage 150 jjcustom 2872801', 'price': 466.62} {'description': 'plataforma mod . wing traseira artic . shadow 750 2014 - jjcustom', 'price': 466.64}\n",
      "{'description': 'sissy bar destacavel cav . fantasma hd blackline 2012 diante jjcustom 2873303', 'price': 915.3} {'description': 'sissy bar destacavel cav . fantasma - shadow 750 2010 - jjcustom', 'price': 818.99}\n",
      "{'description': 'cama infantil barbie star pedras decorativas 100 % mdf pura magia 3337959', 'price': 578.97} {'description': 'cama infantil barbie star rosa - pura magia', 'price': 799.99}\n",
      "{'description': 'poltrona decorativa giratoria nina base estrela patchwork - domi 2464095', 'price': 1060.43} {'description': 'poltrona decorativa giratoria nina base estrela algodao estampado - 420', 'price': 1060.44}\n",
      "{'description': 'santo antonio ranger bepo cromado elevac grade vigia 2585835', 'price': 889.54} {'description': 'santo antonio ranger 2013 2016 bepo cromado grade vigia', 'price': 814.54}\n",
      "{'description': 'sissy bar destacavel american chopper shadow 750 2010 jjcustom 2873231', 'price': 818.99} {'description': 'sissy bar destacavel american chopper - hd switchback - jjcustom', 'price': 935.19}\n",
      "{'description': 'fantasia caipira bebe 2323621', 'price': 98.99} {'description': 'fantasia macaco bebe', 'price': 90.24}\n",
      "{'description': 'capacete zeus 811 evo plasma al5 2697063', 'price': 328.98} {'description': 'capacete fechado zeus 811 evo plasma black red fundo branco preto vermelho', 'price': 479.9}\n",
      "{'description': 'fantasia princesa vampira adulto 2118307', 'price': 59.99} {'description': 'fantasia vampira adulto', 'price': 111.14}\n",
      "{'description': 'jogo soleira resinada chevrolet opala prata 1830165', 'price': 38.72} {'description': 'jogo soleira resinada chevrolet caravan 1976 / 1991 prata', 'price': 38.72}\n",
      "{'description': 'mesa centro 100 % mdf - dj moveis alba - branco laca / cafe 2278572', 'price': 129.72} {'description': 'mesa centro alba - dj moveis - amarelolaca cafe', 'price': 129.0}\n",
      "{'description': 'sissy bar destacavel cav . fantasma hd fat bob 1600 jjcustom 2873322', 'price': 894.47} {'description': 'sissy bar destacavel hd br - fat boy 2007 - jjcustom', 'price': 881.99}\n",
      "{'description': 'fantasia anjo 2295996', 'price': 79.99} {'description': 'fantasia indiana', 'price': 85.49}\n",
      "{'description': 'poltrona plastica elena vermelha summa tramontina 3606457', 'price': 526.82} {'description': 'poltrona tramontina elena preto', 'price': 406.12}\n",
      "{'description': 'guarda - roupa espelho troia carioca moveis branco / preto 1603863', 'price': 989.87} {'description': 'guarda - roupa espelho sparta 6 portas carioca moveis gris / preto', 'price': 929.0}\n",
      "{'description': 'ventilador teto spirit 202 - 127v cristal 3656243', 'price': 477.89} {'description': 'ventilador teto spirit 202 menina baleias coloridas l46 127v', 'price': 499.9}\n",
      "{'description': 'boia sensor nivel pampa 1.8 apos 1997 - tsa 3770593', 'price': 78.87} {'description': 'boia sensor nivel sonic 1.6 16v apos 2012 - tsa', 'price': 85.14}\n",
      "{'description': 'sissy bar destacavel american chopper mirage 650 jjcustom 2873219', 'price': 881.99} {'description': 'sissy bar destacavel american chopper - hd breakout 2015 - jjcustom', 'price': 933.77}\n",
      "{'description': 'farol monza 82 83 84 85 86 87 mascara cromada lente vidro lado direito + lado esquerdo 3865602', 'price': 229.8} {'description': 'farol passat 83 84 85 86 87 88 duplo lente vidro lado direito rcd', 'price': 145.0}\n",
      "{'description': 'conjunto infantil masculino rabiscos zig zig zaa malwee 1869503', 'price': 69.9} {'description': 'conjunto zig zig zaa vez', 'price': 49.99}\n",
      "{'description': 'ventilador teto spirit 202 - 127v verde neon 3656240', 'price': 477.89} {'description': 'ventilador teto spirit 202 caveira neon zigzag l27 220v', 'price': 499.9}\n",
      "{'description': 'kit pneu aro 16 pirelli 235 / 60r16 100h scorpion atr 2 unidades 2570930', 'price': 1223.6} {'description': 'pneu pirelli 205 / 60r16 92h scorpion atr', 'price': 572.9}\n",
      "{'description': 'ventilador teto spirit 302 - 127v cristal 3656702', 'price': 577.91} {'description': 'ventilador teto spirit 302 caveira grafismo preto branco l69 127v', 'price': 599.9}\n",
      "{'description': 'ventilador teto spirit 202 - 127v hobby musica 3656245', 'price': 507.91} {'description': 'ventilador teto spirit 202 hobby marinheiro l58 220v', 'price': 499.9}\n",
      "{'description': 'guarda - roupa 2 portas correr espelho dalla costa tw102e nobre fosco / branco brilho 1605161', 'price': 2499.9} {'description': 'guarda - roupa pradel ii tw102e 2 portas correr 1 espelho nobre', 'price': 2795.67}\n",
      "{'description': 'cama infantil frozen disney play escorregador , cabana cortina 100 % mdf pura magia 3337987', 'price': 1399.0} {'description': 'cama infantil frozen disney plus branca - pura magia', 'price': 559.99}\n",
      "{'description': 'jogo naruto shippuden : ultimate ninja storm 4 road to boruto - ps4 3773922', 'price': 164.9} {'description': 'game naruto shippuden : ultimate ninja storm generations - ps3', 'price': 79.99}\n",
      "{'description': 'ventilador teto spirit 202 - 127v branco 3656285', 'price': 457.87} {'description': 'ventilador teto spirit 202 menino dinossauros l55 127v', 'price': 499.9}\n",
      "{'description': 'poltrona eclipse stain vermelho - mao formao 2464835', 'price': 1295.35} {'description': 'poltrona - eclipse - jatoba - mao formao', 'price': 907.0}\n",
      "{'description': 'livro - escuridao 2670507', 'price': 49.2} {'description': 'livro - ford ,', 'price': 30.0}\n",
      "{'description': 'ventilador teto spirit 203 - 127v tangerina 3656667', 'price': 577.91} {'description': 'ventilador teto spirit 203 menino astronauta l45 220v', 'price': 599.9}\n",
      "{'description': 'ventilador teto spirit 202 - 220v vermelho 3656663', 'price': 477.89} {'description': 'ventilador teto spirit 202 menina corujinhas r9 127v', 'price': 499.9}\n",
      "{'description': 'fantasia the flintstones betty adulto 2083621', 'price': 79.9} {'description': 'fantasia melindrosa adulto', 'price': 102.59}\n",
      "{'description': 'fantasia caipira - heat girls 2322204', 'price': 107.99} {'description': 'fantasia she - ra - heat girls', 'price': 316.26}\n",
      "{'description': 'baby fehn bichinho mordedor girafa br305 multikids baby 3979153', 'price': 65.9} {'description': 'body vr kids baby', 'price': 32.9}\n",
      "{'description': 'regata listrada - ref : 9994221 4083100', 'price': 74.9} {'description': 'regata salinas listrada', 'price': 79.99}\n",
      "{'description': 'kit pneu aro 14 goodyear 175 / 65r14 assurance 82t 2 unidades 2570927', 'price': 474.4} {'description': 'pneu pirelli aro 14 175 / 65r14 p6 82h', 'price': 348.99}\n",
      "{'description': 'ventilador teto spirit 202 - 220v verde neon 3656409', 'price': 477.89} {'description': 'ventilador teto spirit 302 caveira neon zigzag l27 127v', 'price': 599.9}\n",
      "{'description': 'ventilador teto spirit 203 - 220v romero britto the hug 3657860', 'price': 707.91} {'description': 'ventilador teto spirit 203 gourmet docinhos l28 220v', 'price': 599.9}\n",
      "{'description': 'chave impacto bateria 12v tw100dz + 1 bateria 12v bl1014 + 1 carregador bivolt max dc10wb 4032545', 'price': 530.88} {'description': 'carregador bateria manual - 12v - lento', 'price': 648.0}\n",
      "{'description': 'camiseta regata pima marcyn 1705175', 'price': 49.99} {'description': 'camiseta marcyn raglan', 'price': 64.99}\n",
      "{'description': 'moldura 2 din fiamon vw gol , parati , saveiro g3 , preta 3213856', 'price': 60.32} {'description': 'moldura 2 din preta vw gol , saveiro voyage g6 ap638', 'price': 90.0}\n",
      "{'description': 'mesa centro 0329 - 0 - 408 colmeia maxima cacau verde musgo 3497261', 'price': 269.88} {'description': 'mesa centro colmeia madeira vermelho maxima', 'price': 329.99}\n",
      "{'description': 'interface desbloqueio tela bmw serie 6 2014 diante faaftech ft - video - free bm12 3763229', 'price': 1199.99} {'description': 'interface desbloqueio tela land rover discovery sport 2015 2016 faaftech ft - video - free lr15', 'price': 1899.0}\n",
      "{'description': 'comoda fraldario selena amadeirado carolina baby branco amadeirado 2888476', 'price': 337.98} {'description': 'comoda carolina baby selena 4 gavetas branco', 'price': 366.29}\n",
      "{'description': 'cinta abdominal asw image preto 1965655', 'price': 98.0} {'description': 'cinta abdominal asw concept 16 infantil preto', 'price': 66.0}\n",
      "{'description': 'ventilador teto spirit 203 - 220v caveira pe cova 3656684', 'price': 607.9} {'description': 'ventilador teto spirit 201 menino astronauta l45 127v', 'price': 399.9}\n",
      "{'description': 'capacete cross pro tork liberty mx pro branco azul brilhante viseira 3833855', 'price': 99.9} {'description': 'capacete fechado cross pro tork th - 1 insane 5 preto azul brilhante viseira', 'price': 174.9}\n",
      "{'description': 'pneu 225 75 r15 - pneu general tire aro 15 225 75 r15 grabber at2 owl 102s 2574653', 'price': 645.9} {'description': 'pneu kumho aro 15 225 / 75 r15 - 102t - kl51', 'price': 705.96}\n",
      "{'description': 'bc bonacure exp power sealer 200ml schwarzkopf 3122163', 'price': 269.1} {'description': 'bc bonacure color freeze tratamento 200ml - schwarzkopf', 'price': 239.97}\n",
      "{'description': 'mochila infantil skip hop zoo joaninha rosa b16011 b - 16 - 011 508421', 'price': 192.39} {'description': 'organizador cilindrico zoo joaninha skip hop', 'price': 194.99}\n",
      "{'description': 'pneu 225 75 r15 - pneu bridgestone aro 15 225 75 r15 dueler at 693 105s 2574640', 'price': 585.9} {'description': 'pneu bridgestone aro 16 225 / 75 r16c 118 / 116r duravis r630', 'price': 898.9}\n",
      "{'description': 'boneca ever after high - jogo dragoes - fadas - deerla dhg01 2621151', 'price': 99.9} {'description': 'edredom infantil ever after high estampado - lepper', 'price': 106.99}\n",
      "{'description': 'kit amortecedor dianteiro coxim rolamento batente coifa astra , vectra , 2.2 3750435', 'price': 77.24} {'description': 'coxim superior amortecedor dianteiro s / rolamento astra / vectra / zafira', 'price': 37.38}\n",
      "{'description': 'kit bodies manga longa carro corrida estilinho 2670024', 'price': 35.9} {'description': 'kit 2 bodies anjos baby manga longa copa', 'price': 49.9}\n",
      "{'description': 'guarda - roupa luizzi branco 2 portas carolina moveis 1567671', 'price': 569.87} {'description': 'guarda roupa 2 portas ninare branco - moveis matic', 'price': 715.46}\n",
      "{'description': 'mesa centro isis cinza preto - artely 2506110', 'price': 130.4} {'description': 'mesa centro duo - cinza', 'price': 949.0}\n",
      "{'description': 'conjunto infantil feminino tribal malwee 3454760', 'price': 44.9} {'description': 'conjunto infantil malwee brasileirinhos sofia', 'price': 49.99}\n",
      "{'description': 'kit 4 pneus aro 18 bridgestone 265 / 60r18 110t dueler h / t 684 ii ecopia 2593799', 'price': 3603.12} {'description': 'pneu bridgestone aro 17 265 / 65 r17 112s dueler h / t 684 ii', 'price': 799.0}\n",
      "{'description': 'regata tie dye 2032837', 'price': 49.9} {'description': 'regata coca - cola jeans bord linho', 'price': 54.99}\n",
      "{'description': 'cabana superior cama infantil frozen disney play pura magia 3334803', 'price': 328.98} {'description': 'cama infantil princesas disney plus brnaco - pura magia', 'price': 599.99}\n",
      "{'description': 'limitador porta meriva 03 04 05 06 07 08 09 10 11 12 dianteiro lado 3213804', 'price': 79.2} {'description': 'parachoque dianteiro hr 04 05 06 07 08 09 10 11 12 furo', 'price': 286.62}\n",
      "{'description': 'dossel cama infantil frozen disney star pura magia 3334848', 'price': 269.0} {'description': 'cama infantil mini - cama frozen disney torre branca - pura magia', 'price': 449.99}\n",
      "{'description': 'rack travessa teto corolla 2015 aluminio prata eqmax 1809115', 'price': 469.8} {'description': 'rack teto travessa aluminio sandero 2015 2016 eqmax preto', 'price': 454.78}\n",
      "{'description': 'boneca fofolete princesas disney - aurora 2621154', 'price': 10.9} {'description': 'touca disney aurora', 'price': 39.9}\n",
      "{'description': 'mesa computador cpu 02 gavetas bc 38 branco - brv 2490074', 'price': 328.48} {'description': 'mesa computador bc 44 - 06 brv moveis branco', 'price': 959.9}\n",
      "{'description': 'mesa computador / escrivaninha 2 gavetas - ej moveis 2196291', 'price': 141.02} {'description': 'escrivaninha / mesa computador elle - imbuia - ej moveis', 'price': 169.9}\n",
      "{'description': 'friso porta mala tampa corsa sedan classic 96 97 98 99 00 01 02 03 04 05 06 cromado autopostal 2224924', 'price': 78.0} {'description': 'par farol corsa 97 98 99 00 01 02 classic 03 10 cromado', 'price': 204.71}\n",
      "{'description': 'esmaltes colorama cremoso gio antonelli sensualizando 1841384', 'price': 5.15} {'description': 'removedor esmaltes', 'price': 19.36}\n",
      "{'description': 'conjunto infantil peppa pig xadrez malwee 3454788', 'price': 88.0} {'description': 'conjunto infantil malwee brasileirinhos randa flores', 'price': 79.99}\n",
      "{'description': 'overbumper bepo s10 12 13 14 15 16 preto cromado 3463211', 'price': 254.9} {'description': '- choque impulsao quebra mato elegance bepo s10 12 13 14 15 16 preto grade', 'price': 359.9}\n",
      "{'description': 'bico injetor fiat palio weekend siena strada 1.0 1.5 1.6 1996 2000 alcool 3171611', 'price': 82.9} {'description': 'emblema capo fiat palio siena strada weekend 1996 2000', 'price': 17.7}\n",
      "{'description': 'digital 346582', 'price': 36.82} {'description': 'bateria camera digital canon ixy digital d30', 'price': 94.07}\n",
      "{'description': 'regata basica 2032831', 'price': 39.9} {'description': 'regata tyrol malha basica', 'price': 34.9}\n",
      "{'description': 'guarda - roupa 6 portas 2 gavetas carraro felicce tabaco 1562676', 'price': 689.9} {'description': 'roupeiro - felicce - 0410 - 6 portas - 2 gavetas - tabaco - carraro', 'price': 685.22}\n",
      "{'description': 'regata verde estampada 3130 1458807', 'price': 15.99} {'description': 'regata alca sommer estampada', 'price': 49.99}\n",
      "{'description': 'rack multiuso msm420 movelbento branco 2856403', 'price': 309.88} {'description': 'rack multiuso ra1021 - art in moveis - branco', 'price': 139.0}\n",
      "{'description': 'mochila infantil zoo raposa skip hop 1249039', 'price': 192.39} {'description': 'organizador quadrado zoo coruja skip hop', 'price': 149.99}\n",
      "{'description': 'limitador porta clio 99 00 01 02 03 04 05 06 07 08 09 10 11 12 13 14 dianteiro lado 3213803', 'price': 75.0} {'description': 'longarina rack teto s10 95 96 97 98 99 00 01 02 03 04 05 06 07 08 09 10 11 preta', 'price': 218.9}\n",
      "{'description': 'painel frontal fiesta 1996 1999 courier 1996 1999 3231461', 'price': 355.02} {'description': 'radiador motor visconde fiesta hatch 1996 1999', 'price': 260.0}\n",
      "{'description': 'par protetor motor slider yamaha fazer 150 pro tork preto 3578424', 'price': 100.48} {'description': 'escapamento turbo esportivo pro tork yamaha fazer 150 + brinde', 'price': 121.22}\n",
      "{'description': 'par protetor motor slider yamaha fazer 150 pro tork amarelo 3578514', 'price': 100.48} {'description': 'escapamento turbo esportivo pro tork yamaha fazer 150 + brinde', 'price': 121.22}\n",
      "{'description': 'rack bancada painel vitorio teka tx - dj moveis 2515699', 'price': 747.93} {'description': 'rack bancada havana teka tx vanilla perolizado dj moveis', 'price': 266.31}\n",
      "{'description': 'mochila rodinha zoo joaninha skip hop 1249034', 'price': 359.9} {'description': 'organizador cilindrico zoo abelha skip hop', 'price': 194.99}\n",
      "{'description': 'troninho pipibaby turma monica elka 4069167', 'price': 36.9} {'description': 'capacete infantil turma monica - magali', 'price': 99.0}\n",
      "{'description': 'piscina cristalina marina 3839147', 'price': 35.3} {'description': 'piscina retangular', 'price': 359.99}\n",
      "{'description': 'mochila rodinha zoo girafa skip hop 1504187', 'price': 362.88} {'description': 'organizador cilindrico zoo coruja skip hop', 'price': 194.99}\n",
      "{'description': 'amortecedor dianteiro allen corolla fielder 2003 2008 lado motorista cada unidade 25021 3766386', 'price': 279.0} {'description': 'parabarro - lama dianteiro alternativo importado corolla / fielder 2003 2008 preto lado motorista', 'price': 84.1}\n",
      "{'description': 'disco embre nx 400 falcon flynn 7pcs 3807210', 'price': 99.9} {'description': 'carcaca painel superior falcon nx 400', 'price': 124.48}\n",
      "{'description': 'kit escolar + mochila rodinha joaninha zoo skip hop 3185981', 'price': 640.98} {'description': 'organizador quadrado zoo joaninha rosa skip hop', 'price': 144.99}\n",
      "{'description': 'garfo trinchante branco utilita tramontina 3604896', 'price': 16.04} {'description': 'banco pequeno naturalle branco - tramontina', 'price': 80.99}\n",
      "{'description': 'bicicleta voadora , elementar 3320122', 'price': 32.0} {'description': 'bicicleta stilom', 'price': 1350.0}\n",
      "{'description': 'beliche parede star be2090 montana art in moveis 3612541', 'price': 1014.9} {'description': 'mesa computador montana mc8007 - art in moveis', 'price': 132.9}\n",
      "{'description': 'cofre biometria safewell 25 fpn 25 fpn 1142086', 'price': 1029.9} {'description': 'livro - 25 : 25 artistas , 25 obras , 25 arte - educadores , 25 leituras , 25 anos instituto arte escola - 9788584290291', 'price': 69.99}\n",
      "{'description': 'brinco prata gota perola 11541 4065728', 'price': 179.0} {'description': 'tapa risco toyota - prata perola / cinza perola 1f7', 'price': 21.9}\n",
      "{'description': 'assadeira proteus 8386 24cm 4,2 l - mta 3877127', 'price': 249.0} {'description': 'caixa decora moranguinho 4,2 l plasutil', 'price': 32.22}\n",
      "{'description': 'escatologia testamento russell p shedd 3600709', 'price': 24.61} {'description': 'luva p / musculacao feminina power p - harbinger', 'price': 82.7}\n",
      "{'description': 'garfo mesa aco inox opera - 63911020 - tramontina farroupilha 2447855', 'price': 18.18} {'description': 'centro mesa tramontina design collection namoa aco inox 18 / 10', 'price': 124.99}\n",
      "{'description': 'almofada 40x25 poltrona 3579843', 'price': 54.9} {'description': 'poltrona manchester', 'price': 1560.0}\n",
      "{'description': 'garfo mesa lyon - brinox 2711307', 'price': 3.64} {'description': 'mesa milano', 'price': 885.23}\n",
      "{'description': 'kit 12 gravatas cartonadas garrafa cerveja 2913361', 'price': 14.04} {'description': 'kit hidraulico flap - placa 12 x 12', 'price': 4099.48}\n"
     ]
    }
   ],
   "source": [
    "for i in m:\n",
    "    print(p[i[0][0]], w[i[0][1]])"
   ]
  },
  {
   "cell_type": "code",
   "execution_count": 42,
   "metadata": {},
   "outputs": [
    {
     "data": {
      "text/plain": [
       "4569"
      ]
     },
     "execution_count": 42,
     "metadata": {},
     "output_type": "execute_result"
    }
   ],
   "source": [
    "len(walmart)"
   ]
  },
  {
   "cell_type": "code",
   "execution_count": 43,
   "metadata": {},
   "outputs": [
    {
     "data": {
      "text/plain": [
       "4527"
      ]
     },
     "execution_count": 43,
     "metadata": {},
     "output_type": "execute_result"
    }
   ],
   "source": [
    "len(submarino)"
   ]
  },
  {
   "cell_type": "code",
   "execution_count": null,
   "metadata": {
    "collapsed": true
   },
   "outputs": [],
   "source": []
  }
 ],
 "metadata": {
  "kernelspec": {
   "display_name": "Python 3",
   "language": "python",
   "name": "python3"
  },
  "language_info": {
   "codemirror_mode": {
    "name": "ipython",
    "version": 3
   },
   "file_extension": ".py",
   "mimetype": "text/x-python",
   "name": "python",
   "nbconvert_exporter": "python",
   "pygments_lexer": "ipython3",
   "version": "3.6.1"
  }
 },
 "nbformat": 4,
 "nbformat_minor": 2
}
