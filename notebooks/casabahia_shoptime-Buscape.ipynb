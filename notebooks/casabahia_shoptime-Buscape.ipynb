{
 "cells": [
  {
   "cell_type": "code",
   "execution_count": 12,
   "metadata": {
    "collapsed": true
   },
   "outputs": [],
   "source": [
    "import dedupe\n",
    "import json\n",
    "from cytoolz import *\n",
    "from copy import copy\n",
    "import re\n",
    "import nltk\n",
    "from bs4 import BeautifulSoup\n",
    "from nltk.tokenize import word_tokenize\n",
    "from urllib.parse import urlparse\n",
    "from unicodedata import normalize"
   ]
  },
  {
   "cell_type": "code",
   "execution_count": 13,
   "metadata": {
    "collapsed": true
   },
   "outputs": [],
   "source": [
    "fields = [{'field': 'description', 'variable name': 'description', 'type': 'Text'},\n",
    "          {'field': 'price', 'variable name': 'price', 'type': 'Price'},\n",
    "          {'type': 'Interaction', 'interaction variables': ['description', 'price']}]\n",
    "\n",
    "\n",
    "def tokenize_url(url):\n",
    "    path = urlparse(url).path\n",
    "    path = path.replace('/', ' ')\n",
    "    path = path.replace('-', ' ')\n",
    "    return word_tokenize(path)\n",
    "\n",
    "\n",
    "def remove_accents(input_str):\n",
    "    return normalize('NFKD', input_str).encode('ascii', 'ignore').decode()\n",
    "\n",
    "\n",
    "def sanitize_string(input_str):\n",
    "    pattern = r'[?|&|!|@|#|;|*|~|(|)|´|^|\\r|\\n|\\t]'\n",
    "    price_pattern = r'[\\d]+\\.[\\d]+\\.[\\d]+'\n",
    "    \n",
    "    if re.match(price_pattern, input_str):\n",
    "        sep = input_str.rsplit('.')\n",
    "        return '{}.{}'.format(sep[0], sep[1])\n",
    "    \n",
    "    return clean_string(re.sub(pattern, r'', remove_accents(input_str.lower())))\n",
    "\n",
    "\n",
    "def clean_string(input_str):\n",
    "    unuseful = set(['confira', 'compre', 'oferta', 'novo',\n",
    "                    'preco', 'agora', 'melhores', 'aqui',\n",
    "                    'aproveite', 'menor', 'maior', 'encontra',\n",
    "                    'site', 'condicoes', 'ofertas', 'imbativeis',\n",
    "                    'vendas', 'online', 'novo', 'nova', 'tecnologia',\n",
    "                    'precos', 'pagamento', 'melhor', 'veja', 'encontre',\n",
    "                    'menores', 'vem', 'venha', 'ver'])\n",
    "\n",
    "    names = set(['walmart', 'walmart.com', 'shoptime', 'shoptime.com',\n",
    "                 'pontofrio', 'pontofrio.com', 'magazineluiza', 'magazineluiza.com',\n",
    "                 'magazine luiza', 'americanas', 'americanas.com', 'submarino',\n",
    "                 'submarino.com', 'extra', 'extra.com.br', 'casas bahia', 'casasbahia.com.br'])\n",
    "\n",
    "    stopwords = [remove_accents(s) for s in nltk.corpus.stopwords.words('portuguese')]\n",
    "    repl = list(concat([unuseful, names, stopwords]))\n",
    "    tk = word_tokenize(input_str)\n",
    "    return ' '.join([word for word in tk if word not in repl])\n",
    "\n",
    "\n",
    "def preprocess(item):\n",
    "    return {'description': sanitize_string(item['description']), 'price': float(sanitize_string(item['price']))}"
   ]
  },
  {
   "cell_type": "code",
   "execution_count": 14,
   "metadata": {
    "collapsed": true
   },
   "outputs": [],
   "source": [
    "with open('../data/casasbahia/buscape.json') as f:\n",
    "    walmart = [preprocess(dissoc(item, 'image')) for item in json.loads(f.read())['products']]"
   ]
  },
  {
   "cell_type": "code",
   "execution_count": 15,
   "metadata": {
    "collapsed": true
   },
   "outputs": [],
   "source": [
    "with open('../data/shoptime/buscape.json') as f:\n",
    "    submarino = [preprocess(dissoc(item, 'image')) for item in json.loads(f.read())['products']]\n",
    "\n",
    "p = {str(i): walmart[i] for i in range(len(walmart))}\n",
    "w = {str(i): submarino[i] for i in range(len(submarino))}"
   ]
  },
  {
   "cell_type": "code",
   "execution_count": 42,
   "metadata": {
    "scrolled": false
   },
   "outputs": [
    {
     "name": "stderr",
     "output_type": "stream",
     "text": [
      "description : rack retro 65 olivar rustik carvalho\n",
      "price : 309.99\n",
      "\n",
      "description : mesa centro retangular retro 45 olivar rustik carvalho / amarelo\n",
      "price : 194.9\n",
      "\n",
      "0/10 positive, 0/10 negative\n",
      "Do these records refer to the same thing?\n",
      "(y)es / (n)o / (u)nsure / (f)inished\n"
     ]
    },
    {
     "name": "stdout",
     "output_type": "stream",
     "text": [
      "n\n"
     ]
    },
    {
     "name": "stderr",
     "output_type": "stream",
     "text": [
      "description : rack retro 65 olivar rustik carvalho\n",
      "price : 309.99\n",
      "\n",
      "description : mesa centro retangular retro 45 olivar rustik carvalho / turquesa\n",
      "price : 194.9\n",
      "\n",
      "0/10 positive, 1/10 negative\n",
      "Do these records refer to the same thing?\n",
      "(y)es / (n)o / (u)nsure / (f)inished / (p)revious\n"
     ]
    },
    {
     "name": "stdout",
     "output_type": "stream",
     "text": [
      "n\n"
     ]
    },
    {
     "name": "stderr",
     "output_type": "stream",
     "text": [
      "description : tatame eva 1cm 4 pecas azul 40100014 - mor\n",
      "price : 84.78\n",
      "\n",
      "description : tatame eva 1cm 4 pecas azul 40100014 - mor\n",
      "price : 84.78\n",
      "\n",
      "0/10 positive, 2/10 negative\n",
      "Do these records refer to the same thing?\n",
      "(y)es / (n)o / (u)nsure / (f)inished / (p)revious\n"
     ]
    },
    {
     "name": "stdout",
     "output_type": "stream",
     "text": [
      "y\n"
     ]
    },
    {
     "name": "stderr",
     "output_type": "stream",
     "text": [
      "description : machadinha tomahawk machado taue kh518\n",
      "price : 134.29\n",
      "\n",
      "description : machadinha tomahawk machado taue kh518\n",
      "price : 134.29\n",
      "\n",
      "1/10 positive, 2/10 negative\n",
      "Do these records refer to the same thing?\n",
      "(y)es / (n)o / (u)nsure / (f)inished / (p)revious\n"
     ]
    },
    {
     "name": "stdout",
     "output_type": "stream",
     "text": [
      "y\n"
     ]
    },
    {
     "name": "stderr",
     "output_type": "stream",
     "text": [
      "description : caneta limpeza lentes fotograficas\n",
      "price : 59.06\n",
      "\n",
      "description : caneta limpeza lentes fotograficas\n",
      "price : 58.51\n",
      "\n",
      "2/10 positive, 2/10 negative\n",
      "Do these records refer to the same thing?\n",
      "(y)es / (n)o / (u)nsure / (f)inished / (p)revious\n"
     ]
    },
    {
     "name": "stdout",
     "output_type": "stream",
     "text": [
      "y\n"
     ]
    },
    {
     "name": "stderr",
     "output_type": "stream",
     "text": [
      "description : quebra - cabeca hot cars 100 pecas - grow\n",
      "price : 32.07\n",
      "\n",
      "description : quebra - cabeca grandao hot wheels - 120 pecas - toyster\n",
      "price : 55.0\n",
      "\n",
      "3/10 positive, 2/10 negative\n",
      "Do these records refer to the same thing?\n",
      "(y)es / (n)o / (u)nsure / (f)inished / (p)revious\n"
     ]
    },
    {
     "name": "stdout",
     "output_type": "stream",
     "text": [
      "n\n"
     ]
    },
    {
     "name": "stderr",
     "output_type": "stream",
     "text": [
      "description : mesa lateral berlim espelhada conj . 2 unid\n",
      "price : 1661.9\n",
      "\n",
      "description : mesa lateral verde - phorman\n",
      "price : 425.54\n",
      "\n",
      "3/10 positive, 3/10 negative\n",
      "Do these records refer to the same thing?\n",
      "(y)es / (n)o / (u)nsure / (f)inished / (p)revious\n"
     ]
    },
    {
     "name": "stdout",
     "output_type": "stream",
     "text": [
      "n\n"
     ]
    },
    {
     "name": "stderr",
     "output_type": "stream",
     "text": [
      "description : boneca acessorios - disney princesas - princesa bela pet - mimo\n",
      "price : 69.99\n",
      "\n",
      "description : quebra - cabeca 3d - moana - disney - estrela\n",
      "price : 69.99\n",
      "\n",
      "3/10 positive, 4/10 negative\n",
      "Do these records refer to the same thing?\n",
      "(y)es / (n)o / (u)nsure / (f)inished / (p)revious\n"
     ]
    },
    {
     "name": "stdout",
     "output_type": "stream",
     "text": [
      "n\n"
     ]
    },
    {
     "name": "stderr",
     "output_type": "stream",
     "text": [
      "description : rack versatile - branco / vermelho\n",
      "price : 653.33\n",
      "\n",
      "description : rack versatile - branco / vermelho\n",
      "price : 596.77\n",
      "\n",
      "3/10 positive, 5/10 negative\n",
      "Do these records refer to the same thing?\n",
      "(y)es / (n)o / (u)nsure / (f)inished / (p)revious\n"
     ]
    },
    {
     "name": "stdout",
     "output_type": "stream",
     "text": [
      "y\n"
     ]
    },
    {
     "name": "stderr",
     "output_type": "stream",
     "text": [
      "description : jogo utensilios aco inox 4 pecas oslo tramontina\n",
      "price : 177.87\n",
      "\n",
      "description : jogo utensilios aco inox 4 pecas oslo - tramontina\n",
      "price : 168.51\n",
      "\n",
      "4/10 positive, 5/10 negative\n",
      "Do these records refer to the same thing?\n",
      "(y)es / (n)o / (u)nsure / (f)inished / (p)revious\n"
     ]
    },
    {
     "name": "stdout",
     "output_type": "stream",
     "text": [
      "y\n"
     ]
    },
    {
     "name": "stderr",
     "output_type": "stream",
     "text": [
      "description : comoda infantil 4 gavetas doce sonho - qmovi branco\n",
      "price : 256.12\n",
      "\n",
      "description : comoda infantil 4 gavetas doce sonho branco - qmovi\n",
      "price : 184.9\n",
      "\n",
      "5/10 positive, 5/10 negative\n",
      "Do these records refer to the same thing?\n",
      "(y)es / (n)o / (u)nsure / (f)inished / (p)revious\n"
     ]
    },
    {
     "name": "stdout",
     "output_type": "stream",
     "text": [
      "y\n"
     ]
    },
    {
     "name": "stderr",
     "output_type": "stream",
     "text": [
      "description : berco mini cama sol carolina baby branco brilho\n",
      "price : 432.99\n",
      "\n",
      "description : berco mini cama carolina baby cleo acetinado\n",
      "price : 455.39\n",
      "\n",
      "6/10 positive, 5/10 negative\n",
      "Do these records refer to the same thing?\n",
      "(y)es / (n)o / (u)nsure / (f)inished / (p)revious\n"
     ]
    },
    {
     "name": "stdout",
     "output_type": "stream",
     "text": [
      "u\n"
     ]
    },
    {
     "name": "stderr",
     "output_type": "stream",
     "text": [
      "description : rack - vision - artely rovere / amendoa\n",
      "price : 314.0\n",
      "\n",
      "description : cozinha compacta franciele 3 pecas - poliman branco / rovere / amendoa\n",
      "price : 299.0\n",
      "\n",
      "6/10 positive, 5/10 negative\n",
      "Do these records refer to the same thing?\n",
      "(y)es / (n)o / (u)nsure / (f)inished / (p)revious\n"
     ]
    },
    {
     "name": "stdout",
     "output_type": "stream",
     "text": [
      "n\n"
     ]
    },
    {
     "name": "stderr",
     "output_type": "stream",
     "text": [
      "description : almofada pop - art 42x42 - ar04 - atelier valverde - ar . 04\n",
      "price : 35.0\n",
      "\n",
      "description : livro - under their thumb - bom garoto misturou rolling stones sobreviveu contar - 9788520923528\n",
      "price : 37.99\n",
      "\n",
      "6/10 positive, 6/10 negative\n",
      "Do these records refer to the same thing?\n",
      "(y)es / (n)o / (u)nsure / (f)inished / (p)revious\n"
     ]
    },
    {
     "name": "stdout",
     "output_type": "stream",
     "text": [
      "n\n"
     ]
    },
    {
     "name": "stderr",
     "output_type": "stream",
     "text": [
      "description : boneco pets - vida secreta bichos - max articulado\n",
      "price : 49.99\n",
      "\n",
      "description : boneco pets - vida secreta bichos - max som movimento\n",
      "price : 137.42\n",
      "\n",
      "6/10 positive, 7/10 negative\n",
      "Do these records refer to the same thing?\n",
      "(y)es / (n)o / (u)nsure / (f)inished / (p)revious\n"
     ]
    },
    {
     "name": "stdout",
     "output_type": "stream",
     "text": [
      "u\n"
     ]
    },
    {
     "name": "stderr",
     "output_type": "stream",
     "text": [
      "description : capacete urban azul bi061 - atrio\n",
      "price : 63.54\n",
      "\n",
      "description : capacete urban tamanho m azul bi061 - atrio\n",
      "price : 51.29\n",
      "\n",
      "6/10 positive, 7/10 negative\n",
      "Do these records refer to the same thing?\n",
      "(y)es / (n)o / (u)nsure / (f)inished / (p)revious\n"
     ]
    },
    {
     "name": "stdout",
     "output_type": "stream",
     "text": [
      "y\n"
     ]
    },
    {
     "name": "stderr",
     "output_type": "stream",
     "text": [
      "description : cuscuzeira aluminio polido tamanho 18cm - panemax\n",
      "price : 26.9\n",
      "\n",
      "description : cuscuzeira aluminio polido tamanho 18 - panemax\n",
      "price : 25.52\n",
      "\n",
      "7/10 positive, 7/10 negative\n",
      "Do these records refer to the same thing?\n",
      "(y)es / (n)o / (u)nsure / (f)inished / (p)revious\n"
     ]
    },
    {
     "name": "stdout",
     "output_type": "stream",
     "text": [
      "y\n"
     ]
    },
    {
     "name": "stderr",
     "output_type": "stream",
     "text": [
      "description : mega bloks call of duty mattel brutus\n",
      "price : 37.9\n",
      "\n",
      "description : mega bloks call of duty patrulheiros icaro - mattel\n",
      "price : 58.49\n",
      "\n",
      "8/10 positive, 7/10 negative\n",
      "Do these records refer to the same thing?\n",
      "(y)es / (n)o / (u)nsure / (f)inished / (p)revious\n"
     ]
    },
    {
     "name": "stdout",
     "output_type": "stream",
     "text": [
      "u\n"
     ]
    },
    {
     "name": "stderr",
     "output_type": "stream",
     "text": [
      "description : quebra - cabeca - 2000 pecas - disney - marvel - herois viloes - toyster\n",
      "price : 111.9\n",
      "\n",
      "description : livro - fazenda : livro adesivos quebra - cabeca - 9781848693630\n",
      "price : 54.9\n",
      "\n",
      "8/10 positive, 7/10 negative\n",
      "Do these records refer to the same thing?\n",
      "(y)es / (n)o / (u)nsure / (f)inished / (p)revious\n"
     ]
    },
    {
     "name": "stdout",
     "output_type": "stream",
     "text": [
      "n\n"
     ]
    },
    {
     "name": "stderr",
     "output_type": "stream",
     "text": [
      "description : saleiro porcelana 80 ml copacabana - 42256521 - germer - gmr 009\n",
      "price : 10.88\n",
      "\n",
      "description : xicara cha porcelana branca 215 ml pires plissan - 44593820 - germer - gmr 056\n",
      "price : 20.45\n",
      "\n",
      "8/10 positive, 8/10 negative\n",
      "Do these records refer to the same thing?\n",
      "(y)es / (n)o / (u)nsure / (f)inished / (p)revious\n"
     ]
    },
    {
     "name": "stdout",
     "output_type": "stream",
     "text": [
      "n\n"
     ]
    },
    {
     "name": "stderr",
     "output_type": "stream",
     "text": [
      "description : boneco max steel - modo turbo - mattel\n",
      "price : 39.99\n",
      "\n",
      "description : boneco max steel max cacador zumbi - mattel\n",
      "price : 39.99\n",
      "\n",
      "8/10 positive, 9/10 negative\n",
      "Do these records refer to the same thing?\n",
      "(y)es / (n)o / (u)nsure / (f)inished / (p)revious\n"
     ]
    },
    {
     "name": "stdout",
     "output_type": "stream",
     "text": [
      "n\n"
     ]
    },
    {
     "name": "stderr",
     "output_type": "stream",
     "text": [
      "description : mesa bistro opzione alta 0428 - 0 - 256 maxima verniz\n",
      "price : 689.9\n",
      "\n",
      "description : mesa bistro opzione alta 0428 - 0 - 884 maxima verniz imbuia / verde musgo\n",
      "price : 614.9\n",
      "\n",
      "8/10 positive, 10/10 negative\n",
      "Do these records refer to the same thing?\n",
      "(y)es / (n)o / (u)nsure / (f)inished / (p)revious\n"
     ]
    },
    {
     "name": "stdout",
     "output_type": "stream",
     "text": [
      "y\n"
     ]
    },
    {
     "name": "stderr",
     "output_type": "stream",
     "text": [
      "description : boneco articulado batman - 30 cm - liga justica - coringa - mattel\n",
      "price : 49.99\n",
      "\n",
      "description : boneco articulado - 30 cm - batman vs superman - aquaman - mattel\n",
      "price : 49.99\n",
      "\n",
      "9/10 positive, 10/10 negative\n",
      "Do these records refer to the same thing?\n",
      "(y)es / (n)o / (u)nsure / (f)inished / (p)revious\n"
     ]
    },
    {
     "name": "stdout",
     "output_type": "stream",
     "text": [
      "n\n"
     ]
    },
    {
     "name": "stderr",
     "output_type": "stream",
     "text": [
      "description : puff banqueta round 3 pes madeira corano rosa stay puff\n",
      "price : 219.99\n",
      "\n",
      "description : puff banqueta round 3 pes madeira corano rosa - markine mobilier\n",
      "price : 232.9\n",
      "\n",
      "9/10 positive, 11/10 negative\n",
      "Do these records refer to the same thing?\n",
      "(y)es / (n)o / (u)nsure / (f)inished / (p)revious\n"
     ]
    },
    {
     "name": "stdout",
     "output_type": "stream",
     "text": [
      "y\n"
     ]
    },
    {
     "name": "stderr",
     "output_type": "stream",
     "text": [
      "description : mesa bistro opzione alta 0428 - 0 - 128 maxima verniz\n",
      "price : 689.9\n",
      "\n",
      "description : mesa bistro opzione alta 0428 - 0 - 128 maxima verniz imbuia / lilas\n",
      "price : 614.9\n",
      "\n",
      "10/10 positive, 11/10 negative\n",
      "Do these records refer to the same thing?\n",
      "(y)es / (n)o / (u)nsure / (f)inished / (p)revious\n"
     ]
    },
    {
     "name": "stdout",
     "output_type": "stream",
     "text": [
      "y\n"
     ]
    },
    {
     "name": "stderr",
     "output_type": "stream",
     "text": [
      "description : lego city demolition escavadora caminhao - 311 pecas\n",
      "price : 339.0\n",
      "\n",
      "description : lego city demolition escavadora caminhao\n",
      "price : 349.99\n",
      "\n",
      "11/10 positive, 11/10 negative\n",
      "Do these records refer to the same thing?\n",
      "(y)es / (n)o / (u)nsure / (f)inished / (p)revious\n"
     ]
    },
    {
     "name": "stdout",
     "output_type": "stream",
     "text": [
      "y\n"
     ]
    },
    {
     "name": "stderr",
     "output_type": "stream",
     "text": [
      "description : guarda - roupa sonho encantado 2 portas 2 gavetas - henn\n",
      "price : 518.8\n",
      "\n",
      "description : guarda - roupa 2 portas 3 gavetas exclusive branco m126 - 05 henn\n",
      "price : 589.9\n",
      "\n",
      "12/10 positive, 11/10 negative\n",
      "Do these records refer to the same thing?\n",
      "(y)es / (n)o / (u)nsure / (f)inished / (p)revious\n"
     ]
    },
    {
     "name": "stdout",
     "output_type": "stream",
     "text": [
      "n\n"
     ]
    },
    {
     "name": "stderr",
     "output_type": "stream",
     "text": [
      "description : cadeira 0951 - 0 - 301 dumon maxima cacau / rosa bebe\n",
      "price : 404.9\n",
      "\n",
      "description : minibar canyon 0682 - 0 - 301 maxima cacau / rosa bebe\n",
      "price : 849.9\n",
      "\n",
      "12/10 positive, 12/10 negative\n",
      "Do these records refer to the same thing?\n",
      "(y)es / (n)o / (u)nsure / (f)inished / (p)revious\n"
     ]
    },
    {
     "name": "stdout",
     "output_type": "stream",
     "text": [
      "f\n"
     ]
    },
    {
     "name": "stderr",
     "output_type": "stream",
     "text": [
      "Finished labeling\n"
     ]
    }
   ],
   "source": [
    "linker = dedupe.RecordLink(fields)\n",
    "linker.sample(p, w)\n",
    "dedupe.consoleLabel(linker)"
   ]
  },
  {
   "cell_type": "code",
   "execution_count": 44,
   "metadata": {},
   "outputs": [
    {
     "name": "stderr",
     "output_type": "stream",
     "text": [
      "INFO:rlr.crossvalidation:using cross validation to find optimum alpha...\n",
      "INFO:rlr.crossvalidation:optimum alpha: 0.010000\n",
      "INFO:dedupe.blocking:Canopy: TfidfTextSearchPredicate: (0.2, description)\n",
      "INFO:dedupe.blocking:Canopy: TfidfTextSearchPredicate: (0.4, description)\n",
      "INFO:dedupe.blocking:Canopy: TfidfTextSearchPredicate: (0.8, description)\n",
      "INFO:dedupe.blocking:Canopy: TfidfTextSearchPredicate: (0.6, description)\n",
      "INFO:dedupe.blocking:Canopy: LevenshteinSearchPredicate: (4, description)\n",
      "INFO:dedupe.blocking:Canopy: LevenshteinSearchPredicate: (3, description)\n",
      "INFO:dedupe.blocking:Canopy: LevenshteinSearchPredicate: (2, description)\n",
      "INFO:dedupe.blocking:Canopy: LevenshteinSearchPredicate: (1, description)\n",
      "INFO:dedupe.blocking:Canopy: TfidfTextSearchPredicate: (0.2, description)\n",
      "INFO:dedupe.blocking:Canopy: TfidfTextSearchPredicate: (0.4, description)\n",
      "INFO:dedupe.blocking:Canopy: TfidfTextSearchPredicate: (0.8, description)\n",
      "INFO:dedupe.blocking:Canopy: TfidfTextSearchPredicate: (0.6, description)\n",
      "INFO:dedupe.blocking:Canopy: LevenshteinSearchPredicate: (4, description)\n",
      "INFO:dedupe.blocking:Canopy: LevenshteinSearchPredicate: (3, description)\n",
      "INFO:dedupe.blocking:Canopy: LevenshteinSearchPredicate: (2, description)\n",
      "INFO:dedupe.blocking:Canopy: LevenshteinSearchPredicate: (1, description)\n",
      "INFO:dedupe.training:Final predicate set:\n",
      "INFO:dedupe.training:TfidfTextSearchPredicate: (0.8, description)\n"
     ]
    }
   ],
   "source": [
    "linker.train()"
   ]
  },
  {
   "cell_type": "code",
   "execution_count": 53,
   "metadata": {
    "scrolled": false
   },
   "outputs": [
    {
     "name": "stderr",
     "output_type": "stream",
     "text": [
      "INFO:dedupe.blocking:Canopy: TfidfTextSearchPredicate: (0.8, description)\n",
      "INFO:dedupe.blocking:10000, 2.0933752 seconds\n",
      "INFO:dedupe.api:0 records\n",
      "INFO:dedupe.blocking:10000, 0.6216122 seconds\n"
     ]
    }
   ],
   "source": [
    "m = linker.match(p,w, 0.89)"
   ]
  },
  {
   "cell_type": "code",
   "execution_count": 54,
   "metadata": {},
   "outputs": [
    {
     "data": {
      "text/plain": [
       "11"
      ]
     },
     "execution_count": 54,
     "metadata": {},
     "output_type": "execute_result"
    }
   ],
   "source": [
    "len(m)"
   ]
  },
  {
   "cell_type": "code",
   "execution_count": 55,
   "metadata": {
    "scrolled": false
   },
   "outputs": [
    {
     "name": "stdout",
     "output_type": "stream",
     "text": [
      "{'description': 'tatame eva 1cm 4 pecas azul 40100014 - mor', 'price': 84.78} {'description': 'tatame eva 1cm 4 pecas azul 40100014 - mor', 'price': 84.78}\n",
      "{'description': 'machadinha tomahawk machado taue kh518', 'price': 134.29} {'description': 'machadinha tomahawk machado taue kh518', 'price': 134.29}\n",
      "{'description': 'caneta limpeza lentes fotograficas', 'price': 59.06} {'description': 'caneta limpeza lentes fotograficas', 'price': 58.51}\n",
      "{'description': 'rack versatile - branco / vermelho', 'price': 653.33} {'description': 'rack versatile - branco / vermelho', 'price': 596.77}\n",
      "{'description': 'comoda infantil 4 gavetas doce sonho - qmovi branco', 'price': 256.12} {'description': 'comoda infantil 4 gavetas doce sonho branco - qmovi', 'price': 184.9}\n",
      "{'description': 'blocos encaixe 10 1 transforca lider 593 pecas xalingo', 'price': 201.2} {'description': 'blocos encaixe 10 1 transforca lider 593 pecas - xalingo', 'price': 190.61}\n",
      "{'description': 'jogo utensilios aco inox 4 pecas oslo tramontina', 'price': 177.87} {'description': 'jogo utensilios aco inox 4 pecas oslo - tramontina', 'price': 168.51}\n",
      "{'description': 'conjunto 2 cadeiras roque carraro nogueira / tec / retro metalizado', 'price': 189.9} {'description': 'conjunto 2 cadeiras roque carraro branco / tec / retro metalizado', 'price': 189.9}\n",
      "{'description': 'armario aereo aco casa mob 1 porta play 60cmx60cm amarelo curry', 'price': 229.9} {'description': 'armario aereo aco casa mob 1 porta play 35cmx1,20m amarelo curry', 'price': 224.9}\n",
      "{'description': 'caneca mario bros peach ii branco', 'price': 25.9} {'description': 'caneca mario bros peach ii', 'price': 24.6}\n",
      "{'description': 'boneco articulado - 15 cm - saban`s power rangers - blue ranger - sunny', 'price': 69.99} {'description': 'boneco articulado - 15 cm - saban s power rangers - yellow ranger - sunny', 'price': 69.99}\n"
     ]
    }
   ],
   "source": [
    "for i in m:\n",
    "    print(p[i[0][0]], w[i[0][1]])"
   ]
  },
  {
   "cell_type": "code",
   "execution_count": 16,
   "metadata": {},
   "outputs": [
    {
     "data": {
      "text/plain": [
       "10792"
      ]
     },
     "execution_count": 16,
     "metadata": {},
     "output_type": "execute_result"
    }
   ],
   "source": [
    "len(walmart)"
   ]
  },
  {
   "cell_type": "code",
   "execution_count": 17,
   "metadata": {},
   "outputs": [
    {
     "data": {
      "text/plain": [
       "11050"
      ]
     },
     "execution_count": 17,
     "metadata": {},
     "output_type": "execute_result"
    }
   ],
   "source": [
    "len(submarino)"
   ]
  },
  {
   "cell_type": "code",
   "execution_count": 52,
   "metadata": {},
   "outputs": [
    {
     "name": "stderr",
     "output_type": "stream",
     "text": [
      "INFO:dedupe.blocking:Canopy: TfidfTextSearchPredicate: (0.8, description)\n",
      "INFO:dedupe.blocking:10000, 2.1180942 seconds\n",
      "INFO:dedupe.api:0 records\n",
      "INFO:dedupe.blocking:10000, 0.6363432 seconds\n",
      "INFO:dedupe.api:Maximum expected recall and precision\n",
      "INFO:dedupe.api:recall: 0.185\n",
      "INFO:dedupe.api:precision: 0.933\n",
      "INFO:dedupe.api:With threshold: 0.890\n"
     ]
    },
    {
     "data": {
      "text/plain": [
       "0.89040464"
      ]
     },
     "execution_count": 52,
     "metadata": {},
     "output_type": "execute_result"
    }
   ],
   "source": [
    "linker.threshold(p,w, recall_weight=0.1)"
   ]
  },
  {
   "cell_type": "code",
   "execution_count": null,
   "metadata": {
    "collapsed": true
   },
   "outputs": [],
   "source": []
  }
 ],
 "metadata": {
  "kernelspec": {
   "display_name": "Python 3",
   "language": "python",
   "name": "python3"
  }
 },
 "nbformat": 4,
 "nbformat_minor": 2
}
