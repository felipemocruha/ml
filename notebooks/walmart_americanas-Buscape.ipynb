{
 "cells": [
  {
   "cell_type": "code",
   "execution_count": 24,
   "metadata": {
    "collapsed": true
   },
   "outputs": [],
   "source": [
    "import dedupe\n",
    "import json\n",
    "from cytoolz import *\n",
    "from copy import copy\n",
    "import re\n",
    "import nltk\n",
    "from bs4 import BeautifulSoup\n",
    "from nltk.tokenize import word_tokenize\n",
    "from urllib.parse import urlparse\n",
    "from unicodedata import normalize\n",
    "from sklearn.linear_model import SGDClassifier\n",
    "from sklearn.naive_bayes import MultinomialNB\n",
    "from sklearn.neural_network import MLPClassifier"
   ]
  },
  {
   "cell_type": "code",
   "execution_count": 2,
   "metadata": {
    "collapsed": true
   },
   "outputs": [],
   "source": [
    "fields = [{'field': 'description', 'variable name': 'description', 'type': 'String'},\n",
    "          {'field': 'price', 'variable name': 'price', 'type': 'Price'},\n",
    "          {'type': 'Interaction', 'interaction variables': ['description', 'price']}]\n",
    "\n",
    "\n",
    "def tokenize_url(url):\n",
    "    path = urlparse(url).path\n",
    "    path = path.replace('/', ' ')\n",
    "    path = path.replace('-', ' ')\n",
    "    return word_tokenize(path)\n",
    "\n",
    "\n",
    "def remove_accents(input_str):\n",
    "    return normalize('NFKD', input_str).encode('ascii', 'ignore').decode()\n",
    "\n",
    "\n",
    "def sanitize_string(input_str):\n",
    "    pattern = r'[?|&|!|@|#|;|*|~|(|)|´|^|\\r|\\n|\\t]'\n",
    "    price_pattern = r'[\\d]+\\.[\\d]+\\.[\\d]+'\n",
    "    \n",
    "    if re.match(price_pattern, input_str):\n",
    "        sep = input_str.rsplit('.')\n",
    "        return '{}.{}'.format(sep[0], sep[1])\n",
    "    \n",
    "    return clean_string(re.sub(pattern, r'', remove_accents(input_str.lower())))\n",
    "\n",
    "\n",
    "def clean_string(input_str):\n",
    "    unuseful = set(['confira', 'compre', 'oferta', 'novo',\n",
    "                    'preco', 'agora', 'melhores', 'aqui',\n",
    "                    'aproveite', 'menor', 'maior', 'encontra',\n",
    "                    'site', 'condicoes', 'ofertas', 'imbativeis',\n",
    "                    'vendas', 'online', 'novo', 'nova', 'tecnologia',\n",
    "                    'precos', 'pagamento', 'melhor', 'veja', 'encontre',\n",
    "                    'menores', 'vem', 'venha', 'ver'])\n",
    "\n",
    "    names = set(['walmart', 'walmart.com', 'shoptime', 'shoptime.com',\n",
    "                 'pontofrio', 'pontofrio.com', 'magazineluiza', 'magazineluiza.com',\n",
    "                 'magazine luiza', 'americanas', 'americanas.com', 'submarino',\n",
    "                 'submarino.com', 'extra', 'extra.com.br', 'casas bahia', 'casasbahia.com.br'])\n",
    "\n",
    "    stopwords = [remove_accents(s) for s in nltk.corpus.stopwords.words('portuguese')]\n",
    "    repl = list(concat([unuseful, names, stopwords]))\n",
    "    tk = word_tokenize(input_str)\n",
    "    return ' '.join([word for word in tk if word not in repl])\n",
    "\n",
    "\n",
    "def preprocess(item):\n",
    "    return {'description': sanitize_string(item['description']), 'price': float(sanitize_string(item['price']))}"
   ]
  },
  {
   "cell_type": "code",
   "execution_count": 3,
   "metadata": {
    "collapsed": true
   },
   "outputs": [],
   "source": [
    "with open('../data/walmart/buscape.json') as f:\n",
    "    walmart = [preprocess(dissoc(item, 'image')) for item in json.loads(f.read())['products']]"
   ]
  },
  {
   "cell_type": "code",
   "execution_count": 4,
   "metadata": {
    "collapsed": true
   },
   "outputs": [],
   "source": [
    "with open('../data/americanas/buscape.json') as f:\n",
    "    submarino = [preprocess(dissoc(item, 'image')) for item in json.loads(f.read())['products']]\n",
    "\n",
    "p = {str(i): walmart[i] for i in range(len(walmart))}\n",
    "w = {str(i): submarino[i] for i in range(len(submarino))}"
   ]
  },
  {
   "cell_type": "code",
   "execution_count": 11,
   "metadata": {
    "scrolled": true
   },
   "outputs": [
    {
     "name": "stderr",
     "output_type": "stream",
     "text": [
      "description : cadeira lis eames pp revestida tecido cinza\n",
      "price : 448.95\n",
      "\n",
      "description : cadeira jantar toda revestida couro ecologico or - 4401 or design branco 3513822\n",
      "price : 269.0\n",
      "\n",
      "0/10 positive, 0/10 negative\n",
      "Do these records refer to the same thing?\n",
      "(y)es / (n)o / (u)nsure / (f)inished\n"
     ]
    },
    {
     "name": "stdout",
     "output_type": "stream",
     "text": [
      "n\n"
     ]
    },
    {
     "name": "stderr",
     "output_type": "stream",
     "text": [
      "description : saida triya drapeada\n",
      "price : 179.99\n",
      "\n",
      "description : cortina esmeralda quarto sala 3,00m x 2,80m avela palha 3687606\n",
      "price : 179.99\n",
      "\n",
      "0/10 positive, 1/10 negative\n",
      "Do these records refer to the same thing?\n",
      "(y)es / (n)o / (u)nsure / (f)inished / (p)revious\n"
     ]
    },
    {
     "name": "stdout",
     "output_type": "stream",
     "text": [
      "n\n"
     ]
    },
    {
     "name": "stderr",
     "output_type": "stream",
     "text": [
      "description : escapamento turbo esportivo pro tork honda titan 150 2004 2008 esd + brinde\n",
      "price : 121.22\n",
      "\n",
      "description : escapamento turbo esportivo pro tork honda titan 150 2004 2008 esd + brinde 3582479\n",
      "price : 124.46\n",
      "\n",
      "0/10 positive, 2/10 negative\n",
      "Do these records refer to the same thing?\n",
      "(y)es / (n)o / (u)nsure / (f)inished / (p)revious\n"
     ]
    },
    {
     "name": "stdout",
     "output_type": "stream",
     "text": [
      "y\n"
     ]
    },
    {
     "name": "stderr",
     "output_type": "stream",
     "text": [
      "description : conjunto sala jantar mesa 6 cadeiras madesa marselha tabaco / suede perola bege / marrom\n",
      "price : 1399.9\n",
      "\n",
      "description : conjunto sala jantar mesa 6 cadeiras madesa marselha tabaco / suede perola bege / marrom 2345660\n",
      "price : 1399.9\n",
      "\n",
      "1/10 positive, 2/10 negative\n",
      "Do these records refer to the same thing?\n",
      "(y)es / (n)o / (u)nsure / (f)inished / (p)revious\n"
     ]
    },
    {
     "name": "stdout",
     "output_type": "stream",
     "text": [
      "y\n"
     ]
    },
    {
     "name": "stderr",
     "output_type": "stream",
     "text": [
      "description : vara pesca telescopica vitoria 4 m 4008 marine sports\n",
      "price : 33.9\n",
      "\n",
      "description : vara pesca telescopica vitoria 1.80 m 1804 marine sports 2185255\n",
      "price : 15.9\n",
      "\n",
      "2/10 positive, 2/10 negative\n",
      "Do these records refer to the same thing?\n",
      "(y)es / (n)o / (u)nsure / (f)inished / (p)revious\n"
     ]
    },
    {
     "name": "stdout",
     "output_type": "stream",
     "text": [
      "n\n"
     ]
    },
    {
     "name": "stderr",
     "output_type": "stream",
     "text": [
      "description : aplique cromado tampa combustivel gol 95 / 98 ser auto - 13002\n",
      "price : 17.86\n",
      "\n",
      "description : aplique cromado tampa combustivel fox 2003 1317908\n",
      "price : 20.9\n",
      "\n",
      "2/10 positive, 3/10 negative\n",
      "Do these records refer to the same thing?\n",
      "(y)es / (n)o / (u)nsure / (f)inished / (p)revious\n"
     ]
    },
    {
     "name": "stdout",
     "output_type": "stream",
     "text": [
      "n\n"
     ]
    },
    {
     "name": "stderr",
     "output_type": "stream",
     "text": [
      "description : mesa diana madeira summa - tramontina\n",
      "price : 449.82\n",
      "\n",
      "description : mesa diana madeira summa tramontina 3736078\n",
      "price : 461.76\n",
      "\n",
      "2/10 positive, 4/10 negative\n",
      "Do these records refer to the same thing?\n",
      "(y)es / (n)o / (u)nsure / (f)inished / (p)revious\n"
     ]
    },
    {
     "name": "stdout",
     "output_type": "stream",
     "text": [
      "y\n"
     ]
    },
    {
     "name": "stderr",
     "output_type": "stream",
     "text": [
      "description : moldura interruptor vidro redonda simples porta dianteira traseira cinza universal uso geral\n",
      "price : 12.01\n",
      "\n",
      "description : moldura interruptor vidro redonda simples porta dianteira traseira preto universal uso geral 3679570\n",
      "price : 12.01\n",
      "\n",
      "3/10 positive, 4/10 negative\n",
      "Do these records refer to the same thing?\n",
      "(y)es / (n)o / (u)nsure / (f)inished / (p)revious\n"
     ]
    },
    {
     "name": "stdout",
     "output_type": "stream",
     "text": [
      "y\n"
     ]
    },
    {
     "name": "stderr",
     "output_type": "stream",
     "text": [
      "description : jogo mesa 70 70 heineken 2 cadeiras santa fe mel - moveis parana\n",
      "price : 892.9\n",
      "\n",
      "description : jogo mesa 70 70 heineken 4 cadeiras pamplona mel - moveis parana 3489124\n",
      "price : 1339.87\n",
      "\n",
      "4/10 positive, 4/10 negative\n",
      "Do these records refer to the same thing?\n",
      "(y)es / (n)o / (u)nsure / (f)inished / (p)revious\n"
     ]
    },
    {
     "name": "stdout",
     "output_type": "stream",
     "text": [
      "n\n"
     ]
    },
    {
     "name": "stderr",
     "output_type": "stream",
     "text": [
      "description : bolsa termica ice cooler 24 litros cinza - mor\n",
      "price : 65.9\n",
      "\n",
      "description : bolsa termica ice cooler 24 litros 01 divisoria bolso lateral mor 476362\n",
      "price : 71.9\n",
      "\n",
      "4/10 positive, 5/10 negative\n",
      "Do these records refer to the same thing?\n",
      "(y)es / (n)o / (u)nsure / (f)inished / (p)revious\n"
     ]
    },
    {
     "name": "stdout",
     "output_type": "stream",
     "text": [
      "y\n"
     ]
    },
    {
     "name": "stderr",
     "output_type": "stream",
     "text": [
      "description : cadeira 1717 cromada 04 unidades cacau carraro\n",
      "price : 602.0\n",
      "\n",
      "description : cadeira 1709 cromada 04 unidades napa cacau carraro 2897171\n",
      "price : 695.63\n",
      "\n",
      "5/10 positive, 5/10 negative\n",
      "Do these records refer to the same thing?\n",
      "(y)es / (n)o / (u)nsure / (f)inished / (p)revious\n"
     ]
    },
    {
     "name": "stdout",
     "output_type": "stream",
     "text": [
      "n\n"
     ]
    },
    {
     "name": "stderr",
     "output_type": "stream",
     "text": [
      "description : mesa bar alta cor stain jatoba\n",
      "price : 608.4\n",
      "\n",
      "description : cadeira bar alta cor stain jatoba 15644 3168782\n",
      "price : 445.36\n",
      "\n",
      "5/10 positive, 6/10 negative\n",
      "Do these records refer to the same thing?\n",
      "(y)es / (n)o / (u)nsure / (f)inished / (p)revious\n"
     ]
    },
    {
     "name": "stdout",
     "output_type": "stream",
     "text": [
      "n\n"
     ]
    },
    {
     "name": "stderr",
     "output_type": "stream",
     "text": [
      "description : balcao pia 3 portas 2 gavetas elis tampo branco / amendoa - glamy\n",
      "price : 417.58\n",
      "\n",
      "description : balcao pia 3 portas 2 gavetas elis tampo branco / gold - glamy - 83,00 x 120,00 x 51,00 3507856\n",
      "price : 395.0\n",
      "\n",
      "5/10 positive, 7/10 negative\n",
      "Do these records refer to the same thing?\n",
      "(y)es / (n)o / (u)nsure / (f)inished / (p)revious\n"
     ]
    },
    {
     "name": "stdout",
     "output_type": "stream",
     "text": [
      "n\n"
     ]
    },
    {
     "name": "stderr",
     "output_type": "stream",
     "text": [
      "description : mesa lateral kenzo 4152 santana - knr moveis\n",
      "price : 269.12\n",
      "\n",
      "description : mesa lateral kenzo 4152 santana knr moveis 3839115\n",
      "price : 269.12\n",
      "\n",
      "5/10 positive, 8/10 negative\n",
      "Do these records refer to the same thing?\n",
      "(y)es / (n)o / (u)nsure / (f)inished / (p)revious\n"
     ]
    },
    {
     "name": "stdout",
     "output_type": "stream",
     "text": [
      "y\n"
     ]
    },
    {
     "name": "stderr",
     "output_type": "stream",
     "text": [
      "description : jogo 2 cadeiras fixa c - 694 premium preto\n",
      "price : 542.9\n",
      "\n",
      "description : jogo 2 cadeiras fixa c - 724 premium preto 3825317\n",
      "price : 412.9\n",
      "\n",
      "6/10 positive, 8/10 negative\n",
      "Do these records refer to the same thing?\n",
      "(y)es / (n)o / (u)nsure / (f)inished / (p)revious\n"
     ]
    },
    {
     "name": "stdout",
     "output_type": "stream",
     "text": [
      "n\n"
     ]
    },
    {
     "name": "stderr",
     "output_type": "stream",
     "text": [
      "description : interface desbloqueio tela vw golf 2014 2016 faaftech ft - video - lvds aud3\n",
      "price : 1679.0\n",
      "\n",
      "description : interface desbloqueio tela vw golf 2014 2016 faaftech ft video lvds aud3 3796527\n",
      "price : 1678.98\n",
      "\n",
      "6/10 positive, 9/10 negative\n",
      "Do these records refer to the same thing?\n",
      "(y)es / (n)o / (u)nsure / (f)inished / (p)revious\n"
     ]
    },
    {
     "name": "stdout",
     "output_type": "stream",
     "text": [
      "y\n"
     ]
    },
    {
     "name": "stderr",
     "output_type": "stream",
     "text": [
      "description : cadeira relic preto\n",
      "price : 329.99\n",
      "\n",
      "description : cadeira relic preta 2955881\n",
      "price : 353.58\n",
      "\n",
      "7/10 positive, 9/10 negative\n",
      "Do these records refer to the same thing?\n",
      "(y)es / (n)o / (u)nsure / (f)inished / (p)revious\n"
     ]
    },
    {
     "name": "stdout",
     "output_type": "stream",
     "text": [
      "y\n"
     ]
    },
    {
     "name": "stderr",
     "output_type": "stream",
     "text": [
      "description : cadeira 026 cromada 04 unidades branca carraro\n",
      "price : 359.59\n",
      "\n",
      "description : cadeira 357 cromada 04 unidades branca carraro 3897508\n",
      "price : 645.51\n",
      "\n",
      "8/10 positive, 9/10 negative\n",
      "Do these records refer to the same thing?\n",
      "(y)es / (n)o / (u)nsure / (f)inished / (p)revious\n"
     ]
    },
    {
     "name": "stdout",
     "output_type": "stream",
     "text": [
      "n\n"
     ]
    },
    {
     "name": "stderr",
     "output_type": "stream",
     "text": [
      "description : cadeira 190 cromada 04 unidades fantasia branco carraro\n",
      "price : 635.76\n",
      "\n",
      "description : cadeira 1717 cromada 02 unidades fantasia branco carraro 2897222\n",
      "price : 280.0\n",
      "\n",
      "8/10 positive, 10/10 negative\n",
      "Do these records refer to the same thing?\n",
      "(y)es / (n)o / (u)nsure / (f)inished / (p)revious\n"
     ]
    },
    {
     "name": "stdout",
     "output_type": "stream",
     "text": [
      "n\n"
     ]
    },
    {
     "name": "stderr",
     "output_type": "stream",
     "text": [
      "description : pinhao 13 dentes yamaha dt200 l ano 1985 - vaz\n",
      "price : 49.74\n",
      "\n",
      "description : pinhao 13 dentes yamaha dt200 l ano 1985 vaz 3784919\n",
      "price : 54.26\n",
      "\n",
      "8/10 positive, 11/10 negative\n",
      "Do these records refer to the same thing?\n",
      "(y)es / (n)o / (u)nsure / (f)inished / (p)revious\n"
     ]
    },
    {
     "name": "stdout",
     "output_type": "stream",
     "text": [
      "y\n"
     ]
    },
    {
     "name": "stderr",
     "output_type": "stream",
     "text": [
      "description : espelho auxiliar redondo universal 75mm\n",
      "price : 8.15\n",
      "\n",
      "description : espelho auxiliar redondo universal 50mm 4024925\n",
      "price : 6.08\n",
      "\n",
      "9/10 positive, 11/10 negative\n",
      "Do these records refer to the same thing?\n",
      "(y)es / (n)o / (u)nsure / (f)inished / (p)revious\n"
     ]
    },
    {
     "name": "stdout",
     "output_type": "stream",
     "text": [
      "n\n"
     ]
    },
    {
     "name": "stderr",
     "output_type": "stream",
     "text": [
      "description : rack teto thule wingbar aluminio subaru impreza , 4 - p sedan , 07 - 11\n",
      "price : 1814.0\n",
      "\n",
      "description : rack teto thule wingbar aluminio subaru impreza 4 - p sedan 07 - 11 4095956\n",
      "price : 1813.98\n",
      "\n",
      "9/10 positive, 12/10 negative\n",
      "Do these records refer to the same thing?\n",
      "(y)es / (n)o / (u)nsure / (f)inished / (p)revious\n"
     ]
    },
    {
     "name": "stdout",
     "output_type": "stream",
     "text": [
      "y\n"
     ]
    },
    {
     "name": "stderr",
     "output_type": "stream",
     "text": [
      "description : jogo 2 cadeiras fixa c - 728 premium preto\n",
      "price : 489.9\n",
      "\n",
      "description : jogo 2 cadeiras fixa c - 694 premium preto 3825366\n",
      "price : 542.9\n",
      "\n",
      "10/10 positive, 12/10 negative\n",
      "Do these records refer to the same thing?\n",
      "(y)es / (n)o / (u)nsure / (f)inished / (p)revious\n"
     ]
    },
    {
     "name": "stdout",
     "output_type": "stream",
     "text": [
      "n\n"
     ]
    },
    {
     "name": "stderr",
     "output_type": "stream",
     "text": [
      "description : cadeira 1717 cromada 04 unidades branca carraro\n",
      "price : 602.0\n",
      "\n",
      "description : cadeira 357 cromada 04 unidades branca carraro 3897508\n",
      "price : 645.51\n",
      "\n",
      "10/10 positive, 13/10 negative\n",
      "Do these records refer to the same thing?\n",
      "(y)es / (n)o / (u)nsure / (f)inished / (p)revious\n"
     ]
    },
    {
     "name": "stdout",
     "output_type": "stream",
     "text": [
      "n\n"
     ]
    },
    {
     "name": "stderr",
     "output_type": "stream",
     "text": [
      "description : jogo 2 cadeiras fixa c - 694 premium preto\n",
      "price : 542.9\n",
      "\n",
      "description : jogo 2 cadeiras fixa c - 728 premium preto 3825249\n",
      "price : 489.9\n",
      "\n",
      "10/10 positive, 14/10 negative\n",
      "Do these records refer to the same thing?\n",
      "(y)es / (n)o / (u)nsure / (f)inished / (p)revious\n"
     ]
    },
    {
     "name": "stdout",
     "output_type": "stream",
     "text": [
      "n\n"
     ]
    },
    {
     "name": "stderr",
     "output_type": "stream",
     "text": [
      "description : molinete altima 4000 sistema balanceado marine sports\n",
      "price : 101.9\n",
      "\n",
      "description : molinete altima 5000 sistema balanceado marine sports 2186391\n",
      "price : 145.9\n",
      "\n",
      "10/10 positive, 15/10 negative\n",
      "Do these records refer to the same thing?\n",
      "(y)es / (n)o / (u)nsure / (f)inished / (p)revious\n"
     ]
    },
    {
     "name": "stdout",
     "output_type": "stream",
     "text": [
      "n\n"
     ]
    },
    {
     "name": "stderr",
     "output_type": "stream",
     "text": [
      "description : molinete pesca force 4000 3 rolamentos marine sports\n",
      "price : 70.9\n",
      "\n",
      "description : molinete pesca force 2000 3 rolamentos marine sports 2187249\n",
      "price : 63.9\n",
      "\n",
      "10/10 positive, 16/10 negative\n",
      "Do these records refer to the same thing?\n",
      "(y)es / (n)o / (u)nsure / (f)inished / (p)revious\n"
     ]
    },
    {
     "name": "stdout",
     "output_type": "stream",
     "text": [
      "n\n"
     ]
    },
    {
     "name": "stderr",
     "output_type": "stream",
     "text": [
      "description : kit amortecedor dianteiro axios br10004402513 c3 03 / partir 2003 cada 01 unidade\n",
      "price : 27.62\n",
      "\n",
      "description : kit amortecedor dianteiro axios br10004402513 c3 03 / partir 2003 cada 01 unidade 3862590\n",
      "price : 27.62\n",
      "\n",
      "10/10 positive, 17/10 negative\n",
      "Do these records refer to the same thing?\n",
      "(y)es / (n)o / (u)nsure / (f)inished / (p)revious\n"
     ]
    },
    {
     "name": "stdout",
     "output_type": "stream",
     "text": [
      "y\n"
     ]
    },
    {
     "name": "stderr",
     "output_type": "stream",
     "text": [
      "description : kit completo suspensao rosca tebao molas preparadas c4 09 14 pallas 08 13 hatch 04 14 v\n",
      "price : 799.9\n",
      "\n",
      "description : kit completo suspensao rosca tebao molas preparadas c4 09 14 pallas 08 13 hatch 04 14 v 3922882\n",
      "price : 799.9\n",
      "\n",
      "11/10 positive, 17/10 negative\n",
      "Do these records refer to the same thing?\n",
      "(y)es / (n)o / (u)nsure / (f)inished / (p)revious\n"
     ]
    },
    {
     "name": "stdout",
     "output_type": "stream",
     "text": [
      "y\n"
     ]
    },
    {
     "name": "stderr",
     "output_type": "stream",
     "text": [
      "description : jogo 2 cadeiras fixa c - 694 premium branco\n",
      "price : 542.9\n",
      "\n",
      "description : jogo 2 cadeiras fixa c - 694 premium branco 3825311\n",
      "price : 542.9\n",
      "\n",
      "12/10 positive, 17/10 negative\n",
      "Do these records refer to the same thing?\n",
      "(y)es / (n)o / (u)nsure / (f)inished / (p)revious\n"
     ]
    },
    {
     "name": "stdout",
     "output_type": "stream",
     "text": [
      "y\n"
     ]
    },
    {
     "name": "stderr",
     "output_type": "stream",
     "text": [
      "description : bucha caixa direcao npm npm - 25.202.a4 ford escort / verona 1.6 93 / 96 central cada unidade\n",
      "price : 11.9\n",
      "\n",
      "description : bucha caixa direcao npm npm - 25.202.a4 ford escort / verona 1.6 93 / 96 central cada 01 unidade 3873298\n",
      "price : 11.22\n",
      "\n",
      "13/10 positive, 17/10 negative\n",
      "Do these records refer to the same thing?\n",
      "(y)es / (n)o / (u)nsure / (f)inished / (p)revious\n"
     ]
    },
    {
     "name": "stdout",
     "output_type": "stream",
     "text": [
      "y\n"
     ]
    },
    {
     "name": "stderr",
     "output_type": "stream",
     "text": [
      "description : canaleta alternativo opala diplomata 1985 1990 4 portas preta - jogo\n",
      "price : 128.0\n",
      "\n",
      "description : canaleta alternativo opala diplomata 1985 1990 4 portas preta jogo 3889373\n",
      "price : 128.0\n",
      "\n",
      "14/10 positive, 17/10 negative\n",
      "Do these records refer to the same thing?\n",
      "(y)es / (n)o / (u)nsure / (f)inished / (p)revious\n"
     ]
    },
    {
     "name": "stdout",
     "output_type": "stream",
     "text": [
      "y\n"
     ]
    },
    {
     "name": "stderr",
     "output_type": "stream",
     "text": [
      "description : jogo 2 cadeiras fixa c - 728 premium preto\n",
      "price : 489.9\n",
      "\n",
      "description : jogo 2 cadeiras fixa c - 695 premium preto 3825339\n",
      "price : 517.9\n",
      "\n",
      "15/10 positive, 17/10 negative\n",
      "Do these records refer to the same thing?\n",
      "(y)es / (n)o / (u)nsure / (f)inished / (p)revious\n"
     ]
    },
    {
     "name": "stdout",
     "output_type": "stream",
     "text": [
      "f\n"
     ]
    },
    {
     "name": "stderr",
     "output_type": "stream",
     "text": [
      "Finished labeling\n"
     ]
    }
   ],
   "source": [
    "# training support vector machine\n",
    "linker = dedupe.RecordLink(fields)\n",
    "linker.classifier = SGDClassifier(loss='log')\n",
    "linker.sample(p, w)\n",
    "dedupe.consoleLabel(linker)"
   ]
  },
  {
   "cell_type": "code",
   "execution_count": 14,
   "metadata": {},
   "outputs": [
    {
     "name": "stderr",
     "output_type": "stream",
     "text": [
      "INFO:dedupe.blocking:Canopy: TfidfTextSearchPredicate: (0.4, description)\n",
      "INFO:dedupe.blocking:Canopy: TfidfTextSearchPredicate: (0.8, description)\n",
      "INFO:dedupe.blocking:Canopy: TfidfTextSearchPredicate: (0.2, description)\n",
      "INFO:dedupe.blocking:Canopy: TfidfTextSearchPredicate: (0.6, description)\n",
      "INFO:dedupe.blocking:Canopy: TfidfNGramSearchPredicate: (0.4, description)\n",
      "INFO:dedupe.blocking:Canopy: TfidfNGramSearchPredicate: (0.8, description)\n",
      "INFO:dedupe.blocking:Canopy: TfidfNGramSearchPredicate: (0.6, description)\n",
      "INFO:dedupe.blocking:Canopy: TfidfNGramSearchPredicate: (0.2, description)\n",
      "INFO:dedupe.blocking:Canopy: LevenshteinSearchPredicate: (2, description)\n",
      "INFO:dedupe.blocking:Canopy: LevenshteinSearchPredicate: (1, description)\n",
      "INFO:dedupe.blocking:Canopy: LevenshteinSearchPredicate: (4, description)\n",
      "INFO:dedupe.blocking:Canopy: LevenshteinSearchPredicate: (3, description)\n",
      "INFO:dedupe.blocking:Canopy: TfidfTextSearchPredicate: (0.4, description)\n",
      "INFO:dedupe.blocking:Canopy: TfidfTextSearchPredicate: (0.8, description)\n",
      "INFO:dedupe.blocking:Canopy: TfidfTextSearchPredicate: (0.2, description)\n",
      "INFO:dedupe.blocking:Canopy: TfidfTextSearchPredicate: (0.6, description)\n",
      "INFO:dedupe.blocking:Canopy: TfidfNGramSearchPredicate: (0.4, description)\n",
      "INFO:dedupe.blocking:Canopy: TfidfNGramSearchPredicate: (0.8, description)\n",
      "INFO:dedupe.blocking:Canopy: TfidfNGramSearchPredicate: (0.6, description)\n",
      "INFO:dedupe.blocking:Canopy: TfidfNGramSearchPredicate: (0.2, description)\n",
      "INFO:dedupe.blocking:Canopy: LevenshteinSearchPredicate: (2, description)\n",
      "INFO:dedupe.blocking:Canopy: LevenshteinSearchPredicate: (1, description)\n",
      "INFO:dedupe.blocking:Canopy: LevenshteinSearchPredicate: (4, description)\n",
      "INFO:dedupe.blocking:Canopy: LevenshteinSearchPredicate: (3, description)\n",
      "INFO:dedupe.training:Final predicate set:\n",
      "INFO:dedupe.training:(SimplePredicate: (firstTokenPredicate, description), TfidfNGramSearchPredicate: (0.6, description))\n"
     ]
    }
   ],
   "source": [
    "linker.train()"
   ]
  },
  {
   "cell_type": "code",
   "execution_count": 21,
   "metadata": {
    "scrolled": false
   },
   "outputs": [
    {
     "name": "stderr",
     "output_type": "stream",
     "text": [
      "INFO:dedupe.canopy_index:Removing stop word ir\n",
      "INFO:dedupe.canopy_index:Removing stop word ch\n",
      "INFO:dedupe.canopy_index:Removing stop word ci\n",
      "INFO:dedupe.blocking:Canopy: TfidfNGramSearchPredicate: (0.6, description)\n",
      "INFO:dedupe.blocking:10000, 3.8836272 seconds\n",
      "INFO:dedupe.api:0 records\n",
      "INFO:dedupe.blocking:10000, 5.7429342 seconds\n"
     ]
    }
   ],
   "source": [
    "m = linker.match(p,w, 0)"
   ]
  },
  {
   "cell_type": "code",
   "execution_count": 23,
   "metadata": {
    "scrolled": false
   },
   "outputs": [
    {
     "name": "stdout",
     "output_type": "stream",
     "text": [
      "{'description': 'guarnicao bomba combustivel courier 97 / 00 , ecosport 03 , ka 08 , fiesta 96 / 06 , focus 00 , new fiesta 12 dsc 3824908', 'price': 17.19} {'description': 'guarnicao bomba combustivel courier 97 / 00 , ecosport 03 , ka 08 , fiesta 96 / 06 , focus 00 , new', 'price': 17.19}\n",
      "{'description': 'pneu dunlop 235 / 75r15 104s grandtrek at3 3740001', 'price': 676.24} {'description': 'pneu dunlop 235 / 75r15 104s grandtrek at3', 'price': 676.24}\n",
      "{'description': 'pneu nexen 235 / 70r16 106s roat pro ra8 3739851', 'price': 647.03} {'description': 'pneu nexen 235 / 70r16 106s roat pro ra8', 'price': 647.03}\n",
      "{'description': 'kit coifa homocinetica cambio esquerdo rolamento golf , golf , golf , polo classic 1.8 3714147', 'price': 31.04} {'description': 'kit coifa homocinetica cambio direito rolamento golf , golf , golf , polo classic 1.8', 'price': 30.54}\n",
      "{'description': 'cadeado abus 585 75 upgrip chain preto 584589 2699610', 'price': 200.88} {'description': 'cadeado abus 585 / 75 upgrip chain preto 584589', 'price': 200.88}\n",
      "{'description': 'cadeado abus 560 / 65 ugripe cable branco 584756 2698648', 'price': 122.76} {'description': 'cadeado 560 / 65 ugrip cable branco 584756 abus', 'price': 122.76}\n",
      "{'description': 'kit amortecedor dianteiro npm npm - 30.700.s4 honda civic 1.4 / 1.5 / 1.6 / cada 01 unidade 3862465', 'price': 6.88} {'description': 'kit amortecedor traseiro npm npm - 30.701.s4 honda civic 1.4 / 1.5 / 1.6 / 1 cada unidade', 'price': 15.93}\n"
     ]
    }
   ],
   "source": [
    "for i in m:\n",
    "    print(p[i[0][0]], w[i[0][1]])"
   ]
  },
  {
   "cell_type": "code",
   "execution_count": 25,
   "metadata": {
    "scrolled": true
   },
   "outputs": [
    {
     "name": "stderr",
     "output_type": "stream",
     "text": [
      "description : cd medo - ruas\n",
      "price : 21.99\n",
      "\n",
      "description : corneta redonda 1 hl11 / 25 prata / preta jbl 3654627\n",
      "price : 71.84\n",
      "\n",
      "0/10 positive, 0/10 negative\n",
      "Do these records refer to the same thing?\n",
      "(y)es / (n)o / (u)nsure / (f)inished\n"
     ]
    },
    {
     "name": "stdout",
     "output_type": "stream",
     "text": [
      "n\n"
     ]
    },
    {
     "name": "stderr",
     "output_type": "stream",
     "text": [
      "description : interface volante renault symbol 2009 2014 via infra vermelho new ft - rn - ir\n",
      "price : 279.0\n",
      "\n",
      "description : interface volante toyota corolla 2009 2016 via infra vermelho ft ir 3795994\n",
      "price : 279.0\n",
      "\n",
      "0/10 positive, 1/10 negative\n",
      "Do these records refer to the same thing?\n",
      "(y)es / (n)o / (u)nsure / (f)inished / (p)revious\n"
     ]
    },
    {
     "name": "stdout",
     "output_type": "stream",
     "text": [
      "n\n"
     ]
    },
    {
     "name": "stderr",
     "output_type": "stream",
     "text": [
      "description : jogo 2 cadeiras fixa c - 728 premium branco\n",
      "price : 489.9\n",
      "\n",
      "description : jogo 2 cadeiras fixa c - 728 premium branco 3825323\n",
      "price : 489.9\n",
      "\n",
      "0/10 positive, 2/10 negative\n",
      "Do these records refer to the same thing?\n",
      "(y)es / (n)o / (u)nsure / (f)inished / (p)revious\n"
     ]
    },
    {
     "name": "stdout",
     "output_type": "stream",
     "text": [
      "y\n"
     ]
    },
    {
     "name": "stderr",
     "output_type": "stream",
     "text": [
      "description : kit completo suspensao rosca tebao molas preparadas fiesta 1996 2002 fiesta street 2001 2\n",
      "price : 799.9\n",
      "\n",
      "description : kit completo suspensao rosca tebao molas preparadas fiesta 1996 2002 fiesta street 2001 2 3922952\n",
      "price : 799.9\n",
      "\n",
      "1/10 positive, 2/10 negative\n",
      "Do these records refer to the same thing?\n",
      "(y)es / (n)o / (u)nsure / (f)inished / (p)revious\n"
     ]
    },
    {
     "name": "stdout",
     "output_type": "stream",
     "text": [
      "y\n"
     ]
    },
    {
     "name": "stderr",
     "output_type": "stream",
     "text": [
      "description : mesa diana madeira summa - tramontina\n",
      "price : 449.82\n",
      "\n",
      "description : mesa diana madeira summa tramontina 3736078\n",
      "price : 461.76\n",
      "\n",
      "2/10 positive, 2/10 negative\n",
      "Do these records refer to the same thing?\n",
      "(y)es / (n)o / (u)nsure / (f)inished / (p)revious\n"
     ]
    },
    {
     "name": "stdout",
     "output_type": "stream",
     "text": [
      "y\n"
     ]
    },
    {
     "name": "stderr",
     "output_type": "stream",
     "text": [
      "description : som automotivo mp3 player\n",
      "price : 115.9\n",
      "\n",
      "description : som automotivo usb p2 sd bluetooth multilaser p3319 4069554\n",
      "price : 140.5\n",
      "\n",
      "3/10 positive, 2/10 negative\n",
      "Do these records refer to the same thing?\n",
      "(y)es / (n)o / (u)nsure / (f)inished / (p)revious\n"
     ]
    },
    {
     "name": "stdout",
     "output_type": "stream",
     "text": [
      "u\n"
     ]
    },
    {
     "name": "stderr",
     "output_type": "stream",
     "text": [
      "description : princesas jogo cha - toyng\n",
      "price : 56.62\n",
      "\n",
      "description : par borracha multi uso premium porta preto borracha celta , corsa , ipanema , kadett , montana , monza , omega , prisma , classe , gol , saveiro 3763253\n",
      "price : 104.52\n",
      "\n",
      "3/10 positive, 2/10 negative\n",
      "Do these records refer to the same thing?\n",
      "(y)es / (n)o / (u)nsure / (f)inished / (p)revious\n"
     ]
    },
    {
     "name": "stdout",
     "output_type": "stream",
     "text": [
      "n\n"
     ]
    },
    {
     "name": "stderr",
     "output_type": "stream",
     "text": [
      "description : suporte gopro tubo\n",
      "price : 179.0\n",
      "\n",
      "description : suporte pratos talheres cod . 6659 3667066\n",
      "price : 259.25\n",
      "\n",
      "3/10 positive, 3/10 negative\n",
      "Do these records refer to the same thing?\n",
      "(y)es / (n)o / (u)nsure / (f)inished / (p)revious\n"
     ]
    },
    {
     "name": "stdout",
     "output_type": "stream",
     "text": [
      "n\n"
     ]
    },
    {
     "name": "stderr",
     "output_type": "stream",
     "text": [
      "description : kit completo suspensao rosca tebao molas preparadas corsa wagon 1997 2002\n",
      "price : 799.9\n",
      "\n",
      "description : kit completo suspensao rosca tebao molas preparadas meriva 2002 2012 3922606\n",
      "price : 799.9\n",
      "\n",
      "3/10 positive, 4/10 negative\n",
      "Do these records refer to the same thing?\n",
      "(y)es / (n)o / (u)nsure / (f)inished / (p)revious\n"
     ]
    },
    {
     "name": "stdout",
     "output_type": "stream",
     "text": [
      "n\n"
     ]
    },
    {
     "name": "stderr",
     "output_type": "stream",
     "text": [
      "description : maquina vidro mecanica , manual porta dianteira esquerdo bandeirante\n",
      "price : 63.1\n",
      "\n",
      "description : maquina vidro mecanica , manual porta dianteira esquerdo ford f12000 , f14000 , f16000 , f250 , f , 350 , f400098 3763390\n",
      "price : 174.5\n",
      "\n",
      "3/10 positive, 5/10 negative\n",
      "Do these records refer to the same thing?\n",
      "(y)es / (n)o / (u)nsure / (f)inished / (p)revious\n"
     ]
    },
    {
     "name": "stdout",
     "output_type": "stream",
     "text": [
      "n\n"
     ]
    },
    {
     "name": "stderr",
     "output_type": "stream",
     "text": [
      "description : anel pistao kit agrale 27.5 - kmp 1.00mm\n",
      "price : 51.98\n",
      "\n",
      "description : anel pistao kit agrale 27.5 kmp 1.00mm 1324554\n",
      "price : 57.76\n",
      "\n",
      "3/10 positive, 6/10 negative\n",
      "Do these records refer to the same thing?\n",
      "(y)es / (n)o / (u)nsure / (f)inished / (p)revious\n"
     ]
    },
    {
     "name": "stdout",
     "output_type": "stream",
     "text": [
      "y\n"
     ]
    },
    {
     "name": "stderr",
     "output_type": "stream",
     "text": [
      "description : espelho auxiliar redondo universal 75mm\n",
      "price : 8.15\n",
      "\n",
      "description : espelho auxiliar redondo universal 50mm 4024925\n",
      "price : 6.08\n",
      "\n",
      "4/10 positive, 6/10 negative\n",
      "Do these records refer to the same thing?\n",
      "(y)es / (n)o / (u)nsure / (f)inished / (p)revious\n"
     ]
    },
    {
     "name": "stdout",
     "output_type": "stream",
     "text": [
      "n\n"
     ]
    },
    {
     "name": "stderr",
     "output_type": "stream",
     "text": [
      "description : molinete pesca prisma 2000 5 rolamentos marine sports\n",
      "price : 61.9\n",
      "\n",
      "description : molinete pesca laguna 1000 5 rolamentos marine sports 2185802\n",
      "price : 47.9\n",
      "\n",
      "4/10 positive, 7/10 negative\n",
      "Do these records refer to the same thing?\n",
      "(y)es / (n)o / (u)nsure / (f)inished / (p)revious\n"
     ]
    },
    {
     "name": "stdout",
     "output_type": "stream",
     "text": [
      "n\n"
     ]
    },
    {
     "name": "stderr",
     "output_type": "stream",
     "text": [
      "description : canaleta alternativo opala diplomata 1985 1990 4 portas preta - jogo\n",
      "price : 128.0\n",
      "\n",
      "description : canaleta alternativo opala diplomata 1985 1990 4 portas preta jogo 3889373\n",
      "price : 128.0\n",
      "\n",
      "4/10 positive, 8/10 negative\n",
      "Do these records refer to the same thing?\n",
      "(y)es / (n)o / (u)nsure / (f)inished / (p)revious\n"
     ]
    },
    {
     "name": "stdout",
     "output_type": "stream",
     "text": [
      "y\n"
     ]
    },
    {
     "name": "stderr",
     "output_type": "stream",
     "text": [
      "description : molinete pesca force 3000 3 rolamentos marine sports\n",
      "price : 68.9\n",
      "\n",
      "description : molinete pesca force 2000 3 rolamentos marine sports 2187249\n",
      "price : 63.9\n",
      "\n",
      "5/10 positive, 8/10 negative\n",
      "Do these records refer to the same thing?\n",
      "(y)es / (n)o / (u)nsure / (f)inished / (p)revious\n"
     ]
    },
    {
     "name": "stdout",
     "output_type": "stream",
     "text": [
      "n\n"
     ]
    },
    {
     "name": "stderr",
     "output_type": "stream",
     "text": [
      "description : jogo 2 cadeiras fixa c - 694 premium preto\n",
      "price : 542.9\n",
      "\n",
      "description : jogo 2 cadeiras fixa c - 728 premium preto 3825249\n",
      "price : 489.9\n",
      "\n",
      "5/10 positive, 9/10 negative\n",
      "Do these records refer to the same thing?\n",
      "(y)es / (n)o / (u)nsure / (f)inished / (p)revious\n"
     ]
    },
    {
     "name": "stdout",
     "output_type": "stream",
     "text": [
      "n\n"
     ]
    },
    {
     "name": "stderr",
     "output_type": "stream",
     "text": [
      "description : molinete ms carretel aluminio xt - 2000 marine sports\n",
      "price : 97.9\n",
      "\n",
      "description : molinete ms carretel aluminio xt - 4000 marine sports 2187281\n",
      "price : 90.9\n",
      "\n",
      "5/10 positive, 10/10 negative\n",
      "Do these records refer to the same thing?\n",
      "(y)es / (n)o / (u)nsure / (f)inished / (p)revious\n"
     ]
    },
    {
     "name": "stdout",
     "output_type": "stream",
     "text": [
      "n\n"
     ]
    },
    {
     "name": "stderr",
     "output_type": "stream",
     "text": [
      "description : conjunto sala jantar mesa 6 cadeiras madesa marselha tabaco / suede perola bege / marrom\n",
      "price : 1399.9\n",
      "\n",
      "description : conjunto sala jantar mesa 6 cadeiras madesa marselha tabaco / suede perola bege / marrom 2345660\n",
      "price : 1399.9\n",
      "\n",
      "5/10 positive, 11/10 negative\n",
      "Do these records refer to the same thing?\n",
      "(y)es / (n)o / (u)nsure / (f)inished / (p)revious\n"
     ]
    },
    {
     "name": "stdout",
     "output_type": "stream",
     "text": [
      "y\n"
     ]
    },
    {
     "name": "stderr",
     "output_type": "stream",
     "text": [
      "description : kit completo suspensao rosca tebao molas preparadas c4 09 14 pallas 08 13 hatch 04 14 v\n",
      "price : 799.9\n",
      "\n",
      "description : kit completo suspensao rosca tebao molas preparadas c4 09 14 pallas 08 13 hatch 04 14 v 3922882\n",
      "price : 799.9\n",
      "\n",
      "6/10 positive, 11/10 negative\n",
      "Do these records refer to the same thing?\n",
      "(y)es / (n)o / (u)nsure / (f)inished / (p)revious\n"
     ]
    },
    {
     "name": "stdout",
     "output_type": "stream",
     "text": [
      "y\n"
     ]
    },
    {
     "name": "stderr",
     "output_type": "stream",
     "text": [
      "description : kit amortecedor dianteiro axios br10004402513 c3 03 / partir 2003 cada 01 unidade\n",
      "price : 27.62\n",
      "\n",
      "description : kit amortecedor dianteiro axios br10004402513 c3 03 / partir 2003 cada 01 unidade 3862590\n",
      "price : 27.62\n",
      "\n",
      "7/10 positive, 11/10 negative\n",
      "Do these records refer to the same thing?\n",
      "(y)es / (n)o / (u)nsure / (f)inished / (p)revious\n"
     ]
    },
    {
     "name": "stdout",
     "output_type": "stream",
     "text": [
      "y\n"
     ]
    },
    {
     "name": "stderr",
     "output_type": "stream",
     "text": [
      "description : jogo 2 cadeiras fixa c - 694 premium preto\n",
      "price : 542.9\n",
      "\n",
      "description : jogo 2 cadeiras fixa c - 695 premium preto 3825339\n",
      "price : 517.9\n",
      "\n",
      "8/10 positive, 11/10 negative\n",
      "Do these records refer to the same thing?\n",
      "(y)es / (n)o / (u)nsure / (f)inished / (p)revious\n"
     ]
    },
    {
     "name": "stdout",
     "output_type": "stream",
     "text": [
      "n\n"
     ]
    },
    {
     "name": "stderr",
     "output_type": "stream",
     "text": [
      "description : jogo 2 cadeiras fixa c - 724 premium branco\n",
      "price : 412.9\n",
      "\n",
      "description : jogo 2 cadeiras fixa c - 694 premium branco 3825311\n",
      "price : 542.9\n",
      "\n",
      "8/10 positive, 12/10 negative\n",
      "Do these records refer to the same thing?\n",
      "(y)es / (n)o / (u)nsure / (f)inished / (p)revious\n"
     ]
    },
    {
     "name": "stdout",
     "output_type": "stream",
     "text": [
      "n\n"
     ]
    },
    {
     "name": "stderr",
     "output_type": "stream",
     "text": [
      "description : jogo mesa 70 70 brahma 4 cadeiras camboriu mel - moveis parana\n",
      "price : 1082.9\n",
      "\n",
      "description : jogo mesa 70 70 brahma 2 cadeiras camboriu mel - moveis parana 3489098\n",
      "price : 839.9\n",
      "\n",
      "8/10 positive, 13/10 negative\n",
      "Do these records refer to the same thing?\n",
      "(y)es / (n)o / (u)nsure / (f)inished / (p)revious\n"
     ]
    },
    {
     "name": "stdout",
     "output_type": "stream",
     "text": [
      "n\n"
     ]
    },
    {
     "name": "stderr",
     "output_type": "stream",
     "text": [
      "description : jogo mesa redonda heineken 2 cadeiras ipanema mel - moveis parana\n",
      "price : 826.4\n",
      "\n",
      "description : jogo mesa redonda heineken 2 cadeiras ipanema mel - moveis parana 3489152\n",
      "price : 869.89\n",
      "\n",
      "8/10 positive, 14/10 negative\n",
      "Do these records refer to the same thing?\n",
      "(y)es / (n)o / (u)nsure / (f)inished / (p)revious\n"
     ]
    },
    {
     "name": "stdout",
     "output_type": "stream",
     "text": [
      "y\n"
     ]
    },
    {
     "name": "stderr",
     "output_type": "stream",
     "text": [
      "description : calco macaneta externa porta dianteira direito scania serie iv , serie v98\n",
      "price : 150.48\n",
      "\n",
      "description : calco macaneta externa porta dianteira direito scania serie iv , serie v98 3743143\n",
      "price : 150.48\n",
      "\n",
      "9/10 positive, 14/10 negative\n",
      "Do these records refer to the same thing?\n",
      "(y)es / (n)o / (u)nsure / (f)inished / (p)revious\n"
     ]
    },
    {
     "name": "stdout",
     "output_type": "stream",
     "text": [
      "y\n"
     ]
    },
    {
     "name": "stderr",
     "output_type": "stream",
     "text": [
      "description : punisher nemesis justiceiro funko pop marvel\n",
      "price : 95.9\n",
      "\n",
      "description : punisher nemesis justiceiro funko pop marvel 3378497\n",
      "price : 102.9\n",
      "\n",
      "10/10 positive, 14/10 negative\n",
      "Do these records refer to the same thing?\n",
      "(y)es / (n)o / (u)nsure / (f)inished / (p)revious\n"
     ]
    },
    {
     "name": "stdout",
     "output_type": "stream",
     "text": [
      "y\n"
     ]
    },
    {
     "name": "stderr",
     "output_type": "stream",
     "text": [
      "description : bucha caixa direcao npm npm - 25.202.a4 ford escort / verona 1.6 93 / 96 central cada unidade\n",
      "price : 11.9\n",
      "\n",
      "description : bucha caixa direcao npm npm - 25.202.a4 ford escort / verona 1.6 93 / 96 central cada 01 unidade 3873298\n",
      "price : 11.22\n",
      "\n",
      "11/10 positive, 14/10 negative\n",
      "Do these records refer to the same thing?\n",
      "(y)es / (n)o / (u)nsure / (f)inished / (p)revious\n"
     ]
    },
    {
     "name": "stdout",
     "output_type": "stream",
     "text": [
      "y\n"
     ]
    },
    {
     "name": "stderr",
     "output_type": "stream",
     "text": [
      "description : moldura interruptor vidro redonda simples porta dianteira traseira cinza universal uso geral\n",
      "price : 12.01\n",
      "\n",
      "description : moldura interruptor vidro redonda simples porta dianteira traseira preto universal uso geral 3679570\n",
      "price : 12.01\n",
      "\n",
      "12/10 positive, 14/10 negative\n",
      "Do these records refer to the same thing?\n",
      "(y)es / (n)o / (u)nsure / (f)inished / (p)revious\n"
     ]
    },
    {
     "name": "stdout",
     "output_type": "stream",
     "text": [
      "y\n"
     ]
    },
    {
     "name": "stderr",
     "output_type": "stream",
     "text": [
      "description : escrivaninha madeira mdf laqueado 5 gavetas vintage - maxima\n",
      "price : 1599.0\n",
      "\n",
      "description : escrivaninha madeira mdf laqueado 5 gavetas vintage maxima bege 3513896\n",
      "price : 1599.0\n",
      "\n",
      "13/10 positive, 14/10 negative\n",
      "Do these records refer to the same thing?\n",
      "(y)es / (n)o / (u)nsure / (f)inished / (p)revious\n"
     ]
    },
    {
     "name": "stdout",
     "output_type": "stream",
     "text": [
      "f\n"
     ]
    },
    {
     "name": "stderr",
     "output_type": "stream",
     "text": [
      "Finished labeling\n"
     ]
    }
   ],
   "source": [
    "# training naive bayes classifier\n",
    "linker2 = dedupe.RecordLink(fields)\n",
    "linker2.classifier = MultinomialNB()\n",
    "linker2.sample(p, w)\n",
    "dedupe.consoleLabel(linker2)"
   ]
  },
  {
   "cell_type": "code",
   "execution_count": 30,
   "metadata": {},
   "outputs": [
    {
     "name": "stderr",
     "output_type": "stream",
     "text": [
      "INFO:dedupe.blocking:Canopy: TfidfTextSearchPredicate: (0.4, description)\n",
      "INFO:dedupe.blocking:Canopy: TfidfTextSearchPredicate: (0.8, description)\n",
      "INFO:dedupe.blocking:Canopy: TfidfTextSearchPredicate: (0.2, description)\n",
      "INFO:dedupe.blocking:Canopy: TfidfTextSearchPredicate: (0.6, description)\n",
      "INFO:dedupe.blocking:Canopy: TfidfNGramSearchPredicate: (0.4, description)\n",
      "INFO:dedupe.blocking:Canopy: TfidfNGramSearchPredicate: (0.8, description)\n",
      "INFO:dedupe.blocking:Canopy: TfidfNGramSearchPredicate: (0.6, description)\n",
      "INFO:dedupe.blocking:Canopy: TfidfNGramSearchPredicate: (0.2, description)\n",
      "INFO:dedupe.blocking:Canopy: LevenshteinSearchPredicate: (2, description)\n",
      "INFO:dedupe.blocking:Canopy: LevenshteinSearchPredicate: (1, description)\n",
      "INFO:dedupe.blocking:Canopy: LevenshteinSearchPredicate: (4, description)\n",
      "INFO:dedupe.blocking:Canopy: LevenshteinSearchPredicate: (3, description)\n",
      "INFO:dedupe.blocking:Canopy: TfidfTextSearchPredicate: (0.4, description)\n",
      "INFO:dedupe.blocking:Canopy: TfidfTextSearchPredicate: (0.8, description)\n",
      "INFO:dedupe.blocking:Canopy: TfidfTextSearchPredicate: (0.2, description)\n",
      "INFO:dedupe.blocking:Canopy: TfidfTextSearchPredicate: (0.6, description)\n",
      "INFO:dedupe.blocking:Canopy: TfidfNGramSearchPredicate: (0.4, description)\n",
      "INFO:dedupe.blocking:Canopy: TfidfNGramSearchPredicate: (0.8, description)\n",
      "INFO:dedupe.blocking:Canopy: TfidfNGramSearchPredicate: (0.6, description)\n",
      "INFO:dedupe.blocking:Canopy: TfidfNGramSearchPredicate: (0.2, description)\n",
      "INFO:dedupe.blocking:Canopy: LevenshteinSearchPredicate: (2, description)\n",
      "INFO:dedupe.blocking:Canopy: LevenshteinSearchPredicate: (1, description)\n",
      "INFO:dedupe.blocking:Canopy: LevenshteinSearchPredicate: (4, description)\n",
      "INFO:dedupe.blocking:Canopy: LevenshteinSearchPredicate: (3, description)\n",
      "INFO:dedupe.training:Final predicate set:\n",
      "INFO:dedupe.training:TfidfTextSearchPredicate: (0.8, description)\n"
     ]
    }
   ],
   "source": [
    "linker2.train()"
   ]
  },
  {
   "cell_type": "code",
   "execution_count": 64,
   "metadata": {},
   "outputs": [
    {
     "name": "stderr",
     "output_type": "stream",
     "text": [
      "INFO:dedupe.blocking:Canopy: TfidfTextSearchPredicate: (0.8, description)\n",
      "INFO:dedupe.blocking:10000, 1.7377132 seconds\n",
      "INFO:dedupe.api:0 records\n",
      "INFO:dedupe.api:100 records\n",
      "INFO:dedupe.blocking:10000, 0.7797472 seconds\n",
      "INFO:dedupe.api:200 records\n"
     ]
    }
   ],
   "source": [
    "m2 = linker2.match(p,w, 0.5)"
   ]
  },
  {
   "cell_type": "code",
   "execution_count": 65,
   "metadata": {},
   "outputs": [
    {
     "name": "stdout",
     "output_type": "stream",
     "text": [
      "{'description': 'pneu hifly aro 16 265 70 r16 112h ht601 3731016', 'price': 517.0} {'description': 'pneu aro 16 265 / 70 r16 comforser cf2000 112h', 'price': 503.0}\n",
      "{'description': 'capacete corazza air ultra safe 1830869', 'price': 199.2} {'description': 'capacete ultra safe corazza air laranja', 'price': 199.16}\n",
      "{'description': 'tampo balcao coocktop 80x52x10 preto mia coccina art in moveis 1566760', 'price': 94.9} {'description': 'tampo espelho balcao 1,20m art in moveis mia coccina preto', 'price': 96.9}\n",
      "{'description': 'boneca basica - monster high - assustadora barreira corais - toralei - mattel 2480747', 'price': 89.99} {'description': 'monster high boneca basica cleo nile - mattel', 'price': 89.99}\n",
      "{'description': 'mesa diana summa tramontina 3736170', 'price': 438.96} {'description': 'mesa diana madeira summa - tramontina', 'price': 449.82}\n",
      "{'description': 'pneu aderenza aro 17 205 / 50 r17 93w perform 3735939', 'price': 328.0} {'description': 'pneu aro 17 205 / 50 r17 comforser cf500 93w', 'price': 344.99}\n",
      "{'description': 'bussola geo mapa espelho echolife 3137077', 'price': 29.54} {'description': 'bussola echolife geo', 'price': 28.77}\n",
      "{'description': 'glossario juridico ingles portugues portugues ingles 3795688', 'price': 55.13} {'description': 'livro - minidicionario antonio olinto ingles portugues - portugues ingles - conforme ortografia - 9788502077751', 'price': 52.9}\n",
      "{'description': 'relogio orient analogico masculino mbss1195a g2sx 3927888', 'price': 325.38} {'description': 'relogio masculino orient analogico casual mbss1209 g2sx', 'price': 304.99}\n",
      "{'description': 'guarda roupa 4 portas rp5079 art in moveis branco 3843035', 'price': 706.0} {'description': 'rp5079rs guarda roupa art in moveis rp5079 4 portas - rosa', 'price': 584.9}\n",
      "{'description': 'kit pistao anel metal leve cbx150 0.25 9024 8728 1351821', 'price': 99.9} {'description': 'pistao c / anel twister 0,25 - metal - leve -', 'price': 122.39}\n",
      "{'description': 'cadeira 154 cromada 02 unidades tecido camurca conhaque carraro 3897721', 'price': 189.28} {'description': 'cadeira - 026 - cromada - 02 unidades - branco tecido / camurca conhaque - carraro', 'price': 189.04}\n",
      "{'description': 'bussola echolife nau 255118', 'price': 23.65} {'description': 'bussola nau echolife', 'price': 23.65}\n",
      "{'description': 'guarda - roupa casal 4 portas espelho capri moval avela carvalho 3584848', 'price': 534.87} {'description': 'guarda roupa capri avela carvalho - moval', 'price': 569.9}\n",
      "{'description': 'cadeado abus 560 / 65 ugrip cable cinza 584749 2698698', 'price': 120.9} {'description': 'cadeado 560 / 65 ugrip cable branco 584756 abus', 'price': 122.76}\n",
      "{'description': 'puff angel redondo collor impermealizado pes palito amarelo lymdecor 3301986', 'price': 199.5} {'description': 'puff angel redondo suede azul pes palito - lymdecor', 'price': 199.0}\n",
      "{'description': 'conjunto sala jantar mesa 6 cadeiras viero vegas choco / soft 1562541', 'price': 1099.9} {'description': 'conjunto sala jantar mesa 6 cadeiras las vegas viero choco / canela', 'price': 1099.9}\n",
      "{'description': 'cadeira jantar toda revestida couro ecologico or - 4401 or design fendi 3513837', 'price': 269.0} {'description': 'cadeira megan empilhavel revestida couro ecologico or - 4401 - or design', 'price': 269.0}\n",
      "{'description': 'conjunto sala jantar mesa 4 cadeiras tais tabaco madesa 1870967', 'price': 1031.87} {'description': 'conjunto sala jantar mesa 6 cadeiras megan madesa tabaco / palha', 'price': 959.9}\n",
      "{'description': 'cadeado abus 585 75 upgrip chain azul 584602 2698746', 'price': 200.88} {'description': 'cadeado abus 585 / 75 upgrip chain preto 584589', 'price': 200.88}\n",
      "{'description': 'quebra - sol - alternativo - palio / palio weekend / siena / strada 2004 2011 espelho cinza lado passageiro cada unidade 3914219', 'price': 47.4} {'description': 'quebra - sol - alt . - palio / palio weekend / siena / strada 2004 2011 diante - c / espelho - cinza - dir - cada', 'price': 47.4}\n",
      "{'description': 'hulk funko pop avengers age of ultron 3384812', 'price': 99.9} {'description': 'thor funko pop marvel avengers age of ultron', 'price': 92.9}\n",
      "{'description': 'molinete praia sea master aluminio sm - 5000 marine sports 2186396', 'price': 223.9} {'description': 'molinete praia sea master 5000 5161 - marine sports', 'price': 228.82}\n",
      "{'description': 'cadeira flip cacau / lilas / cacau maxima 3887117', 'price': 405.99} {'description': 'cadeira flip cacau / verde anis / cacau maxima', 'price': 399.0}\n",
      "{'description': 'relogio orient analogico feminino fgss2003 s1kx 3927594', 'price': 450.0} {'description': 'relogio feminino orient analogico esportivo fgss1072 s1kx', 'price': 389.99}\n",
      "{'description': 'bancada p / tv 180x69cm c / rodizios - dj moveis havana - flex teka tx / vanilla perolizado - teka tx 2235129', 'price': 250.62} {'description': 'bancada tv 60 teka tx / vanilla perolizado havana dj moveis', 'price': 299.73}\n",
      "{'description': 'quebra cabeca interativo estrela 3722565', 'price': 56.57} {'description': 'quebra - cabeca interativo estrela vogais', 'price': 56.99}\n",
      "{'description': 'poltrona amamentacao giulia balanco puff branco 4109635', 'price': 568.6} {'description': 'poltrona amamentacao giulia balanco s / puff corino branco', 'price': 539.99}\n",
      "{'description': 'bateria cr2032 3v cartela 5 unidades 3553310', 'price': 8.54} {'description': 'bateria cr2025 3v cartela c / 5 unidades', 'price': 8.54}\n",
      "{'description': 'cadeado abus 6050 85 bordo lite preto 518003 2699658', 'price': 518.94} {'description': 'cadeado 6050 / 85 bordo lite preto 518003 abus', 'price': 518.94}\n",
      "{'description': 'jogo mesa 70 70 brahma 2 cadeiras pamplona mel - moveis parana 3489099', 'price': 939.89} {'description': 'jogo mesa 70 70 heineken 2 cadeiras santa fe mel - moveis parana', 'price': 892.9}\n",
      "{'description': 'historia amor 379852 - 9788581634128', 'price': 31.32} {'description': 'amor : historia - 9788537808856', 'price': 39.67}\n",
      "{'description': 'jogo mesa 70 70 heineken 4 cadeiras pamplona mel - moveis parana 3489124', 'price': 1339.87} {'description': 'jogo mesa 70 70 brahma 4 cadeiras santa fe mel - moveis parana', 'price': 1272.9}\n",
      "{'description': 'guarda roupa 3 portas florata henn 3830291', 'price': 1494.99} {'description': 'guarda - roupa solteiro 3 portas florata henn branco', 'price': 1699.9}\n",
      "{'description': 'comoda amoroso 04 gavetas moveis jaci 3077819', 'price': 359.9} {'description': 'comoda amoroso moveis jaci', 'price': 339.9}\n",
      "{'description': 'conjunto mesa sevilha 1,20x0,90 4 cadeiras sevilha vidro branco cel moveis eireli branco 4120100', 'price': 1242.9} {'description': 'conjunto mesa sevilha 1,20x0,90 4 cadeiras sevilha vidro off white cel moveis marrom', 'price': 1242.9}\n",
      "{'description': 'thor funko pop avengers age of ultron 3384982', 'price': 99.9} {'description': 'hawkeye funko pop marvel avengers age of ultron', 'price': 82.95}\n",
      "{'description': 'cadeira 1709 cromada 04 unidades preto fantasia carraro 2897202', 'price': 695.63} {'description': 'cadeira 1709 cromada 04 unidades amarela carraro', 'price': 684.2}\n",
      "{'description': 'cama baba vitta branco fosco matic moveis 3590899', 'price': 534.16} {'description': 'cama baba matic vitta branco', 'price': 482.12}\n",
      "{'description': 'relogio euro analogico feminino eu2035ybo / 4a 3927676', 'price': 274.8} {'description': 'relogio feminino euro analogico casual eu2036lym / 4a', 'price': 219.99}\n",
      "{'description': 'chave ignicao kit yamaha ys250 fazer 2011 - magnetron 1499681', 'price': 160.01} {'description': 'chave ignicao kit yamaha ys250 fazer 2011 diante - magnetron', 'price': 157.1}\n",
      "{'description': 'cadeado abus 590 / 150 ll crystal primo 433153 2714481', 'price': 125.55} {'description': 'cadeado 590 / 150 ll crystal primo 433153 abus', 'price': 125.55}\n",
      "{'description': 'jogo mesa 70 70 heineken 4 cadeiras bahia mel - moveis parana 3489122', 'price': 1139.88} {'description': 'jogo mesa redonda brahma 4 cadeiras bahia mel - moveis parana', 'price': 1041.1}\n",
      "{'description': 'cadeira 1717 cromada 02 unidades fantasia branco carraro 2897222', 'price': 280.0} {'description': 'cadeira 1717 cromada 02 unidades turquesa carraro', 'price': 311.0}\n",
      "{'description': 'jogo mesa redonda brahma 4 cadeiras anatomica mel - moveis parana 3489137', 'price': 1169.9} {'description': 'jogo mesa redonda heineken 4 cadeiras bahia mel - moveis parana', 'price': 1041.1}\n",
      "{'description': 'molinete pesca force 2000 3 rolamentos marine sports 2187249', 'price': 63.9} {'description': 'molinete pesca serena 3000 3 rolamentos marine sports', 'price': 64.9}\n",
      "{'description': 'sabonete liquido glicerina erva doce 250ml 3985967', 'price': 15.9} {'description': 'sabonete liquido maos protex erva - doce 250ml', 'price': 12.99}\n",
      "{'description': 'jogo 2 cadeiras fixa c - 695 premium preto 3825339', 'price': 517.9} {'description': 'jogo 2 cadeiras fixa c - 728 premium branco', 'price': 489.9}\n",
      "{'description': 'estante torre 3 nichos decorativo 90cm melamina bp bege 2953576', 'price': 193.0} {'description': 'estante torre 3 nichos decorativo 90cm - melamina bp turquesa', 'price': 210.72}\n",
      "{'description': 'guarda roupa holanda 2 portas correr carvalho rv moveis 3746397', 'price': 1848.98} {'description': 'guarda roupa holanda 02 portas - carvalho - rv moveis', 'price': 1769.9}\n",
      "{'description': 'jogo mesa 70 70 heineken 2 cadeiras augusta mel - moveis parana 3489114', 'price': 939.89} {'description': 'jogo mesa 70 70 brahma 4 cadeiras camboriu mel - moveis parana', 'price': 1082.9}\n",
      "{'description': 'relogio euro analogico feminino eu2035ybg / 4c 3927661', 'price': 273.0} {'description': 'relogio feminino euro analogico casual eu2035xzi / 4c', 'price': 349.99}\n",
      "{'description': 'homem ferro vingadores ultron funko mystery minis 2066150', 'price': 60.9} {'description': 'thor - vingadores ultron funko mystery minis', 'price': 56.9}\n",
      "{'description': 'conjunto sala jantar mesa 6 cadeiras madesa marselha tabaco / suede perola bege / marrom 2345660', 'price': 1399.9} {'description': 'conjunto sala jantar mesa 6 cadeiras madesa marselha bege / marrom', 'price': 1399.9}\n",
      "{'description': 'jogo 2 cadeiras fixa c - 695 premium branco 3825357', 'price': 517.9} {'description': 'jogo 2 cadeiras fixa c - 728 premium preto', 'price': 489.9}\n",
      "{'description': 'agulha pistonete c / sede carburador honda nxr150 bros siverst 3792258', 'price': 18.17} {'description': 'agulha pistonete c / sede carburador honda nxr150 bros 2005 - siverst', 'price': 19.27}\n",
      "{'description': 'capacete motocross cooler black fs 603 mormaii 58 1926886', 'price': 331.9} {'description': 'capacete motocross cooler yellow fs 603 mormaii', 'price': 346.9}\n",
      "{'description': 'jogo 2 cadeiras fixa c - 724 premium preto 3825317', 'price': 412.9} {'description': 'jogo 2 cadeiras fixa c - 724 premium branco', 'price': 412.9}\n",
      "{'description': 'jogo 2 cadeiras fixa c - 694 premium preto 3825366', 'price': 542.9} {'description': 'jogo 2 cadeiras fixa c - 694 premium branco', 'price': 542.9}\n",
      "{'description': 'rack teto thule wingbar aluminio subaru impreza 4 - p sedan 07 - 11 4095956', 'price': 1813.98} {'description': 'rack teto thule wingbar aluminio subaru impreza , 4 - p sedan , 07 - 11', 'price': 1814.0}\n",
      "{'description': 'short under armour tech mesh 4057775', 'price': 89.9} {'description': 'shorts under armour tech mesh', 'price': 89.9}\n",
      "{'description': 'cabeceira extensivel toronto cama box 140 160 cm castanho avela moveis lupi 2466044', 'price': 588.0} {'description': 'cabeceira extensivel toronto cama box 140 160 cm castanho wood - moveis lupi', 'price': 588.01}\n",
      "{'description': 'interface desbloqueio tela vw golf 2014 2016 faaftech ft video lvds aud3 3796527', 'price': 1678.98} {'description': 'interface desbloqueio tela vw golf 2014 2016 faaftech ft - video - lvds aud3', 'price': 1679.0}\n",
      "{'description': 'mesa jatar retangular mj2129 ammo mobili branco 3838802', 'price': 1879.99} {'description': 'mesa jatar retangular mj2129 - ammo mobili', 'price': 1880.0}\n",
      "{'description': 'mesa lateral kenzo 4152 santana knr moveis 3839115', 'price': 269.12} {'description': 'mesa lateral kenzo 4152 santana - knr moveis', 'price': 269.12}\n",
      "{'description': 'baby alive boneca morena festa borboletas hasbro 3365818', 'price': 329.99} {'description': 'boneca baby alive - morena - hora festa - hasbro', 'price': 249.6}\n",
      "{'description': 'jogo tabuleiro temporada compras mix8 611188 3595531', 'price': 39.9} {'description': 'jogo tabuleiro temporada compras - mix8 611188', 'price': 39.9}\n",
      "{'description': 'conjunto sala jantar mesa 4 cadeiras dallas indekes salina / preto 4129050', 'price': 279.9} {'description': 'conjunto sala jantar mesa 4 cadeiras dallas indekes branco', 'price': 279.9}\n",
      "{'description': 'regulador embreagem universal evolution m10 vermelho 3708693', 'price': 79.9} {'description': 'regulador embreagem universal evolution m10 preto', 'price': 79.9}\n",
      "{'description': 'molinete pesca arena dianteira 2000 marine sports 2185615', 'price': 27.9} {'description': 'molinete pesca arena traseira 2000 marine sports', 'price': 27.9}\n",
      "{'description': 'retrovisor escort 93 94 95 96 sapao controle lado direito + lado esquerdo 3781204', 'price': 149.8} {'description': 'retrovisor escort 93 94 95 96 sapao controle - par', 'price': 149.8}\n",
      "{'description': 'jogo 2 cadeiras fixa c - 724 premium branco 3825259', 'price': 412.9} {'description': 'jogo 2 cadeiras fixa c - 724 premium preto', 'price': 412.9}\n",
      "{'description': 'jogo 2 cadeiras fixa c - 694 premium branco 3825311', 'price': 542.9} {'description': 'jogo 2 cadeiras fixa c - 694 premium preto', 'price': 542.9}\n",
      "{'description': 'cadeado abus 6500 85 granit bordo x plus 551604 2699659', 'price': 820.25} {'description': 'cadeado abus 6500 / 85 granit bordo x plus 551604', 'price': 820.26}\n",
      "{'description': 'capacete wished white red fs811 mormaii 58 1927070', 'price': 288.9} {'description': 'capacete wished white red fs811 mormaii - 56', 'price': 288.9}\n",
      "{'description': 'atuador marcha lenta - 808241 - dpl 3737152', 'price': 41.3} {'description': 'atuador marcha lenta - 808524 - dpl', 'price': 41.19}\n",
      "{'description': 'patim freio traseiro 0.25mm honda c100 dream ano 1996 diante 3778763', 'price': 29.15} {'description': 'patim freio traseiro honda c100 dream ano 1996 diante', 'price': 28.5}\n",
      "{'description': 'kit amortecedor dianteiro axios br10204401463 gm astra partir 01 / 1999 cada 01 unidade 3862579', 'price': 62.33} {'description': 'kit amortecedor dianteiro sampel sk315s gm astra partir 01 / 1999 cada unidade', 'price': 52.7}\n",
      "{'description': 'cadeira 1709 cromada 04 unidades napa preta carraro 2897180', 'price': 695.63} {'description': 'cadeira 1709 cromada 04 unidades preta carraro', 'price': 684.2}\n",
      "{'description': 'escrivaninha madeira mdf laqueado 5 gavetas vintage maxima bege 3513896', 'price': 1599.0} {'description': 'escrivaninha madeira mdf laqueado 5 gavetas vintage - maxima', 'price': 1599.0}\n",
      "{'description': 'kit relacao riffel yamaha xtz250 lander 2006 2008 coroa 46z pinhao 15z corrente 428 x 130 elos 1893460', 'price': 194.72} {'description': 'kit relacao riffel yamaha xtz250 lander 2006 2008 , coroa 46z , pinhao 15z corrente 428 x 130 el', 'price': 191.18}\n",
      "{'description': 'kit coifa homocinetica cambio esquerdo rolamento golf , golf , golf , polo classic 1.8 3714147', 'price': 31.04} {'description': 'kit coifa homocinetica cambio direito rolamento golf , golf , golf , polo classic 1.8', 'price': 30.54}\n",
      "{'description': 'kit reparo amortecedor dianteiro coxim batente guarda po rolamento ecosport 3751087', 'price': 427.96} {'description': 'kit reparo amortecedor dianteiro coxim batente guarda po rolamento fiestai', 'price': 418.02}\n",
      "{'description': 'canaleta alternativo opala diplomata 1985 1990 4 portas preta jogo 3889373', 'price': 128.0} {'description': 'canaleta alternativo opala diplomata 1985 1990 4 portas preta - jogo', 'price': 128.0}\n",
      "{'description': 'moldura interruptor vidro redonda simples porta dianteira traseira preto universal uso geral 3679570', 'price': 12.01} {'description': 'moldura interruptor vidro redonda simples porta dianteira traseira cinza universal uso geral', 'price': 12.01}\n",
      "{'description': 'kit amortecedor dianteiro coxim rolamento batente coifa elba , premio , uno mille , uno pick up 3750450', 'price': 17.67} {'description': 'kit amortecedor dianteiro coxim rolamento batente coifa elba , uno mille', 'price': 18.77}\n",
      "{'description': 'estante torre 3 nichos decorativo 90cm melamina bp preto 2953606', 'price': 193.0} {'description': 'estante torre 3 nichos decorativo 90cm - melamina bp preto', 'price': 183.35}\n",
      "{'description': 'anel pistao kit agrale 27.5 kmp 1.00mm 1324554', 'price': 57.76} {'description': 'anel pistao kit agrale 27.5 - kmp 1.00mm', 'price': 51.98}\n",
      "{'description': 'pinhao 13 dentes yamaha dt200 l ano 1985 vaz 3784919', 'price': 54.26} {'description': 'pinhao 13 dentes yamaha dt200 l ano 1985 - vaz', 'price': 49.74}\n",
      "{'description': 'pistao kit c / aneis honda biz 125 kmp 0,50 mm 3722362', 'price': 107.6} {'description': 'pistao kit c aneis honda biz 125 kmp 0,25 mm', 'price': 98.64}\n",
      "{'description': 'molinete ms altima micro new carretel aluminio marine sports 2187314', 'price': 81.9} {'description': 'molinete ms carretel aluminio altima 3000 new marine sports', 'price': 109.9}\n",
      "{'description': 'jogo mesa redonda heineken 2 cadeiras augusta mel - moveis parana 3489151', 'price': 899.9} {'description': 'jogo mesa redonda heineken 2 cadeiras ipanema mel - moveis parana', 'price': 826.4}\n",
      "{'description': 'molinete ms carretel aluminio xt - 4000 marine sports 2187281', 'price': 90.9} {'description': 'molinete ms carretel aluminio st - 6000 marine sports', 'price': 90.9}\n",
      "{'description': 'interruptor luz freio 3rho 352 ford 3781770', 'price': 79.78} {'description': 'interruptor luz freio 3rho 31 ford', 'price': 74.09}\n",
      "{'description': 'raspa mix super cores dtc 3662548', 'price': 84.9} {'description': 'raspa mix super cores laranja 3594 - dtc', 'price': 64.5}\n",
      "{'description': 'conjunto mesa granada 6 cadeiras granada preto prata fabone assento branco floral 1439283', 'price': 1049.0} {'description': 'conjunto mesa 6 cadeiras granada branco floral fabone', 'price': 819.99}\n",
      "{'description': 'molinete ms carretel aluminio altima 2000 new marine sports 2185600', 'price': 111.9} {'description': 'molinete ms altima micro new carretel aluminio marine sports', 'price': 81.9}\n",
      "{'description': 'molinete pesca laguna 1000 5 rolamentos marine sports 2185802', 'price': 47.9} {'description': 'molinete pesca laguna 500 5 rolamentos marine sports', 'price': 45.9}\n",
      "{'description': 'banco alto viena danubio estofado preto tabaco piazza tramontina 3775183', 'price': 858.6} {'description': 'banco alto viena estofado preto amendoa - tramontina', 'price': 662.0}\n"
     ]
    }
   ],
   "source": [
    "for i in m2:\n",
    "    print(p[i[0][0]], w[i[0][1]])"
   ]
  },
  {
   "cell_type": "code",
   "execution_count": 29,
   "metadata": {
    "scrolled": true
   },
   "outputs": [
    {
     "name": "stderr",
     "output_type": "stream",
     "text": [
      "description : mesa lateral marley branco\n",
      "price : 362.9\n",
      "\n",
      "description : ponteira harley davidson softail fat boy 3 baixo customer fat boy 2006 atual 3067735\n",
      "price : 1241.89\n",
      "\n",
      "0/10 positive, 0/10 negative\n",
      "Do these records refer to the same thing?\n",
      "(y)es / (n)o / (u)nsure / (f)inished\n"
     ]
    },
    {
     "name": "stdout",
     "output_type": "stream",
     "text": [
      "n\n"
     ]
    },
    {
     "name": "stderr",
     "output_type": "stream",
     "text": [
      "description : molas esportivas red coil montana 1.8 003 diante\n",
      "price : 545.0\n",
      "\n",
      "description : molas esportivas macaulay - ford fiesta 2003 diante 2095143\n",
      "price : 449.0\n",
      "\n",
      "0/10 positive, 1/10 negative\n",
      "Do these records refer to the same thing?\n",
      "(y)es / (n)o / (u)nsure / (f)inished / (p)revious\n"
     ]
    },
    {
     "name": "stdout",
     "output_type": "stream",
     "text": [
      "n\n"
     ]
    },
    {
     "name": "stderr",
     "output_type": "stream",
     "text": [
      "description : retrovisor palio strada g3 04 05 06 07 controle 2 portas preto\n",
      "price : 44.9\n",
      "\n",
      "description : retrovisor palio strada g3 04 05 06 07 controle 2 portas preto lado direito + lado esquerdo 3783074\n",
      "price : 89.8\n",
      "\n",
      "0/10 positive, 2/10 negative\n",
      "Do these records refer to the same thing?\n",
      "(y)es / (n)o / (u)nsure / (f)inished / (p)revious\n"
     ]
    },
    {
     "name": "stdout",
     "output_type": "stream",
     "text": [
      "u\n"
     ]
    },
    {
     "name": "stderr",
     "output_type": "stream",
     "text": [
      "description : kit completo suspensao rosca tebao molas preparadas fiesta 1996 2002 fiesta street 2001 2\n",
      "price : 799.9\n",
      "\n",
      "description : kit completo suspensao rosca tebao molas preparadas fiesta 1996 2002 fiesta street 2001 2 3922952\n",
      "price : 799.9\n",
      "\n",
      "0/10 positive, 2/10 negative\n",
      "Do these records refer to the same thing?\n",
      "(y)es / (n)o / (u)nsure / (f)inished / (p)revious\n"
     ]
    },
    {
     "name": "stdout",
     "output_type": "stream",
     "text": [
      "y\n"
     ]
    },
    {
     "name": "stderr",
     "output_type": "stream",
     "text": [
      "description : conjunto sala jantar mesa 6 cadeiras madesa marselha tabaco / suede perola bege / marrom\n",
      "price : 1399.9\n",
      "\n",
      "description : conjunto sala jantar mesa 6 cadeiras madesa marselha tabaco / suede perola bege / marrom 2345660\n",
      "price : 1399.9\n",
      "\n",
      "1/10 positive, 2/10 negative\n",
      "Do these records refer to the same thing?\n",
      "(y)es / (n)o / (u)nsure / (f)inished / (p)revious\n"
     ]
    },
    {
     "name": "stdout",
     "output_type": "stream",
     "text": [
      "y\n"
     ]
    },
    {
     "name": "stderr",
     "output_type": "stream",
     "text": [
      "description : molinete pesca serena 3000 3 rolamentos marine sports\n",
      "price : 64.9\n",
      "\n",
      "description : molinete pesca force 4000 3 rolamentos marine sports 2185798\n",
      "price : 70.9\n",
      "\n",
      "2/10 positive, 2/10 negative\n",
      "Do these records refer to the same thing?\n",
      "(y)es / (n)o / (u)nsure / (f)inished / (p)revious\n"
     ]
    },
    {
     "name": "stdout",
     "output_type": "stream",
     "text": [
      "n\n"
     ]
    },
    {
     "name": "stderr",
     "output_type": "stream",
     "text": [
      "description : guarda - roupa modulado 3pt branco\n",
      "price : 729.99\n",
      "\n",
      "description : guarda - roupa 3 portas correr flex color sofia pes espelho branco preto branco perfil moveis 219,00 x 191,40 x 53,00 3084656\n",
      "price : 1115.1\n",
      "\n",
      "2/10 positive, 3/10 negative\n",
      "Do these records refer to the same thing?\n",
      "(y)es / (n)o / (u)nsure / (f)inished / (p)revious\n"
     ]
    },
    {
     "name": "stdout",
     "output_type": "stream",
     "text": [
      "n\n"
     ]
    },
    {
     "name": "stderr",
     "output_type": "stream",
     "text": [
      "description : mesa diana madeira summa - tramontina\n",
      "price : 449.82\n",
      "\n",
      "description : mesa diana madeira summa tramontina 3736078\n",
      "price : 461.76\n",
      "\n",
      "2/10 positive, 4/10 negative\n",
      "Do these records refer to the same thing?\n",
      "(y)es / (n)o / (u)nsure / (f)inished / (p)revious\n"
     ]
    },
    {
     "name": "stdout",
     "output_type": "stream",
     "text": [
      "y\n"
     ]
    },
    {
     "name": "stderr",
     "output_type": "stream",
     "text": [
      "description : moldura interruptor vidro redonda simples porta dianteira traseira cinza universal uso geral\n",
      "price : 12.01\n",
      "\n",
      "description : moldura interruptor vidro redonda simples porta dianteira traseira preto universal uso geral 3679570\n",
      "price : 12.01\n",
      "\n",
      "3/10 positive, 4/10 negative\n",
      "Do these records refer to the same thing?\n",
      "(y)es / (n)o / (u)nsure / (f)inished / (p)revious\n"
     ]
    },
    {
     "name": "stdout",
     "output_type": "stream",
     "text": [
      "n\n"
     ]
    },
    {
     "name": "stderr",
     "output_type": "stream",
     "text": [
      "description : cadeira 026 cromada 04 unidades branca carraro\n",
      "price : 359.59\n",
      "\n",
      "description : cadeira 154 cromada 04 unidades napa branca carraro 3897504\n",
      "price : 356.75\n",
      "\n",
      "3/10 positive, 5/10 negative\n",
      "Do these records refer to the same thing?\n",
      "(y)es / (n)o / (u)nsure / (f)inished / (p)revious\n"
     ]
    },
    {
     "name": "stdout",
     "output_type": "stream",
     "text": [
      "n\n"
     ]
    },
    {
     "name": "stderr",
     "output_type": "stream",
     "text": [
      "description : jogo 2 cadeiras fixa c - 694 premium branco\n",
      "price : 542.9\n",
      "\n",
      "description : jogo 2 cadeiras fixa c - 724 premium branco 3825259\n",
      "price : 412.9\n",
      "\n",
      "3/10 positive, 6/10 negative\n",
      "Do these records refer to the same thing?\n",
      "(y)es / (n)o / (u)nsure / (f)inished / (p)revious\n"
     ]
    },
    {
     "name": "stdout",
     "output_type": "stream",
     "text": [
      "n\n"
     ]
    },
    {
     "name": "stderr",
     "output_type": "stream",
     "text": [
      "description : kit completo suspensao rosca tebao molas preparadas c4 09 14 pallas 08 13 hatch 04 14 v\n",
      "price : 799.9\n",
      "\n",
      "description : kit completo suspensao rosca tebao molas preparadas c4 09 14 pallas 08 13 hatch 04 14 v 3922882\n",
      "price : 799.9\n",
      "\n",
      "3/10 positive, 7/10 negative\n",
      "Do these records refer to the same thing?\n",
      "(y)es / (n)o / (u)nsure / (f)inished / (p)revious\n"
     ]
    },
    {
     "name": "stdout",
     "output_type": "stream",
     "text": [
      "y\n"
     ]
    },
    {
     "name": "stderr",
     "output_type": "stream",
     "text": [
      "description : kit amortecedor dianteiro axios br10004402513 c3 03 / partir 2003 cada 01 unidade\n",
      "price : 27.62\n",
      "\n",
      "description : kit amortecedor dianteiro axios br10004402513 c3 03 / partir 2003 cada 01 unidade 3862590\n",
      "price : 27.62\n",
      "\n",
      "4/10 positive, 7/10 negative\n",
      "Do these records refer to the same thing?\n",
      "(y)es / (n)o / (u)nsure / (f)inished / (p)revious\n"
     ]
    },
    {
     "name": "stdout",
     "output_type": "stream",
     "text": [
      "y\n"
     ]
    },
    {
     "name": "stderr",
     "output_type": "stream",
     "text": [
      "description : aplicador pretinho mandala\n",
      "price : 3.49\n",
      "\n",
      "description : aplicador pretinho mandala 1592710\n",
      "price : 3.49\n",
      "\n",
      "5/10 positive, 7/10 negative\n",
      "Do these records refer to the same thing?\n",
      "(y)es / (n)o / (u)nsure / (f)inished / (p)revious\n"
     ]
    },
    {
     "name": "stdout",
     "output_type": "stream",
     "text": [
      "y\n"
     ]
    },
    {
     "name": "stderr",
     "output_type": "stream",
     "text": [
      "description : molinete elite 500 3 rolos esferas marine sports\n",
      "price : 35.9\n",
      "\n",
      "description : molinete elite 3000 3 rolos esferas marine sports 2185573\n",
      "price : 42.9\n",
      "\n",
      "6/10 positive, 7/10 negative\n",
      "Do these records refer to the same thing?\n",
      "(y)es / (n)o / (u)nsure / (f)inished / (p)revious\n"
     ]
    },
    {
     "name": "stdout",
     "output_type": "stream",
     "text": [
      "n\n"
     ]
    },
    {
     "name": "stderr",
     "output_type": "stream",
     "text": [
      "description : jogo tabuleiro temporada compras - mix8 611188\n",
      "price : 39.9\n",
      "\n",
      "description : jogo tabuleiro temporada compras mix8 611188 3595531\n",
      "price : 39.9\n",
      "\n",
      "6/10 positive, 8/10 negative\n",
      "Do these records refer to the same thing?\n",
      "(y)es / (n)o / (u)nsure / (f)inished / (p)revious\n"
     ]
    },
    {
     "name": "stdout",
     "output_type": "stream",
     "text": [
      "y\n"
     ]
    },
    {
     "name": "stderr",
     "output_type": "stream",
     "text": [
      "description : jogo 2 cadeiras fixa c - 724 premium preto\n",
      "price : 412.9\n",
      "\n",
      "description : jogo 2 cadeiras fixa c - 694 premium preto 3825366\n",
      "price : 542.9\n",
      "\n",
      "7/10 positive, 8/10 negative\n",
      "Do these records refer to the same thing?\n",
      "(y)es / (n)o / (u)nsure / (f)inished / (p)revious\n"
     ]
    },
    {
     "name": "stdout",
     "output_type": "stream",
     "text": [
      "n\n"
     ]
    },
    {
     "name": "stderr",
     "output_type": "stream",
     "text": [
      "description : interruptor luz re 3rho 4489 ford\n",
      "price : 59.2\n",
      "\n",
      "description : interruptor luz re 3rho 4453 ford 3781767\n",
      "price : 150.03\n",
      "\n",
      "7/10 positive, 9/10 negative\n",
      "Do these records refer to the same thing?\n",
      "(y)es / (n)o / (u)nsure / (f)inished / (p)revious\n"
     ]
    },
    {
     "name": "stdout",
     "output_type": "stream",
     "text": [
      "n\n"
     ]
    },
    {
     "name": "stderr",
     "output_type": "stream",
     "text": [
      "description : cadeira relic preto\n",
      "price : 329.99\n",
      "\n",
      "description : cadeira relic preta 2955881\n",
      "price : 353.58\n",
      "\n",
      "7/10 positive, 10/10 negative\n",
      "Do these records refer to the same thing?\n",
      "(y)es / (n)o / (u)nsure / (f)inished / (p)revious\n"
     ]
    },
    {
     "name": "stdout",
     "output_type": "stream",
     "text": [
      "y\n"
     ]
    },
    {
     "name": "stderr",
     "output_type": "stream",
     "text": [
      "description : bucha caixa direcao npm npm - 25.202.a4 ford escort / verona 1.6 93 / 96 central cada unidade\n",
      "price : 11.9\n",
      "\n",
      "description : bucha caixa direcao npm npm - 25.202.a4 ford escort / verona 1.6 93 / 96 central cada 01 unidade 3873298\n",
      "price : 11.22\n",
      "\n",
      "8/10 positive, 10/10 negative\n",
      "Do these records refer to the same thing?\n",
      "(y)es / (n)o / (u)nsure / (f)inished / (p)revious\n"
     ]
    },
    {
     "name": "stdout",
     "output_type": "stream",
     "text": [
      "y\n"
     ]
    },
    {
     "name": "stderr",
     "output_type": "stream",
     "text": [
      "description : canaleta alternativo opala diplomata 1985 1990 4 portas preta - jogo\n",
      "price : 128.0\n",
      "\n",
      "description : canaleta alternativo opala diplomata 1985 1990 4 portas preta jogo 3889373\n",
      "price : 128.0\n",
      "\n",
      "9/10 positive, 10/10 negative\n",
      "Do these records refer to the same thing?\n",
      "(y)es / (n)o / (u)nsure / (f)inished / (p)revious\n"
     ]
    },
    {
     "name": "stdout",
     "output_type": "stream",
     "text": [
      "y\n"
     ]
    },
    {
     "name": "stderr",
     "output_type": "stream",
     "text": [
      "description : cadeado abus 585 / 75 upgrip chain preto 584589\n",
      "price : 200.88\n",
      "\n",
      "description : cadeado abus 585 75 upgrip chain preto 584589 2699610\n",
      "price : 200.88\n",
      "\n",
      "10/10 positive, 10/10 negative\n",
      "Do these records refer to the same thing?\n",
      "(y)es / (n)o / (u)nsure / (f)inished / (p)revious\n"
     ]
    },
    {
     "name": "stdout",
     "output_type": "stream",
     "text": [
      "y\n"
     ]
    },
    {
     "name": "stderr",
     "output_type": "stream",
     "text": [
      "description : kit reparo amortecedor dianteiro coxim batente guarda po rolamento fiestai\n",
      "price : 418.02\n",
      "\n",
      "description : kit reparo amortecedor dianteiro coxim batente guarda po rolamento corolla 3751044\n",
      "price : 588.2\n",
      "\n",
      "11/10 positive, 10/10 negative\n",
      "Do these records refer to the same thing?\n",
      "(y)es / (n)o / (u)nsure / (f)inished / (p)revious\n"
     ]
    },
    {
     "name": "stdout",
     "output_type": "stream",
     "text": [
      "f\n"
     ]
    },
    {
     "name": "stderr",
     "output_type": "stream",
     "text": [
      "Finished labeling\n"
     ]
    }
   ],
   "source": [
    "# training naive bayes classifier\n",
    "linker3 = dedupe.RecordLink(fields)\n",
    "linker3.classifier = MLPClassifier()\n",
    "linker3.sample(p, w)\n",
    "dedupe.consoleLabel(linker3)"
   ]
  },
  {
   "cell_type": "code",
   "execution_count": 33,
   "metadata": {
    "scrolled": true
   },
   "outputs": [
    {
     "name": "stderr",
     "output_type": "stream",
     "text": [
      "/home/bisca/Projetos/crawler/env/lib/python3.6/site-packages/sklearn/neural_network/multilayer_perceptron.py:563: ConvergenceWarning: Stochastic Optimizer: Maximum iterations reached and the optimization hasn't converged yet.\n",
      "  % (), ConvergenceWarning)\n",
      "INFO:dedupe.blocking:Canopy: TfidfTextSearchPredicate: (0.4, description)\n",
      "INFO:dedupe.blocking:Canopy: TfidfTextSearchPredicate: (0.8, description)\n",
      "INFO:dedupe.blocking:Canopy: TfidfTextSearchPredicate: (0.2, description)\n",
      "INFO:dedupe.blocking:Canopy: TfidfTextSearchPredicate: (0.6, description)\n",
      "INFO:dedupe.blocking:Canopy: TfidfNGramSearchPredicate: (0.4, description)\n",
      "INFO:dedupe.blocking:Canopy: TfidfNGramSearchPredicate: (0.8, description)\n",
      "INFO:dedupe.blocking:Canopy: TfidfNGramSearchPredicate: (0.6, description)\n",
      "INFO:dedupe.blocking:Canopy: TfidfNGramSearchPredicate: (0.2, description)\n",
      "INFO:dedupe.blocking:Canopy: LevenshteinSearchPredicate: (2, description)\n",
      "INFO:dedupe.blocking:Canopy: LevenshteinSearchPredicate: (1, description)\n",
      "INFO:dedupe.blocking:Canopy: LevenshteinSearchPredicate: (4, description)\n",
      "INFO:dedupe.blocking:Canopy: LevenshteinSearchPredicate: (3, description)\n",
      "INFO:dedupe.blocking:Canopy: TfidfTextSearchPredicate: (0.4, description)\n",
      "INFO:dedupe.blocking:Canopy: TfidfTextSearchPredicate: (0.8, description)\n",
      "INFO:dedupe.blocking:Canopy: TfidfTextSearchPredicate: (0.2, description)\n",
      "INFO:dedupe.blocking:Canopy: TfidfTextSearchPredicate: (0.6, description)\n",
      "INFO:dedupe.blocking:Canopy: TfidfNGramSearchPredicate: (0.4, description)\n",
      "INFO:dedupe.blocking:Canopy: TfidfNGramSearchPredicate: (0.8, description)\n",
      "INFO:dedupe.blocking:Canopy: TfidfNGramSearchPredicate: (0.6, description)\n",
      "INFO:dedupe.blocking:Canopy: TfidfNGramSearchPredicate: (0.2, description)\n",
      "INFO:dedupe.blocking:Canopy: LevenshteinSearchPredicate: (2, description)\n",
      "INFO:dedupe.blocking:Canopy: LevenshteinSearchPredicate: (1, description)\n",
      "INFO:dedupe.blocking:Canopy: LevenshteinSearchPredicate: (4, description)\n",
      "INFO:dedupe.blocking:Canopy: LevenshteinSearchPredicate: (3, description)\n",
      "INFO:dedupe.training:Final predicate set:\n",
      "INFO:dedupe.training:SimplePredicate: (doubleMetaphone, description)\n"
     ]
    }
   ],
   "source": [
    "linker3.train()"
   ]
  },
  {
   "cell_type": "code",
   "execution_count": 68,
   "metadata": {},
   "outputs": [
    {
     "name": "stderr",
     "output_type": "stream",
     "text": [
      "INFO:dedupe.blocking:10000, 0.8191732 seconds\n",
      "INFO:dedupe.api:0 records\n",
      "INFO:dedupe.api:100 records\n",
      "INFO:dedupe.api:200 records\n",
      "INFO:dedupe.api:300 records\n",
      "INFO:dedupe.api:400 records\n",
      "INFO:dedupe.api:500 records\n",
      "INFO:dedupe.api:600 records\n",
      "INFO:dedupe.api:700 records\n",
      "INFO:dedupe.api:800 records\n",
      "INFO:dedupe.api:900 records\n",
      "INFO:dedupe.api:1000 records\n",
      "INFO:dedupe.api:1100 records\n",
      "INFO:dedupe.api:1200 records\n",
      "INFO:dedupe.api:1300 records\n",
      "INFO:dedupe.api:1400 records\n",
      "INFO:dedupe.api:1500 records\n",
      "INFO:dedupe.api:1600 records\n",
      "INFO:dedupe.api:1700 records\n",
      "INFO:dedupe.api:1800 records\n",
      "INFO:dedupe.api:1900 records\n",
      "INFO:dedupe.api:2000 records\n",
      "INFO:dedupe.api:2100 records\n",
      "INFO:dedupe.api:2200 records\n",
      "INFO:dedupe.api:2300 records\n",
      "INFO:dedupe.api:2400 records\n",
      "INFO:dedupe.api:2500 records\n",
      "INFO:dedupe.api:2600 records\n",
      "INFO:dedupe.api:2700 records\n",
      "INFO:dedupe.api:2800 records\n",
      "INFO:dedupe.api:2900 records\n",
      "INFO:dedupe.api:3000 records\n",
      "INFO:dedupe.api:3100 records\n",
      "INFO:dedupe.api:3200 records\n",
      "INFO:dedupe.api:3300 records\n",
      "INFO:dedupe.api:3400 records\n",
      "INFO:dedupe.api:3500 records\n",
      "INFO:dedupe.api:3600 records\n",
      "INFO:dedupe.api:3700 records\n",
      "INFO:dedupe.api:3800 records\n",
      "INFO:dedupe.api:3900 records\n",
      "INFO:dedupe.api:4000 records\n",
      "INFO:dedupe.api:4100 records\n",
      "INFO:dedupe.api:4200 records\n",
      "INFO:dedupe.api:4300 records\n",
      "INFO:dedupe.api:4400 records\n",
      "INFO:dedupe.api:4500 records\n",
      "INFO:dedupe.api:4600 records\n",
      "INFO:dedupe.api:4700 records\n",
      "INFO:dedupe.api:4800 records\n",
      "INFO:dedupe.api:4900 records\n",
      "INFO:dedupe.api:5000 records\n",
      "INFO:dedupe.api:5100 records\n",
      "INFO:dedupe.api:5200 records\n",
      "INFO:dedupe.api:5300 records\n",
      "INFO:dedupe.api:5400 records\n",
      "INFO:dedupe.api:5500 records\n",
      "INFO:dedupe.api:5600 records\n",
      "INFO:dedupe.api:5700 records\n",
      "INFO:dedupe.api:5800 records\n",
      "INFO:dedupe.api:5900 records\n",
      "INFO:dedupe.api:6000 records\n",
      "INFO:dedupe.api:6100 records\n",
      "INFO:dedupe.api:6200 records\n",
      "INFO:dedupe.api:6300 records\n",
      "INFO:dedupe.api:6400 records\n",
      "INFO:dedupe.api:6500 records\n",
      "INFO:dedupe.api:6600 records\n",
      "INFO:dedupe.api:6700 records\n",
      "INFO:dedupe.api:6800 records\n",
      "INFO:dedupe.api:6900 records\n",
      "INFO:dedupe.api:7000 records\n",
      "INFO:dedupe.api:7100 records\n",
      "INFO:dedupe.api:7200 records\n",
      "INFO:dedupe.api:7300 records\n",
      "INFO:dedupe.api:7400 records\n",
      "INFO:dedupe.api:7500 records\n",
      "INFO:dedupe.api:7600 records\n",
      "INFO:dedupe.api:7700 records\n",
      "INFO:dedupe.api:7800 records\n",
      "INFO:dedupe.api:7900 records\n",
      "INFO:dedupe.api:8000 records\n",
      "INFO:dedupe.api:8100 records\n",
      "INFO:dedupe.api:8200 records\n",
      "INFO:dedupe.api:8300 records\n",
      "INFO:dedupe.api:8400 records\n",
      "INFO:dedupe.api:8500 records\n",
      "INFO:dedupe.api:8600 records\n",
      "INFO:dedupe.api:8700 records\n",
      "INFO:dedupe.api:8800 records\n",
      "INFO:dedupe.api:8900 records\n",
      "INFO:dedupe.api:9000 records\n",
      "INFO:dedupe.api:9100 records\n",
      "INFO:dedupe.api:9200 records\n",
      "INFO:dedupe.api:9300 records\n",
      "INFO:dedupe.api:9400 records\n",
      "INFO:dedupe.api:9500 records\n",
      "INFO:dedupe.api:9600 records\n",
      "INFO:dedupe.api:9700 records\n",
      "INFO:dedupe.api:9800 records\n",
      "INFO:dedupe.api:9900 records\n",
      "INFO:dedupe.blocking:10000, 0.2289352 seconds\n",
      "INFO:dedupe.api:10000 records\n",
      "INFO:dedupe.api:10100 records\n",
      "INFO:dedupe.api:10200 records\n",
      "INFO:dedupe.api:10300 records\n",
      "INFO:dedupe.api:10400 records\n",
      "INFO:dedupe.api:10500 records\n",
      "INFO:dedupe.api:10600 records\n",
      "INFO:dedupe.api:10700 records\n",
      "INFO:dedupe.api:10800 records\n",
      "INFO:dedupe.api:10900 records\n",
      "INFO:dedupe.api:11000 records\n",
      "INFO:dedupe.api:11100 records\n",
      "INFO:dedupe.api:11200 records\n",
      "INFO:dedupe.api:11300 records\n",
      "INFO:dedupe.api:11400 records\n",
      "INFO:dedupe.api:11500 records\n",
      "INFO:dedupe.api:11600 records\n",
      "INFO:dedupe.api:11700 records\n",
      "INFO:dedupe.api:11800 records\n",
      "INFO:dedupe.api:11900 records\n",
      "INFO:dedupe.api:12000 records\n",
      "INFO:dedupe.api:12100 records\n",
      "INFO:dedupe.api:12200 records\n",
      "INFO:dedupe.api:12300 records\n",
      "INFO:dedupe.api:12400 records\n",
      "INFO:dedupe.api:12500 records\n",
      "INFO:dedupe.api:12600 records\n",
      "INFO:dedupe.api:12700 records\n",
      "INFO:dedupe.api:12800 records\n",
      "INFO:dedupe.api:12900 records\n",
      "INFO:dedupe.api:13000 records\n",
      "INFO:dedupe.api:13100 records\n",
      "INFO:dedupe.api:13200 records\n",
      "INFO:dedupe.api:13300 records\n",
      "INFO:dedupe.api:13400 records\n",
      "INFO:dedupe.api:13500 records\n",
      "INFO:dedupe.api:13600 records\n",
      "INFO:dedupe.api:13700 records\n",
      "INFO:dedupe.api:13800 records\n",
      "INFO:dedupe.api:13900 records\n",
      "INFO:dedupe.api:14000 records\n",
      "INFO:dedupe.api:14100 records\n",
      "INFO:dedupe.api:14200 records\n",
      "INFO:dedupe.api:14300 records\n",
      "INFO:dedupe.api:14400 records\n",
      "INFO:dedupe.api:14500 records\n",
      "INFO:dedupe.api:14600 records\n",
      "INFO:dedupe.api:14700 records\n",
      "INFO:dedupe.api:14800 records\n",
      "INFO:dedupe.api:14900 records\n",
      "INFO:dedupe.api:15000 records\n",
      "INFO:dedupe.api:15100 records\n",
      "INFO:dedupe.api:15200 records\n",
      "INFO:dedupe.api:15300 records\n",
      "INFO:dedupe.api:15400 records\n",
      "INFO:dedupe.api:15500 records\n"
     ]
    }
   ],
   "source": [
    "m3 = linker3.match(p,w, 0.75)"
   ]
  },
  {
   "cell_type": "code",
   "execution_count": 69,
   "metadata": {},
   "outputs": [
    {
     "name": "stdout",
     "output_type": "stream",
     "text": [
      "{'description': 'kit completo suspensao rosca tebao molas preparadas fiesta 1996 2002 fiesta street 2001 2 3922952', 'price': 799.9} {'description': 'kit completo suspensao rosca tebao molas preparadas fiesta 1996 2002 fiesta street 2001 2', 'price': 799.9}\n",
      "{'description': 'conjunto sala jantar mesa 6 cadeiras madesa marselha tabaco / suede perola bege / marrom 2345660', 'price': 1399.9} {'description': 'conjunto sala jantar mesa 6 cadeiras madesa marselha tabaco / suede perola bege / marrom', 'price': 1399.9}\n",
      "{'description': 'kit completo suspensao rosca tebao molas preparadas c4 09 14 pallas 08 13 hatch 04 14 v 3922882', 'price': 799.9} {'description': 'kit completo suspensao rosca tebao molas preparadas c4 09 14 pallas 08 13 hatch 04 14 v', 'price': 799.9}\n",
      "{'description': 'kit amortecedor dianteiro axios br10004402513 c3 03 / partir 2003 cada 01 unidade 3862590', 'price': 27.62} {'description': 'kit amortecedor dianteiro axios br10004402513 c3 03 / partir 2003 cada 01 unidade', 'price': 27.62}\n",
      "{'description': 'calco macaneta externa porta dianteira direito scania serie iv , serie v98 3743143', 'price': 150.48} {'description': 'calco macaneta externa porta dianteira direito scania serie iv , serie v98', 'price': 150.48}\n",
      "{'description': 'kit completo suspensao rosca tebao molas preparadas polo sedan 2003 2015 3922960', 'price': 799.0} {'description': 'kit completo suspensao rosca tebao molas preparadas polo sedan 2003 2015', 'price': 799.0}\n",
      "{'description': 'kit reparo amortecedor dianteiro batente guarda po mohave , sorento 3750595', 'price': 122.0} {'description': 'kit reparo amortecedor dianteiro batente guarda po mohave , sorento', 'price': 122.01}\n",
      "{'description': 'molinete beta branco 800 fd aluminio betaii800 marine sports 2231253', 'price': 105.9} {'description': 'molinete beta branco 800 fd aluminio betaii800 marine sports', 'price': 105.9}\n",
      "{'description': 'molinete ms altima micro new carretel aluminio marine sports 2187314', 'price': 81.9} {'description': 'molinete ms altima micro new carretel aluminio marine sports', 'price': 81.9}\n",
      "{'description': 'chicote principal fiacao honda xlr125 1997 2000 - magnetron 2645191', 'price': 103.15} {'description': 'chicote principal fiacao honda xlr125 1997 2000 - magnetron', 'price': 103.15}\n",
      "{'description': 'molinete ms carretel aluminio altima 2000 new marine sports 2185600', 'price': 111.9} {'description': 'molinete ms carretel aluminio altima 2000 new marine sports', 'price': 111.9}\n",
      "{'description': 'barra olimpica oxido negro 200 cm natural fitness crossfit 3245430', 'price': 1750.0} {'description': 'barra olimpica oxido negro 200 cm natural fitness crossfit', 'price': 1750.0}\n",
      "{'description': 'molinete praia sea master aluminio sm - 5000 marine sports 2186396', 'price': 223.9} {'description': 'molinete praia sea master aluminio sm - 5000 marine sports', 'price': 223.9}\n",
      "{'description': 'kit suporte trava eletrica gm montana 2 portas 2002 2009 2616757', 'price': 16.85} {'description': 'kit suporte trava eletrica gm montana 2 portas 2002 2009', 'price': 16.85}\n",
      "{'description': 'grade dianteira filetada uno fiorino 04 05 preta emblema 3709545', 'price': 74.9} {'description': 'grade dianteira filetada uno fiorino 04 05 preta emblema', 'price': 74.9}\n",
      "{'description': 'molinete altima 6000 sistema balanceado marine sports 2186392', 'price': 148.9} {'description': 'molinete altima 6000 sistema balanceado marine sports', 'price': 148.9}\n",
      "{'description': 'molinete altima 5000 sistema balanceado marine sports 2186391', 'price': 145.9} {'description': 'molinete altima 5000 sistema balanceado marine sports', 'price': 145.9}\n",
      "{'description': 'molinete pesca laguna 500 5 rolamentos marine sports 2185766', 'price': 45.9} {'description': 'molinete pesca laguna 500 5 rolamentos marine sports', 'price': 45.9}\n",
      "{'description': 'molinete pesca force 2000 3 rolamentos marine sports 2187249', 'price': 63.9} {'description': 'molinete pesca force 2000 3 rolamentos marine sports', 'price': 63.9}\n",
      "{'description': 'molinete pesca force 4000 3 rolamentos marine sports 2185798', 'price': 70.9} {'description': 'molinete pesca force 4000 3 rolamentos marine sports', 'price': 70.9}\n",
      "{'description': 'linha samurai braid 8 fios 150 jardas - 135m verde 3690559', 'price': 153.63} {'description': 'linha samurai braid 8 fios 150 jardas - 135m verde', 'price': 153.64}\n",
      "{'description': 'molinete pesca arena traseira 2000 marine sports 2185649', 'price': 27.9} {'description': 'molinete pesca arena traseira 2000 marine sports', 'price': 27.9}\n",
      "{'description': 'jogo 2 cadeiras fixa c - 724 premium branco 3825259', 'price': 412.9} {'description': 'jogo 2 cadeiras fixa c - 724 premium branco', 'price': 412.9}\n",
      "{'description': 'jogo 2 cadeiras fixa c - 728 premium branco 3825323', 'price': 489.9} {'description': 'jogo 2 cadeiras fixa c - 728 premium branco', 'price': 489.9}\n",
      "{'description': 'jogo 2 cadeiras fixa c - 694 premium branco 3825311', 'price': 542.9} {'description': 'jogo 2 cadeiras fixa c - 694 premium branco', 'price': 542.9}\n",
      "{'description': 'jogo 2 cadeiras fixa c - 728 premium preto 3825249', 'price': 489.9} {'description': 'jogo 2 cadeiras fixa c - 728 premium preto', 'price': 489.9}\n",
      "{'description': 'jogo 2 cadeiras fixa c - 724 premium preto 3825317', 'price': 412.9} {'description': 'jogo 2 cadeiras fixa c - 724 premium preto', 'price': 412.9}\n",
      "{'description': 'jogo 2 cadeiras fixa c - 694 premium preto 3825366', 'price': 542.9} {'description': 'jogo 2 cadeiras fixa c - 694 premium preto', 'price': 542.9}\n",
      "{'description': 'pneu dunlop 235 / 75r15 104s grandtrek at3 3740001', 'price': 676.24} {'description': 'pneu dunlop 235 / 75r15 104s grandtrek at3', 'price': 676.24}\n",
      "{'description': 'pneu nexen 235 / 70r16 106s roat pro ra8 3739851', 'price': 647.03} {'description': 'pneu nexen 235 / 70r16 106s roat pro ra8', 'price': 647.03}\n",
      "{'description': 'espelho auxiliar redondo universal 50mm 4024925', 'price': 6.08} {'description': 'espelho auxiliar redondo universal 50mm', 'price': 6.08}\n",
      "{'description': 'capacete moto wished black and red fs811 mormaii 60 1926751', 'price': 288.9} {'description': 'capacete moto wished black and red fs811 mormaii', 'price': 288.9}\n",
      "{'description': 'capacete motocross cooler yellow fs 603 mormaii 58 1926946', 'price': 346.9} {'description': 'capacete motocross cooler yellow fs 603 mormaii', 'price': 346.9}\n",
      "{'description': 'escapamento turbo esportivo pro tork honda titan 150 2004 2008 esd + brinde 3582479', 'price': 124.46} {'description': 'escapamento turbo esportivo pro tork honda titan 150 2004 2008 esd + brinde', 'price': 121.22}\n",
      "{'description': 'atuador marcha lenta - 808524 - dpl 3737155', 'price': 41.19} {'description': 'atuador marcha lenta - 808524 - dpl', 'price': 41.19}\n",
      "{'description': 'aplicador pretinho mandala 1592710', 'price': 3.49} {'description': 'aplicador pretinho mandala', 'price': 3.49}\n",
      "{'description': 'jogo mesa redonda heineken 2 cadeiras ipanema mel - moveis parana 3489152', 'price': 869.89} {'description': 'jogo mesa redonda heineken 2 cadeiras ipanema mel - moveis parana', 'price': 826.4}\n",
      "{'description': 'jogo mesa 70 70 heineken 2 cadeiras santa fe mel - moveis parana 3489119', 'price': 939.89} {'description': 'jogo mesa 70 70 heineken 2 cadeiras santa fe mel - moveis parana', 'price': 892.9}\n",
      "{'description': 'jogo mesa redonda heineken 4 cadeiras bahia mel - moveis parana 3489157', 'price': 1095.9} {'description': 'jogo mesa redonda heineken 4 cadeiras bahia mel - moveis parana', 'price': 1041.1}\n",
      "{'description': 'jogo mesa 70 70 brahma 4 cadeiras santa fe mel - moveis parana 3489109', 'price': 1339.87} {'description': 'jogo mesa 70 70 brahma 4 cadeiras santa fe mel - moveis parana', 'price': 1272.9}\n",
      "{'description': 'homem ferro mark xxx - vingadores ultron funko mystery minis 2066160', 'price': 54.9} {'description': 'homem ferro mark xxx - vingadores ultron funko mystery minis', 'price': 51.9}\n",
      "{'description': 'punisher nemesis justiceiro funko pop marvel 3378497', 'price': 102.9} {'description': 'punisher nemesis justiceiro funko pop marvel', 'price': 95.9}\n"
     ]
    }
   ],
   "source": [
    "for i in m3:\n",
    "    print(p[i[0][0]], w[i[0][1]])"
   ]
  },
  {
   "cell_type": "code",
   "execution_count": 46,
   "metadata": {
    "scrolled": true
   },
   "outputs": [
    {
     "name": "stderr",
     "output_type": "stream",
     "text": [
      "INFO:dedupe.canopy_index:Removing stop word el\n",
      "INFO:dedupe.canopy_index:Removing stop word an\n",
      "INFO:dedupe.canopy_index:Removing stop word de\n",
      "INFO:dedupe.canopy_index:Removing stop word or\n",
      "INFO:dedupe.canopy_index:Removing stop word me\n",
      "INFO:dedupe.canopy_index:Removing stop word am\n",
      "INFO:dedupe.canopy_index:Removing stop word gi\n",
      "INFO:dedupe.canopy_index:Removing stop word ca\n",
      "INFO:dedupe.canopy_index:Removing stop word pi\n",
      "INFO:dedupe.canopy_index:Removing stop word ai\n",
      "INFO:dedupe.canopy_index:Removing stop word em\n",
      "INFO:dedupe.canopy_index:Removing stop word is\n",
      "INFO:dedupe.canopy_index:Removing stop word in\n",
      "INFO:dedupe.canopy_index:Removing stop word se\n",
      "INFO:dedupe.canopy_index:Removing stop word 85\n",
      "INFO:dedupe.blocking:Canopy: TfidfNGramSearchPredicate: (0.6, description)\n",
      "INFO:dedupe.blocking:10000, 3.6636972 seconds\n",
      "INFO:dedupe.api:0 records\n",
      "INFO:dedupe.blocking:10000, 5.6282202 seconds\n",
      "INFO:dedupe.api:Maximum expected recall and precision\n",
      "INFO:dedupe.api:recall: 1.000\n",
      "INFO:dedupe.api:precision: 1.000\n",
      "INFO:dedupe.api:With threshold: 0.998\n"
     ]
    },
    {
     "data": {
      "text/plain": [
       "0.99767953"
      ]
     },
     "execution_count": 46,
     "metadata": {},
     "output_type": "execute_result"
    }
   ],
   "source": [
    "linker.threshold(p,w, recall_weight=0.5)"
   ]
  },
  {
   "cell_type": "code",
   "execution_count": 44,
   "metadata": {},
   "outputs": [
    {
     "name": "stderr",
     "output_type": "stream",
     "text": [
      "INFO:dedupe.blocking:Canopy: TfidfTextSearchPredicate: (0.8, description)\n",
      "INFO:dedupe.blocking:10000, 1.7508222 seconds\n",
      "INFO:dedupe.api:0 records\n",
      "INFO:dedupe.api:100 records\n",
      "INFO:dedupe.blocking:10000, 0.7619642 seconds\n",
      "INFO:dedupe.api:200 records\n",
      "INFO:dedupe.api:Maximum expected recall and precision\n",
      "INFO:dedupe.api:recall: 0.939\n",
      "INFO:dedupe.api:precision: 0.501\n",
      "INFO:dedupe.api:With threshold: 0.443\n"
     ]
    },
    {
     "data": {
      "text/plain": [
       "0.44262093"
      ]
     },
     "execution_count": 44,
     "metadata": {},
     "output_type": "execute_result"
    }
   ],
   "source": [
    "linker2.threshold(p,w, recall_weight=0.5)"
   ]
  },
  {
   "cell_type": "code",
   "execution_count": 45,
   "metadata": {},
   "outputs": [
    {
     "name": "stderr",
     "output_type": "stream",
     "text": [
      "INFO:dedupe.blocking:10000, 0.8412732 seconds\n",
      "INFO:dedupe.api:0 records\n",
      "INFO:dedupe.api:100 records\n",
      "INFO:dedupe.api:200 records\n",
      "INFO:dedupe.api:300 records\n",
      "INFO:dedupe.api:400 records\n",
      "INFO:dedupe.api:500 records\n",
      "INFO:dedupe.api:600 records\n",
      "INFO:dedupe.api:700 records\n",
      "INFO:dedupe.api:800 records\n",
      "INFO:dedupe.api:900 records\n",
      "INFO:dedupe.api:1000 records\n",
      "INFO:dedupe.api:1100 records\n",
      "INFO:dedupe.api:1200 records\n",
      "INFO:dedupe.api:1300 records\n",
      "INFO:dedupe.api:1400 records\n",
      "INFO:dedupe.api:1500 records\n",
      "INFO:dedupe.api:1600 records\n",
      "INFO:dedupe.api:1700 records\n",
      "INFO:dedupe.api:1800 records\n",
      "INFO:dedupe.api:1900 records\n",
      "INFO:dedupe.api:2000 records\n",
      "INFO:dedupe.api:2100 records\n",
      "INFO:dedupe.api:2200 records\n",
      "INFO:dedupe.api:2300 records\n",
      "INFO:dedupe.api:2400 records\n",
      "INFO:dedupe.api:2500 records\n",
      "INFO:dedupe.api:2600 records\n",
      "INFO:dedupe.api:2700 records\n",
      "INFO:dedupe.api:2800 records\n",
      "INFO:dedupe.api:2900 records\n",
      "INFO:dedupe.api:3000 records\n",
      "INFO:dedupe.api:3100 records\n",
      "INFO:dedupe.api:3200 records\n",
      "INFO:dedupe.api:3300 records\n",
      "INFO:dedupe.api:3400 records\n",
      "INFO:dedupe.api:3500 records\n",
      "INFO:dedupe.api:3600 records\n",
      "INFO:dedupe.api:3700 records\n",
      "INFO:dedupe.api:3800 records\n",
      "INFO:dedupe.api:3900 records\n",
      "INFO:dedupe.api:4000 records\n",
      "INFO:dedupe.api:4100 records\n",
      "INFO:dedupe.api:4200 records\n",
      "INFO:dedupe.api:4300 records\n",
      "INFO:dedupe.api:4400 records\n",
      "INFO:dedupe.api:4500 records\n",
      "INFO:dedupe.api:4600 records\n",
      "INFO:dedupe.api:4700 records\n",
      "INFO:dedupe.api:4800 records\n",
      "INFO:dedupe.api:4900 records\n",
      "INFO:dedupe.api:5000 records\n",
      "INFO:dedupe.api:5100 records\n",
      "INFO:dedupe.api:5200 records\n",
      "INFO:dedupe.api:5300 records\n",
      "INFO:dedupe.api:5400 records\n",
      "INFO:dedupe.api:5500 records\n",
      "INFO:dedupe.api:5600 records\n",
      "INFO:dedupe.api:5700 records\n",
      "INFO:dedupe.api:5800 records\n",
      "INFO:dedupe.api:5900 records\n",
      "INFO:dedupe.api:6000 records\n",
      "INFO:dedupe.api:6100 records\n",
      "INFO:dedupe.api:6200 records\n",
      "INFO:dedupe.api:6300 records\n",
      "INFO:dedupe.api:6400 records\n",
      "INFO:dedupe.api:6500 records\n",
      "INFO:dedupe.api:6600 records\n",
      "INFO:dedupe.api:6700 records\n",
      "INFO:dedupe.api:6800 records\n",
      "INFO:dedupe.api:6900 records\n",
      "INFO:dedupe.api:7000 records\n",
      "INFO:dedupe.api:7100 records\n",
      "INFO:dedupe.api:7200 records\n",
      "INFO:dedupe.api:7300 records\n",
      "INFO:dedupe.api:7400 records\n",
      "INFO:dedupe.api:7500 records\n",
      "INFO:dedupe.api:7600 records\n",
      "INFO:dedupe.api:7700 records\n",
      "INFO:dedupe.api:7800 records\n",
      "INFO:dedupe.api:7900 records\n",
      "INFO:dedupe.api:8000 records\n",
      "INFO:dedupe.api:8100 records\n",
      "INFO:dedupe.api:8200 records\n",
      "INFO:dedupe.api:8300 records\n",
      "INFO:dedupe.api:8400 records\n",
      "INFO:dedupe.api:8500 records\n",
      "INFO:dedupe.api:8600 records\n",
      "INFO:dedupe.api:8700 records\n",
      "INFO:dedupe.api:8800 records\n",
      "INFO:dedupe.api:8900 records\n",
      "INFO:dedupe.api:9000 records\n",
      "INFO:dedupe.api:9100 records\n",
      "INFO:dedupe.api:9200 records\n",
      "INFO:dedupe.api:9300 records\n",
      "INFO:dedupe.api:9400 records\n",
      "INFO:dedupe.api:9500 records\n",
      "INFO:dedupe.api:9600 records\n",
      "INFO:dedupe.api:9700 records\n",
      "INFO:dedupe.api:9800 records\n",
      "INFO:dedupe.api:9900 records\n",
      "INFO:dedupe.blocking:10000, 0.2320082 seconds\n",
      "INFO:dedupe.api:10000 records\n",
      "INFO:dedupe.api:10100 records\n",
      "INFO:dedupe.api:10200 records\n",
      "INFO:dedupe.api:10300 records\n",
      "INFO:dedupe.api:10400 records\n",
      "INFO:dedupe.api:10500 records\n",
      "INFO:dedupe.api:10600 records\n",
      "INFO:dedupe.api:10700 records\n",
      "INFO:dedupe.api:10800 records\n",
      "INFO:dedupe.api:10900 records\n",
      "INFO:dedupe.api:11000 records\n",
      "INFO:dedupe.api:11100 records\n",
      "INFO:dedupe.api:11200 records\n",
      "INFO:dedupe.api:11300 records\n",
      "INFO:dedupe.api:11400 records\n",
      "INFO:dedupe.api:11500 records\n",
      "INFO:dedupe.api:11600 records\n",
      "INFO:dedupe.api:11700 records\n",
      "INFO:dedupe.api:11800 records\n",
      "INFO:dedupe.api:11900 records\n",
      "INFO:dedupe.api:12000 records\n",
      "INFO:dedupe.api:12100 records\n",
      "INFO:dedupe.api:12200 records\n",
      "INFO:dedupe.api:12300 records\n",
      "INFO:dedupe.api:12400 records\n",
      "INFO:dedupe.api:12500 records\n",
      "INFO:dedupe.api:12600 records\n",
      "INFO:dedupe.api:12700 records\n",
      "INFO:dedupe.api:12800 records\n",
      "INFO:dedupe.api:12900 records\n",
      "INFO:dedupe.api:13000 records\n",
      "INFO:dedupe.api:13100 records\n",
      "INFO:dedupe.api:13200 records\n",
      "INFO:dedupe.api:13300 records\n",
      "INFO:dedupe.api:13400 records\n",
      "INFO:dedupe.api:13500 records\n",
      "INFO:dedupe.api:13600 records\n",
      "INFO:dedupe.api:13700 records\n",
      "INFO:dedupe.api:13800 records\n",
      "INFO:dedupe.api:13900 records\n",
      "INFO:dedupe.api:14000 records\n",
      "INFO:dedupe.api:14100 records\n",
      "INFO:dedupe.api:14200 records\n",
      "INFO:dedupe.api:14300 records\n",
      "INFO:dedupe.api:14400 records\n",
      "INFO:dedupe.api:14500 records\n",
      "INFO:dedupe.api:14600 records\n",
      "INFO:dedupe.api:14700 records\n",
      "INFO:dedupe.api:14800 records\n",
      "INFO:dedupe.api:14900 records\n",
      "INFO:dedupe.api:15000 records\n",
      "INFO:dedupe.api:15100 records\n",
      "INFO:dedupe.api:15200 records\n",
      "INFO:dedupe.api:15300 records\n",
      "INFO:dedupe.api:15400 records\n",
      "INFO:dedupe.api:15500 records\n",
      "INFO:dedupe.api:Maximum expected recall and precision\n",
      "INFO:dedupe.api:recall: 0.723\n",
      "INFO:dedupe.api:precision: 0.743\n",
      "INFO:dedupe.api:With threshold: 0.592\n"
     ]
    },
    {
     "data": {
      "text/plain": [
       "0.59180754"
      ]
     },
     "execution_count": 45,
     "metadata": {},
     "output_type": "execute_result"
    }
   ],
   "source": [
    "linker3.threshold(p,w, recall_weight=0.5)"
   ]
  },
  {
   "cell_type": "code",
   "execution_count": 66,
   "metadata": {},
   "outputs": [
    {
     "data": {
      "text/plain": [
       "[(('3362', '10589'), 0.57063758),\n",
       " (('12378', '6567'), 0.57016164),\n",
       " (('12509', '3609'), 0.56956112),\n",
       " (('11562', '4750'), 0.55734891),\n",
       " (('7205', '6391'), 0.55020803),\n",
       " (('3384', '10415'), 0.54823756),\n",
       " (('5313', '6222'), 0.54748064),\n",
       " (('11806', '1447'), 0.54457325),\n",
       " (('12158', '14180'), 0.5438655),\n",
       " (('6225', '5239'), 0.54313618),\n",
       " (('3912', '14842'), 0.54190528),\n",
       " (('2458', '10753'), 0.54150987),\n",
       " (('5330', '6242'), 0.54139906),\n",
       " (('14149', '1720'), 0.54095662),\n",
       " (('9664', '13222'), 0.53880292),\n",
       " (('11151', '9799'), 0.53826517),\n",
       " (('1495', '9977'), 0.53778887),\n",
       " (('860', '13588'), 0.5364548),\n",
       " (('1485', '9986'), 0.53617513),\n",
       " (('9654', '13225'), 0.5359323),\n",
       " (('2673', '1949'), 0.53439832),\n",
       " (('13068', '2352'), 0.53374159),\n",
       " (('3872', '12007'), 0.53220034),\n",
       " (('2467', '10770'), 0.5317288),\n",
       " (('12138', '14177'), 0.53163075),\n",
       " (('11071', '2887'), 0.53066498),\n",
       " (('14513', '13603'), 0.52955908),\n",
       " (('10404', '2125'), 0.5281083),\n",
       " (('7173', '10623'), 0.52781904),\n",
       " (('9659', '13223'), 0.52746564),\n",
       " (('3765', '4178'), 0.52742797),\n",
       " (('9321', '2599'), 0.52715808),\n",
       " (('3756', '4181'), 0.52339876),\n",
       " (('6215', '5610'), 0.52323484),\n",
       " (('9718', '9766'), 0.52297872),\n",
       " (('8556', '6504'), 0.52270412),\n",
       " (('13069', '2341'), 0.52267456),\n",
       " (('7659', '7355'), 0.52244115),\n",
       " (('7368', '9590'), 0.52183896),\n",
       " (('12154', '1146'), 0.52091277),\n",
       " (('2797', '12666'), 0.52035838),\n",
       " (('9669', '13219'), 0.51951951),\n",
       " (('3764', '4416'), 0.51717013),\n",
       " (('7652', '13579'), 0.51637262),\n",
       " (('3772', '4401'), 0.5161376),\n",
       " (('3885', '6347'), 0.51613081),\n",
       " (('13080', '3824'), 0.51608306),\n",
       " (('5143', '13477'), 0.51595521),\n",
       " (('221', '11664'), 0.5154289),\n",
       " (('13435', '5248'), 0.51530582),\n",
       " (('3758', '4174'), 0.51527357),\n",
       " (('12148', '1153'), 0.51474279),\n",
       " (('8315', '2334'), 0.5143345),\n",
       " (('1503', '9997'), 0.51345736),\n",
       " (('5142', '13482'), 0.51341718),\n",
       " (('357', '12671'), 0.51307189),\n",
       " (('12384', '2415'), 0.51285458),\n",
       " (('5145', '13480'), 0.51249915),\n",
       " (('5147', '13478'), 0.51249915),\n",
       " (('7800', '1012'), 0.51228607),\n",
       " (('3215', '15014'), 0.51160204),\n",
       " (('12013', '9883'), 0.51132607),\n",
       " (('6285', '3647'), 0.51123261),\n",
       " (('607', '4351'), 0.51092368),\n",
       " (('592', '4339'), 0.51060265),\n",
       " (('11573', '5806'), 0.5104655),\n",
       " (('8783', '445'), 0.51000059),\n",
       " (('8564', '6509'), 0.50992119),\n",
       " (('9356', '14157'), 0.50975913),\n",
       " (('3882', '11989'), 0.50974154),\n",
       " (('15530', '10457'), 0.50964469),\n",
       " (('5138', '13481'), 0.50964111),\n",
       " (('5150', '9903'), 0.50964111),\n",
       " (('9667', '13227'), 0.50918335),\n",
       " (('12389', '2412'), 0.50915051),\n",
       " (('11500', '6926'), 0.50826269),\n",
       " (('1743', '943'), 0.50821507),\n",
       " (('15275', '990'), 0.50780773),\n",
       " (('7660', '7363'), 0.50735056),\n",
       " (('13801', '3999'), 0.50684738),\n",
       " (('6597', '509'), 0.50666505),\n",
       " (('14085', '14365'), 0.50598633),\n",
       " (('1650', '11599'), 0.50588757),\n",
       " (('11590', '12031'), 0.50561577),\n",
       " (('14834', '10972'), 0.50397044),\n",
       " (('10378', '11602'), 0.50393367),\n",
       " (('224', '11665'), 0.50335085),\n",
       " (('3899', '5398'), 0.503021),\n",
       " (('6384', '8871'), 0.50295895),\n",
       " (('14362', '515'), 0.50271964),\n",
       " (('3886', '11997'), 0.50251859),\n",
       " (('3775', '4187'), 0.50246471),\n",
       " (('3879', '11995'), 0.5019629),\n",
       " (('12979', '15092'), 0.50173432),\n",
       " (('10751', '5492'), 0.50150031),\n",
       " (('4070', '9980'), 0.50106406),\n",
       " (('3875', '11992'), 0.50086957),\n",
       " (('3876', '11988'), 0.50075954),\n",
       " (('11031', '8533'), 0.50072122)]"
      ]
     },
     "execution_count": 66,
     "metadata": {},
     "output_type": "execute_result"
    }
   ],
   "source": [
    "m2"
   ]
  },
  {
   "cell_type": "code",
   "execution_count": 67,
   "metadata": {},
   "outputs": [
    {
     "data": {
      "text/plain": [
       "[(('2656', '3078'), 0.80469275),\n",
       " (('1503', '9998'), 0.80459869),\n",
       " (('2663', '3075'), 0.80450255),\n",
       " (('15267', '14646'), 0.80387741),\n",
       " (('11970', '12262'), 0.80302405),\n",
       " (('2662', '3074'), 0.80275083),\n",
       " (('1654', '11598'), 0.80196816),\n",
       " (('3881', '12000'), 0.80074382),\n",
       " (('3886', '11992'), 0.80074382),\n",
       " (('987', '12225'), 0.80054122),\n",
       " (('3875', '6352'), 0.80054122),\n",
       " (('3076', '656'), 0.80033189),\n",
       " (('3872', '11999'), 0.80033189),\n",
       " (('2746', '6929'), 0.79989183),\n",
       " (('9368', '3790'), 0.79989183),\n",
       " (('3868', '6349'), 0.79917222),\n",
       " (('3874', '11993'), 0.79917222),\n",
       " (('3873', '11988'), 0.79891479),\n",
       " (('3885', '6351'), 0.79891479),\n",
       " (('3889', '6356'), 0.79891479),\n",
       " (('15025', '7624'), 0.79834563),\n",
       " (('3870', '11989'), 0.79778296),\n",
       " (('5138', '13480'), 0.79608852),\n",
       " (('5149', '13477'), 0.79608852),\n",
       " (('5150', '13478'), 0.79608852),\n",
       " (('5135', '13482'), 0.79570395),\n",
       " (('5145', '13481'), 0.79570395),\n",
       " (('5147', '9903'), 0.79570395),\n",
       " (('12941', '4932'), 0.79570395),\n",
       " (('12930', '10587'), 0.79488057),\n",
       " (('9187', '6521'), 0.7944392),\n",
       " (('12381', '2414'), 0.7941184),\n",
       " (('12380', '2415'), 0.79374141),\n",
       " (('12805', '601'), 0.79317427),\n",
       " (('11499', '6926'), 0.79243845),\n",
       " (('2581', '40'), 0.78588831),\n",
       " (('3767', '4187'), 0.78176409),\n",
       " (('3771', '4178'), 0.78157222),\n",
       " (('3763', '4401'), 0.7813707),\n",
       " (('3768', '4181'), 0.78117639),\n",
       " (('8314', '2333'), 0.77875721),\n",
       " (('13061', '2910'), 0.76800358),\n",
       " (('12678', '3184'), 0.74557418),\n",
       " (('13256', '3334'), 0.72932458),\n",
       " (('5321', '6233'), 0.72884238),\n",
       " (('3879', '12001'), 0.72817808),\n",
       " (('2266', '8325'), 0.71262825),\n",
       " (('3884', '11991'), 0.71166265)]"
      ]
     },
     "execution_count": 67,
     "metadata": {},
     "output_type": "execute_result"
    }
   ],
   "source": [
    "m3"
   ]
  },
  {
   "cell_type": "code",
   "execution_count": null,
   "metadata": {
    "collapsed": true
   },
   "outputs": [],
   "source": []
  }
 ],
 "metadata": {
  "kernelspec": {
   "display_name": "Python 3",
   "language": "python",
   "name": "python3"
  },
  "language_info": {
   "codemirror_mode": {
    "name": "ipython",
    "version": 3
   },
   "file_extension": ".py",
   "mimetype": "text/x-python",
   "name": "python",
   "nbconvert_exporter": "python",
   "pygments_lexer": "ipython3",
   "version": "3.6.1"
  }
 },
 "nbformat": 4,
 "nbformat_minor": 2
}
