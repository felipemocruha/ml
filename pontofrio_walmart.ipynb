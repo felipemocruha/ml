{
 "cells": [
  {
   "cell_type": "code",
   "execution_count": 21,
   "metadata": {
    "collapsed": true
   },
   "outputs": [],
   "source": [
    "import dedupe\n",
    "import json\n",
    "from cytoolz import *\n",
    "from copy import copy"
   ]
  },
  {
   "cell_type": "code",
   "execution_count": 22,
   "metadata": {
    "collapsed": true
   },
   "outputs": [],
   "source": [
    "fields = [{'field': 'title', 'type': 'String', 'has missing': True},\n",
    "         {'field': 'twitter:title', 'type': 'String', 'has missing': True},\n",
    "         {'field': 'og:title', 'type': 'String', 'has missing': True},\n",
    "         {'field': 'description', 'type': 'Text', 'has missing': True},\n",
    "         {'field': 'twitter:description', 'type': 'Text', 'has missing': True},\n",
    "         {'field': 'og:description', 'type': 'Text', 'has missing': True}]"
   ]
  },
  {
   "cell_type": "code",
   "execution_count": 23,
   "metadata": {
    "collapsed": true
   },
   "outputs": [],
   "source": [
    "def is_expected(item):\n",
    "    expected = ['title', 'twitter:title', 'og:title', 'description', 'twitter:description', 'og:description']\n",
    "    return item in expected  \n",
    "\n",
    "\n",
    "def add_field(d, f):\n",
    "    return assoc(d, f, None)\n",
    "\n",
    "\n",
    "def remove_field(d, f):\n",
    "    return dissoc(d, f)        \n",
    "\n",
    "\n",
    "def normalize_dict(d):\n",
    "    expected = ['title', 'twitter:title', 'og:title', 'description', 'twitter:description', 'og:description']\n",
    "    new = keyfilter(is_expected, merge(d))\n",
    "    for field in expected:        \n",
    "        if not new.get(field):\n",
    "            new[field] =  None\n",
    "    return new\n",
    "    \n",
    "\n",
    "def create_labels(index, data):\n",
    "    return {index: data}"
   ]
  },
  {
   "cell_type": "code",
   "execution_count": 24,
   "metadata": {
    "collapsed": true
   },
   "outputs": [],
   "source": [
    "with open('data/pontofrio/parsed_data.json') as f:\n",
    "    pontofrio = json.loads(f.read())['products']\n",
    "\n",
    "with open('data/walmart/parsed_data.json') as f:\n",
    "    walmart = json.loads(f.read())['products']"
   ]
  },
  {
   "cell_type": "code",
   "execution_count": 25,
   "metadata": {},
   "outputs": [],
   "source": [
    "pontofrio_meta = [normalize_dict(offer['meta']) for offer in pontofrio]\n",
    "walmart_meta = [normalize_dict(offer['meta']) for offer in walmart]\n",
    "p = {str(i): pontofrio_meta[i] for i in range(len(pontofrio_meta))}\n",
    "w = {str(i): walmart_meta[i] for i in range(len(walmart_meta))}"
   ]
  },
  {
   "cell_type": "code",
   "execution_count": 26,
   "metadata": {},
   "outputs": [
    {
     "name": "stderr",
     "output_type": "stream",
     "text": [
      "title : teclado mouse logitech wireless mk270 preto - acessorios tecnologia - teclados mouses - walmart.com\n",
      "twitter:title : None\n",
      "og:title : None\n",
      "description : walmart.com , site vendas online brasil .\n",
      "twitter:description : None\n",
      "og:description : None\n",
      "\n",
      "title : teclado logitech wireless k270 - preto - teclados pontofrio.com\n",
      "twitter:title : None\n",
      "og:title : None\n",
      "description : ponto frio .\n",
      "twitter:description : None\n",
      "og:description : None\n",
      "\n",
      "0/10 positive, 0/10 negative\n",
      "Do these records refer to the same thing?\n",
      "(y)es / (n)o / (u)nsure / (f)inished\n"
     ]
    },
    {
     "name": "stdout",
     "output_type": "stream",
     "text": [
      "y\n"
     ]
    },
    {
     "name": "stderr",
     "output_type": "stream",
     "text": [
      "title : purificador agua electrolux branco pe10b - eletroportateis - purificador agua - walmart.com\n",
      "twitter:title : None\n",
      "og:title : None\n",
      "description : walmart.com , site vendas online brasil .\n",
      "twitter:description : None\n",
      "og:description : None\n",
      "\n",
      "title : purificador agua electrolux pe10b bivolt - branco - purificador pontofrio.com\n",
      "twitter:title : None\n",
      "og:title : None\n",
      "description : eletroportateis encontra .\n",
      "twitter:description : None\n",
      "og:description : None\n",
      "\n",
      "1/10 positive, 0/10 negative\n",
      "Do these records refer to the same thing?\n",
      "(y)es / (n)o / (u)nsure / (f)inished / (p)revious\n"
     ]
    },
    {
     "name": "stdout",
     "output_type": "stream",
     "text": [
      "y\n"
     ]
    },
    {
     "name": "stderr",
     "output_type": "stream",
     "text": [
      "title : memoria kingston hyper x fury black 8gb ddr3 1600mhz hx316c10fb 8 - acessorios tecnologia - memoria ram - walmart.com\n",
      "twitter:title : None\n",
      "og:title : None\n",
      "description : walmart.com , site vendas online brasil .\n",
      "twitter:description : None\n",
      "og:description : None\n",
      "\n",
      "title : roteador tp-link tl-wr720n 150mbps antena interna - roteadores pontofrio.com\n",
      "twitter:title : None\n",
      "og:title : None\n",
      "description : roteador tp-link tl-wr720n wireless antena interna . linha roteadores tp-link .\n",
      "twitter:description : None\n",
      "og:description : None\n",
      "\n",
      "2/10 positive, 0/10 negative\n",
      "Do these records refer to the same thing?\n",
      "(y)es / (n)o / (u)nsure / (f)inished / (p)revious\n"
     ]
    },
    {
     "name": "stdout",
     "output_type": "stream",
     "text": [
      "n\n"
     ]
    },
    {
     "name": "stderr",
     "output_type": "stream",
     "text": [
      "title : controle pc dual shock xpad , estilo xbox multilaser js046 - acessorios tecnologia - controles joysticks - walmart.com\n",
      "twitter:title : None\n",
      "og:title : None\n",
      "description : walmart.com , site vendas online brasil .\n",
      "twitter:description : None\n",
      "og:description : None\n",
      "\n",
      "title : lavadora secadora roupas samsung wd10j6410aw wd6000 inox eco bubble programas lavagem - 10,2kg - lava seca pontofrio.com\n",
      "twitter:title : None\n",
      "og:title : None\n",
      "description : lavadora secadora roupas samsung wd10j6410aw wd6000 lavanderia ficara pratica equipada .\n",
      "twitter:description : None\n",
      "og:description : None\n",
      "\n",
      "2/10 positive, 1/10 negative\n",
      "Do these records refer to the same thing?\n",
      "(y)es / (n)o / (u)nsure / (f)inished / (p)revious\n"
     ]
    },
    {
     "name": "stdout",
     "output_type": "stream",
     "text": [
      "n\n"
     ]
    },
    {
     "name": "stderr",
     "output_type": "stream",
     "text": [
      "title : volante ps2 ps3 pc marcha js073 multilaser - acessorios tecnologia - controles joysticks - walmart.com\n",
      "twitter:title : None\n",
      "og:title : None\n",
      "description : walmart.com , site vendas online brasil .\n",
      "twitter:description : None\n",
      "og:description : None\n",
      "\n",
      "title : teclado mouse wireless usb tc162 multilaser - teclados pontofrio.com\n",
      "twitter:title : None\n",
      "og:title : None\n",
      "description : teclado mouse wireless usb tc162 multilaser\n",
      "twitter:description : None\n",
      "og:description : None\n",
      "\n",
      "2/10 positive, 2/10 negative\n",
      "Do these records refer to the same thing?\n",
      "(y)es / (n)o / (u)nsure / (f)inished / (p)revious\n"
     ]
    },
    {
     "name": "stdout",
     "output_type": "stream",
     "text": [
      "n\n"
     ]
    },
    {
     "name": "stderr",
     "output_type": "stream",
     "text": [
      "title : batedeira planetaria oster fpstsmpl2 3 litros 12 velocidades vermelha feita aco - eletroportateis - batedeira - walmart.com\n",
      "twitter:title : None\n",
      "og:title : None\n",
      "description : walmart.com , site vendas online brasil .\n",
      "twitter:description : None\n",
      "og:description : None\n",
      "\n",
      "title : jogo watch dogs - pc - jogos pc pontofrio.com\n",
      "twitter:title : None\n",
      "og:title : None\n",
      "description : jogo watch dogs - pc\n",
      "twitter:description : None\n",
      "og:description : None\n",
      "\n",
      "2/10 positive, 3/10 negative\n",
      "Do these records refer to the same thing?\n",
      "(y)es / (n)o / (u)nsure / (f)inished / (p)revious\n"
     ]
    },
    {
     "name": "stdout",
     "output_type": "stream",
     "text": [
      "n\n"
     ]
    },
    {
     "name": "stderr",
     "output_type": "stream",
     "text": [
      "title : notebook acer intel core i5 8gb 1tb aspire f f5-573g-50ks 15,6 placa video nvidia geforce 940mx windows 10 - informatica - notebooks - walmart.com\n",
      "twitter:title : None\n",
      "og:title : None\n",
      "description : walmart.com , site vendas online brasil .\n",
      "twitter:description : None\n",
      "og:description : None\n",
      "\n",
      "title : jogo watch dogs - pc - jogos pc pontofrio.com\n",
      "twitter:title : None\n",
      "og:title : None\n",
      "description : jogo watch dogs - pc\n",
      "twitter:description : None\n",
      "og:description : None\n",
      "\n",
      "2/10 positive, 4/10 negative\n",
      "Do these records refer to the same thing?\n",
      "(y)es / (n)o / (u)nsure / (f)inished / (p)revious\n"
     ]
    },
    {
     "name": "stdout",
     "output_type": "stream",
     "text": [
      "n\n"
     ]
    },
    {
     "name": "stderr",
     "output_type": "stream",
     "text": [
      "title : smartphone moto z play sound edition xt1635-02 preto dual chip android marshmallow 4g wi-fi camera 16mp + capa vermelha - telefonia - smartphones - walmart.com\n",
      "twitter:title : None\n",
      "og:title : None\n",
      "description : walmart.com , site vendas online brasil .\n",
      "twitter:description : None\n",
      "og:description : None\n",
      "\n",
      "title : jogo watch dogs - pc - jogos pc pontofrio.com\n",
      "twitter:title : None\n",
      "og:title : None\n",
      "description : jogo watch dogs - pc\n",
      "twitter:description : None\n",
      "og:description : None\n",
      "\n",
      "2/10 positive, 5/10 negative\n",
      "Do these records refer to the same thing?\n",
      "(y)es / (n)o / (u)nsure / (f)inished / (p)revious\n"
     ]
    },
    {
     "name": "stdout",
     "output_type": "stream",
     "text": [
      "n\n"
     ]
    },
    {
     "name": "stderr",
     "output_type": "stream",
     "text": [
      "title : dvd player - sony dvp-sr370 - entrada usb frontal , leitor mp3 , preto - eletronicos - dvds blu-ray players - walmart.com\n",
      "twitter:title : None\n",
      "og:title : None\n",
      "description : walmart.com , site vendas online brasil .\n",
      "twitter:description : None\n",
      "og:description : None\n",
      "\n",
      "title : dvd player sony dvp sr370 entrada usb frontal - dvd player pontofrio.com\n",
      "twitter:title : None\n",
      "og:title : None\n",
      "description : perfeito entretenimento . dvd player sony dvp sr370 entrada usb frontal .\n",
      "twitter:description : None\n",
      "og:description : None\n",
      "\n",
      "2/10 positive, 6/10 negative\n",
      "Do these records refer to the same thing?\n",
      "(y)es / (n)o / (u)nsure / (f)inished / (p)revious\n"
     ]
    },
    {
     "name": "stdout",
     "output_type": "stream",
     "text": [
      "y\n"
     ]
    },
    {
     "name": "stderr",
     "output_type": "stream",
     "text": [
      "title : tv monitor led 23.5 '' lg 24mt48df conversor digital 1 hdmi 1 usb - eletronicos - tv monitor - walmart.com\n",
      "twitter:title : None\n",
      "og:title : None\n",
      "description : walmart.com , site vendas online brasil .\n",
      "twitter:description : None\n",
      "og:description : None\n",
      "\n",
      "title : tv monitor led 23.6 '' hd lg 24mt48df-ps conversor digital , gaming mode , time machine , entrada hdmi usb - tv monitor pontofrio.com\n",
      "twitter:title : None\n",
      "og:title : None\n",
      "description : design estilo entretenimento ,\n",
      "twitter:description : None\n",
      "og:description : None\n",
      "\n",
      "3/10 positive, 6/10 negative\n",
      "Do these records refer to the same thing?\n",
      "(y)es / (n)o / (u)nsure / (f)inished / (p)revious\n"
     ]
    },
    {
     "name": "stdout",
     "output_type": "stream",
     "text": [
      "y\n"
     ]
    },
    {
     "name": "stderr",
     "output_type": "stream",
     "text": [
      "title : processador alimentos viva collection ri7632 2 velocidades + pulsar 650w preto vermelho 110v philips walita - eletroportateis - processadores alimentos - walmart.com\n",
      "twitter:title : None\n",
      "og:title : None\n",
      "description : walmart.com , site vendas online brasil .\n",
      "twitter:description : None\n",
      "og:description : None\n",
      "\n",
      "title : grill cadence premier grl299 - grill pontofrio.com\n",
      "twitter:title : None\n",
      "og:title : None\n",
      "description : grill cadence premier grl299 ofertas eletroportateis .\n",
      "twitter:description : None\n",
      "og:description : None\n",
      "\n",
      "4/10 positive, 6/10 negative\n",
      "Do these records refer to the same thing?\n",
      "(y)es / (n)o / (u)nsure / (f)inished / (p)revious\n"
     ]
    },
    {
     "name": "stdout",
     "output_type": "stream",
     "text": [
      "n\n"
     ]
    },
    {
     "name": "stderr",
     "output_type": "stream",
     "text": [
      "title : smartphone motorola moto g 4a geracao plus preto , dual chip , tela 5.5 ' , 32gb , cam 16mp , android 6.0 - telefonia - smartphones - walmart.com\n",
      "twitter:title : None\n",
      "og:title : None\n",
      "description : walmart.com , site vendas online brasil .\n",
      "twitter:description : None\n",
      "og:description : None\n",
      "\n",
      "title : jogo watch dogs - pc - jogos pc pontofrio.com\n",
      "twitter:title : None\n",
      "og:title : None\n",
      "description : jogo watch dogs - pc\n",
      "twitter:description : None\n",
      "og:description : None\n",
      "\n",
      "4/10 positive, 7/10 negative\n",
      "Do these records refer to the same thing?\n",
      "(y)es / (n)o / (u)nsure / (f)inished / (p)revious\n"
     ]
    },
    {
     "name": "stdout",
     "output_type": "stream",
     "text": [
      "n\n"
     ]
    },
    {
     "name": "stderr",
     "output_type": "stream",
     "text": [
      "title : smartphone samsung galaxy a9 sm-a910f preto dual chip android marshmallow 4g camera 16 mp traseira 8mp frontal - telefonia - smartphones - walmart.com\n",
      "twitter:title : None\n",
      "og:title : None\n",
      "description : walmart.com , site vendas online brasil .\n",
      "twitter:description : None\n",
      "og:description : None\n",
      "\n",
      "title : jogo watch dogs - pc - jogos pc pontofrio.com\n",
      "twitter:title : None\n",
      "og:title : None\n",
      "description : jogo watch dogs - pc\n",
      "twitter:description : None\n",
      "og:description : None\n",
      "\n",
      "4/10 positive, 8/10 negative\n",
      "Do these records refer to the same thing?\n",
      "(y)es / (n)o / (u)nsure / (f)inished / (p)revious\n"
     ]
    },
    {
     "name": "stdout",
     "output_type": "stream",
     "text": [
      "n\n"
     ]
    },
    {
     "name": "stderr",
     "output_type": "stream",
     "text": [
      "title : processador alimentos viva collection ri7632 2 velocidades + pulsar 650w preto vermelho 110v philips walita - eletroportateis - processadores alimentos - walmart.com\n",
      "twitter:title : None\n",
      "og:title : None\n",
      "description : walmart.com , site vendas online brasil .\n",
      "twitter:description : None\n",
      "og:description : None\n",
      "\n",
      "title : jogo watch dogs - pc - jogos pc pontofrio.com\n",
      "twitter:title : None\n",
      "og:title : None\n",
      "description : jogo watch dogs - pc\n",
      "twitter:description : None\n",
      "og:description : None\n",
      "\n",
      "4/10 positive, 9/10 negative\n",
      "Do these records refer to the same thing?\n",
      "(y)es / (n)o / (u)nsure / (f)inished / (p)revious\n"
     ]
    },
    {
     "name": "stdout",
     "output_type": "stream",
     "text": [
      "n\n"
     ]
    },
    {
     "name": "stderr",
     "output_type": "stream",
     "text": [
      "title : mouse sensor optico usb 2.0 preto m105 logitech - acessorios tecnologia - teclados mouses - walmart.com\n",
      "twitter:title : None\n",
      "og:title : None\n",
      "description : walmart.com , site vendas online brasil .\n",
      "twitter:description : None\n",
      "og:description : None\n",
      "\n",
      "title : mouse optico usb logitech m105 - preto - mouses pontofrio.com\n",
      "twitter:title : None\n",
      "og:title : None\n",
      "description : mouse ambidestro pratico , linda estampa design arredondado . sinta conforto mouse logitech pode oferecer\n",
      "twitter:description : None\n",
      "og:description : None\n",
      "\n",
      "4/10 positive, 10/10 negative\n",
      "Do these records refer to the same thing?\n",
      "(y)es / (n)o / (u)nsure / (f)inished / (p)revious\n"
     ]
    },
    {
     "name": "stdout",
     "output_type": "stream",
     "text": [
      "y\n"
     ]
    },
    {
     "name": "stderr",
     "output_type": "stream",
     "text": [
      "title : refrigerador brastemp clean brm39ek 352 litros 2 portas frost free platinum - eletrodomesticos - geladeiras 2 portas - walmart.com\n",
      "twitter:title : None\n",
      "og:title : None\n",
      "description : walmart.com , site vendas online brasil .\n",
      "twitter:description : None\n",
      "og:description : None\n",
      "\n",
      "title : refrigerador brastemp clean brm39eb frost free duplex 352l - branco - frost free pontofrio.com\n",
      "twitter:title : None\n",
      "og:title : None\n",
      "description : refrigerador brastemp frost free duplex clean brm39eb - 352 l ofertas eletrodomesticos .\n",
      "twitter:description : None\n",
      "og:description : None\n",
      "\n",
      "5/10 positive, 10/10 negative\n",
      "Do these records refer to the same thing?\n",
      "(y)es / (n)o / (u)nsure / (f)inished / (p)revious\n"
     ]
    },
    {
     "name": "stdout",
     "output_type": "stream",
     "text": [
      "y\n"
     ]
    },
    {
     "name": "stderr",
     "output_type": "stream",
     "text": [
      "title : tablet multilaser m7 3g , quad core , tela 7 ' , 8gb memoria , dual chip , wi-fi , preto nb223 - tablets - tablets - walmart.com\n",
      "twitter:title : None\n",
      "og:title : None\n",
      "description : walmart.com , site vendas online brasil .\n",
      "twitter:description : None\n",
      "og:description : None\n",
      "\n",
      "title : tablet multilaser m7 3g quad core branco tela 7 , 8gb , camera 2mp , bluetooth , wi-fi , android 4.4 , dual chip processador quad core - tablet android pontofrio.com\n",
      "twitter:title : None\n",
      "og:title : None\n",
      "description : perca tablet multilaser m7 3g quad core super .\n",
      "twitter:description : None\n",
      "og:description : None\n",
      "\n",
      "6/10 positive, 10/10 negative\n",
      "Do these records refer to the same thing?\n",
      "(y)es / (n)o / (u)nsure / (f)inished / (p)revious\n"
     ]
    },
    {
     "name": "stdout",
     "output_type": "stream",
     "text": [
      "y\n"
     ]
    },
    {
     "name": "stderr",
     "output_type": "stream",
     "text": [
      "title : projetor epson powerlite s27 2700 ansi lumens svga contraste 10.000:1 3lcd hdmi wireless ready branco - acessorios tecnologia - projetores - walmart.com\n",
      "twitter:title : None\n",
      "og:title : None\n",
      "description : walmart.com , site vendas online brasil .\n",
      "twitter:description : None\n",
      "og:description : None\n",
      "\n",
      "title : jogo watch dogs - pc - jogos pc pontofrio.com\n",
      "twitter:title : None\n",
      "og:title : None\n",
      "description : jogo watch dogs - pc\n",
      "twitter:description : None\n",
      "og:description : None\n",
      "\n",
      "7/10 positive, 10/10 negative\n",
      "Do these records refer to the same thing?\n",
      "(y)es / (n)o / (u)nsure / (f)inished / (p)revious\n"
     ]
    },
    {
     "name": "stdout",
     "output_type": "stream",
     "text": [
      "n\n"
     ]
    },
    {
     "name": "stderr",
     "output_type": "stream",
     "text": [
      "title : smartphone motorola moto g 4a geracao plus preto , dual chip , tela 5.5 ' , 32gb , cam 16mp , android 6.0 - telefonia - smartphones - walmart.com\n",
      "twitter:title : None\n",
      "og:title : None\n",
      "description : walmart.com , site vendas online brasil .\n",
      "twitter:description : None\n",
      "og:description : None\n",
      "\n",
      "title : painel home edn neo tv 60 - racks paineis pontofrio.com\n",
      "twitter:title : None\n",
      "og:title : None\n",
      "description : encontra precos produtos familia . clique\n",
      "twitter:description : None\n",
      "og:description : None\n",
      "\n",
      "7/10 positive, 11/10 negative\n",
      "Do these records refer to the same thing?\n",
      "(y)es / (n)o / (u)nsure / (f)inished / (p)revious\n"
     ]
    },
    {
     "name": "stdout",
     "output_type": "stream",
     "text": [
      "n\n"
     ]
    },
    {
     "name": "stderr",
     "output_type": "stream",
     "text": [
      "title : computador all in one acer intel pentium quad core 4gb 500gb az1-752-bc52 19,5 ' windows 10 branco - informatica - all in one - walmart.com\n",
      "twitter:title : None\n",
      "og:title : None\n",
      "description : walmart.com , site vendas online brasil .\n",
      "twitter:description : None\n",
      "og:description : None\n",
      "\n",
      "title : jogo watch dogs - pc - jogos pc pontofrio.com\n",
      "twitter:title : None\n",
      "og:title : None\n",
      "description : jogo watch dogs - pc\n",
      "twitter:description : None\n",
      "og:description : None\n",
      "\n",
      "7/10 positive, 12/10 negative\n",
      "Do these records refer to the same thing?\n",
      "(y)es / (n)o / (u)nsure / (f)inished / (p)revious\n"
     ]
    },
    {
     "name": "stdout",
     "output_type": "stream",
     "text": [
      "n\n"
     ]
    },
    {
     "name": "stderr",
     "output_type": "stream",
     "text": [
      "title : bicicleta aro 700 next highway 1 black 21 marchas speed - esporte lazer - bicicletas - walmart.com\n",
      "twitter:title : None\n",
      "og:title : None\n",
      "description : walmart.com , site vendas online brasil .\n",
      "twitter:description : None\n",
      "og:description : None\n",
      "\n",
      "title : bicicleta aro 26 caloi montana 21 marchas - aro 26 pontofrio.com\n",
      "twitter:title : None\n",
      "og:title : None\n",
      "description : especial : bicicleta aro 26 caloi montana 21 marchas encontra . novidades\n",
      "twitter:description : None\n",
      "og:description : None\n",
      "\n",
      "7/10 positive, 13/10 negative\n",
      "Do these records refer to the same thing?\n",
      "(y)es / (n)o / (u)nsure / (f)inished / (p)revious\n"
     ]
    },
    {
     "name": "stdout",
     "output_type": "stream",
     "text": [
      "n\n"
     ]
    },
    {
     "name": "stderr",
     "output_type": "stream",
     "text": [
      "title : projetor epson powerlite s27 2700 ansi lumens svga contraste 10.000:1 3lcd hdmi wireless ready branco - acessorios tecnologia - projetores - walmart.com\n",
      "twitter:title : None\n",
      "og:title : None\n",
      "description : walmart.com , site vendas online brasil .\n",
      "twitter:description : None\n",
      "og:description : None\n",
      "\n",
      "title : grill cadence premier grl299 - grill pontofrio.com\n",
      "twitter:title : None\n",
      "og:title : None\n",
      "description : grill cadence premier grl299 ofertas eletroportateis .\n",
      "twitter:description : None\n",
      "og:description : None\n",
      "\n",
      "7/10 positive, 14/10 negative\n",
      "Do these records refer to the same thing?\n",
      "(y)es / (n)o / (u)nsure / (f)inished / (p)revious\n"
     ]
    },
    {
     "name": "stdout",
     "output_type": "stream",
     "text": [
      "n\n"
     ]
    },
    {
     "name": "stderr",
     "output_type": "stream",
     "text": [
      "title : omeleteira duo plus bro2 - britania - eletroportateis - cozinha criativa - walmart.com\n",
      "twitter:title : None\n",
      "og:title : None\n",
      "description : walmart.com , site vendas online brasil .\n",
      "twitter:description : None\n",
      "og:description : None\n",
      "\n",
      "title : omeleteira britania duo plus bro2 - omeleteira pontofrio.com\n",
      "twitter:title : None\n",
      "og:title : None\n",
      "description : omeleteira britania duo plus bro2 ofertas eletroportateis .\n",
      "twitter:description : None\n",
      "og:description : None\n",
      "\n",
      "7/10 positive, 15/10 negative\n",
      "Do these records refer to the same thing?\n",
      "(y)es / (n)o / (u)nsure / (f)inished / (p)revious\n"
     ]
    },
    {
     "name": "stdout",
     "output_type": "stream",
     "text": [
      "y\n"
     ]
    },
    {
     "name": "stderr",
     "output_type": "stream",
     "text": [
      "title : smartphone motorola moto g4 plus xt1640 branco dual chip 32gb android marshmallow 4g wi-fi camera 16 mp - telefonia - smartphones - walmart.com\n",
      "twitter:title : None\n",
      "og:title : None\n",
      "description : walmart.com , site vendas online brasil .\n",
      "twitter:description : None\n",
      "og:description : None\n",
      "\n",
      "title : jogo watch dogs - pc - jogos pc pontofrio.com\n",
      "twitter:title : None\n",
      "og:title : None\n",
      "description : jogo watch dogs - pc\n",
      "twitter:description : None\n",
      "og:description : None\n",
      "\n",
      "8/10 positive, 15/10 negative\n",
      "Do these records refer to the same thing?\n",
      "(y)es / (n)o / (u)nsure / (f)inished / (p)revious\n"
     ]
    },
    {
     "name": "stdout",
     "output_type": "stream",
     "text": [
      "n\n"
     ]
    },
    {
     "name": "stderr",
     "output_type": "stream",
     "text": [
      "title : notebook acer intel core i5 8gb 1tb aspire f f5-573g-50ks 15,6 placa video nvidia geforce 940mx windows 10 - informatica - notebooks - walmart.com\n",
      "twitter:title : None\n",
      "og:title : None\n",
      "description : walmart.com , site vendas online brasil .\n",
      "twitter:description : None\n",
      "og:description : None\n",
      "\n",
      "title : grill cadence premier grl299 - grill pontofrio.com\n",
      "twitter:title : None\n",
      "og:title : None\n",
      "description : grill cadence premier grl299 ofertas eletroportateis .\n",
      "twitter:description : None\n",
      "og:description : None\n",
      "\n",
      "8/10 positive, 16/10 negative\n",
      "Do these records refer to the same thing?\n",
      "(y)es / (n)o / (u)nsure / (f)inished / (p)revious\n"
     ]
    },
    {
     "name": "stdout",
     "output_type": "stream",
     "text": [
      "n\n"
     ]
    },
    {
     "name": "stderr",
     "output_type": "stream",
     "text": [
      "title : projetor epson powerlite s27 2700 ansi lumens svga contraste 10.000:1 3lcd hdmi wireless ready branco - acessorios tecnologia - projetores - walmart.com\n",
      "twitter:title : None\n",
      "og:title : None\n",
      "description : walmart.com , site vendas online brasil .\n",
      "twitter:description : None\n",
      "og:description : None\n",
      "\n",
      "title : painel home edn neo tv 60 - racks paineis pontofrio.com\n",
      "twitter:title : None\n",
      "og:title : None\n",
      "description : encontra precos produtos familia . clique\n",
      "twitter:description : None\n",
      "og:description : None\n",
      "\n",
      "8/10 positive, 17/10 negative\n",
      "Do these records refer to the same thing?\n",
      "(y)es / (n)o / (u)nsure / (f)inished / (p)revious\n"
     ]
    },
    {
     "name": "stdout",
     "output_type": "stream",
     "text": [
      "n\n"
     ]
    },
    {
     "name": "stderr",
     "output_type": "stream",
     "text": [
      "title : processador alimentos viva collection ri7632 2 velocidades + pulsar 650w preto vermelho 110v philips walita - eletroportateis - processadores alimentos - walmart.com\n",
      "twitter:title : None\n",
      "og:title : None\n",
      "description : walmart.com , site vendas online brasil .\n",
      "twitter:description : None\n",
      "og:description : None\n",
      "\n",
      "title : painel home edn neo tv 60 - racks paineis pontofrio.com\n",
      "twitter:title : None\n",
      "og:title : None\n",
      "description : encontra precos produtos familia . clique\n",
      "twitter:description : None\n",
      "og:description : None\n",
      "\n",
      "8/10 positive, 18/10 negative\n",
      "Do these records refer to the same thing?\n",
      "(y)es / (n)o / (u)nsure / (f)inished / (p)revious\n"
     ]
    },
    {
     "name": "stdout",
     "output_type": "stream",
     "text": [
      "n\n"
     ]
    },
    {
     "name": "stderr",
     "output_type": "stream",
     "text": [
      "title : batedeira planetaria oster fpstsmpl2 3 litros 12 velocidades vermelha feita aco - eletroportateis - batedeira - walmart.com\n",
      "twitter:title : None\n",
      "og:title : None\n",
      "description : walmart.com , site vendas online brasil .\n",
      "twitter:description : None\n",
      "og:description : None\n",
      "\n",
      "title : batedeira planetaria orbital colors 127v vermelha cadence - batedeira pontofrio.com\n",
      "twitter:title : None\n",
      "og:title : None\n",
      "description : batedeira planetaria orbital colors 127v vermelha cadence\n",
      "twitter:description : None\n",
      "og:description : None\n",
      "\n",
      "8/10 positive, 19/10 negative\n",
      "Do these records refer to the same thing?\n",
      "(y)es / (n)o / (u)nsure / (f)inished / (p)revious\n"
     ]
    },
    {
     "name": "stdout",
     "output_type": "stream",
     "text": [
      "n\n"
     ]
    },
    {
     "name": "stderr",
     "output_type": "stream",
     "text": [
      "title : bicicleta aro 700 next highway 1 white 21 marchas speed - esporte lazer - bicicletas - walmart.com\n",
      "twitter:title : None\n",
      "og:title : None\n",
      "description : walmart.com , site vendas online brasil .\n",
      "twitter:description : None\n",
      "og:description : None\n",
      "\n",
      "title : bicicleta aro 26 caloi montana 21 marchas - aro 26 pontofrio.com\n",
      "twitter:title : None\n",
      "og:title : None\n",
      "description : especial : bicicleta aro 26 caloi montana 21 marchas encontra . novidades\n",
      "twitter:description : None\n",
      "og:description : None\n",
      "\n",
      "8/10 positive, 20/10 negative\n",
      "Do these records refer to the same thing?\n",
      "(y)es / (n)o / (u)nsure / (f)inished / (p)revious\n"
     ]
    },
    {
     "name": "stdout",
     "output_type": "stream",
     "text": [
      "n\n"
     ]
    },
    {
     "name": "stderr",
     "output_type": "stream",
     "text": [
      "title : tablet m7s quad core + teclado multilaser - nb196 - tablets - tablets - walmart.com\n",
      "twitter:title : None\n",
      "og:title : None\n",
      "description : walmart.com , site vendas online brasil .\n",
      "twitter:description : None\n",
      "og:description : None\n",
      "\n",
      "title : tablet multilaser m7 3g quad core branco tela 7 , 8gb , camera 2mp , bluetooth , wi-fi , android 4.4 , dual chip processador quad core - tablet android pontofrio.com\n",
      "twitter:title : None\n",
      "og:title : None\n",
      "description : perca tablet multilaser m7 3g quad core super .\n",
      "twitter:description : None\n",
      "og:description : None\n",
      "\n",
      "8/10 positive, 21/10 negative\n",
      "Do these records refer to the same thing?\n",
      "(y)es / (n)o / (u)nsure / (f)inished / (p)revious\n"
     ]
    },
    {
     "name": "stdout",
     "output_type": "stream",
     "text": [
      "y\n"
     ]
    },
    {
     "name": "stderr",
     "output_type": "stream",
     "text": [
      "title : smartphone motorola moto g4 plus xt1640 branco dual chip 32gb android marshmallow 4g wi-fi camera 16 mp - telefonia - smartphones - walmart.com\n",
      "twitter:title : None\n",
      "og:title : None\n",
      "description : walmart.com , site vendas online brasil .\n",
      "twitter:description : None\n",
      "og:description : None\n",
      "\n",
      "title : smartphone motorola moto g4 plus xt1640 preto 32gb , tela 5.5 '' , dual chip , android 6.0 , 4g , camera 16mp , processador octa-core 2gb ram - android pontofrio.com\n",
      "twitter:title : None\n",
      "og:title : None\n",
      "description : smartphone moto g4 plus super .\n",
      "twitter:description : None\n",
      "og:description : None\n",
      "\n",
      "9/10 positive, 21/10 negative\n",
      "Do these records refer to the same thing?\n",
      "(y)es / (n)o / (u)nsure / (f)inished / (p)revious\n"
     ]
    },
    {
     "name": "stdout",
     "output_type": "stream",
     "text": [
      "y\n"
     ]
    },
    {
     "name": "stderr",
     "output_type": "stream",
     "text": [
      "title : cartao memoria cl4 kingston sdc4/32gb micro sdhc adap - acessorios tecnologia - cartoes memoria - walmart.com\n",
      "twitter:title : None\n",
      "og:title : None\n",
      "description : walmart.com , site vendas online brasil .\n",
      "twitter:description : None\n",
      "og:description : None\n",
      "\n",
      "title : cartao memoria kingston classe 4 sdc4/8gb microsdhc 8gb + 1 adaptador sd - cartoes memoria pontofrio.com\n",
      "twitter:title : None\n",
      "og:title : None\n",
      "description : cartao memoria kingston classe 4 sdc4/8gb microsdhc 8gb + 1 ad ofertas cine foto .\n",
      "twitter:description : None\n",
      "og:description : None\n",
      "\n",
      "10/10 positive, 21/10 negative\n",
      "Do these records refer to the same thing?\n",
      "(y)es / (n)o / (u)nsure / (f)inished / (p)revious\n"
     ]
    },
    {
     "name": "stdout",
     "output_type": "stream",
     "text": [
      "f\n"
     ]
    },
    {
     "name": "stderr",
     "output_type": "stream",
     "text": [
      "Finished labeling\n"
     ]
    }
   ],
   "source": [
    "linker = dedupe.RecordLink(fields)\n",
    "linker.sample(p, w)\n",
    "dedupe.consoleLabel(linker)"
   ]
  },
  {
   "cell_type": "code",
   "execution_count": 27,
   "metadata": {},
   "outputs": [
    {
     "name": "stderr",
     "output_type": "stream",
     "text": [
      "INFO:rlr.crossvalidation:using cross validation to find optimum alpha...\n",
      "INFO:rlr.crossvalidation:optimum alpha: 0.100000\n",
      "INFO:dedupe.blocking:Canopy: LevenshteinSearchPredicate: (2, twitter:description)\n",
      "INFO:dedupe.blocking:Canopy: LevenshteinSearchPredicate: (3, twitter:description)\n",
      "INFO:dedupe.blocking:Canopy: LevenshteinSearchPredicate: (4, twitter:description)\n",
      "INFO:dedupe.blocking:Canopy: LevenshteinSearchPredicate: (1, twitter:description)\n",
      "INFO:dedupe.blocking:Canopy: TfidfTextSearchPredicate: (0.6, twitter:description)\n",
      "INFO:dedupe.blocking:Canopy: TfidfTextSearchPredicate: (0.8, twitter:description)\n",
      "INFO:dedupe.blocking:Canopy: TfidfTextSearchPredicate: (0.4, twitter:description)\n",
      "INFO:dedupe.blocking:Canopy: TfidfTextSearchPredicate: (0.2, twitter:description)\n",
      "INFO:dedupe.blocking:Canopy: LevenshteinSearchPredicate: (2, og:description)\n",
      "INFO:dedupe.blocking:Canopy: LevenshteinSearchPredicate: (3, og:description)\n",
      "INFO:dedupe.blocking:Canopy: LevenshteinSearchPredicate: (4, og:description)\n",
      "INFO:dedupe.blocking:Canopy: LevenshteinSearchPredicate: (1, og:description)\n",
      "INFO:dedupe.blocking:Canopy: TfidfTextSearchPredicate: (0.4, og:description)\n",
      "INFO:dedupe.blocking:Canopy: TfidfTextSearchPredicate: (0.6, og:description)\n",
      "INFO:dedupe.blocking:Canopy: TfidfTextSearchPredicate: (0.2, og:description)\n",
      "INFO:dedupe.blocking:Canopy: TfidfTextSearchPredicate: (0.8, og:description)\n",
      "INFO:dedupe.blocking:Canopy: TfidfTextSearchPredicate: (0.4, description)\n",
      "INFO:dedupe.blocking:Canopy: TfidfTextSearchPredicate: (0.8, description)\n",
      "INFO:dedupe.blocking:Canopy: TfidfTextSearchPredicate: (0.2, description)\n",
      "INFO:dedupe.blocking:Canopy: TfidfTextSearchPredicate: (0.6, description)\n",
      "INFO:dedupe.blocking:Canopy: LevenshteinSearchPredicate: (2, description)\n",
      "INFO:dedupe.blocking:Canopy: LevenshteinSearchPredicate: (4, description)\n",
      "INFO:dedupe.blocking:Canopy: LevenshteinSearchPredicate: (1, description)\n",
      "INFO:dedupe.blocking:Canopy: LevenshteinSearchPredicate: (3, description)\n",
      "INFO:dedupe.blocking:Canopy: TfidfNGramSearchPredicate: (0.4, twitter:title)\n",
      "INFO:dedupe.blocking:Canopy: TfidfNGramSearchPredicate: (0.2, twitter:title)\n",
      "INFO:dedupe.blocking:Canopy: TfidfNGramSearchPredicate: (0.8, twitter:title)\n",
      "INFO:dedupe.blocking:Canopy: TfidfNGramSearchPredicate: (0.6, twitter:title)\n",
      "INFO:dedupe.blocking:Canopy: TfidfTextSearchPredicate: (0.2, twitter:title)\n",
      "INFO:dedupe.blocking:Canopy: TfidfTextSearchPredicate: (0.8, twitter:title)\n",
      "INFO:dedupe.blocking:Canopy: TfidfTextSearchPredicate: (0.6, twitter:title)\n",
      "INFO:dedupe.blocking:Canopy: TfidfTextSearchPredicate: (0.4, twitter:title)\n",
      "INFO:dedupe.blocking:Canopy: LevenshteinSearchPredicate: (1, twitter:title)\n",
      "INFO:dedupe.blocking:Canopy: LevenshteinSearchPredicate: (3, twitter:title)\n",
      "INFO:dedupe.blocking:Canopy: LevenshteinSearchPredicate: (4, twitter:title)\n",
      "INFO:dedupe.blocking:Canopy: LevenshteinSearchPredicate: (2, twitter:title)\n",
      "INFO:dedupe.blocking:Canopy: TfidfNGramSearchPredicate: (0.2, og:title)\n",
      "INFO:dedupe.blocking:Canopy: TfidfNGramSearchPredicate: (0.6, og:title)\n",
      "INFO:dedupe.blocking:Canopy: TfidfNGramSearchPredicate: (0.8, og:title)\n",
      "INFO:dedupe.blocking:Canopy: TfidfNGramSearchPredicate: (0.4, og:title)\n",
      "INFO:dedupe.blocking:Canopy: LevenshteinSearchPredicate: (2, og:title)\n",
      "INFO:dedupe.blocking:Canopy: LevenshteinSearchPredicate: (3, og:title)\n",
      "INFO:dedupe.blocking:Canopy: LevenshteinSearchPredicate: (1, og:title)\n",
      "INFO:dedupe.blocking:Canopy: LevenshteinSearchPredicate: (4, og:title)\n",
      "INFO:dedupe.blocking:Canopy: TfidfTextSearchPredicate: (0.8, og:title)\n",
      "INFO:dedupe.blocking:Canopy: TfidfTextSearchPredicate: (0.4, og:title)\n",
      "INFO:dedupe.blocking:Canopy: TfidfTextSearchPredicate: (0.2, og:title)\n",
      "INFO:dedupe.blocking:Canopy: TfidfTextSearchPredicate: (0.6, og:title)\n",
      "INFO:dedupe.blocking:Canopy: TfidfTextSearchPredicate: (0.4, title)\n",
      "INFO:dedupe.blocking:Canopy: TfidfTextSearchPredicate: (0.8, title)\n",
      "INFO:dedupe.blocking:Canopy: TfidfTextSearchPredicate: (0.2, title)\n",
      "INFO:dedupe.blocking:Canopy: TfidfTextSearchPredicate: (0.6, title)\n",
      "INFO:dedupe.blocking:Canopy: LevenshteinSearchPredicate: (1, title)\n",
      "INFO:dedupe.blocking:Canopy: LevenshteinSearchPredicate: (3, title)\n",
      "INFO:dedupe.blocking:Canopy: LevenshteinSearchPredicate: (4, title)\n",
      "INFO:dedupe.blocking:Canopy: LevenshteinSearchPredicate: (2, title)\n",
      "INFO:dedupe.blocking:Canopy: TfidfNGramSearchPredicate: (0.8, title)\n",
      "INFO:dedupe.blocking:Canopy: TfidfNGramSearchPredicate: (0.4, title)\n",
      "INFO:dedupe.blocking:Canopy: TfidfNGramSearchPredicate: (0.6, title)\n",
      "INFO:dedupe.blocking:Canopy: TfidfNGramSearchPredicate: (0.2, title)\n",
      "INFO:dedupe.blocking:Canopy: LevenshteinSearchPredicate: (2, twitter:description)\n",
      "INFO:dedupe.blocking:Canopy: LevenshteinSearchPredicate: (3, twitter:description)\n",
      "INFO:dedupe.blocking:Canopy: LevenshteinSearchPredicate: (4, twitter:description)\n",
      "INFO:dedupe.blocking:Canopy: LevenshteinSearchPredicate: (1, twitter:description)\n",
      "INFO:dedupe.blocking:Canopy: TfidfTextSearchPredicate: (0.6, twitter:description)\n",
      "INFO:dedupe.blocking:Canopy: TfidfTextSearchPredicate: (0.8, twitter:description)\n",
      "INFO:dedupe.blocking:Canopy: TfidfTextSearchPredicate: (0.4, twitter:description)\n",
      "INFO:dedupe.blocking:Canopy: TfidfTextSearchPredicate: (0.2, twitter:description)\n",
      "INFO:dedupe.blocking:Canopy: LevenshteinSearchPredicate: (2, og:description)\n",
      "INFO:dedupe.blocking:Canopy: LevenshteinSearchPredicate: (3, og:description)\n",
      "INFO:dedupe.blocking:Canopy: LevenshteinSearchPredicate: (4, og:description)\n",
      "INFO:dedupe.blocking:Canopy: LevenshteinSearchPredicate: (1, og:description)\n",
      "INFO:dedupe.blocking:Canopy: TfidfTextSearchPredicate: (0.4, og:description)\n",
      "INFO:dedupe.blocking:Canopy: TfidfTextSearchPredicate: (0.6, og:description)\n",
      "INFO:dedupe.blocking:Canopy: TfidfTextSearchPredicate: (0.2, og:description)\n",
      "INFO:dedupe.blocking:Canopy: TfidfTextSearchPredicate: (0.8, og:description)\n",
      "INFO:dedupe.blocking:Canopy: TfidfTextSearchPredicate: (0.4, description)\n",
      "INFO:dedupe.blocking:Canopy: TfidfTextSearchPredicate: (0.8, description)\n",
      "INFO:dedupe.blocking:Canopy: TfidfTextSearchPredicate: (0.2, description)\n",
      "INFO:dedupe.blocking:Canopy: TfidfTextSearchPredicate: (0.6, description)\n",
      "INFO:dedupe.blocking:Canopy: LevenshteinSearchPredicate: (2, description)\n",
      "INFO:dedupe.blocking:Canopy: LevenshteinSearchPredicate: (4, description)\n",
      "INFO:dedupe.blocking:Canopy: LevenshteinSearchPredicate: (1, description)\n",
      "INFO:dedupe.blocking:Canopy: LevenshteinSearchPredicate: (3, description)\n",
      "INFO:dedupe.blocking:Canopy: TfidfNGramSearchPredicate: (0.4, twitter:title)\n",
      "INFO:dedupe.blocking:Canopy: TfidfNGramSearchPredicate: (0.2, twitter:title)\n",
      "INFO:dedupe.blocking:Canopy: TfidfNGramSearchPredicate: (0.8, twitter:title)\n",
      "INFO:dedupe.blocking:Canopy: TfidfNGramSearchPredicate: (0.6, twitter:title)\n",
      "INFO:dedupe.blocking:Canopy: TfidfTextSearchPredicate: (0.2, twitter:title)\n",
      "INFO:dedupe.blocking:Canopy: TfidfTextSearchPredicate: (0.8, twitter:title)\n",
      "INFO:dedupe.blocking:Canopy: TfidfTextSearchPredicate: (0.6, twitter:title)\n",
      "INFO:dedupe.blocking:Canopy: TfidfTextSearchPredicate: (0.4, twitter:title)\n",
      "INFO:dedupe.blocking:Canopy: LevenshteinSearchPredicate: (1, twitter:title)\n",
      "INFO:dedupe.blocking:Canopy: LevenshteinSearchPredicate: (3, twitter:title)\n",
      "INFO:dedupe.blocking:Canopy: LevenshteinSearchPredicate: (4, twitter:title)\n",
      "INFO:dedupe.blocking:Canopy: LevenshteinSearchPredicate: (2, twitter:title)\n",
      "INFO:dedupe.blocking:Canopy: TfidfNGramSearchPredicate: (0.2, og:title)\n",
      "INFO:dedupe.blocking:Canopy: TfidfNGramSearchPredicate: (0.6, og:title)\n",
      "INFO:dedupe.blocking:Canopy: TfidfNGramSearchPredicate: (0.8, og:title)\n",
      "INFO:dedupe.blocking:Canopy: TfidfNGramSearchPredicate: (0.4, og:title)\n",
      "INFO:dedupe.blocking:Canopy: LevenshteinSearchPredicate: (2, og:title)\n",
      "INFO:dedupe.blocking:Canopy: LevenshteinSearchPredicate: (3, og:title)\n",
      "INFO:dedupe.blocking:Canopy: LevenshteinSearchPredicate: (1, og:title)\n",
      "INFO:dedupe.blocking:Canopy: LevenshteinSearchPredicate: (4, og:title)\n",
      "INFO:dedupe.blocking:Canopy: TfidfTextSearchPredicate: (0.8, og:title)\n",
      "INFO:dedupe.blocking:Canopy: TfidfTextSearchPredicate: (0.4, og:title)\n",
      "INFO:dedupe.blocking:Canopy: TfidfTextSearchPredicate: (0.2, og:title)\n",
      "INFO:dedupe.blocking:Canopy: TfidfTextSearchPredicate: (0.6, og:title)\n"
     ]
    },
    {
     "name": "stderr",
     "output_type": "stream",
     "text": [
      "INFO:dedupe.blocking:Canopy: TfidfTextSearchPredicate: (0.4, title)\n",
      "INFO:dedupe.blocking:Canopy: TfidfTextSearchPredicate: (0.8, title)\n",
      "INFO:dedupe.blocking:Canopy: TfidfTextSearchPredicate: (0.2, title)\n",
      "INFO:dedupe.blocking:Canopy: TfidfTextSearchPredicate: (0.6, title)\n",
      "INFO:dedupe.blocking:Canopy: LevenshteinSearchPredicate: (1, title)\n",
      "INFO:dedupe.blocking:Canopy: LevenshteinSearchPredicate: (3, title)\n",
      "INFO:dedupe.blocking:Canopy: LevenshteinSearchPredicate: (4, title)\n",
      "INFO:dedupe.blocking:Canopy: LevenshteinSearchPredicate: (2, title)\n",
      "INFO:dedupe.blocking:Canopy: TfidfNGramSearchPredicate: (0.8, title)\n",
      "INFO:dedupe.blocking:Canopy: TfidfNGramSearchPredicate: (0.4, title)\n",
      "INFO:dedupe.blocking:Canopy: TfidfNGramSearchPredicate: (0.6, title)\n",
      "INFO:dedupe.blocking:Canopy: TfidfNGramSearchPredicate: (0.2, title)\n",
      "INFO:dedupe.training:Final predicate set:\n",
      "INFO:dedupe.training:(SimplePredicate: (firstTokenPredicate, title), SimplePredicate: (nearIntegersPredicate, title))\n"
     ]
    }
   ],
   "source": [
    "linker.train()"
   ]
  },
  {
   "cell_type": "code",
   "execution_count": 31,
   "metadata": {},
   "outputs": [
    {
     "name": "stderr",
     "output_type": "stream",
     "text": [
      "INFO:dedupe.api:0 records\n"
     ]
    }
   ],
   "source": [
    "m = linker.match(s,w, 0.1)"
   ]
  },
  {
   "cell_type": "code",
   "execution_count": 32,
   "metadata": {},
   "outputs": [
    {
     "data": {
      "text/plain": [
       "15"
      ]
     },
     "execution_count": 32,
     "metadata": {},
     "output_type": "execute_result"
    }
   ],
   "source": [
    "len(m)"
   ]
  },
  {
   "cell_type": "code",
   "execution_count": 30,
   "metadata": {},
   "outputs": [
    {
     "name": "stdout",
     "output_type": "stream",
     "text": [
      "{'description': 'perfeito entretenimento . dvd player sony dvp sr370 entrada usb frontal .', 'title': 'dvd player sony dvp sr370 entrada usb frontal - dvd player pontofrio.com', 'twitter:title': None, 'og:title': None, 'twitter:description': None, 'og:description': None} {'description': 'walmart.com , site vendas online brasil .', 'title': 'dvd player - sony dvp-sr370 - entrada usb frontal , leitor mp3 , preto - eletronicos - dvds blu-ray players - walmart.com', 'twitter:title': None, 'og:title': None, 'twitter:description': None, 'og:description': None}\n",
      "{'description': 'ponto frio .', 'title': 'teclado logitech wireless k270 - preto - teclados pontofrio.com', 'twitter:title': None, 'og:title': None, 'twitter:description': None, 'og:description': None} {'description': 'walmart.com , site vendas online brasil .', 'title': 'teclado mouse logitech wireless mk270 preto - acessorios tecnologia - teclados mouses - walmart.com', 'twitter:title': None, 'og:title': None, 'twitter:description': None, 'og:description': None}\n",
      "{'description': 'mouse ambidestro pratico , linda estampa design arredondado . sinta conforto mouse logitech pode oferecer', 'title': 'mouse optico usb logitech m105 - preto - mouses pontofrio.com', 'twitter:title': None, 'og:title': None, 'twitter:description': None, 'og:description': None} {'description': 'walmart.com , site vendas online brasil .', 'title': 'mouse sensor optico usb 2.0 preto m105 logitech - acessorios tecnologia - teclados mouses - walmart.com', 'twitter:title': None, 'og:title': None, 'twitter:description': None, 'og:description': None}\n",
      "{'description': 'perca tablet multilaser m7 3g quad core super .', 'title': 'tablet multilaser m7 3g quad core branco tela 7 , 8gb , camera 2mp , bluetooth , wi-fi , android 4.4 , dual chip processador quad core - tablet android pontofrio.com', 'twitter:title': None, 'og:title': None, 'twitter:description': None, 'og:description': None} {'description': 'walmart.com , site vendas online brasil .', 'title': \"tablet multilaser m7 3g , quad core , tela 7 ' , 8gb memoria , dual chip , wi-fi , preto nb223 - tablets - tablets - walmart.com\", 'twitter:title': None, 'og:title': None, 'twitter:description': None, 'og:description': None}\n",
      "{'description': 'diversao som incrivel . home theater samsung .', 'title': 'home theater samsung ht-f5505k/zd 5.1 canais blu-ray 3d , funcao futebol , karaoke , bluetooth , entrada usb , cabo hdmi le dvd 1000 w - home theater pontofrio.com', 'twitter:title': None, 'og:title': None, 'twitter:description': None, 'og:description': None} {'description': 'walmart.com , site vendas online brasil .', 'title': 'home theater philips htd5580x/78 5.1 canais 1000w rms dvd - eletronicos - home theaters - walmart.com', 'twitter:title': None, 'og:title': None, 'twitter:description': None, 'og:description': None}\n",
      "{'description': 'smartphone moto g4 plus super .', 'title': \"smartphone motorola moto g4 plus xt1640 preto 32gb , tela 5.5 '' , dual chip , android 6.0 , 4g , camera 16mp , processador octa-core 2gb ram - android pontofrio.com\", 'twitter:title': None, 'og:title': None, 'twitter:description': None, 'og:description': None} {'description': 'walmart.com , site vendas online brasil .', 'title': 'smartphone motorola moto g4 plus xt1640 branco dual chip 32gb android marshmallow 4g wi-fi camera 16 mp - telefonia - smartphones - walmart.com', 'twitter:title': None, 'og:title': None, 'twitter:description': None, 'og:description': None}\n",
      "{'description': 'especial : bicicleta aro 26 caloi montana 21 marchas encontra . novidades', 'title': 'bicicleta aro 26 caloi montana 21 marchas - aro 26 pontofrio.com', 'twitter:title': None, 'og:title': None, 'twitter:description': None, 'og:description': None} {'description': 'walmart.com , site vendas online brasil .', 'title': 'bicicleta aro 700 next highway 1 black 21 marchas speed - esporte lazer - bicicletas - walmart.com', 'twitter:title': None, 'og:title': None, 'twitter:description': None, 'og:description': None}\n",
      "{'description': 'liquidificador oster classic 4126 600w vermelho ofertas eletroportateis .', 'title': 'liquidificador oster classic 4126 600w vermelho - liquidificadores pontofrio.com', 'twitter:title': None, 'og:title': None, 'twitter:description': None, 'og:description': None} {'description': 'walmart.com , site vendas online brasil .', 'title': 'liquidificador oster 3 velocidades 600w azul - eletroportateis - liquidificador - walmart.com', 'twitter:title': None, 'og:title': None, 'twitter:description': None, 'og:description': None}\n",
      "{'description': 'cartao memoria kingston classe 4 sdc4/8gb microsdhc 8gb + 1 ad ofertas cine foto .', 'title': 'cartao memoria kingston classe 4 sdc4/8gb microsdhc 8gb + 1 adaptador sd - cartoes memoria pontofrio.com', 'twitter:title': None, 'og:title': None, 'twitter:description': None, 'og:description': None} {'description': 'walmart.com , site vendas online brasil .', 'title': 'cartao memoria cl4 kingston sdc4/32gb micro sdhc adap - acessorios tecnologia - cartoes memoria - walmart.com', 'twitter:title': None, 'og:title': None, 'twitter:description': None, 'og:description': None}\n",
      "{'description': 'conheca kindle paperwhite tela alta definicao , funcionalidades exclusivas melhor .', 'title': 'kindle paperwhite wi-fi , 4gb , tela 6 alta definicao sensivel toque , bateria longa duracao iluminacao embutida - leitor eletronico pontofrio.com', 'twitter:title': None, 'og:title': None, 'twitter:description': None, 'og:description': None} {'description': 'walmart.com , site vendas online brasil .', 'title': 'kindle paperwhite amazon tela 6 branco , wi-fi , 4gb , c/luz - tablets - tablets - walmart.com', 'twitter:title': None, 'og:title': None, 'twitter:description': None, 'og:description': None}\n",
      "{'description': \"notebook dell inspiron i14-5468-d20p intel coreTM i5-7200u , 4gb , 1tb , leitor cartao , hdmi , wireless , bluetooth , webcam , led 14 '' linux\", 'title': \"notebook dell inspiron i14-5468-d20p intel coreTM i5-7200u , 4gb , 1tb , leitor cartao , hdmi , wireless , bluetooth , webcam , led 14 '' linux - notebook pontofrio.com\", 'twitter:title': None, 'og:title': None, 'twitter:description': None, 'og:description': None} {'description': 'walmart.com , site vendas online brasil .', 'title': \"notebook asus intel core i3 4gb 1tb z450la wx009t 14 '' windows 10 preto - informatica - notebooks - walmart.com\", 'twitter:title': None, 'og:title': None, 'twitter:description': None, 'og:description': None}\n",
      "{'description': 'marcas encontra', 'title': 'fogao electrolux celebrate 5 bocas 76spb acendedor automatico timer mecanico bivolt - branco - piso 5 bocas pontofrio.com', 'twitter:title': None, 'og:title': None, 'twitter:description': None, 'og:description': None} {'description': 'walmart.com , site vendas online brasil .', 'title': 'fogao 76spb celebrate 5 bocas - eletrodomesticos - fogoes 5 bocas - walmart.com', 'twitter:title': None, 'og:title': None, 'twitter:description': None, 'og:description': None}\n",
      "{'description': 'bicicleta aro 16 hot wheels caloi . prepare-se manobras radicais', 'title': 'bicicleta infantil aro 16 caloi hot wheels - preta - aro 16 pontofrio.com', 'twitter:title': None, 'og:title': None, 'twitter:description': None, 'og:description': None} {'description': 'walmart.com , site vendas online brasil .', 'title': 'bicicleta hot wheels aro 16 preta - caloi - brinquedos - bicicleta aro 16 - walmart.com', 'twitter:title': None, 'og:title': None, 'twitter:description': None, 'og:description': None}\n",
      "{'description': 'dear-condicionado consul', 'title': 'ar-condicionado consul ccn07db frio 7.500 btus dupla saida ar - janela pontofrio.com', 'twitter:title': None, 'og:title': None, 'twitter:description': None, 'og:description': None} {'description': 'walmart.com , site vendas online brasil .', 'title': 'ar-condicionado janela mecanico 7.000 btus gree gjc7bk frio branco - eletrodomesticos - ar condicionado - walmart.com', 'twitter:title': None, 'og:title': None, 'twitter:description': None, 'og:description': None}\n",
      "{'description': 'mini system lg torre 1000w usb mp3 bluetooth - om7560.abrallk', 'title': 'mini system lg torre 1000w usb mp3 bluetooth - om7560.abrallk - micro mini system pontofrio.com', 'twitter:title': None, 'og:title': None, 'twitter:description': None, 'og:description': None} {'description': 'walmart.com , site vendas online brasil .', 'title': 'mini system lg x boom festa om7560 1000w usb multi bluetooth - eletronicos - mini-systems - walmart.com', 'twitter:title': None, 'og:title': None, 'twitter:description': None, 'og:description': None}\n"
     ]
    }
   ],
   "source": [
    "for i in m:\n",
    "    print(s[i[0][0]], w[i[0][1]])"
   ]
  },
  {
   "cell_type": "code",
   "execution_count": null,
   "metadata": {
    "collapsed": true
   },
   "outputs": [],
   "source": []
  }
 ],
 "metadata": {
  "kernelspec": {
   "display_name": "Python 3",
   "language": "python",
   "name": "python3"
  },
  "language_info": {
   "codemirror_mode": {
    "name": "ipython",
    "version": 3
   },
   "file_extension": ".py",
   "mimetype": "text/x-python",
   "name": "python",
   "nbconvert_exporter": "python",
   "pygments_lexer": "ipython3",
   "version": "3.6.1"
  }
 },
 "nbformat": 4,
 "nbformat_minor": 2
}
