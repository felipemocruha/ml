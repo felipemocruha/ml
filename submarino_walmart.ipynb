{
 "cells": [
  {
   "cell_type": "code",
   "execution_count": 1,
   "metadata": {
    "collapsed": true
   },
   "outputs": [],
   "source": [
    "import dedupe\n",
    "import json\n",
    "from cytoolz import *\n",
    "from copy import copy"
   ]
  },
  {
   "cell_type": "code",
   "execution_count": 2,
   "metadata": {
    "collapsed": true
   },
   "outputs": [],
   "source": [
    "fields = [{'field': 'title', 'type': 'String', 'has missing': True},\n",
    "         {'field': 'twitter:title', 'type': 'String', 'has missing': True},\n",
    "         {'field': 'og:title', 'type': 'String', 'has missing': True},\n",
    "         {'field': 'description', 'type': 'Text', 'has missing': True},\n",
    "         {'field': 'twitter:description', 'type': 'Text', 'has missing': True},\n",
    "         {'field': 'og:description', 'type': 'Text', 'has missing': True}]"
   ]
  },
  {
   "cell_type": "code",
   "execution_count": 28,
   "metadata": {
    "collapsed": true
   },
   "outputs": [],
   "source": [
    "def is_expected(item):\n",
    "    expected = ['title', 'twitter:title', 'og:title', 'description', 'twitter:description', 'og:description']\n",
    "    return item in expected  \n",
    "\n",
    "\n",
    "def add_field(d, f):\n",
    "    return assoc(d, f, None)\n",
    "\n",
    "\n",
    "def remove_field(d, f):\n",
    "    return dissoc(d, f)        \n",
    "\n",
    "\n",
    "def normalize_dict(d):\n",
    "    expected = ['title', 'twitter:title', 'og:title', 'description', 'twitter:description', 'og:description']\n",
    "    new = keyfilter(is_expected, merge(d))\n",
    "    for field in expected:        \n",
    "        if not new.get(field):\n",
    "            new[field] =  None\n",
    "    return new\n",
    "    \n",
    "\n",
    "def create_labels(index, data):\n",
    "    return {index: data}"
   ]
  },
  {
   "cell_type": "code",
   "execution_count": 24,
   "metadata": {
    "collapsed": true
   },
   "outputs": [],
   "source": [
    "with open('data/pontofrio/parsed_data.json') as f:\n",
    "    submarino = json.loads(f.read())['products']\n",
    "\n",
    "with open('data/shoptime/parsed_data.json') as f:\n",
    "    walmart = json.loads(f.read())['products']"
   ]
  },
  {
   "cell_type": "code",
   "execution_count": 25,
   "metadata": {},
   "outputs": [],
   "source": [
    "submarino_meta = [normalize_dict(offer['meta']) for offer in submarino]\n",
    "walmart_meta = [normalize_dict(offer['meta']) for offer in walmart]\n",
    "s = {str(i): submarino_meta[i] for i in range(len(submarino_meta))}\n",
    "w = {str(i): walmart_meta[i] for i in range(len(walmart_meta))}"
   ]
  },
  {
   "cell_type": "code",
   "execution_count": 17,
   "metadata": {},
   "outputs": [
    {
     "name": "stderr",
     "output_type": "stream",
     "text": [
      "title : Computador All in One Dell Inspiron 3459... - Shoptime.com\n",
      "twitter:title : None\n",
      "og:title : None\n",
      "description : computador all in one dell inspiron 3459-a10 intel core i3 em oferta no shoptime compre agora pelo menor preco\n",
      "twitter:description : None\n",
      "og:description : None\n",
      "\n",
      "title : \r",
      " \tComputador Positivo All in One Union PCTV UD3553 com Intel® Dual Core, 4GB, 500GB, Leitor de Cartões, HDMI, TV Digital, Webcam, LED 18.5\" e Windows 10 - Computadores no Pontofrio.com\r",
      " \n",
      "twitter:title : computador positivo all in one union pctv ud3553 com intel dual core, 4gb, 500gb, leitor de cartoes, hdmi, tv digital, webcam, led 18.5\" e windows 10\n",
      "og:title : computador positivo all in one union pctv ud3553 com intel dual core, 4gb, 500gb, leitor de cartoes, hdmi, tv digital, webcam, led 18.5\" e windows 10  pontofrio.com\n",
      "description : as melhores ofertas de computador positivo all in one union pctv com intel dual core, 4gb, 500gb e windows 10 voce encontra no ponto frio.\n",
      "twitter:description : as melhores ofertas de computador positivo all in one union pctv com intel dual core, 4gb, 500gb e windows 10 voce encontra aqui.\n",
      "og:description : None\n",
      "\n",
      "0/10 positive, 0/10 negative\n",
      "Do these records refer to the same thing?\n",
      "(y)es / (n)o / (u)nsure / (f)inished\n"
     ]
    },
    {
     "name": "stdout",
     "output_type": "stream",
     "text": [
      "n\n"
     ]
    },
    {
     "name": "stderr",
     "output_type": "stream",
     "text": [
      "title : Tablet Multilaser M7S 8GB Wi-Fi Tela 7\" ... - Shoptime.com\n",
      "twitter:title : None\n",
      "og:title : None\n",
      "description : tablet multilaser m7s 8gb wi-fi tela 7\n",
      "twitter:description : None\n",
      "og:description : None\n",
      "\n",
      "title : \r",
      " \tTablet Multilaser M7 3G Quad Core Branco com Tela 7”, 8GB, Câmera 2MP, Bluetooth, Wi-Fi, Android 4.4, Dual Chip e Processador Quad Core - Tablet Android no Pontofrio.com\r",
      " \n",
      "twitter:title : tablet multilaser m7 3g quad core branco com tela 7, 8gb, camera 2mp, bluetooth, wi-fi, android 4.4, dual chip e processador quad core\n",
      "og:title : tablet multilaser m7 3g quad core branco com tela 7, 8gb, camera 2mp, bluetooth, wi-fi, android 4.4, dual chip e processador quad core  pontofrio.com\n",
      "description : nao perca o tablet multilaser m7 3g quad core com uma super oferta. confira\n",
      "twitter:description : nao perca o tablet multilaser m7 3g quad core com uma super oferta. confira\n",
      "og:description : None\n",
      "\n",
      "0/10 positive, 1/10 negative\n",
      "Do these records refer to the same thing?\n",
      "(y)es / (n)o / (u)nsure / (f)inished / (p)revious\n"
     ]
    },
    {
     "name": "stdout",
     "output_type": "stream",
     "text": [
      "y\n"
     ]
    },
    {
     "name": "stderr",
     "output_type": "stream",
     "text": [
      "title : DVD Player Sony DVP-SR370 com entrada US... - Shoptime.com\n",
      "twitter:title : None\n",
      "og:title : None\n",
      "description : dvd player sony dvp-sr370 com entrada usb frontal em oferta no shoptime compre agora pelo menor preco\n",
      "twitter:description : None\n",
      "og:description : None\n",
      "\n",
      "title : \r",
      " \tDVD Player Sony DVP SR370 com Entrada USB  Frontal  - DVD Player no Pontofrio.com\r",
      " \n",
      "twitter:title : dvd player sony dvp sr370 com entrada usb  frontal \n",
      "og:title : dvd player sony dvp sr370 com entrada usb  frontal   pontofrio.com\n",
      "description : perfeito para o seu entretenimento. dvd player sony dvp sr370 com entrada usb  frontal. aproveite\n",
      "twitter:description : diversao garantida com o dvd player sony dvp sr370 com entrada usb  frontal. aproveite \n",
      "og:description : None\n",
      "\n",
      "1/10 positive, 1/10 negative\n",
      "Do these records refer to the same thing?\n",
      "(y)es / (n)o / (u)nsure / (f)inished / (p)revious\n"
     ]
    },
    {
     "name": "stdout",
     "output_type": "stream",
     "text": [
      "y\n"
     ]
    },
    {
     "name": "stderr",
     "output_type": "stream",
     "text": [
      "title : Lavadora e Secadora Samsung Siene WD106 ... - Shoptime.com\n",
      "twitter:title : None\n",
      "og:title : None\n",
      "description : lavadora e secadora samsung siene wd106 10kg branca em oferta no shoptime compre agora pelo menor preco\n",
      "twitter:description : None\n",
      "og:description : None\n",
      "\n",
      "title : \r",
      " \tLavadora e Secadora de Roupas Samsung WD10J6410AW WD6000 Inox com Eco Bubble e Programas de Lavagem - 10,2Kg - Lava e Seca no Pontofrio.com\r",
      " \n",
      "twitter:title : lavadora e secadora de roupas samsung wd10j6410aw wd6000 inox com eco bubble e programas de lavagem - 10,2kg\n",
      "og:title : lavadora e secadora de roupas samsung wd10j6410aw wd6000 inox com eco bubble e programas de lavagem - 10,2kg  pontofrio.com\n",
      "description : com a lavadora e secadora de roupas samsung wd10j6410aw wd6000 sua lavanderia ficara mais pratica e equipada.\n",
      "twitter:description : com a lavadora e secadora de roupas samsung wd10j6410aw wd6000 sua lavanderia ficara mais pratica e equipada.<br>\n",
      "og:description : None\n",
      "\n",
      "2/10 positive, 1/10 negative\n",
      "Do these records refer to the same thing?\n",
      "(y)es / (n)o / (u)nsure / (f)inished / (p)revious\n"
     ]
    },
    {
     "name": "stdout",
     "output_type": "stream",
     "text": [
      "n\n"
     ]
    },
    {
     "name": "stderr",
     "output_type": "stream",
     "text": [
      "title : Ventilador de Teto Ventisol Fharo Alum E... - Shoptime.com\n",
      "twitter:title : None\n",
      "og:title : None\n",
      "description : ventilador de teto ventisol fharo alum esc premium tabaco 3 em oferta no shoptime compre agora pelo menor preco\n",
      "twitter:description : None\n",
      "og:description : None\n",
      "\n",
      "title : \r",
      " \tCâmera Digital e Filmadora GoPro Hero4 Black Edition Adventure + Suporte Para Prancha de Surf GoPro - Câmeras Esportivas no Pontofrio.com\r",
      " \n",
      "twitter:title : camera digital e filmadora gopro hero4 black edition adventure + suporte para prancha de surf gopro\n",
      "og:title : camera digital e filmadora gopro hero4 black edition adventure + suporte para prancha de surf gopro  pontofrio.com\n",
      "description : camera digital e filmadora gopro hero4 black edition adventure + suporte para prancha de surf gopro. confira\n",
      "twitter:description : camera digital e filmadora gopro hero4 black edition adventure + suporte para prancha de surf gopro. confira\n",
      "og:description : None\n",
      "\n",
      "2/10 positive, 2/10 negative\n",
      "Do these records refer to the same thing?\n",
      "(y)es / (n)o / (u)nsure / (f)inished / (p)revious\n"
     ]
    },
    {
     "name": "stdout",
     "output_type": "stream",
     "text": [
      "n\n"
     ]
    },
    {
     "name": "stderr",
     "output_type": "stream",
     "text": [
      "title : Notebook Inspiron I14-5452-D03P Intel Pe... - Shoptime.com\n",
      "twitter:title : None\n",
      "og:title : None\n",
      "description : notebook inspiron i14-5452-d03p intel pentium quad core 4gb em oferta no shoptime compre agora pelo menor preco\n",
      "twitter:description : None\n",
      "og:description : None\n",
      "\n",
      "title : \r",
      " \tNotebook Dell Inspiron I15-5558-B30 com Intel® Core™ i5-5200U, 4GB, 1TB, Gravador de DVD, Leitor de Cartões, HDMI, Bluetooth, LED 15.6\" e Windows 10 - Notebook no Pontofrio.com\r",
      " \n",
      "twitter:title : notebook dell inspiron i15-5558-b30 com intel coreTM i5-5200u, 4gb, 1tb, gravador de dvd, leitor de cartoes, hdmi, bluetooth, led 15.6\" e windows 10\n",
      "og:title : notebook dell inspiron i15-5558-b30 com intel coreTM i5-5200u, 4gb, 1tb, gravador de dvd, leitor de cartoes, hdmi, bluetooth, led 15.6\" e windows 10  pontofrio.com\n",
      "description : as melhores ofertas de notebook dell inspiron i15-5558-b30 com intel coreTM i5-5200u, 4gb, 1tb e windows 10 voce encontra aqui. aproveite\n",
      "twitter:description : as melhores ofertas de notebook dell inspiron i15-5558-b30 com intel coreTM i5-5200u, 4gb, 1tb e windows 10 voce encontra aqui. aproveite\n",
      "og:description : None\n",
      "\n",
      "2/10 positive, 3/10 negative\n",
      "Do these records refer to the same thing?\n",
      "(y)es / (n)o / (u)nsure / (f)inished / (p)revious\n"
     ]
    },
    {
     "name": "stdout",
     "output_type": "stream",
     "text": [
      "n\n"
     ]
    },
    {
     "name": "stderr",
     "output_type": "stream",
     "text": [
      "title : Notebook Inspiron I14-5452-D03P Intel Pe... - Shoptime.com\n",
      "twitter:title : None\n",
      "og:title : None\n",
      "description : notebook inspiron i14-5452-d03p intel pentium quad core 4gb em oferta no shoptime compre agora pelo menor preco\n",
      "twitter:description : None\n",
      "og:description : None\n",
      "\n",
      "title : \r",
      " \tNotebook Dell Inspiron I14-5468-A20P com Intel® Core™ i5-7200U, 4GB, 1TB, Leitor de Cartão, HDMI, Wireless, Bluetooth, Webcam, LED 14'' e Linux - Notebook no Pontofrio.com\r",
      " \n",
      "twitter:title : notebook dell inspiron i14-5468-a20p com intel coreTM i5-7200u, 4gb, 1tb, leitor de cartao, hdmi, wireless, bluetooth, webcam, led 14'' e linux\n",
      "og:title : notebook dell inspiron i14-5468-a20p com intel coreTM i5-7200u, 4gb, 1tb, leitor de cartao, hdmi, wireless, bluetooth, webcam, led 14'' e linux  pontofrio.com\n",
      "description : notebook dell inspiron i14-5468-a20p com intel coreTM i5-7200u, 4gb, 1tb, leitor de cartao, hdmi, wireless, bluetooth, webcam, led 14'' e linux\n",
      "twitter:description : notebook dell inspiron i14-5468-a20p com intel coreTM i5-7200u, 4gb, 1tb, leitor de cartao, hdmi, wireless, bluetooth, webcam, led 14'' e linux\n",
      "og:description : None\n",
      "\n",
      "2/10 positive, 4/10 negative\n",
      "Do these records refer to the same thing?\n",
      "(y)es / (n)o / (u)nsure / (f)inished / (p)revious\n"
     ]
    },
    {
     "name": "stdout",
     "output_type": "stream",
     "text": [
      "n\n"
     ]
    },
    {
     "name": "stderr",
     "output_type": "stream",
     "text": [
      "title : Smart TV LED 49\" LG 49uh6100 Ultra HD 4K... - Shoptime.com\n",
      "twitter:title : None\n",
      "og:title : None\n",
      "description : smart tv led 49\n",
      "twitter:description : None\n",
      "og:description : None\n",
      "\n",
      "title : \r",
      " \tSmart TV LED 49\" Ultra HD 4K LG 49UH6100 com Sistema WebOS, Wi-Fi, Painel IPS, HDR Pro, Upscaler, Entradas HDMI e Entrada USB - TV 4K no Pontofrio.com\r",
      " \n",
      "twitter:title : smart tv led 49\" ultra hd 4k lg 49uh6100 com sistema webos, wi-fi, painel ips, hdr pro, upscaler, entradas hdmi e entrada usb\n",
      "og:title : smart tv led 49\" ultra hd 4k lg 49uh6100 com sistema webos, wi-fi, painel ips, hdr pro, upscaler, entradas hdmi e entrada usb  pontofrio.com\n",
      "description : smart tv lg com o menor preco voce so encontra aqui. confira\n",
      "twitter:description : smart tv lg com o menor preco voce so encontra aqui. confira\n",
      "og:description : None\n",
      "\n",
      "2/10 positive, 5/10 negative\n",
      "Do these records refer to the same thing?\n",
      "(y)es / (n)o / (u)nsure / (f)inished / (p)revious\n"
     ]
    },
    {
     "name": "stdout",
     "output_type": "stream",
     "text": [
      "y\n"
     ]
    },
    {
     "name": "stderr",
     "output_type": "stream",
     "text": [
      "title : Mixer Philips Walita Linha Viva Collecti... - Shoptime.com\n",
      "twitter:title : None\n",
      "og:title : None\n",
      "description : mixer philips walita linha viva collection branco/cinza em oferta no shoptime compre agora pelo menor preco\n",
      "twitter:description : None\n",
      "og:description : None\n",
      "\n",
      "title : \r",
      " \tMixer Philips Walita Viva Collection RI1364 Tecnologia Pro Blend 4 - 400W - Mixer no Pontofrio.com\r",
      " \n",
      "twitter:title : mixer philips walita viva collection ri1364 tecnologia pro blend 4 - 400w\n",
      "og:title : mixer philips walita viva collection ri1364 tecnologia pro blend 4 - 400w  pontofrio.com\n",
      "description : mixer philips walita viva collection ri1364 com tecnologia pro blend 4 e 400w de potencia em uma super oferta aproveite\r\n",
      "\n",
      "twitter:description : mixer philips walita viva collection ri1364 com tecnologia pro blend 4 e 400w de potencia em uma super oferta aproveite\r\n",
      "\n",
      "og:description : None\n",
      "\n",
      "3/10 positive, 5/10 negative\n",
      "Do these records refer to the same thing?\n",
      "(y)es / (n)o / (u)nsure / (f)inished / (p)revious\n"
     ]
    },
    {
     "name": "stdout",
     "output_type": "stream",
     "text": [
      "y\n"
     ]
    },
    {
     "name": "stderr",
     "output_type": "stream",
     "text": [
      "title : Roteador e Repetidor D-link Dir-809 AC 7... - Shoptime.com\n",
      "twitter:title : None\n",
      "og:title : None\n",
      "description : roteador e repetidor d-link dir-809 ac 750mbps dual-band com em oferta no shoptime compre agora pelo menor preco\n",
      "twitter:description : None\n",
      "og:description : None\n",
      "\n",
      "title : \r",
      " \tRoteador e Repetidor D-Link DIR-615 Wireless N 300Mbps com 2 Antenas 5dBi - Roteadores no Pontofrio.com\r",
      " \n",
      "twitter:title : roteador e repetidor d-link dir-615 wireless n 300mbps com 2 antenas 5dbi\n",
      "og:title : roteador e repetidor d-link dir-615 wireless n 300mbps com 2 antenas 5dbi  pontofrio.com\n",
      "description : aproveite e compre ja o seu roteador aqui no ponto frio pelo menor preco.\n",
      "twitter:description : compre ainda hoje o seu roteador e repetidor d-link dir-615 wireless n 300mbps com 2 antenas 5dbi.\n",
      "og:description : None\n",
      "\n",
      "4/10 positive, 5/10 negative\n",
      "Do these records refer to the same thing?\n",
      "(y)es / (n)o / (u)nsure / (f)inished / (p)revious\n"
     ]
    },
    {
     "name": "stdout",
     "output_type": "stream",
     "text": [
      "n\n"
     ]
    },
    {
     "name": "stderr",
     "output_type": "stream",
     "text": [
      "title : Smartphone Moto G4 Play DTV Colors Dual ... - Shoptime.com\n",
      "twitter:title : None\n",
      "og:title : None\n",
      "description : smartphone moto g4 play dtv colors dual chip android 6.0 em oferta no shoptime compre agora pelo menor preco\n",
      "twitter:description : None\n",
      "og:description : None\n",
      "\n",
      "title : \r",
      " \tSmartphone Motorola Moto G4 Plus XT1640 Preto com 32GB, Tela de 5.5'', Dual Chip, Android 6.0, 4G, Câmera 16MP, Processador Octa-Core e 2GB de RAM - Android no Pontofrio.com\r",
      " \n",
      "twitter:title : smartphone motorola moto g4 plus xt1640 preto com 32gb, tela de 5.5'', dual chip, android 6.0, 4g, camera 16mp, processador octa-core e 2gb de ram\n",
      "og:title : smartphone motorola moto g4 plus xt1640 preto com 32gb, tela de 5.5'', dual chip, android 6.0, 4g, camera 16mp, processador octa-core e 2gb de ram  pontofrio.com\n",
      "description : confira o novo smartphone moto g4 plus com super oferta. aproveite\n",
      "twitter:description : confira o novo smartphone moto g4 plus com super oferta. aproveite\n",
      "og:description : None\n",
      "\n",
      "4/10 positive, 6/10 negative\n",
      "Do these records refer to the same thing?\n",
      "(y)es / (n)o / (u)nsure / (f)inished / (p)revious\n"
     ]
    },
    {
     "name": "stdout",
     "output_type": "stream",
     "text": [
      "y\n"
     ]
    },
    {
     "name": "stderr",
     "output_type": "stream",
     "text": [
      "title : Roteador Wireless D-Link DIR-615 N 300Mb... - Shoptime.com\n",
      "twitter:title : None\n",
      "og:title : None\n",
      "description : roteador wireless d-link dir-615 n 300mbps duas antenas 5dbi em oferta no shoptime compre agora pelo menor preco\n",
      "twitter:description : None\n",
      "og:description : None\n",
      "\n",
      "title : \r",
      " \tRoteador e Repetidor D-Link DIR-615 Wireless N 300Mbps com 2 Antenas 5dBi - Roteadores no Pontofrio.com\r",
      " \n",
      "twitter:title : roteador e repetidor d-link dir-615 wireless n 300mbps com 2 antenas 5dbi\n",
      "og:title : roteador e repetidor d-link dir-615 wireless n 300mbps com 2 antenas 5dbi  pontofrio.com\n",
      "description : aproveite e compre ja o seu roteador aqui no ponto frio pelo menor preco.\n",
      "twitter:description : compre ainda hoje o seu roteador e repetidor d-link dir-615 wireless n 300mbps com 2 antenas 5dbi.\n",
      "og:description : None\n",
      "\n",
      "5/10 positive, 6/10 negative\n",
      "Do these records refer to the same thing?\n",
      "(y)es / (n)o / (u)nsure / (f)inished / (p)revious\n"
     ]
    },
    {
     "name": "stdout",
     "output_type": "stream",
     "text": [
      "y\n"
     ]
    },
    {
     "name": "stderr",
     "output_type": "stream",
     "text": [
      "title : Pen Drive Multilaser Twist 2 8GB - Shoptime.com\n",
      "twitter:title : None\n",
      "og:title : None\n",
      "description : pen drive multilaser twist 2 8gb em oferta no shoptime compre agora pelo menor preco\n",
      "twitter:description : None\n",
      "og:description : None\n",
      "\n",
      "title : \r",
      " \tTablet Multilaser M7 3G Quad Core Branco com Tela 7”, 8GB, Câmera 2MP, Bluetooth, Wi-Fi, Android 4.4, Dual Chip e Processador Quad Core - Tablet Android no Pontofrio.com\r",
      " \n",
      "twitter:title : tablet multilaser m7 3g quad core branco com tela 7, 8gb, camera 2mp, bluetooth, wi-fi, android 4.4, dual chip e processador quad core\n",
      "og:title : tablet multilaser m7 3g quad core branco com tela 7, 8gb, camera 2mp, bluetooth, wi-fi, android 4.4, dual chip e processador quad core  pontofrio.com\n",
      "description : nao perca o tablet multilaser m7 3g quad core com uma super oferta. confira\n",
      "twitter:description : nao perca o tablet multilaser m7 3g quad core com uma super oferta. confira\n",
      "og:description : None\n",
      "\n",
      "6/10 positive, 6/10 negative\n",
      "Do these records refer to the same thing?\n",
      "(y)es / (n)o / (u)nsure / (f)inished / (p)revious\n"
     ]
    },
    {
     "name": "stdout",
     "output_type": "stream",
     "text": [
      "n\n"
     ]
    },
    {
     "name": "stderr",
     "output_type": "stream",
     "text": [
      "title : Tênis Olympikus Rio 3 - Shoptime.com\n",
      "twitter:title : None\n",
      "og:title : None\n",
      "description : tenis olympikus rio 3 em oferta no shoptime compre agora pelo menor preco\n",
      "twitter:description : None\n",
      "og:description : None\n",
      "\n",
      "title : \r",
      " \tComputador Positivo All in One Union PCTV UD3553 com Intel® Dual Core, 4GB, 500GB, Leitor de Cartões, HDMI, TV Digital, Webcam, LED 18.5\" e Windows 10 - Computadores no Pontofrio.com\r",
      " \n",
      "twitter:title : computador positivo all in one union pctv ud3553 com intel dual core, 4gb, 500gb, leitor de cartoes, hdmi, tv digital, webcam, led 18.5\" e windows 10\n",
      "og:title : computador positivo all in one union pctv ud3553 com intel dual core, 4gb, 500gb, leitor de cartoes, hdmi, tv digital, webcam, led 18.5\" e windows 10  pontofrio.com\n",
      "description : as melhores ofertas de computador positivo all in one union pctv com intel dual core, 4gb, 500gb e windows 10 voce encontra no ponto frio.\n",
      "twitter:description : as melhores ofertas de computador positivo all in one union pctv com intel dual core, 4gb, 500gb e windows 10 voce encontra aqui.\n",
      "og:description : None\n",
      "\n",
      "6/10 positive, 7/10 negative\n",
      "Do these records refer to the same thing?\n",
      "(y)es / (n)o / (u)nsure / (f)inished / (p)revious\n"
     ]
    },
    {
     "name": "stdout",
     "output_type": "stream",
     "text": [
      "n\n"
     ]
    },
    {
     "name": "stderr",
     "output_type": "stream",
     "text": [
      "title : Cartão de Memória MicroSDHC 8GB Classe 4... - Shoptime.com\n",
      "twitter:title : None\n",
      "og:title : None\n",
      "description : cartao de memoria microsdhc 8gb classe 4 com adaptador sd - em oferta no shoptime compre agora pelo menor preco\n",
      "twitter:description : None\n",
      "og:description : None\n",
      "\n",
      "title : \r",
      " \tCartão de Memória Kingston 8GB MicroSDHC c/ Adaptador SD - Casse 4 - Acessórios e Periféricos no Pontofrio.com\r",
      " \n",
      "twitter:title : cartao de memoria kingston 8gb microsdhc c/ adaptador sd - casse 4\n",
      "og:title : cartao de memoria kingston 8gb microsdhc c/ adaptador sd - casse 4  pontofrio.com\n",
      "description : cartao de memoria kingston 8gb microsdhc c/ adaptador sd - casse 4\n",
      "twitter:description : cartao de memoria kingston 8gb microsdhc c/ adaptador sd - casse 4 - acessorios e perifericos no pontofrio.com\n",
      "og:description : None\n",
      "\n",
      "6/10 positive, 8/10 negative\n",
      "Do these records refer to the same thing?\n",
      "(y)es / (n)o / (u)nsure / (f)inished / (p)revious\n"
     ]
    },
    {
     "name": "stdout",
     "output_type": "stream",
     "text": [
      "y\n"
     ]
    },
    {
     "name": "stderr",
     "output_type": "stream",
     "text": [
      "title : Cartão de Memória MicroSDHC 8GB Classe 4... - Shoptime.com\n",
      "twitter:title : None\n",
      "og:title : None\n",
      "description : cartao de memoria microsdhc 8gb classe 4 com adaptador sd - em oferta no shoptime compre agora pelo menor preco\n",
      "twitter:description : None\n",
      "og:description : None\n",
      "\n",
      "title : \r",
      " \tCartão de Memória Kingston Classe 4 SDC4/8GB MicroSDHC de 8GB + 1 Adaptador SD  - Cartões de Memória no Pontofrio.com\r",
      " \n",
      "twitter:title : cartao de memoria kingston classe 4 sdc4/8gb microsdhc de 8gb + 1 adaptador sd \n",
      "og:title : cartao de memoria kingston classe 4 sdc4/8gb microsdhc de 8gb + 1 adaptador sd   pontofrio.com\n",
      "description : cartao de memoria kingston classe 4 sdc4/8gb microsdhc de 8gb + 1 ad com as melhores ofertas de cine  foto no pontofrio. aproveite\n",
      "twitter:description : cartao de memoria kingston classe 4 sdc4/8gb microsdhc de 8gb + 1 ad com as melhores ofertas de cine  foto no pontofrio. aproveite\n",
      "og:description : None\n",
      "\n",
      "7/10 positive, 8/10 negative\n",
      "Do these records refer to the same thing?\n",
      "(y)es / (n)o / (u)nsure / (f)inished / (p)revious\n"
     ]
    },
    {
     "name": "stdout",
     "output_type": "stream",
     "text": [
      "y\n"
     ]
    },
    {
     "name": "stderr",
     "output_type": "stream",
     "text": [
      "title : Omeleteira Britânia Duo Plus BRO2 850W B... - Shoptime.com\n",
      "twitter:title : None\n",
      "og:title : None\n",
      "description : omeleteira britania duo plus bro2 850w branca em oferta no shoptime compre agora pelo menor preco\n",
      "twitter:description : None\n",
      "og:description : None\n",
      "\n",
      "title : \r",
      " \tOmeleteira Britânia Duo Plus BRO2  - Omeleteira no Pontofrio.com\r",
      " \n",
      "twitter:title : omeleteira britania duo plus bro2 \n",
      "og:title : omeleteira britania duo plus bro2   pontofrio.com\n",
      "description : omeleteira britania duo plus bro2  com as melhores ofertas de eletroportateis no pontofrio. aproveite\n",
      "twitter:description : omeleteira britania duo plus bro2 \n",
      "og:description : None\n",
      "\n",
      "8/10 positive, 8/10 negative\n",
      "Do these records refer to the same thing?\n",
      "(y)es / (n)o / (u)nsure / (f)inished / (p)revious\n"
     ]
    },
    {
     "name": "stdout",
     "output_type": "stream",
     "text": [
      "y\n"
     ]
    },
    {
     "name": "stderr",
     "output_type": "stream",
     "text": [
      "title : Roteador e Repetidor Wireless D-Link DIR... - Shoptime.com\n",
      "twitter:title : None\n",
      "og:title : None\n",
      "description : roteador e repetidor wireless d-link dir-610 n150 mbps com 1 em oferta no shoptime compre agora pelo menor preco\n",
      "twitter:description : None\n",
      "og:description : None\n",
      "\n",
      "title : \r",
      " \tRoteador e Repetidor D-Link DIR-615 Wireless N 300Mbps com 2 Antenas 5dBi - Roteadores no Pontofrio.com\r",
      " \n",
      "twitter:title : roteador e repetidor d-link dir-615 wireless n 300mbps com 2 antenas 5dbi\n",
      "og:title : roteador e repetidor d-link dir-615 wireless n 300mbps com 2 antenas 5dbi  pontofrio.com\n",
      "description : aproveite e compre ja o seu roteador aqui no ponto frio pelo menor preco.\n",
      "twitter:description : compre ainda hoje o seu roteador e repetidor d-link dir-615 wireless n 300mbps com 2 antenas 5dbi.\n",
      "og:description : None\n",
      "\n",
      "9/10 positive, 8/10 negative\n",
      "Do these records refer to the same thing?\n",
      "(y)es / (n)o / (u)nsure / (f)inished / (p)revious\n"
     ]
    },
    {
     "name": "stdout",
     "output_type": "stream",
     "text": [
      "y\n"
     ]
    },
    {
     "name": "stderr",
     "output_type": "stream",
     "text": [
      "title : Smart TV LED 49\" LG 49uh6100 Ultra HD 4K... - Shoptime.com\n",
      "twitter:title : None\n",
      "og:title : None\n",
      "description : smart tv led 49\n",
      "twitter:description : None\n",
      "og:description : None\n",
      "\n",
      "title : \r",
      " \tSmart TV LED 43\" Full HD LG 43LH5700 com Painel IPS, Wi-Fi, Miracast, WiDi, Entradas HDMI e Entrada USB - Smart TV no Pontofrio.com\r",
      " \n",
      "twitter:title : smart tv led 43\" full hd lg 43lh5700 com painel ips, wi-fi, miracast, widi, entradas hdmi e entrada usb\n",
      "og:title : smart tv led 43\" full hd lg 43lh5700 com painel ips, wi-fi, miracast, widi, entradas hdmi e entrada usb  pontofrio.com\n",
      "description : smart tv lg com o menor preco voce so encontra aqui. confira\n",
      "twitter:description : smart tv lg com o menor preco voce so encontra aqui. confira\n",
      "og:description : None\n",
      "\n",
      "10/10 positive, 8/10 negative\n",
      "Do these records refer to the same thing?\n",
      "(y)es / (n)o / (u)nsure / (f)inished / (p)revious\n"
     ]
    },
    {
     "name": "stdout",
     "output_type": "stream",
     "text": [
      "n\n"
     ]
    },
    {
     "name": "stderr",
     "output_type": "stream",
     "text": [
      "title : Tênis Olympikus Rio 3 - Shoptime.com\n",
      "twitter:title : None\n",
      "og:title : None\n",
      "description : tenis olympikus rio 3 em oferta no shoptime compre agora pelo menor preco\n",
      "twitter:description : None\n",
      "og:description : None\n",
      "\n",
      "title : \r",
      " \tRefrigerador Electrolux Duplex DW42X Frost Free com Dispenser de Água e Controle de Temperatura Blue Touch 380 L - Inox - Frost Free no Pontofrio.com\r",
      " \n",
      "twitter:title : refrigerador electrolux duplex dw42x frost free com dispenser de agua e controle de temperatura blue touch 380 l - inox\n",
      "og:title : refrigerador electrolux duplex dw42x frost free com dispenser de agua e controle de temperatura blue touch 380 l - inox  pontofrio.com\n",
      "description : refrigerador electrolux frost free duplex dw42x c/ dispenser de com as melhores ofertas de eletrodomesticos no pontofrio. aproveite\n",
      "twitter:description : refrigerador electrolux frost free duplex dw42x com dispenser de agua e controle de temperatura blue touch - 380 l - inox\n",
      "og:description : None\n",
      "\n",
      "10/10 positive, 9/10 negative\n",
      "Do these records refer to the same thing?\n",
      "(y)es / (n)o / (u)nsure / (f)inished / (p)revious\n"
     ]
    },
    {
     "name": "stdout",
     "output_type": "stream",
     "text": [
      "n\n"
     ]
    },
    {
     "name": "stderr",
     "output_type": "stream",
     "text": [
      "title : Mouse Wireless Logitech M185 Vermelho - Shoptime.com\n",
      "twitter:title : None\n",
      "og:title : None\n",
      "description : mouse wireless logitech m185 vermelho em oferta no shoptime compre agora pelo menor preco\n",
      "twitter:description : None\n",
      "og:description : None\n",
      "\n",
      "title : \r",
      " \tMouse sem Fio USB Logitech M185 - Vermelho - Mouses no Pontofrio.com\r",
      " \n",
      "twitter:title : mouse sem fio usb logitech m185 - vermelho\n",
      "og:title : mouse sem fio usb logitech m185 - vermelho  pontofrio.com\n",
      "description : mouse sem fio logitech m185 - vermelho: muito mais qualidade para voce\n",
      "twitter:description : mouse sem fio logitech m185 - vermelho\n",
      "og:description : None\n",
      "\n",
      "10/10 positive, 10/10 negative\n",
      "Do these records refer to the same thing?\n",
      "(y)es / (n)o / (u)nsure / (f)inished / (p)revious\n"
     ]
    },
    {
     "name": "stdout",
     "output_type": "stream",
     "text": [
      "f\n"
     ]
    },
    {
     "name": "stderr",
     "output_type": "stream",
     "text": [
      "Finished labeling\n"
     ]
    }
   ],
   "source": [
    "linker = dedupe.RecordLink(fields)\n",
    "linker.sample(s, w)\n",
    "dedupe.consoleLabel(linker)"
   ]
  },
  {
   "cell_type": "code",
   "execution_count": 18,
   "metadata": {},
   "outputs": [
    {
     "name": "stderr",
     "output_type": "stream",
     "text": [
      "INFO:rlr.crossvalidation:using cross validation to find optimum alpha...\n",
      "INFO:rlr.crossvalidation:optimum alpha: 0.001000\n",
      "INFO:dedupe.blocking:Canopy: TfidfNGramSearchPredicate: (0.8, twitter:title)\n",
      "INFO:dedupe.blocking:Canopy: TfidfNGramSearchPredicate: (0.6, twitter:title)\n",
      "INFO:dedupe.blocking:Canopy: TfidfNGramSearchPredicate: (0.2, twitter:title)\n",
      "INFO:dedupe.blocking:Canopy: TfidfNGramSearchPredicate: (0.4, twitter:title)\n",
      "INFO:dedupe.blocking:Canopy: LevenshteinSearchPredicate: (3, twitter:title)\n",
      "INFO:dedupe.blocking:Canopy: LevenshteinSearchPredicate: (4, twitter:title)\n",
      "INFO:dedupe.blocking:Canopy: LevenshteinSearchPredicate: (1, twitter:title)\n",
      "INFO:dedupe.blocking:Canopy: LevenshteinSearchPredicate: (2, twitter:title)\n",
      "INFO:dedupe.blocking:Canopy: TfidfTextSearchPredicate: (0.8, twitter:title)\n",
      "INFO:dedupe.blocking:Canopy: TfidfTextSearchPredicate: (0.2, twitter:title)\n",
      "INFO:dedupe.blocking:Canopy: TfidfTextSearchPredicate: (0.6, twitter:title)\n",
      "INFO:dedupe.blocking:Canopy: TfidfTextSearchPredicate: (0.4, twitter:title)\n",
      "INFO:dedupe.blocking:Canopy: TfidfNGramSearchPredicate: (0.2, title)\n",
      "INFO:dedupe.blocking:Canopy: TfidfNGramSearchPredicate: (0.6, title)\n",
      "INFO:dedupe.blocking:Canopy: TfidfNGramSearchPredicate: (0.4, title)\n",
      "INFO:dedupe.blocking:Canopy: TfidfNGramSearchPredicate: (0.8, title)\n",
      "INFO:dedupe.blocking:Canopy: LevenshteinSearchPredicate: (1, title)\n",
      "INFO:dedupe.blocking:Canopy: LevenshteinSearchPredicate: (2, title)\n",
      "INFO:dedupe.blocking:Canopy: LevenshteinSearchPredicate: (4, title)\n",
      "INFO:dedupe.blocking:Canopy: LevenshteinSearchPredicate: (3, title)\n",
      "INFO:dedupe.blocking:Canopy: TfidfTextSearchPredicate: (0.2, title)\n",
      "INFO:dedupe.blocking:Canopy: TfidfTextSearchPredicate: (0.6, title)\n",
      "INFO:dedupe.blocking:Canopy: TfidfTextSearchPredicate: (0.4, title)\n",
      "INFO:dedupe.blocking:Canopy: TfidfTextSearchPredicate: (0.8, title)\n",
      "INFO:dedupe.blocking:Canopy: LevenshteinSearchPredicate: (2, description)\n",
      "INFO:dedupe.blocking:Canopy: LevenshteinSearchPredicate: (3, description)\n",
      "INFO:dedupe.blocking:Canopy: LevenshteinSearchPredicate: (4, description)\n",
      "INFO:dedupe.blocking:Canopy: LevenshteinSearchPredicate: (1, description)\n",
      "INFO:dedupe.blocking:Canopy: TfidfTextSearchPredicate: (0.8, description)\n",
      "INFO:dedupe.blocking:Canopy: TfidfTextSearchPredicate: (0.6, description)\n",
      "INFO:dedupe.blocking:Canopy: TfidfTextSearchPredicate: (0.4, description)\n",
      "INFO:dedupe.blocking:Canopy: TfidfTextSearchPredicate: (0.2, description)\n",
      "INFO:dedupe.blocking:Canopy: TfidfNGramSearchPredicate: (0.6, og:title)\n",
      "INFO:dedupe.blocking:Canopy: TfidfNGramSearchPredicate: (0.8, og:title)\n",
      "INFO:dedupe.blocking:Canopy: TfidfNGramSearchPredicate: (0.2, og:title)\n",
      "INFO:dedupe.blocking:Canopy: TfidfNGramSearchPredicate: (0.4, og:title)\n",
      "INFO:dedupe.blocking:Canopy: LevenshteinSearchPredicate: (3, og:title)\n",
      "INFO:dedupe.blocking:Canopy: LevenshteinSearchPredicate: (2, og:title)\n",
      "INFO:dedupe.blocking:Canopy: LevenshteinSearchPredicate: (4, og:title)\n",
      "INFO:dedupe.blocking:Canopy: LevenshteinSearchPredicate: (1, og:title)\n",
      "INFO:dedupe.blocking:Canopy: TfidfTextSearchPredicate: (0.6, og:title)\n",
      "INFO:dedupe.blocking:Canopy: TfidfTextSearchPredicate: (0.4, og:title)\n",
      "INFO:dedupe.blocking:Canopy: TfidfTextSearchPredicate: (0.2, og:title)\n",
      "INFO:dedupe.blocking:Canopy: TfidfTextSearchPredicate: (0.8, og:title)\n",
      "INFO:dedupe.blocking:Canopy: LevenshteinSearchPredicate: (1, twitter:description)\n",
      "INFO:dedupe.blocking:Canopy: LevenshteinSearchPredicate: (2, twitter:description)\n",
      "INFO:dedupe.blocking:Canopy: LevenshteinSearchPredicate: (3, twitter:description)\n",
      "INFO:dedupe.blocking:Canopy: LevenshteinSearchPredicate: (4, twitter:description)\n",
      "INFO:dedupe.blocking:Canopy: TfidfTextSearchPredicate: (0.8, twitter:description)\n",
      "INFO:dedupe.blocking:Canopy: TfidfTextSearchPredicate: (0.4, twitter:description)\n",
      "INFO:dedupe.blocking:Canopy: TfidfTextSearchPredicate: (0.6, twitter:description)\n",
      "INFO:dedupe.blocking:Canopy: TfidfTextSearchPredicate: (0.2, twitter:description)\n",
      "INFO:dedupe.blocking:Canopy: TfidfTextSearchPredicate: (0.8, og:description)\n",
      "INFO:dedupe.blocking:Canopy: TfidfTextSearchPredicate: (0.2, og:description)\n",
      "INFO:dedupe.blocking:Canopy: TfidfTextSearchPredicate: (0.4, og:description)\n",
      "INFO:dedupe.blocking:Canopy: TfidfTextSearchPredicate: (0.6, og:description)\n",
      "INFO:dedupe.blocking:Canopy: LevenshteinSearchPredicate: (3, og:description)\n",
      "INFO:dedupe.blocking:Canopy: LevenshteinSearchPredicate: (1, og:description)\n",
      "INFO:dedupe.blocking:Canopy: LevenshteinSearchPredicate: (2, og:description)\n",
      "INFO:dedupe.blocking:Canopy: LevenshteinSearchPredicate: (4, og:description)\n",
      "INFO:dedupe.blocking:Canopy: TfidfNGramSearchPredicate: (0.8, twitter:title)\n",
      "INFO:dedupe.blocking:Canopy: TfidfNGramSearchPredicate: (0.6, twitter:title)\n",
      "INFO:dedupe.blocking:Canopy: TfidfNGramSearchPredicate: (0.2, twitter:title)\n",
      "INFO:dedupe.blocking:Canopy: TfidfNGramSearchPredicate: (0.4, twitter:title)\n",
      "INFO:dedupe.blocking:Canopy: LevenshteinSearchPredicate: (3, twitter:title)\n",
      "INFO:dedupe.blocking:Canopy: LevenshteinSearchPredicate: (4, twitter:title)\n",
      "INFO:dedupe.blocking:Canopy: LevenshteinSearchPredicate: (1, twitter:title)\n",
      "INFO:dedupe.blocking:Canopy: LevenshteinSearchPredicate: (2, twitter:title)\n",
      "INFO:dedupe.blocking:Canopy: TfidfTextSearchPredicate: (0.8, twitter:title)\n",
      "INFO:dedupe.blocking:Canopy: TfidfTextSearchPredicate: (0.2, twitter:title)\n",
      "INFO:dedupe.blocking:Canopy: TfidfTextSearchPredicate: (0.6, twitter:title)\n",
      "INFO:dedupe.blocking:Canopy: TfidfTextSearchPredicate: (0.4, twitter:title)\n",
      "INFO:dedupe.blocking:Canopy: TfidfNGramSearchPredicate: (0.2, title)\n",
      "INFO:dedupe.blocking:Canopy: TfidfNGramSearchPredicate: (0.6, title)\n",
      "INFO:dedupe.blocking:Canopy: TfidfNGramSearchPredicate: (0.4, title)\n",
      "INFO:dedupe.blocking:Canopy: TfidfNGramSearchPredicate: (0.8, title)\n",
      "INFO:dedupe.blocking:Canopy: LevenshteinSearchPredicate: (1, title)\n",
      "INFO:dedupe.blocking:Canopy: LevenshteinSearchPredicate: (2, title)\n",
      "INFO:dedupe.blocking:Canopy: LevenshteinSearchPredicate: (4, title)\n",
      "INFO:dedupe.blocking:Canopy: LevenshteinSearchPredicate: (3, title)\n",
      "INFO:dedupe.blocking:Canopy: TfidfTextSearchPredicate: (0.2, title)\n",
      "INFO:dedupe.blocking:Canopy: TfidfTextSearchPredicate: (0.6, title)\n",
      "INFO:dedupe.blocking:Canopy: TfidfTextSearchPredicate: (0.4, title)\n",
      "INFO:dedupe.blocking:Canopy: TfidfTextSearchPredicate: (0.8, title)\n",
      "INFO:dedupe.blocking:Canopy: LevenshteinSearchPredicate: (2, description)\n",
      "INFO:dedupe.blocking:Canopy: LevenshteinSearchPredicate: (3, description)\n",
      "INFO:dedupe.blocking:Canopy: LevenshteinSearchPredicate: (4, description)\n",
      "INFO:dedupe.blocking:Canopy: LevenshteinSearchPredicate: (1, description)\n",
      "INFO:dedupe.blocking:Canopy: TfidfTextSearchPredicate: (0.8, description)\n",
      "INFO:dedupe.blocking:Canopy: TfidfTextSearchPredicate: (0.6, description)\n",
      "INFO:dedupe.blocking:Canopy: TfidfTextSearchPredicate: (0.4, description)\n",
      "INFO:dedupe.blocking:Canopy: TfidfTextSearchPredicate: (0.2, description)\n",
      "INFO:dedupe.blocking:Canopy: TfidfNGramSearchPredicate: (0.6, og:title)\n",
      "INFO:dedupe.blocking:Canopy: TfidfNGramSearchPredicate: (0.8, og:title)\n",
      "INFO:dedupe.blocking:Canopy: TfidfNGramSearchPredicate: (0.2, og:title)\n",
      "INFO:dedupe.blocking:Canopy: TfidfNGramSearchPredicate: (0.4, og:title)\n",
      "INFO:dedupe.blocking:Canopy: LevenshteinSearchPredicate: (3, og:title)\n",
      "INFO:dedupe.blocking:Canopy: LevenshteinSearchPredicate: (2, og:title)\n",
      "INFO:dedupe.blocking:Canopy: LevenshteinSearchPredicate: (4, og:title)\n",
      "INFO:dedupe.blocking:Canopy: LevenshteinSearchPredicate: (1, og:title)\n",
      "INFO:dedupe.blocking:Canopy: TfidfTextSearchPredicate: (0.6, og:title)\n",
      "INFO:dedupe.blocking:Canopy: TfidfTextSearchPredicate: (0.4, og:title)\n",
      "INFO:dedupe.blocking:Canopy: TfidfTextSearchPredicate: (0.2, og:title)\n",
      "INFO:dedupe.blocking:Canopy: TfidfTextSearchPredicate: (0.8, og:title)\n",
      "INFO:dedupe.blocking:Canopy: LevenshteinSearchPredicate: (1, twitter:description)\n",
      "INFO:dedupe.blocking:Canopy: LevenshteinSearchPredicate: (2, twitter:description)\n",
      "INFO:dedupe.blocking:Canopy: LevenshteinSearchPredicate: (3, twitter:description)\n",
      "INFO:dedupe.blocking:Canopy: LevenshteinSearchPredicate: (4, twitter:description)\n",
      "INFO:dedupe.blocking:Canopy: TfidfTextSearchPredicate: (0.8, twitter:description)\n",
      "INFO:dedupe.blocking:Canopy: TfidfTextSearchPredicate: (0.4, twitter:description)\n"
     ]
    },
    {
     "name": "stderr",
     "output_type": "stream",
     "text": [
      "INFO:dedupe.blocking:Canopy: TfidfTextSearchPredicate: (0.6, twitter:description)\n",
      "INFO:dedupe.blocking:Canopy: TfidfTextSearchPredicate: (0.2, twitter:description)\n",
      "INFO:dedupe.blocking:Canopy: TfidfTextSearchPredicate: (0.8, og:description)\n",
      "INFO:dedupe.blocking:Canopy: TfidfTextSearchPredicate: (0.2, og:description)\n",
      "INFO:dedupe.blocking:Canopy: TfidfTextSearchPredicate: (0.4, og:description)\n",
      "INFO:dedupe.blocking:Canopy: TfidfTextSearchPredicate: (0.6, og:description)\n",
      "INFO:dedupe.blocking:Canopy: LevenshteinSearchPredicate: (3, og:description)\n",
      "INFO:dedupe.blocking:Canopy: LevenshteinSearchPredicate: (1, og:description)\n",
      "INFO:dedupe.blocking:Canopy: LevenshteinSearchPredicate: (2, og:description)\n",
      "INFO:dedupe.blocking:Canopy: LevenshteinSearchPredicate: (4, og:description)\n",
      "INFO:dedupe.training:Final predicate set:\n",
      "INFO:dedupe.training:(SimplePredicate: (commonThreeTokens, title), SimplePredicate: (commonTwoTokens, description))\n",
      "INFO:dedupe.training:(SimplePredicate: (commonIntegerPredicate, description), SimplePredicate: (commonTwoTokens, description))\n",
      "INFO:dedupe.training:(SimplePredicate: (commonIntegerPredicate, title), TfidfTextSearchPredicate: (0.6, title))\n"
     ]
    }
   ],
   "source": [
    "linker.train()"
   ]
  },
  {
   "cell_type": "code",
   "execution_count": 21,
   "metadata": {},
   "outputs": [
    {
     "name": "stderr",
     "output_type": "stream",
     "text": [
      "INFO:dedupe.blocking:Canopy: TfidfTextSearchPredicate: (0.6, title)\n",
      "INFO:dedupe.api:0 records\n",
      "INFO:dedupe.api:100 records\n"
     ]
    }
   ],
   "source": [
    "m = linker.match(s,w, 0.3)"
   ]
  },
  {
   "cell_type": "code",
   "execution_count": 22,
   "metadata": {},
   "outputs": [
    {
     "data": {
      "text/plain": [
       "[(('75', '18'), 0.98270839),\n",
       " (('76', '22'), 0.88853872),\n",
       " (('103', '27'), 0.86645621),\n",
       " (('88', '2'), 0.85937917),\n",
       " (('50', '51'), 0.85750544),\n",
       " (('54', '6'), 0.84302545),\n",
       " (('55', '58'), 0.83603925),\n",
       " (('69', '36'), 0.81643659),\n",
       " (('20', '49'), 0.79886341),\n",
       " (('4', '42'), 0.79679775),\n",
       " (('10', '41'), 0.6080687),\n",
       " (('60', '20'), 0.57216251),\n",
       " (('62', '21'), 0.55691135),\n",
       " (('53', '56'), 0.53661913),\n",
       " (('39', '43'), 0.52529949),\n",
       " (('80', '31'), 0.42438337),\n",
       " (('59', '61'), 0.41521212),\n",
       " (('15', '45'), 0.31147268),\n",
       " (('41', '35'), 0.30382413),\n",
       " (('9', '74'), 0.30331495)]"
      ]
     },
     "execution_count": 22,
     "metadata": {},
     "output_type": "execute_result"
    }
   ],
   "source": [
    "m"
   ]
  },
  {
   "cell_type": "code",
   "execution_count": 23,
   "metadata": {},
   "outputs": [
    {
     "name": "stdout",
     "output_type": "stream",
     "text": [
      "{'twitter:title': 'cartao de memoria kingston 8gb microsdhc c/ adaptador sd - casse 4', 'twitter:description': 'cartao de memoria kingston 8gb microsdhc c/ adaptador sd - casse 4 - acessorios e perifericos no pontofrio.com', 'og:title': 'cartao de memoria kingston 8gb microsdhc c/ adaptador sd - casse 4  pontofrio.com', 'description': 'cartao de memoria kingston 8gb microsdhc c/ adaptador sd - casse 4', 'title': '\\r \\tCartão de Memória Kingston 8GB MicroSDHC c/ Adaptador SD - Casse 4 - Acessórios e Periféricos no Pontofrio.com\\r ', 'og:description': None} {'description': 'cartao de memoria microsdhc 8gb classe 4 com adaptador sd - em oferta no shoptime compre agora pelo menor preco', 'title': 'Cartão de Memória MicroSDHC 8GB Classe 4... - Shoptime.com', 'twitter:title': None, 'og:title': None, 'twitter:description': None, 'og:description': None}\n",
      "{'twitter:title': 'roteador wireless 150mbps tl-wr740n tp-link', 'twitter:description': 'roteador wireless 150mbps tl-wr740n tp-link - roteadores no pontofrio.com', 'og:title': 'roteador wireless 150mbps tl-wr740n tp-link  pontofrio.com', 'description': 'roteador wireless 150mbps tl-wr740n tp-link', 'title': '\\r \\tRoteador Wireless 150MBPS TL-WR740N TP-Link - Roteadores no Pontofrio.com\\r ', 'og:description': None} {'description': 'roteador wireless tp-link tl-wr720n 150mbps 2 portas em oferta no shoptime compre agora pelo menor preco', 'title': 'Roteador Wireless TP-Link TL-WR720N 150M... - Shoptime.com', 'twitter:title': None, 'og:title': None, 'twitter:description': None, 'og:description': None}\n",
      "{'twitter:title': 'fone de ouvido bluetooth com controle de volume shb4000 preto - philips', 'twitter:description': 'fone de ouvido bluetooth com controle de volume shb4000 preto - philips - fones de ouvido no pontofrio.com', 'og:title': 'fone de ouvido bluetooth com controle de volume shb4000 preto - philips  pontofrio.com', 'description': 'fone de ouvido bluetooth com controle de volume shb4000 preto - philips', 'title': '\\r \\tFone de Ouvido Bluetooth com Controle de Volume SHB4000 Preto - Philips - Fones de Ouvido no Pontofrio.com\\r ', 'og:description': None} {'description': 'fone de ouvido philips preto - shl3060bk/00 em oferta no shoptime compre agora pelo menor preco', 'title': 'Fone de Ouvido Philips Preto - SHL3060BK/00 - Shoptime.com', 'twitter:title': None, 'og:title': None, 'twitter:description': None, 'og:description': None}\n",
      "{'twitter:title': 'webcam multilaser plug play pink piano wc048 ', 'twitter:description': 'webcam multilaser plug play pink piano wc048  - webcam no pontofrio.com', 'og:title': 'webcam multilaser plug play pink piano wc048   pontofrio.com', 'description': 'webcam multilaser plug play pink piano wc048 ', 'title': '\\r \\twebcam Multilaser plug play pink piano WC048  - Webcam no Pontofrio.com\\r ', 'og:description': None} {'description': 'webcam plugplay pink piano wc048 - multilaser em oferta no shoptime compre agora pelo menor preco', 'title': 'Webcam Plug&Play; Pink Piano WC048 - Mult... - Shoptime.com', 'twitter:title': None, 'og:title': None, 'twitter:description': None, 'og:description': None}\n",
      "{'twitter:title': 'dvd player sony dvp sr370 com entrada usb  frontal ', 'twitter:description': 'diversao garantida com o dvd player sony dvp sr370 com entrada usb  frontal. aproveite ', 'og:title': 'dvd player sony dvp sr370 com entrada usb  frontal   pontofrio.com', 'description': 'perfeito para o seu entretenimento. dvd player sony dvp sr370 com entrada usb  frontal. aproveite', 'title': '\\r \\tDVD Player Sony DVP SR370 com Entrada USB  Frontal  - DVD Player no Pontofrio.com\\r ', 'og:description': None} {'description': 'dvd player sony dvp-sr370 com entrada usb frontal em oferta no shoptime compre agora pelo menor preco', 'title': 'DVD Player Sony DVP-SR370 com entrada US... - Shoptime.com', 'twitter:title': None, 'og:title': None, 'twitter:description': None, 'og:description': None}\n",
      "{'twitter:title': 'mixer philips walita viva collection ri1364 tecnologia pro blend 4 - 400w', 'twitter:description': 'mixer philips walita viva collection ri1364 com tecnologia pro blend 4 e 400w de potencia em uma super oferta aproveite\\r\\n', 'og:title': 'mixer philips walita viva collection ri1364 tecnologia pro blend 4 - 400w  pontofrio.com', 'description': 'mixer philips walita viva collection ri1364 com tecnologia pro blend 4 e 400w de potencia em uma super oferta aproveite\\r\\n', 'title': '\\r \\tMixer Philips Walita Viva Collection RI1364 Tecnologia Pro Blend 4 - 400W - Mixer no Pontofrio.com\\r ', 'og:description': None} {'description': 'mixer philips walita linha viva collection branco/cinza em oferta no shoptime compre agora pelo menor preco', 'title': 'Mixer Philips Walita Linha Viva Collecti... - Shoptime.com', 'twitter:title': None, 'og:title': None, 'twitter:description': None, 'og:description': None}\n",
      "{'twitter:title': 'omeleteira britania duo plus bro2 ', 'twitter:description': 'omeleteira britania duo plus bro2 ', 'og:title': 'omeleteira britania duo plus bro2   pontofrio.com', 'description': 'omeleteira britania duo plus bro2  com as melhores ofertas de eletroportateis no pontofrio. aproveite', 'title': '\\r \\tOmeleteira Britânia Duo Plus BRO2  - Omeleteira no Pontofrio.com\\r ', 'og:description': None} {'description': 'omeleteira britania duo plus bro2 850w branca em oferta no shoptime compre agora pelo menor preco', 'title': 'Omeleteira Britânia Duo Plus BRO2 850W B... - Shoptime.com', 'twitter:title': None, 'og:title': None, 'twitter:description': None, 'og:description': None}\n",
      "{'twitter:title': 'roteador e repetidor d-link dir-615 wireless n 300mbps com 2 antenas 5dbi', 'twitter:description': 'compre ainda hoje o seu roteador e repetidor d-link dir-615 wireless n 300mbps com 2 antenas 5dbi.', 'og:title': 'roteador e repetidor d-link dir-615 wireless n 300mbps com 2 antenas 5dbi  pontofrio.com', 'description': 'aproveite e compre ja o seu roteador aqui no ponto frio pelo menor preco.', 'title': '\\r \\tRoteador e Repetidor D-Link DIR-615 Wireless N 300Mbps com 2 Antenas 5dBi - Roteadores no Pontofrio.com\\r ', 'og:description': None} {'description': 'roteador e repetidor d-link dir-809 ac 750mbps dual-band com em oferta no shoptime compre agora pelo menor preco', 'title': 'Roteador e Repetidor D-link Dir-809 AC 7... - Shoptime.com', 'twitter:title': None, 'og:title': None, 'twitter:description': None, 'og:description': None}\n",
      "{'twitter:title': 'purificador de agua sistema de compressor branco - colormaq', 'twitter:description': 'purificador de agua sistema de compressor branco - colormaq - purificador no pontofrio.com', 'og:title': 'purificador de agua sistema de compressor branco - colormaq  pontofrio.com', 'description': 'purificador de agua sistema de compressor branco - colormaq', 'title': '\\r \\tPurificador de Água Sistema de Compressor Branco - Colormaq - Purificador no Pontofrio.com\\r ', 'og:description': None} {'description': 'purificador de agua ibbl avanti branco em oferta no shoptime compre agora pelo menor preco', 'title': 'Purificador de Água IBBL Avanti Branco - Shoptime.com', 'twitter:title': None, 'og:title': None, 'twitter:description': None, 'og:description': None}\n",
      "{'twitter:title': 'cartao de memoria kingston classe 4 sdc4/8gb microsdhc de 8gb + 1 adaptador sd ', 'twitter:description': 'cartao de memoria kingston classe 4 sdc4/8gb microsdhc de 8gb + 1 ad com as melhores ofertas de cine  foto no pontofrio. aproveite', 'og:title': 'cartao de memoria kingston classe 4 sdc4/8gb microsdhc de 8gb + 1 adaptador sd   pontofrio.com', 'description': 'cartao de memoria kingston classe 4 sdc4/8gb microsdhc de 8gb + 1 ad com as melhores ofertas de cine  foto no pontofrio. aproveite', 'title': '\\r \\tCartão de Memória Kingston Classe 4 SDC4/8GB MicroSDHC de 8GB + 1 Adaptador SD  - Cartões de Memória no Pontofrio.com\\r ', 'og:description': None} {'description': 'cartao de memoria classe 4 kingston sdc4/32gb micro sdhc em oferta no shoptime compre agora pelo menor preco', 'title': 'Cartao De Memoria Classe 4 Kingston Sdc4... - Shoptime.com', 'twitter:title': None, 'og:title': None, 'twitter:description': None, 'og:description': None}\n",
      "{'twitter:title': 'mini system lg torre 1000w usb mp3 bluetooth - om7560.abrallk', 'twitter:description': 'mini system lg torre 1000w usb mp3 bluetooth - om7560.abrallk - micro e mini system no pontofrio.com', 'og:title': 'mini system lg torre 1000w usb mp3 bluetooth - om7560.abrallk  pontofrio.com', 'description': 'mini system lg torre 1000w usb mp3 bluetooth - om7560.abrallk', 'title': '\\r \\tMini system lg torre 1000w usb mp3 bluetooth - om7560.abrallk - Micro e Mini System no Pontofrio.com\\r ', 'og:description': None} {'description': 'mini system lg om7560 preto torre 1000w cd player  radio em oferta no shoptime compre agora pelo menor preco', 'title': 'Mini System LG Om7560 Preto Torre 1000w ... - Shoptime.com', 'twitter:title': None, 'og:title': None, 'twitter:description': None, 'og:description': None}\n",
      "{'twitter:title': 'smart tv led 49\" ultra hd 4k lg 49uh6100 com sistema webos, wi-fi, painel ips, hdr pro, upscaler, entradas hdmi e entrada usb', 'twitter:description': 'smart tv lg com o menor preco voce so encontra aqui. confira', 'og:title': 'smart tv led 49\" ultra hd 4k lg 49uh6100 com sistema webos, wi-fi, painel ips, hdr pro, upscaler, entradas hdmi e entrada usb  pontofrio.com', 'description': 'smart tv lg com o menor preco voce so encontra aqui. confira', 'title': '\\r \\tSmart TV LED 49\" Ultra HD 4K LG 49UH6100 com Sistema WebOS, Wi-Fi, Painel IPS, HDR Pro, Upscaler, Entradas HDMI e Entrada USB - TV 4K no Pontofrio.com\\r ', 'og:description': None} {'description': 'smart tv led 49', 'title': 'Smart TV LED 49\" LG 49uh6100 Ultra HD 4K... - Shoptime.com', 'twitter:title': None, 'og:title': None, 'twitter:description': None, 'og:description': None}\n",
      "{'twitter:title': 'lavadora e secadora de roupas samsung wd10j6410aw wd6000 inox com eco bubble e programas de lavagem - 10,2kg', 'twitter:description': 'com a lavadora e secadora de roupas samsung wd10j6410aw wd6000 sua lavanderia ficara mais pratica e equipada.<br>', 'og:title': 'lavadora e secadora de roupas samsung wd10j6410aw wd6000 inox com eco bubble e programas de lavagem - 10,2kg  pontofrio.com', 'description': 'com a lavadora e secadora de roupas samsung wd10j6410aw wd6000 sua lavanderia ficara mais pratica e equipada.', 'title': '\\r \\tLavadora e Secadora de Roupas Samsung WD10J6410AW WD6000 Inox com Eco Bubble e Programas de Lavagem - 10,2Kg - Lava e Seca no Pontofrio.com\\r ', 'og:description': None} {'description': 'lavadora e secadora samsung siene wd106 10kg branca em oferta no shoptime compre agora pelo menor preco', 'title': 'Lavadora e Secadora Samsung Siene WD106 ... - Shoptime.com', 'twitter:title': None, 'og:title': None, 'twitter:description': None, 'og:description': None}\n",
      "{'twitter:title': 'computador positivo all in one union pctv ud3553 com intel dual core, 4gb, 500gb, leitor de cartoes, hdmi, tv digital, webcam, led 18.5\" e windows 10', 'twitter:description': 'as melhores ofertas de computador positivo all in one union pctv com intel dual core, 4gb, 500gb e windows 10 voce encontra aqui.', 'og:title': 'computador positivo all in one union pctv ud3553 com intel dual core, 4gb, 500gb, leitor de cartoes, hdmi, tv digital, webcam, led 18.5\" e windows 10  pontofrio.com', 'description': 'as melhores ofertas de computador positivo all in one union pctv com intel dual core, 4gb, 500gb e windows 10 voce encontra no ponto frio.', 'title': '\\r \\tComputador Positivo All in One Union PCTV UD3553 com Intel® Dual Core, 4GB, 500GB, Leitor de Cartões, HDMI, TV Digital, Webcam, LED 18.5\" e Windows 10 - Computadores no Pontofrio.com\\r ', 'og:description': None} {'description': 'computador all in one dell inspiron 3459-a10 intel core i3 em oferta no shoptime compre agora pelo menor preco', 'title': 'Computador All in One Dell Inspiron 3459... - Shoptime.com', 'twitter:title': None, 'og:title': None, 'twitter:description': None, 'og:description': None}\n",
      "{'twitter:title': 'home theater lg lhb625m 5.1 canais com blu-ray player 3d, smart tv, bluetooth, entrada usb, hdmi e le dvd - 1000w', 'twitter:description': 'home theater lg lhb625m 5.1 canais com blu-ray player 3d, smart tv, bluetooth, entrada usb, hdmi e le dvd - 1000w. confira', 'og:title': 'home theater lg lhb625m 5.1 canais com blu-ray player 3d, smart tv, bluetooth, entrada usb, hdmi e le dvd - 1000w  pontofrio.com', 'description': 'home theater lg lhb625m 5.1 canais com 1000w de potencia e um preco especial no ponto frio. confira', 'title': '\\r \\tHome Theater LG LHB625M 5.1 Canais com Blu-ray Player 3D, Smart TV, Bluetooth, Entrada USB, HDMI e Lê DVD - 1000W - Home Theater no Pontofrio.com\\r ', 'og:description': None} {'description': 'home theater britania fama 260n vcd 260w rms 5.1 canais hdmi em oferta no shoptime compre agora pelo menor preco', 'title': 'Home Theater Britânia Fama 260N VCD 260W... - Shoptime.com', 'twitter:title': None, 'og:title': None, 'twitter:description': None, 'og:description': None}\n",
      "{'twitter:title': 'teclado e mouse wireless usb tc162 multilaser ', 'twitter:description': 'teclado e mouse wireless usb tc162 multilaser  - teclados no pontofrio.com', 'og:title': 'teclado e mouse wireless usb tc162 multilaser   pontofrio.com', 'description': 'teclado e mouse wireless usb tc162 multilaser ', 'title': '\\r \\tTeclado E Mouse Wireless Usb Tc162 Multilaser  - Teclados no Pontofrio.com\\r ', 'og:description': None} {'description': 'teclado e mouse multilaser tc 162 sem fio 2.4 ghz multimidia em oferta no shoptime compre agora pelo menor preco', 'title': 'Teclado e Mouse Multilaser TC 162 Sem Fi... - Shoptime.com', 'twitter:title': None, 'og:title': None, 'twitter:description': None, 'og:description': None}\n",
      "{'twitter:title': 'lavadora de roupas electrolux 15 kg turbo economia ltd15 - branca', 'twitter:description': 'a lavadora de roupas electrolux 15 kg lava mais roupa em menos tempo e espaco.', 'og:title': 'lavadora de roupas electrolux 15 kg turbo economia ltd15 - branca  pontofrio.com', 'description': 'suas roupas vao ficar limpas em menos tempo com a lavadora de roupas electrolux 15 kg.', 'title': '\\r \\tLavadora de Roupas Electrolux 15 kg Turbo Economia LTD15 - Branca - Acima de 10 kg no Pontofrio.com\\r ', 'og:description': None} {'description': 'lavadora de roupas brastemp 9kg bws09ab branca em oferta no shoptime compre agora pelo menor preco', 'title': 'Lavadora de Roupas Brastemp 9kg BWS09AB ... - Shoptime.com', 'twitter:title': None, 'og:title': None, 'twitter:description': None, 'og:description': None}\n",
      "{'twitter:title': 'mouse sem fio usb logitech m185 - vermelho', 'twitter:description': 'mouse sem fio logitech m185 - vermelho', 'og:title': 'mouse sem fio usb logitech m185 - vermelho  pontofrio.com', 'description': 'mouse sem fio logitech m185 - vermelho: muito mais qualidade para voce', 'title': '\\r \\tMouse sem Fio USB Logitech M185 - Vermelho - Mouses no Pontofrio.com\\r ', 'og:description': None} {'description': 'mouse wireless logitech m185 vermelho em oferta no shoptime compre agora pelo menor preco', 'title': 'Mouse Wireless Logitech M185 Vermelho - Shoptime.com', 'twitter:title': None, 'og:title': None, 'twitter:description': None, 'og:description': None}\n",
      "{'twitter:title': 'tablet multilaser m7 3g quad core branco com tela 7, 8gb, camera 2mp, bluetooth, wi-fi, android 4.4, dual chip e processador quad core', 'twitter:description': 'nao perca o tablet multilaser m7 3g quad core com uma super oferta. confira', 'og:title': 'tablet multilaser m7 3g quad core branco com tela 7, 8gb, camera 2mp, bluetooth, wi-fi, android 4.4, dual chip e processador quad core  pontofrio.com', 'description': 'nao perca o tablet multilaser m7 3g quad core com uma super oferta. confira', 'title': '\\r \\tTablet Multilaser M7 3G Quad Core Branco com Tela 7”, 8GB, Câmera 2MP, Bluetooth, Wi-Fi, Android 4.4, Dual Chip e Processador Quad Core - Tablet Android no Pontofrio.com\\r ', 'og:description': None} {'description': 'tablet multilaser m7s 8gb wi-fi tela 7', 'title': 'Tablet Multilaser M7S 8GB Wi-Fi Tela 7\" ... - Shoptime.com', 'twitter:title': None, 'og:title': None, 'twitter:description': None, 'og:description': None}\n",
      "{'twitter:title': \"smartphone motorola moto g4 plus xt1640 preto com 32gb, tela de 5.5'', dual chip, android 6.0, 4g, camera 16mp, processador octa-core e 2gb de ram\", 'twitter:description': 'confira o novo smartphone moto g4 plus com super oferta. aproveite', 'og:title': \"smartphone motorola moto g4 plus xt1640 preto com 32gb, tela de 5.5'', dual chip, android 6.0, 4g, camera 16mp, processador octa-core e 2gb de ram  pontofrio.com\", 'description': 'confira o novo smartphone moto g4 plus com super oferta. aproveite', 'title': \"\\r \\tSmartphone Motorola Moto G4 Plus XT1640 Preto com 32GB, Tela de 5.5'', Dual Chip, Android 6.0, 4G, Câmera 16MP, Processador Octa-Core e 2GB de RAM - Android no Pontofrio.com\\r \", 'og:description': None} {'description': 'smartphone moto g4 play dtv colors dual chip android 6.0 em oferta no shoptime compre agora pelo menor preco', 'title': 'Smartphone Moto G4 Play DTV Colors Dual ... - Shoptime.com', 'twitter:title': None, 'og:title': None, 'twitter:description': None, 'og:description': None}\n"
     ]
    }
   ],
   "source": [
    "for i in m:\n",
    "    print(s[i[0][0]], w[i[0][1]])"
   ]
  },
  {
   "cell_type": "code",
   "execution_count": null,
   "metadata": {
    "collapsed": true
   },
   "outputs": [],
   "source": []
  }
 ],
 "metadata": {
  "kernelspec": {
   "display_name": "Python 3",
   "language": "python",
   "name": "python3"
  },
  "language_info": {
   "codemirror_mode": {
    "name": "ipython",
    "version": 3
   },
   "file_extension": ".py",
   "mimetype": "text/x-python",
   "name": "python",
   "nbconvert_exporter": "python",
   "pygments_lexer": "ipython3",
   "version": "3.6.1"
  }
 },
 "nbformat": 4,
 "nbformat_minor": 2
}
